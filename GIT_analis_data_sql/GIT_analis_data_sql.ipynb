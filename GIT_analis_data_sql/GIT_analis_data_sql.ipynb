{
 "cells": [
  {
   "cell_type": "markdown",
   "metadata": {},
   "source": [
    "# Анализ книжного рынка"
   ]
  },
  {
   "cell_type": "markdown",
   "metadata": {},
   "source": [
    "## Описание проекта"
   ]
  },
  {
   "cell_type": "markdown",
   "metadata": {},
   "source": [
    "## Библиотеки и подключение к базе данных"
   ]
  },
  {
   "cell_type": "code",
   "execution_count": 1,
   "metadata": {},
   "outputs": [],
   "source": [
    "# импортируем библиотеки \n",
    "import pandas as pd \n",
    "from sqlalchemy import create_engine "
   ]
  },
  {
   "cell_type": "code",
   "execution_count": 2,
   "metadata": {},
   "outputs": [],
   "source": [
    "# устанавливаем параметры \n",
    "db_config = {'user': 'praktikum_student', # имя пользователя \n",
    "                     'pwd': 'Sdf4$2;d-d30pp', # пароль \n",
    "                     'host': 'rc1b-wcoijxj3yxfsf3fs.mdb.yandexcloud.net', \n",
    "                     'port': 6432, # порт подключения \n",
    "                     'db': 'data-analyst-final-project-db'} # название базы данных \n",
    "\n",
    "# Формируем строку соединения с БД\n",
    "connection_string = 'postgresql://{}:{}@{}:{}/{}'.format(db_config['user'], \n",
    "                                                        db_config['pwd'], \n",
    "                                                        db_config['host'], \n",
    "                                                        db_config['port'], \n",
    "                                                        db_config['db']) \n",
    "# сохраняем коннектор \n",
    "engine = create_engine(connection_string, connect_args={'sslmode':'require'})"
   ]
  },
  {
   "cell_type": "markdown",
   "metadata": {},
   "source": [
    "## Исследуйте таблицы — выведите первые строки"
   ]
  },
  {
   "cell_type": "markdown",
   "metadata": {},
   "source": [
    "### Таблица books"
   ]
  },
  {
   "cell_type": "code",
   "execution_count": 3,
   "metadata": {},
   "outputs": [],
   "source": [
    "# SQL запрос\n",
    "\n",
    "query = ''' SELECT \n",
    "                *\n",
    "            FROM \n",
    "                books\n",
    "            ORDER BY \n",
    "                book_id\n",
    "            LIMIT\n",
    "                5\n",
    "        '''"
   ]
  },
  {
   "cell_type": "code",
   "execution_count": 4,
   "metadata": {},
   "outputs": [
    {
     "data": {
      "text/html": [
       "<div>\n",
       "<style scoped>\n",
       "    .dataframe tbody tr th:only-of-type {\n",
       "        vertical-align: middle;\n",
       "    }\n",
       "\n",
       "    .dataframe tbody tr th {\n",
       "        vertical-align: top;\n",
       "    }\n",
       "\n",
       "    .dataframe thead th {\n",
       "        text-align: right;\n",
       "    }\n",
       "</style>\n",
       "<table border=\"1\" class=\"dataframe\">\n",
       "  <thead>\n",
       "    <tr style=\"text-align: right;\">\n",
       "      <th></th>\n",
       "      <th>book_id</th>\n",
       "      <th>author_id</th>\n",
       "      <th>title</th>\n",
       "      <th>num_pages</th>\n",
       "      <th>publication_date</th>\n",
       "      <th>publisher_id</th>\n",
       "    </tr>\n",
       "  </thead>\n",
       "  <tbody>\n",
       "    <tr>\n",
       "      <td>0</td>\n",
       "      <td>1</td>\n",
       "      <td>546</td>\n",
       "      <td>'Salem's Lot</td>\n",
       "      <td>594</td>\n",
       "      <td>2005-11-01</td>\n",
       "      <td>93</td>\n",
       "    </tr>\n",
       "    <tr>\n",
       "      <td>1</td>\n",
       "      <td>2</td>\n",
       "      <td>465</td>\n",
       "      <td>1 000 Places to See Before You Die</td>\n",
       "      <td>992</td>\n",
       "      <td>2003-05-22</td>\n",
       "      <td>336</td>\n",
       "    </tr>\n",
       "    <tr>\n",
       "      <td>2</td>\n",
       "      <td>3</td>\n",
       "      <td>407</td>\n",
       "      <td>13 Little Blue Envelopes (Little Blue Envelope...</td>\n",
       "      <td>322</td>\n",
       "      <td>2010-12-21</td>\n",
       "      <td>135</td>\n",
       "    </tr>\n",
       "    <tr>\n",
       "      <td>3</td>\n",
       "      <td>4</td>\n",
       "      <td>82</td>\n",
       "      <td>1491: New Revelations of the Americas Before C...</td>\n",
       "      <td>541</td>\n",
       "      <td>2006-10-10</td>\n",
       "      <td>309</td>\n",
       "    </tr>\n",
       "    <tr>\n",
       "      <td>4</td>\n",
       "      <td>5</td>\n",
       "      <td>125</td>\n",
       "      <td>1776</td>\n",
       "      <td>386</td>\n",
       "      <td>2006-07-04</td>\n",
       "      <td>268</td>\n",
       "    </tr>\n",
       "  </tbody>\n",
       "</table>\n",
       "</div>"
      ],
      "text/plain": [
       "   book_id  author_id                                              title  \\\n",
       "0        1        546                                       'Salem's Lot   \n",
       "1        2        465                 1 000 Places to See Before You Die   \n",
       "2        3        407  13 Little Blue Envelopes (Little Blue Envelope...   \n",
       "3        4         82  1491: New Revelations of the Americas Before C...   \n",
       "4        5        125                                               1776   \n",
       "\n",
       "   num_pages publication_date  publisher_id  \n",
       "0        594       2005-11-01            93  \n",
       "1        992       2003-05-22           336  \n",
       "2        322       2010-12-21           135  \n",
       "3        541       2006-10-10           309  \n",
       "4        386       2006-07-04           268  "
      ]
     },
     "execution_count": 4,
     "metadata": {},
     "output_type": "execute_result"
    }
   ],
   "source": [
    "# Чтобы выполнить SQL-запрос, используйте Pandas\n",
    "pd.io.sql.read_sql(query, con = engine)"
   ]
  },
  {
   "cell_type": "code",
   "execution_count": 5,
   "metadata": {},
   "outputs": [],
   "source": [
    "# SQL запрос\n",
    "\n",
    "query = ''' SELECT \n",
    "                *\n",
    "            FROM \n",
    "                books\n",
    "            ORDER BY \n",
    "                book_id DESC\n",
    "            LIMIT\n",
    "                5\n",
    "        '''"
   ]
  },
  {
   "cell_type": "code",
   "execution_count": 6,
   "metadata": {},
   "outputs": [
    {
     "data": {
      "text/html": [
       "<div>\n",
       "<style scoped>\n",
       "    .dataframe tbody tr th:only-of-type {\n",
       "        vertical-align: middle;\n",
       "    }\n",
       "\n",
       "    .dataframe tbody tr th {\n",
       "        vertical-align: top;\n",
       "    }\n",
       "\n",
       "    .dataframe thead th {\n",
       "        text-align: right;\n",
       "    }\n",
       "</style>\n",
       "<table border=\"1\" class=\"dataframe\">\n",
       "  <thead>\n",
       "    <tr style=\"text-align: right;\">\n",
       "      <th></th>\n",
       "      <th>book_id</th>\n",
       "      <th>author_id</th>\n",
       "      <th>title</th>\n",
       "      <th>num_pages</th>\n",
       "      <th>publication_date</th>\n",
       "      <th>publisher_id</th>\n",
       "    </tr>\n",
       "  </thead>\n",
       "  <tbody>\n",
       "    <tr>\n",
       "      <td>0</td>\n",
       "      <td>1000</td>\n",
       "      <td>509</td>\n",
       "      <td>Zen and the Art of Motorcycle Maintenance: An ...</td>\n",
       "      <td>540</td>\n",
       "      <td>2006-04-25</td>\n",
       "      <td>143</td>\n",
       "    </tr>\n",
       "    <tr>\n",
       "      <td>1</td>\n",
       "      <td>999</td>\n",
       "      <td>94</td>\n",
       "      <td>You Suck (A Love Story  #2)</td>\n",
       "      <td>328</td>\n",
       "      <td>2007-01-16</td>\n",
       "      <td>331</td>\n",
       "    </tr>\n",
       "    <tr>\n",
       "      <td>2</td>\n",
       "      <td>998</td>\n",
       "      <td>201</td>\n",
       "      <td>Year of Wonders</td>\n",
       "      <td>358</td>\n",
       "      <td>2002-04-30</td>\n",
       "      <td>212</td>\n",
       "    </tr>\n",
       "    <tr>\n",
       "      <td>3</td>\n",
       "      <td>997</td>\n",
       "      <td>454</td>\n",
       "      <td>Xenocide (Ender's Saga  #3)</td>\n",
       "      <td>592</td>\n",
       "      <td>1996-07-15</td>\n",
       "      <td>297</td>\n",
       "    </tr>\n",
       "    <tr>\n",
       "      <td>4</td>\n",
       "      <td>996</td>\n",
       "      <td>571</td>\n",
       "      <td>Wyrd Sisters (Discworld  #6; Witches #2)</td>\n",
       "      <td>265</td>\n",
       "      <td>2001-02-06</td>\n",
       "      <td>147</td>\n",
       "    </tr>\n",
       "  </tbody>\n",
       "</table>\n",
       "</div>"
      ],
      "text/plain": [
       "   book_id  author_id                                              title  \\\n",
       "0     1000        509  Zen and the Art of Motorcycle Maintenance: An ...   \n",
       "1      999         94                        You Suck (A Love Story  #2)   \n",
       "2      998        201                                    Year of Wonders   \n",
       "3      997        454                        Xenocide (Ender's Saga  #3)   \n",
       "4      996        571           Wyrd Sisters (Discworld  #6; Witches #2)   \n",
       "\n",
       "   num_pages publication_date  publisher_id  \n",
       "0        540       2006-04-25           143  \n",
       "1        328       2007-01-16           331  \n",
       "2        358       2002-04-30           212  \n",
       "3        592       1996-07-15           297  \n",
       "4        265       2001-02-06           147  "
      ]
     },
     "execution_count": 6,
     "metadata": {},
     "output_type": "execute_result"
    }
   ],
   "source": [
    "# Чтобы выполнить SQL-запрос, используйте Pandas\n",
    "pd.io.sql.read_sql(query, con = engine)"
   ]
  },
  {
   "cell_type": "code",
   "execution_count": 7,
   "metadata": {},
   "outputs": [],
   "source": [
    "# SQL запрос\n",
    "# поищем пропуски\n",
    "\n",
    "query = ''' SELECT \n",
    "                *\n",
    "            FROM \n",
    "                books\n",
    "            WHERE\n",
    "                book_id IS NULL\n",
    "        '''"
   ]
  },
  {
   "cell_type": "code",
   "execution_count": 8,
   "metadata": {},
   "outputs": [
    {
     "data": {
      "text/html": [
       "<div>\n",
       "<style scoped>\n",
       "    .dataframe tbody tr th:only-of-type {\n",
       "        vertical-align: middle;\n",
       "    }\n",
       "\n",
       "    .dataframe tbody tr th {\n",
       "        vertical-align: top;\n",
       "    }\n",
       "\n",
       "    .dataframe thead th {\n",
       "        text-align: right;\n",
       "    }\n",
       "</style>\n",
       "<table border=\"1\" class=\"dataframe\">\n",
       "  <thead>\n",
       "    <tr style=\"text-align: right;\">\n",
       "      <th></th>\n",
       "      <th>book_id</th>\n",
       "      <th>author_id</th>\n",
       "      <th>title</th>\n",
       "      <th>num_pages</th>\n",
       "      <th>publication_date</th>\n",
       "      <th>publisher_id</th>\n",
       "    </tr>\n",
       "  </thead>\n",
       "  <tbody>\n",
       "  </tbody>\n",
       "</table>\n",
       "</div>"
      ],
      "text/plain": [
       "Empty DataFrame\n",
       "Columns: [book_id, author_id, title, num_pages, publication_date, publisher_id]\n",
       "Index: []"
      ]
     },
     "execution_count": 8,
     "metadata": {},
     "output_type": "execute_result"
    }
   ],
   "source": [
    "# Чтобы выполнить SQL-запрос, используйте Pandas\n",
    "pd.io.sql.read_sql(query, con = engine)"
   ]
  },
  {
   "cell_type": "code",
   "execution_count": 9,
   "metadata": {},
   "outputs": [],
   "source": [
    "# проверим на дубликаты\n",
    "query = '''    SELECT\n",
    "                    book_id,\n",
    "                    COUNT(book_id)\n",
    "                FROM\n",
    "                    books\n",
    "                -- группируем выборку по значению\n",
    "                GROUP BY\n",
    "                    book_id\n",
    "                -- фильтруем выборку по количеству\n",
    "                HAVING\n",
    "                    COUNT(book_id) > 1\n",
    "        \n",
    "        '''"
   ]
  },
  {
   "cell_type": "code",
   "execution_count": 10,
   "metadata": {},
   "outputs": [
    {
     "data": {
      "text/html": [
       "<div>\n",
       "<style scoped>\n",
       "    .dataframe tbody tr th:only-of-type {\n",
       "        vertical-align: middle;\n",
       "    }\n",
       "\n",
       "    .dataframe tbody tr th {\n",
       "        vertical-align: top;\n",
       "    }\n",
       "\n",
       "    .dataframe thead th {\n",
       "        text-align: right;\n",
       "    }\n",
       "</style>\n",
       "<table border=\"1\" class=\"dataframe\">\n",
       "  <thead>\n",
       "    <tr style=\"text-align: right;\">\n",
       "      <th></th>\n",
       "      <th>book_id</th>\n",
       "      <th>count</th>\n",
       "    </tr>\n",
       "  </thead>\n",
       "  <tbody>\n",
       "  </tbody>\n",
       "</table>\n",
       "</div>"
      ],
      "text/plain": [
       "Empty DataFrame\n",
       "Columns: [book_id, count]\n",
       "Index: []"
      ]
     },
     "execution_count": 10,
     "metadata": {},
     "output_type": "execute_result"
    }
   ],
   "source": [
    "# Чтобы выполнить SQL-запрос, используйте Pandas\n",
    "pd.io.sql.read_sql(query, con = engine)"
   ]
  },
  {
   "cell_type": "markdown",
   "metadata": {},
   "source": [
    "У нас есть данные о публикации 1000 книг. Далее я выводил сразу всю табличку, они не большие. Дубликаты и пропуски мы не нашли"
   ]
  },
  {
   "cell_type": "markdown",
   "metadata": {},
   "source": [
    "### Таблица authors"
   ]
  },
  {
   "cell_type": "code",
   "execution_count": 11,
   "metadata": {},
   "outputs": [],
   "source": [
    "# SQL запрос\n",
    "\n",
    "query = ''' SELECT \n",
    "                *\n",
    "            FROM \n",
    "                authors\n",
    "        '''"
   ]
  },
  {
   "cell_type": "code",
   "execution_count": 12,
   "metadata": {},
   "outputs": [
    {
     "data": {
      "text/html": [
       "<div>\n",
       "<style scoped>\n",
       "    .dataframe tbody tr th:only-of-type {\n",
       "        vertical-align: middle;\n",
       "    }\n",
       "\n",
       "    .dataframe tbody tr th {\n",
       "        vertical-align: top;\n",
       "    }\n",
       "\n",
       "    .dataframe thead th {\n",
       "        text-align: right;\n",
       "    }\n",
       "</style>\n",
       "<table border=\"1\" class=\"dataframe\">\n",
       "  <thead>\n",
       "    <tr style=\"text-align: right;\">\n",
       "      <th></th>\n",
       "      <th>author_id</th>\n",
       "      <th>author</th>\n",
       "    </tr>\n",
       "  </thead>\n",
       "  <tbody>\n",
       "    <tr>\n",
       "      <td>0</td>\n",
       "      <td>1</td>\n",
       "      <td>A.S. Byatt</td>\n",
       "    </tr>\n",
       "    <tr>\n",
       "      <td>1</td>\n",
       "      <td>2</td>\n",
       "      <td>Aesop/Laura Harris/Laura Gibbs</td>\n",
       "    </tr>\n",
       "    <tr>\n",
       "      <td>2</td>\n",
       "      <td>3</td>\n",
       "      <td>Agatha Christie</td>\n",
       "    </tr>\n",
       "    <tr>\n",
       "      <td>3</td>\n",
       "      <td>4</td>\n",
       "      <td>Alan Brennert</td>\n",
       "    </tr>\n",
       "    <tr>\n",
       "      <td>4</td>\n",
       "      <td>5</td>\n",
       "      <td>Alan Moore/David   Lloyd</td>\n",
       "    </tr>\n",
       "    <tr>\n",
       "      <td>...</td>\n",
       "      <td>...</td>\n",
       "      <td>...</td>\n",
       "    </tr>\n",
       "    <tr>\n",
       "      <td>631</td>\n",
       "      <td>632</td>\n",
       "      <td>William Strunk Jr./E.B. White</td>\n",
       "    </tr>\n",
       "    <tr>\n",
       "      <td>632</td>\n",
       "      <td>633</td>\n",
       "      <td>Zadie Smith</td>\n",
       "    </tr>\n",
       "    <tr>\n",
       "      <td>633</td>\n",
       "      <td>634</td>\n",
       "      <td>Zilpha Keatley Snyder</td>\n",
       "    </tr>\n",
       "    <tr>\n",
       "      <td>634</td>\n",
       "      <td>635</td>\n",
       "      <td>Zora Neale Hurston</td>\n",
       "    </tr>\n",
       "    <tr>\n",
       "      <td>635</td>\n",
       "      <td>636</td>\n",
       "      <td>Åsne Seierstad/Ingrid Christopherson</td>\n",
       "    </tr>\n",
       "  </tbody>\n",
       "</table>\n",
       "<p>636 rows × 2 columns</p>\n",
       "</div>"
      ],
      "text/plain": [
       "     author_id                                author\n",
       "0            1                            A.S. Byatt\n",
       "1            2        Aesop/Laura Harris/Laura Gibbs\n",
       "2            3                       Agatha Christie\n",
       "3            4                         Alan Brennert\n",
       "4            5              Alan Moore/David   Lloyd\n",
       "..         ...                                   ...\n",
       "631        632         William Strunk Jr./E.B. White\n",
       "632        633                           Zadie Smith\n",
       "633        634                 Zilpha Keatley Snyder\n",
       "634        635                    Zora Neale Hurston\n",
       "635        636  Åsne Seierstad/Ingrid Christopherson\n",
       "\n",
       "[636 rows x 2 columns]"
      ]
     },
     "execution_count": 12,
     "metadata": {},
     "output_type": "execute_result"
    }
   ],
   "source": [
    "# Чтобы выполнить SQL-запрос, используйте Pandas\n",
    "pd.io.sql.read_sql(query, con = engine)"
   ]
  },
  {
   "cell_type": "code",
   "execution_count": 13,
   "metadata": {},
   "outputs": [],
   "source": [
    "# SQL запрос\n",
    "# поищем пропуски\n",
    "\n",
    "query = ''' SELECT \n",
    "                *\n",
    "            FROM \n",
    "                authors\n",
    "            WHERE\n",
    "                author_id IS NULL\n",
    "        '''"
   ]
  },
  {
   "cell_type": "code",
   "execution_count": 14,
   "metadata": {},
   "outputs": [
    {
     "data": {
      "text/html": [
       "<div>\n",
       "<style scoped>\n",
       "    .dataframe tbody tr th:only-of-type {\n",
       "        vertical-align: middle;\n",
       "    }\n",
       "\n",
       "    .dataframe tbody tr th {\n",
       "        vertical-align: top;\n",
       "    }\n",
       "\n",
       "    .dataframe thead th {\n",
       "        text-align: right;\n",
       "    }\n",
       "</style>\n",
       "<table border=\"1\" class=\"dataframe\">\n",
       "  <thead>\n",
       "    <tr style=\"text-align: right;\">\n",
       "      <th></th>\n",
       "      <th>author_id</th>\n",
       "      <th>author</th>\n",
       "    </tr>\n",
       "  </thead>\n",
       "  <tbody>\n",
       "  </tbody>\n",
       "</table>\n",
       "</div>"
      ],
      "text/plain": [
       "Empty DataFrame\n",
       "Columns: [author_id, author]\n",
       "Index: []"
      ]
     },
     "execution_count": 14,
     "metadata": {},
     "output_type": "execute_result"
    }
   ],
   "source": [
    "# Чтобы выполнить SQL-запрос, используйте Pandas\n",
    "pd.io.sql.read_sql(query, con = engine)"
   ]
  },
  {
   "cell_type": "code",
   "execution_count": 15,
   "metadata": {},
   "outputs": [],
   "source": [
    "# проверим на дубликаты\n",
    "query = '''    SELECT\n",
    "                    author_id,\n",
    "                    COUNT(author_id)\n",
    "                FROM\n",
    "                    authors\n",
    "                -- группируем выборку по значению\n",
    "                GROUP BY\n",
    "                    author_id\n",
    "                -- фильтруем выборку по количеству\n",
    "                HAVING\n",
    "                    COUNT(author_id) > 1\n",
    "        \n",
    "        '''"
   ]
  },
  {
   "cell_type": "code",
   "execution_count": 16,
   "metadata": {},
   "outputs": [
    {
     "data": {
      "text/html": [
       "<div>\n",
       "<style scoped>\n",
       "    .dataframe tbody tr th:only-of-type {\n",
       "        vertical-align: middle;\n",
       "    }\n",
       "\n",
       "    .dataframe tbody tr th {\n",
       "        vertical-align: top;\n",
       "    }\n",
       "\n",
       "    .dataframe thead th {\n",
       "        text-align: right;\n",
       "    }\n",
       "</style>\n",
       "<table border=\"1\" class=\"dataframe\">\n",
       "  <thead>\n",
       "    <tr style=\"text-align: right;\">\n",
       "      <th></th>\n",
       "      <th>author_id</th>\n",
       "      <th>count</th>\n",
       "    </tr>\n",
       "  </thead>\n",
       "  <tbody>\n",
       "  </tbody>\n",
       "</table>\n",
       "</div>"
      ],
      "text/plain": [
       "Empty DataFrame\n",
       "Columns: [author_id, count]\n",
       "Index: []"
      ]
     },
     "execution_count": 16,
     "metadata": {},
     "output_type": "execute_result"
    }
   ],
   "source": [
    "# Чтобы выполнить SQL-запрос, используйте Pandas\n",
    "pd.io.sql.read_sql(query, con = engine)"
   ]
  },
  {
   "cell_type": "markdown",
   "metadata": {},
   "source": [
    "У нас 636 авторов. Пропусков и дубликатов нет"
   ]
  },
  {
   "cell_type": "markdown",
   "metadata": {},
   "source": [
    "### Таблица publishers"
   ]
  },
  {
   "cell_type": "code",
   "execution_count": 17,
   "metadata": {},
   "outputs": [],
   "source": [
    "# SQL запрос\n",
    "\n",
    "query = ''' SELECT \n",
    "                *\n",
    "            FROM \n",
    "                publishers\n",
    "        '''"
   ]
  },
  {
   "cell_type": "code",
   "execution_count": 18,
   "metadata": {},
   "outputs": [
    {
     "data": {
      "text/html": [
       "<div>\n",
       "<style scoped>\n",
       "    .dataframe tbody tr th:only-of-type {\n",
       "        vertical-align: middle;\n",
       "    }\n",
       "\n",
       "    .dataframe tbody tr th {\n",
       "        vertical-align: top;\n",
       "    }\n",
       "\n",
       "    .dataframe thead th {\n",
       "        text-align: right;\n",
       "    }\n",
       "</style>\n",
       "<table border=\"1\" class=\"dataframe\">\n",
       "  <thead>\n",
       "    <tr style=\"text-align: right;\">\n",
       "      <th></th>\n",
       "      <th>publisher_id</th>\n",
       "      <th>publisher</th>\n",
       "    </tr>\n",
       "  </thead>\n",
       "  <tbody>\n",
       "    <tr>\n",
       "      <td>0</td>\n",
       "      <td>1</td>\n",
       "      <td>Ace</td>\n",
       "    </tr>\n",
       "    <tr>\n",
       "      <td>1</td>\n",
       "      <td>2</td>\n",
       "      <td>Ace Book</td>\n",
       "    </tr>\n",
       "    <tr>\n",
       "      <td>2</td>\n",
       "      <td>3</td>\n",
       "      <td>Ace Books</td>\n",
       "    </tr>\n",
       "    <tr>\n",
       "      <td>3</td>\n",
       "      <td>4</td>\n",
       "      <td>Ace Hardcover</td>\n",
       "    </tr>\n",
       "    <tr>\n",
       "      <td>4</td>\n",
       "      <td>5</td>\n",
       "      <td>Addison Wesley Publishing Company</td>\n",
       "    </tr>\n",
       "    <tr>\n",
       "      <td>...</td>\n",
       "      <td>...</td>\n",
       "      <td>...</td>\n",
       "    </tr>\n",
       "    <tr>\n",
       "      <td>335</td>\n",
       "      <td>336</td>\n",
       "      <td>Workman Publishing Company</td>\n",
       "    </tr>\n",
       "    <tr>\n",
       "      <td>336</td>\n",
       "      <td>337</td>\n",
       "      <td>Wyatt Book</td>\n",
       "    </tr>\n",
       "    <tr>\n",
       "      <td>337</td>\n",
       "      <td>338</td>\n",
       "      <td>Yale University Press</td>\n",
       "    </tr>\n",
       "    <tr>\n",
       "      <td>338</td>\n",
       "      <td>339</td>\n",
       "      <td>Yearling</td>\n",
       "    </tr>\n",
       "    <tr>\n",
       "      <td>339</td>\n",
       "      <td>340</td>\n",
       "      <td>Yearling Books</td>\n",
       "    </tr>\n",
       "  </tbody>\n",
       "</table>\n",
       "<p>340 rows × 2 columns</p>\n",
       "</div>"
      ],
      "text/plain": [
       "     publisher_id                          publisher\n",
       "0               1                                Ace\n",
       "1               2                           Ace Book\n",
       "2               3                          Ace Books\n",
       "3               4                      Ace Hardcover\n",
       "4               5  Addison Wesley Publishing Company\n",
       "..            ...                                ...\n",
       "335           336         Workman Publishing Company\n",
       "336           337                         Wyatt Book\n",
       "337           338              Yale University Press\n",
       "338           339                           Yearling\n",
       "339           340                     Yearling Books\n",
       "\n",
       "[340 rows x 2 columns]"
      ]
     },
     "execution_count": 18,
     "metadata": {},
     "output_type": "execute_result"
    }
   ],
   "source": [
    "# Чтобы выполнить SQL-запрос, используйте Pandas\n",
    "pd.io.sql.read_sql(query, con = engine)"
   ]
  },
  {
   "cell_type": "code",
   "execution_count": 19,
   "metadata": {},
   "outputs": [],
   "source": [
    "# SQL запрос\n",
    "# поищем пропуски\n",
    "\n",
    "query = ''' SELECT \n",
    "                *\n",
    "            FROM \n",
    "                publishers\n",
    "            WHERE\n",
    "                publisher_id IS NULL\n",
    "        '''"
   ]
  },
  {
   "cell_type": "code",
   "execution_count": 20,
   "metadata": {},
   "outputs": [
    {
     "data": {
      "text/html": [
       "<div>\n",
       "<style scoped>\n",
       "    .dataframe tbody tr th:only-of-type {\n",
       "        vertical-align: middle;\n",
       "    }\n",
       "\n",
       "    .dataframe tbody tr th {\n",
       "        vertical-align: top;\n",
       "    }\n",
       "\n",
       "    .dataframe thead th {\n",
       "        text-align: right;\n",
       "    }\n",
       "</style>\n",
       "<table border=\"1\" class=\"dataframe\">\n",
       "  <thead>\n",
       "    <tr style=\"text-align: right;\">\n",
       "      <th></th>\n",
       "      <th>publisher_id</th>\n",
       "      <th>publisher</th>\n",
       "    </tr>\n",
       "  </thead>\n",
       "  <tbody>\n",
       "  </tbody>\n",
       "</table>\n",
       "</div>"
      ],
      "text/plain": [
       "Empty DataFrame\n",
       "Columns: [publisher_id, publisher]\n",
       "Index: []"
      ]
     },
     "execution_count": 20,
     "metadata": {},
     "output_type": "execute_result"
    }
   ],
   "source": [
    "# Чтобы выполнить SQL-запрос, используйте Pandas\n",
    "pd.io.sql.read_sql(query, con = engine)"
   ]
  },
  {
   "cell_type": "code",
   "execution_count": 21,
   "metadata": {},
   "outputs": [],
   "source": [
    "# проверим на дубликаты\n",
    "query = '''    SELECT\n",
    "                    publisher_id,\n",
    "                    COUNT(publisher_id)\n",
    "                FROM\n",
    "                    publishers\n",
    "                -- группируем выборку по значению\n",
    "                GROUP BY\n",
    "                    publisher_id\n",
    "                -- фильтруем выборку по количеству\n",
    "                HAVING\n",
    "                    COUNT(publisher_id) > 1\n",
    "        \n",
    "        '''"
   ]
  },
  {
   "cell_type": "code",
   "execution_count": 22,
   "metadata": {},
   "outputs": [
    {
     "data": {
      "text/html": [
       "<div>\n",
       "<style scoped>\n",
       "    .dataframe tbody tr th:only-of-type {\n",
       "        vertical-align: middle;\n",
       "    }\n",
       "\n",
       "    .dataframe tbody tr th {\n",
       "        vertical-align: top;\n",
       "    }\n",
       "\n",
       "    .dataframe thead th {\n",
       "        text-align: right;\n",
       "    }\n",
       "</style>\n",
       "<table border=\"1\" class=\"dataframe\">\n",
       "  <thead>\n",
       "    <tr style=\"text-align: right;\">\n",
       "      <th></th>\n",
       "      <th>publisher_id</th>\n",
       "      <th>count</th>\n",
       "    </tr>\n",
       "  </thead>\n",
       "  <tbody>\n",
       "  </tbody>\n",
       "</table>\n",
       "</div>"
      ],
      "text/plain": [
       "Empty DataFrame\n",
       "Columns: [publisher_id, count]\n",
       "Index: []"
      ]
     },
     "execution_count": 22,
     "metadata": {},
     "output_type": "execute_result"
    }
   ],
   "source": [
    "# Чтобы выполнить SQL-запрос, используйте Pandas\n",
    "pd.io.sql.read_sql(query, con = engine)"
   ]
  },
  {
   "cell_type": "markdown",
   "metadata": {},
   "source": [
    "Так же у нас информация о 340 издательствах с их названиями. Пропуски и дубликаты мы не нашли"
   ]
  },
  {
   "cell_type": "markdown",
   "metadata": {},
   "source": [
    "### Таблица ratings"
   ]
  },
  {
   "cell_type": "code",
   "execution_count": 23,
   "metadata": {},
   "outputs": [],
   "source": [
    "# SQL запрос\n",
    "\n",
    "query = ''' SELECT \n",
    "                *\n",
    "            FROM \n",
    "                ratings\n",
    "        '''"
   ]
  },
  {
   "cell_type": "code",
   "execution_count": 24,
   "metadata": {},
   "outputs": [
    {
     "data": {
      "text/html": [
       "<div>\n",
       "<style scoped>\n",
       "    .dataframe tbody tr th:only-of-type {\n",
       "        vertical-align: middle;\n",
       "    }\n",
       "\n",
       "    .dataframe tbody tr th {\n",
       "        vertical-align: top;\n",
       "    }\n",
       "\n",
       "    .dataframe thead th {\n",
       "        text-align: right;\n",
       "    }\n",
       "</style>\n",
       "<table border=\"1\" class=\"dataframe\">\n",
       "  <thead>\n",
       "    <tr style=\"text-align: right;\">\n",
       "      <th></th>\n",
       "      <th>rating_id</th>\n",
       "      <th>book_id</th>\n",
       "      <th>username</th>\n",
       "      <th>rating</th>\n",
       "    </tr>\n",
       "  </thead>\n",
       "  <tbody>\n",
       "    <tr>\n",
       "      <td>0</td>\n",
       "      <td>1</td>\n",
       "      <td>1</td>\n",
       "      <td>ryanfranco</td>\n",
       "      <td>4</td>\n",
       "    </tr>\n",
       "    <tr>\n",
       "      <td>1</td>\n",
       "      <td>2</td>\n",
       "      <td>1</td>\n",
       "      <td>grantpatricia</td>\n",
       "      <td>2</td>\n",
       "    </tr>\n",
       "    <tr>\n",
       "      <td>2</td>\n",
       "      <td>3</td>\n",
       "      <td>1</td>\n",
       "      <td>brandtandrea</td>\n",
       "      <td>5</td>\n",
       "    </tr>\n",
       "    <tr>\n",
       "      <td>3</td>\n",
       "      <td>4</td>\n",
       "      <td>2</td>\n",
       "      <td>lorichen</td>\n",
       "      <td>3</td>\n",
       "    </tr>\n",
       "    <tr>\n",
       "      <td>4</td>\n",
       "      <td>5</td>\n",
       "      <td>2</td>\n",
       "      <td>mariokeller</td>\n",
       "      <td>2</td>\n",
       "    </tr>\n",
       "    <tr>\n",
       "      <td>...</td>\n",
       "      <td>...</td>\n",
       "      <td>...</td>\n",
       "      <td>...</td>\n",
       "      <td>...</td>\n",
       "    </tr>\n",
       "    <tr>\n",
       "      <td>6451</td>\n",
       "      <td>6452</td>\n",
       "      <td>1000</td>\n",
       "      <td>carolrodriguez</td>\n",
       "      <td>4</td>\n",
       "    </tr>\n",
       "    <tr>\n",
       "      <td>6452</td>\n",
       "      <td>6453</td>\n",
       "      <td>1000</td>\n",
       "      <td>wendy18</td>\n",
       "      <td>4</td>\n",
       "    </tr>\n",
       "    <tr>\n",
       "      <td>6453</td>\n",
       "      <td>6454</td>\n",
       "      <td>1000</td>\n",
       "      <td>jarvispaul</td>\n",
       "      <td>5</td>\n",
       "    </tr>\n",
       "    <tr>\n",
       "      <td>6454</td>\n",
       "      <td>6455</td>\n",
       "      <td>1000</td>\n",
       "      <td>zross</td>\n",
       "      <td>2</td>\n",
       "    </tr>\n",
       "    <tr>\n",
       "      <td>6455</td>\n",
       "      <td>6456</td>\n",
       "      <td>1000</td>\n",
       "      <td>fharris</td>\n",
       "      <td>5</td>\n",
       "    </tr>\n",
       "  </tbody>\n",
       "</table>\n",
       "<p>6456 rows × 4 columns</p>\n",
       "</div>"
      ],
      "text/plain": [
       "      rating_id  book_id        username  rating\n",
       "0             1        1      ryanfranco       4\n",
       "1             2        1   grantpatricia       2\n",
       "2             3        1    brandtandrea       5\n",
       "3             4        2        lorichen       3\n",
       "4             5        2     mariokeller       2\n",
       "...         ...      ...             ...     ...\n",
       "6451       6452     1000  carolrodriguez       4\n",
       "6452       6453     1000         wendy18       4\n",
       "6453       6454     1000      jarvispaul       5\n",
       "6454       6455     1000           zross       2\n",
       "6455       6456     1000         fharris       5\n",
       "\n",
       "[6456 rows x 4 columns]"
      ]
     },
     "execution_count": 24,
     "metadata": {},
     "output_type": "execute_result"
    }
   ],
   "source": [
    "# Чтобы выполнить SQL-запрос, используйте Pandas\n",
    "pd.io.sql.read_sql(query, con = engine)"
   ]
  },
  {
   "cell_type": "code",
   "execution_count": 25,
   "metadata": {},
   "outputs": [],
   "source": [
    "# SQL запрос\n",
    "\n",
    "query = ''' SELECT \n",
    "                *\n",
    "            FROM \n",
    "                ratings\n",
    "            WHERE\n",
    "                rating_id IS NULL\n",
    "        '''"
   ]
  },
  {
   "cell_type": "code",
   "execution_count": 26,
   "metadata": {},
   "outputs": [
    {
     "data": {
      "text/html": [
       "<div>\n",
       "<style scoped>\n",
       "    .dataframe tbody tr th:only-of-type {\n",
       "        vertical-align: middle;\n",
       "    }\n",
       "\n",
       "    .dataframe tbody tr th {\n",
       "        vertical-align: top;\n",
       "    }\n",
       "\n",
       "    .dataframe thead th {\n",
       "        text-align: right;\n",
       "    }\n",
       "</style>\n",
       "<table border=\"1\" class=\"dataframe\">\n",
       "  <thead>\n",
       "    <tr style=\"text-align: right;\">\n",
       "      <th></th>\n",
       "      <th>rating_id</th>\n",
       "      <th>book_id</th>\n",
       "      <th>username</th>\n",
       "      <th>rating</th>\n",
       "    </tr>\n",
       "  </thead>\n",
       "  <tbody>\n",
       "  </tbody>\n",
       "</table>\n",
       "</div>"
      ],
      "text/plain": [
       "Empty DataFrame\n",
       "Columns: [rating_id, book_id, username, rating]\n",
       "Index: []"
      ]
     },
     "execution_count": 26,
     "metadata": {},
     "output_type": "execute_result"
    }
   ],
   "source": [
    "# Чтобы выполнить SQL-запрос, используйте Pandas\n",
    "pd.io.sql.read_sql(query, con = engine)"
   ]
  },
  {
   "cell_type": "code",
   "execution_count": 27,
   "metadata": {},
   "outputs": [],
   "source": [
    "# проверим на дубликаты\n",
    "query = '''    SELECT\n",
    "                    rating_id,\n",
    "                    COUNT(rating_id)\n",
    "                FROM\n",
    "                    ratings\n",
    "                -- группируем выборку по значению\n",
    "                GROUP BY\n",
    "                    rating_id\n",
    "                -- фильтруем выборку по количеству\n",
    "                HAVING\n",
    "                    COUNT(rating_id) > 1\n",
    "        \n",
    "        '''"
   ]
  },
  {
   "cell_type": "code",
   "execution_count": 28,
   "metadata": {},
   "outputs": [
    {
     "data": {
      "text/html": [
       "<div>\n",
       "<style scoped>\n",
       "    .dataframe tbody tr th:only-of-type {\n",
       "        vertical-align: middle;\n",
       "    }\n",
       "\n",
       "    .dataframe tbody tr th {\n",
       "        vertical-align: top;\n",
       "    }\n",
       "\n",
       "    .dataframe thead th {\n",
       "        text-align: right;\n",
       "    }\n",
       "</style>\n",
       "<table border=\"1\" class=\"dataframe\">\n",
       "  <thead>\n",
       "    <tr style=\"text-align: right;\">\n",
       "      <th></th>\n",
       "      <th>rating_id</th>\n",
       "      <th>count</th>\n",
       "    </tr>\n",
       "  </thead>\n",
       "  <tbody>\n",
       "  </tbody>\n",
       "</table>\n",
       "</div>"
      ],
      "text/plain": [
       "Empty DataFrame\n",
       "Columns: [rating_id, count]\n",
       "Index: []"
      ]
     },
     "execution_count": 28,
     "metadata": {},
     "output_type": "execute_result"
    }
   ],
   "source": [
    "# Чтобы выполнить SQL-запрос, используйте Pandas\n",
    "pd.io.sql.read_sql(query, con = engine)"
   ]
  },
  {
   "cell_type": "markdown",
   "metadata": {},
   "source": [
    "Далее у нас информация о 6456 оценках от пользователей. Многие книги видимо были оценены и не раз, так же, как и многие пользователи оценили не одну книгу. Пропуски и дубликаты мы не нашли"
   ]
  },
  {
   "cell_type": "markdown",
   "metadata": {},
   "source": [
    "### Таблица reviews"
   ]
  },
  {
   "cell_type": "code",
   "execution_count": 29,
   "metadata": {},
   "outputs": [],
   "source": [
    "# SQL запрос\n",
    "\n",
    "query = ''' SELECT \n",
    "                *\n",
    "            FROM \n",
    "                reviews\n",
    "        '''"
   ]
  },
  {
   "cell_type": "code",
   "execution_count": 30,
   "metadata": {},
   "outputs": [
    {
     "data": {
      "text/html": [
       "<div>\n",
       "<style scoped>\n",
       "    .dataframe tbody tr th:only-of-type {\n",
       "        vertical-align: middle;\n",
       "    }\n",
       "\n",
       "    .dataframe tbody tr th {\n",
       "        vertical-align: top;\n",
       "    }\n",
       "\n",
       "    .dataframe thead th {\n",
       "        text-align: right;\n",
       "    }\n",
       "</style>\n",
       "<table border=\"1\" class=\"dataframe\">\n",
       "  <thead>\n",
       "    <tr style=\"text-align: right;\">\n",
       "      <th></th>\n",
       "      <th>review_id</th>\n",
       "      <th>book_id</th>\n",
       "      <th>username</th>\n",
       "      <th>text</th>\n",
       "    </tr>\n",
       "  </thead>\n",
       "  <tbody>\n",
       "    <tr>\n",
       "      <td>0</td>\n",
       "      <td>1</td>\n",
       "      <td>1</td>\n",
       "      <td>brandtandrea</td>\n",
       "      <td>Mention society tell send professor analysis. ...</td>\n",
       "    </tr>\n",
       "    <tr>\n",
       "      <td>1</td>\n",
       "      <td>2</td>\n",
       "      <td>1</td>\n",
       "      <td>ryanfranco</td>\n",
       "      <td>Foot glass pretty audience hit themselves. Amo...</td>\n",
       "    </tr>\n",
       "    <tr>\n",
       "      <td>2</td>\n",
       "      <td>3</td>\n",
       "      <td>2</td>\n",
       "      <td>lorichen</td>\n",
       "      <td>Listen treat keep worry. Miss husband tax but ...</td>\n",
       "    </tr>\n",
       "    <tr>\n",
       "      <td>3</td>\n",
       "      <td>4</td>\n",
       "      <td>3</td>\n",
       "      <td>johnsonamanda</td>\n",
       "      <td>Finally month interesting blue could nature cu...</td>\n",
       "    </tr>\n",
       "    <tr>\n",
       "      <td>4</td>\n",
       "      <td>5</td>\n",
       "      <td>3</td>\n",
       "      <td>scotttamara</td>\n",
       "      <td>Nation purpose heavy give wait song will. List...</td>\n",
       "    </tr>\n",
       "    <tr>\n",
       "      <td>...</td>\n",
       "      <td>...</td>\n",
       "      <td>...</td>\n",
       "      <td>...</td>\n",
       "      <td>...</td>\n",
       "    </tr>\n",
       "    <tr>\n",
       "      <td>2788</td>\n",
       "      <td>2789</td>\n",
       "      <td>999</td>\n",
       "      <td>martinadam</td>\n",
       "      <td>Later hospital turn easy community. Fact same ...</td>\n",
       "    </tr>\n",
       "    <tr>\n",
       "      <td>2789</td>\n",
       "      <td>2790</td>\n",
       "      <td>1000</td>\n",
       "      <td>wknight</td>\n",
       "      <td>Change lose answer close pressure. Spend so now.</td>\n",
       "    </tr>\n",
       "    <tr>\n",
       "      <td>2790</td>\n",
       "      <td>2791</td>\n",
       "      <td>1000</td>\n",
       "      <td>carolrodriguez</td>\n",
       "      <td>Authority go who television entire hair guy po...</td>\n",
       "    </tr>\n",
       "    <tr>\n",
       "      <td>2791</td>\n",
       "      <td>2792</td>\n",
       "      <td>1000</td>\n",
       "      <td>wendy18</td>\n",
       "      <td>Or western offer wonder ask. More hear phone f...</td>\n",
       "    </tr>\n",
       "    <tr>\n",
       "      <td>2792</td>\n",
       "      <td>2793</td>\n",
       "      <td>1000</td>\n",
       "      <td>jarvispaul</td>\n",
       "      <td>Republican staff bit eat material measure plan...</td>\n",
       "    </tr>\n",
       "  </tbody>\n",
       "</table>\n",
       "<p>2793 rows × 4 columns</p>\n",
       "</div>"
      ],
      "text/plain": [
       "      review_id  book_id        username  \\\n",
       "0             1        1    brandtandrea   \n",
       "1             2        1      ryanfranco   \n",
       "2             3        2        lorichen   \n",
       "3             4        3   johnsonamanda   \n",
       "4             5        3     scotttamara   \n",
       "...         ...      ...             ...   \n",
       "2788       2789      999      martinadam   \n",
       "2789       2790     1000         wknight   \n",
       "2790       2791     1000  carolrodriguez   \n",
       "2791       2792     1000         wendy18   \n",
       "2792       2793     1000      jarvispaul   \n",
       "\n",
       "                                                   text  \n",
       "0     Mention society tell send professor analysis. ...  \n",
       "1     Foot glass pretty audience hit themselves. Amo...  \n",
       "2     Listen treat keep worry. Miss husband tax but ...  \n",
       "3     Finally month interesting blue could nature cu...  \n",
       "4     Nation purpose heavy give wait song will. List...  \n",
       "...                                                 ...  \n",
       "2788  Later hospital turn easy community. Fact same ...  \n",
       "2789   Change lose answer close pressure. Spend so now.  \n",
       "2790  Authority go who television entire hair guy po...  \n",
       "2791  Or western offer wonder ask. More hear phone f...  \n",
       "2792  Republican staff bit eat material measure plan...  \n",
       "\n",
       "[2793 rows x 4 columns]"
      ]
     },
     "execution_count": 30,
     "metadata": {},
     "output_type": "execute_result"
    }
   ],
   "source": [
    "# Чтобы выполнить SQL-запрос, используйте Pandas\n",
    "pd.io.sql.read_sql(query, con = engine)"
   ]
  },
  {
   "cell_type": "code",
   "execution_count": 31,
   "metadata": {},
   "outputs": [],
   "source": [
    "# SQL запрос\n",
    "\n",
    "query = ''' SELECT                 \n",
    "                COUNT(DISTINCT book_id) AS cnt_book\n",
    "            FROM \n",
    "                reviews\n",
    "        '''"
   ]
  },
  {
   "cell_type": "code",
   "execution_count": 32,
   "metadata": {},
   "outputs": [
    {
     "data": {
      "text/html": [
       "<div>\n",
       "<style scoped>\n",
       "    .dataframe tbody tr th:only-of-type {\n",
       "        vertical-align: middle;\n",
       "    }\n",
       "\n",
       "    .dataframe tbody tr th {\n",
       "        vertical-align: top;\n",
       "    }\n",
       "\n",
       "    .dataframe thead th {\n",
       "        text-align: right;\n",
       "    }\n",
       "</style>\n",
       "<table border=\"1\" class=\"dataframe\">\n",
       "  <thead>\n",
       "    <tr style=\"text-align: right;\">\n",
       "      <th></th>\n",
       "      <th>cnt_book</th>\n",
       "    </tr>\n",
       "  </thead>\n",
       "  <tbody>\n",
       "    <tr>\n",
       "      <td>0</td>\n",
       "      <td>994</td>\n",
       "    </tr>\n",
       "  </tbody>\n",
       "</table>\n",
       "</div>"
      ],
      "text/plain": [
       "   cnt_book\n",
       "0       994"
      ]
     },
     "execution_count": 32,
     "metadata": {},
     "output_type": "execute_result"
    }
   ],
   "source": [
    "# Чтобы выполнить SQL-запрос, используйте Pandas\n",
    "pd.io.sql.read_sql(query, con = engine)"
   ]
  },
  {
   "cell_type": "code",
   "execution_count": 33,
   "metadata": {},
   "outputs": [],
   "source": [
    "# SQL запрос\n",
    "\n",
    "query = ''' SELECT \n",
    "                *\n",
    "            FROM \n",
    "                reviews\n",
    "            WHERE\n",
    "                book_id IS NULL\n",
    "        '''"
   ]
  },
  {
   "cell_type": "code",
   "execution_count": 34,
   "metadata": {},
   "outputs": [
    {
     "data": {
      "text/html": [
       "<div>\n",
       "<style scoped>\n",
       "    .dataframe tbody tr th:only-of-type {\n",
       "        vertical-align: middle;\n",
       "    }\n",
       "\n",
       "    .dataframe tbody tr th {\n",
       "        vertical-align: top;\n",
       "    }\n",
       "\n",
       "    .dataframe thead th {\n",
       "        text-align: right;\n",
       "    }\n",
       "</style>\n",
       "<table border=\"1\" class=\"dataframe\">\n",
       "  <thead>\n",
       "    <tr style=\"text-align: right;\">\n",
       "      <th></th>\n",
       "      <th>review_id</th>\n",
       "      <th>book_id</th>\n",
       "      <th>username</th>\n",
       "      <th>text</th>\n",
       "    </tr>\n",
       "  </thead>\n",
       "  <tbody>\n",
       "  </tbody>\n",
       "</table>\n",
       "</div>"
      ],
      "text/plain": [
       "Empty DataFrame\n",
       "Columns: [review_id, book_id, username, text]\n",
       "Index: []"
      ]
     },
     "execution_count": 34,
     "metadata": {},
     "output_type": "execute_result"
    }
   ],
   "source": [
    "# Чтобы выполнить SQL-запрос, используйте Pandas\n",
    "pd.io.sql.read_sql(query, con = engine)"
   ]
  },
  {
   "cell_type": "code",
   "execution_count": 35,
   "metadata": {},
   "outputs": [],
   "source": [
    "# SQL запрос\n",
    "\n",
    "query = ''' SELECT \n",
    "                *\n",
    "            FROM \n",
    "                reviews\n",
    "            WHERE\n",
    "                review_id IS NULL\n",
    "        '''"
   ]
  },
  {
   "cell_type": "code",
   "execution_count": 36,
   "metadata": {},
   "outputs": [
    {
     "data": {
      "text/html": [
       "<div>\n",
       "<style scoped>\n",
       "    .dataframe tbody tr th:only-of-type {\n",
       "        vertical-align: middle;\n",
       "    }\n",
       "\n",
       "    .dataframe tbody tr th {\n",
       "        vertical-align: top;\n",
       "    }\n",
       "\n",
       "    .dataframe thead th {\n",
       "        text-align: right;\n",
       "    }\n",
       "</style>\n",
       "<table border=\"1\" class=\"dataframe\">\n",
       "  <thead>\n",
       "    <tr style=\"text-align: right;\">\n",
       "      <th></th>\n",
       "      <th>review_id</th>\n",
       "      <th>book_id</th>\n",
       "      <th>username</th>\n",
       "      <th>text</th>\n",
       "    </tr>\n",
       "  </thead>\n",
       "  <tbody>\n",
       "  </tbody>\n",
       "</table>\n",
       "</div>"
      ],
      "text/plain": [
       "Empty DataFrame\n",
       "Columns: [review_id, book_id, username, text]\n",
       "Index: []"
      ]
     },
     "execution_count": 36,
     "metadata": {},
     "output_type": "execute_result"
    }
   ],
   "source": [
    "# Чтобы выполнить SQL-запрос, используйте Pandas\n",
    "pd.io.sql.read_sql(query, con = engine)"
   ]
  },
  {
   "cell_type": "code",
   "execution_count": 37,
   "metadata": {},
   "outputs": [],
   "source": [
    "# проверим на дубликаты\n",
    "query = '''    SELECT\n",
    "                    review_id,\n",
    "                    COUNT(review_id)\n",
    "                FROM\n",
    "                    reviews\n",
    "                -- группируем выборку по значению\n",
    "                GROUP BY\n",
    "                    review_id\n",
    "                -- фильтруем выборку по количеству\n",
    "                HAVING\n",
    "                    COUNT(review_id) > 1\n",
    "        \n",
    "        '''"
   ]
  },
  {
   "cell_type": "code",
   "execution_count": 38,
   "metadata": {},
   "outputs": [
    {
     "data": {
      "text/html": [
       "<div>\n",
       "<style scoped>\n",
       "    .dataframe tbody tr th:only-of-type {\n",
       "        vertical-align: middle;\n",
       "    }\n",
       "\n",
       "    .dataframe tbody tr th {\n",
       "        vertical-align: top;\n",
       "    }\n",
       "\n",
       "    .dataframe thead th {\n",
       "        text-align: right;\n",
       "    }\n",
       "</style>\n",
       "<table border=\"1\" class=\"dataframe\">\n",
       "  <thead>\n",
       "    <tr style=\"text-align: right;\">\n",
       "      <th></th>\n",
       "      <th>review_id</th>\n",
       "      <th>count</th>\n",
       "    </tr>\n",
       "  </thead>\n",
       "  <tbody>\n",
       "  </tbody>\n",
       "</table>\n",
       "</div>"
      ],
      "text/plain": [
       "Empty DataFrame\n",
       "Columns: [review_id, count]\n",
       "Index: []"
      ]
     },
     "execution_count": 38,
     "metadata": {},
     "output_type": "execute_result"
    }
   ],
   "source": [
    "# Чтобы выполнить SQL-запрос, используйте Pandas\n",
    "pd.io.sql.read_sql(query, con = engine)"
   ]
  },
  {
   "cell_type": "markdown",
   "metadata": {},
   "source": [
    "Ну а тут у нас информация о обзорах на книги от пользователей. Не для всех книг у нас есть обзоры"
   ]
  },
  {
   "cell_type": "markdown",
   "metadata": {},
   "source": [
    "**Вывод**\n",
    "\n",
    "Мы осмотрели все таблицы. В уникальных id мы не нашли пропуски или дубликатов. Не для всех книг у нас есть обзоры"
   ]
  },
  {
   "cell_type": "markdown",
   "metadata": {},
   "source": [
    "<div class=\"alert alert-block alert-warning\">\n",
    "    \n",
    "\n",
    "__Комментарий от ревьюера №1__\n",
    "\n",
    "С нашими данными всё в порядке или есть какие-то проблемы?\n",
    "</div>"
   ]
  },
  {
   "cell_type": "markdown",
   "metadata": {},
   "source": [
    "<div class=\"alert alert-info\" style=\"border-radius: 15px; box-shadow: 4px 4px 4px; border: 1px solid \" > <font size=\"4\"><b>Комментарии студента</b></font>\n",
    "    \n",
    "проверил на дубликаты и пропуски в уникальных индификаторах в каждой таблице \n",
    "</div>"
   ]
  },
  {
   "cell_type": "markdown",
   "metadata": {},
   "source": [
    "## Посчитайте, сколько книг вышло после 1 января 2000 года"
   ]
  },
  {
   "cell_type": "code",
   "execution_count": 39,
   "metadata": {},
   "outputs": [],
   "source": [
    "# SQL запрос\n",
    "\n",
    "query = ''' SELECT \n",
    "                COUNT(book_id) AS book_cnt\n",
    "            FROM \n",
    "                books\n",
    "            WHERE\n",
    "                publication_date > '2000-01-01'\n",
    "        '''"
   ]
  },
  {
   "cell_type": "code",
   "execution_count": 40,
   "metadata": {},
   "outputs": [
    {
     "data": {
      "text/html": [
       "<div>\n",
       "<style scoped>\n",
       "    .dataframe tbody tr th:only-of-type {\n",
       "        vertical-align: middle;\n",
       "    }\n",
       "\n",
       "    .dataframe tbody tr th {\n",
       "        vertical-align: top;\n",
       "    }\n",
       "\n",
       "    .dataframe thead th {\n",
       "        text-align: right;\n",
       "    }\n",
       "</style>\n",
       "<table border=\"1\" class=\"dataframe\">\n",
       "  <thead>\n",
       "    <tr style=\"text-align: right;\">\n",
       "      <th></th>\n",
       "      <th>book_cnt</th>\n",
       "    </tr>\n",
       "  </thead>\n",
       "  <tbody>\n",
       "    <tr>\n",
       "      <td>0</td>\n",
       "      <td>819</td>\n",
       "    </tr>\n",
       "  </tbody>\n",
       "</table>\n",
       "</div>"
      ],
      "text/plain": [
       "   book_cnt\n",
       "0       819"
      ]
     },
     "execution_count": 40,
     "metadata": {},
     "output_type": "execute_result"
    }
   ],
   "source": [
    "# Чтобы выполнить SQL-запрос, используйте Pandas\n",
    "pd.io.sql.read_sql(query, con = engine)"
   ]
  },
  {
   "cell_type": "markdown",
   "metadata": {},
   "source": [
    "После 01.01.2000 было выпущено 819 книг."
   ]
  },
  {
   "cell_type": "markdown",
   "metadata": {},
   "source": [
    "## Для каждой книги посчитайте количество обзоров и среднюю оценку"
   ]
  },
  {
   "cell_type": "code",
   "execution_count": 41,
   "metadata": {},
   "outputs": [],
   "source": [
    "query = ''' SELECT \n",
    "               books.title AS title,\n",
    "               COUNT(DISTINCT review_id) AS cnt_review,\n",
    "               AVG(ratings.rating) AS mean_rating\n",
    "            FROM\n",
    "                books\n",
    "                LEFT JOIN reviews ON books.book_id = reviews.book_id\n",
    "                LEFT JOIN ratings ON books.book_id = ratings.book_id\n",
    "            GROUP BY\n",
    "                title\n",
    "            ORDER BY \n",
    "                cnt_review DESC\n",
    "        '''"
   ]
  },
  {
   "cell_type": "code",
   "execution_count": 42,
   "metadata": {},
   "outputs": [
    {
     "data": {
      "text/html": [
       "<div>\n",
       "<style scoped>\n",
       "    .dataframe tbody tr th:only-of-type {\n",
       "        vertical-align: middle;\n",
       "    }\n",
       "\n",
       "    .dataframe tbody tr th {\n",
       "        vertical-align: top;\n",
       "    }\n",
       "\n",
       "    .dataframe thead th {\n",
       "        text-align: right;\n",
       "    }\n",
       "</style>\n",
       "<table border=\"1\" class=\"dataframe\">\n",
       "  <thead>\n",
       "    <tr style=\"text-align: right;\">\n",
       "      <th></th>\n",
       "      <th>title</th>\n",
       "      <th>cnt_review</th>\n",
       "      <th>mean_rating</th>\n",
       "    </tr>\n",
       "  </thead>\n",
       "  <tbody>\n",
       "    <tr>\n",
       "      <td>0</td>\n",
       "      <td>Memoirs of a Geisha</td>\n",
       "      <td>8</td>\n",
       "      <td>4.138462</td>\n",
       "    </tr>\n",
       "    <tr>\n",
       "      <td>1</td>\n",
       "      <td>Twilight (Twilight  #1)</td>\n",
       "      <td>7</td>\n",
       "      <td>3.662500</td>\n",
       "    </tr>\n",
       "    <tr>\n",
       "      <td>2</td>\n",
       "      <td>Harry Potter and the Chamber of Secrets (Harry...</td>\n",
       "      <td>6</td>\n",
       "      <td>4.287500</td>\n",
       "    </tr>\n",
       "    <tr>\n",
       "      <td>3</td>\n",
       "      <td>The Glass Castle</td>\n",
       "      <td>6</td>\n",
       "      <td>4.206897</td>\n",
       "    </tr>\n",
       "    <tr>\n",
       "      <td>4</td>\n",
       "      <td>Eat  Pray  Love</td>\n",
       "      <td>6</td>\n",
       "      <td>3.395833</td>\n",
       "    </tr>\n",
       "    <tr>\n",
       "      <td>...</td>\n",
       "      <td>...</td>\n",
       "      <td>...</td>\n",
       "      <td>...</td>\n",
       "    </tr>\n",
       "    <tr>\n",
       "      <td>994</td>\n",
       "      <td>Anne Rice's The Vampire Lestat: A Graphic Novel</td>\n",
       "      <td>0</td>\n",
       "      <td>3.666667</td>\n",
       "    </tr>\n",
       "    <tr>\n",
       "      <td>995</td>\n",
       "      <td>The Natural Way to Draw</td>\n",
       "      <td>0</td>\n",
       "      <td>3.000000</td>\n",
       "    </tr>\n",
       "    <tr>\n",
       "      <td>996</td>\n",
       "      <td>The Cat in the Hat and Other Dr. Seuss Favorites</td>\n",
       "      <td>0</td>\n",
       "      <td>5.000000</td>\n",
       "    </tr>\n",
       "    <tr>\n",
       "      <td>997</td>\n",
       "      <td>Essential Tales and Poems</td>\n",
       "      <td>0</td>\n",
       "      <td>4.000000</td>\n",
       "    </tr>\n",
       "    <tr>\n",
       "      <td>998</td>\n",
       "      <td>Disney's Beauty and the Beast (A Little Golden...</td>\n",
       "      <td>0</td>\n",
       "      <td>4.000000</td>\n",
       "    </tr>\n",
       "  </tbody>\n",
       "</table>\n",
       "<p>999 rows × 3 columns</p>\n",
       "</div>"
      ],
      "text/plain": [
       "                                                 title  cnt_review  \\\n",
       "0                                  Memoirs of a Geisha           8   \n",
       "1                              Twilight (Twilight  #1)           7   \n",
       "2    Harry Potter and the Chamber of Secrets (Harry...           6   \n",
       "3                                     The Glass Castle           6   \n",
       "4                                      Eat  Pray  Love           6   \n",
       "..                                                 ...         ...   \n",
       "994    Anne Rice's The Vampire Lestat: A Graphic Novel           0   \n",
       "995                            The Natural Way to Draw           0   \n",
       "996   The Cat in the Hat and Other Dr. Seuss Favorites           0   \n",
       "997                          Essential Tales and Poems           0   \n",
       "998  Disney's Beauty and the Beast (A Little Golden...           0   \n",
       "\n",
       "     mean_rating  \n",
       "0       4.138462  \n",
       "1       3.662500  \n",
       "2       4.287500  \n",
       "3       4.206897  \n",
       "4       3.395833  \n",
       "..           ...  \n",
       "994     3.666667  \n",
       "995     3.000000  \n",
       "996     5.000000  \n",
       "997     4.000000  \n",
       "998     4.000000  \n",
       "\n",
       "[999 rows x 3 columns]"
      ]
     },
     "execution_count": 42,
     "metadata": {},
     "output_type": "execute_result"
    }
   ],
   "source": [
    "# Чтобы выполнить SQL-запрос, используйте Pandas\n",
    "pd.io.sql.read_sql(query, con = engine)"
   ]
  },
  {
   "cell_type": "markdown",
   "metadata": {},
   "source": [
    "<div class=\"alert alert-block alert-warning\">\n",
    "    \n",
    "\n",
    "__Комментарий от ревьюера №1__\n",
    "\n",
    "В данном запросе какая-то проблема, как-то слишком много у нас ревью. Тут можно проверить сколько ревью было в изначальной таблице и сколько ревью получилось в агрегированной таблице.\n",
    "</div>"
   ]
  },
  {
   "cell_type": "markdown",
   "metadata": {},
   "source": [
    "<div class=\"alert alert-info\" style=\"border-radius: 15px; box-shadow: 4px 4px 4px; border: 1px solid \" > <font size=\"4\"><b>Комментарии студента</b></font>\n",
    "    \n",
    "Да верно, появилось много дублирующих срок при соединение, поэтому поставил считать только уникальные обзоры, а не все строки\n",
    "</div>"
   ]
  },
  {
   "cell_type": "markdown",
   "metadata": {},
   "source": [
    "## Определите издательство, которое выпустило наибольшее число книг толще 50 страниц — так вы исключите из анализа брошюры"
   ]
  },
  {
   "cell_type": "code",
   "execution_count": 43,
   "metadata": {},
   "outputs": [],
   "source": [
    "query = ''' \n",
    "\n",
    "    SELECT\n",
    "        MAX(num_books),\n",
    "        publisher\n",
    "    FROM (\n",
    "        SELECT              \n",
    "            COUNT(books.book_id) AS num_books,               \n",
    "            publishers.publisher AS publisher\n",
    "        FROM\n",
    "            books\n",
    "            LEFT JOIN publishers ON books.publisher_id = publishers.publisher_id\n",
    "        WHERE\n",
    "            num_pages > 50\n",
    "        GROUP BY\n",
    "            publisher\n",
    "        ) AS SQUB \n",
    "    GROUP BY \n",
    "        publisher\n",
    "    ORDER BY\n",
    "        max DESC\n",
    "    LIMIT 2\n",
    "    \n",
    "\n",
    "        '''"
   ]
  },
  {
   "cell_type": "code",
   "execution_count": 44,
   "metadata": {},
   "outputs": [
    {
     "data": {
      "text/html": [
       "<div>\n",
       "<style scoped>\n",
       "    .dataframe tbody tr th:only-of-type {\n",
       "        vertical-align: middle;\n",
       "    }\n",
       "\n",
       "    .dataframe tbody tr th {\n",
       "        vertical-align: top;\n",
       "    }\n",
       "\n",
       "    .dataframe thead th {\n",
       "        text-align: right;\n",
       "    }\n",
       "</style>\n",
       "<table border=\"1\" class=\"dataframe\">\n",
       "  <thead>\n",
       "    <tr style=\"text-align: right;\">\n",
       "      <th></th>\n",
       "      <th>max</th>\n",
       "      <th>publisher</th>\n",
       "    </tr>\n",
       "  </thead>\n",
       "  <tbody>\n",
       "    <tr>\n",
       "      <td>0</td>\n",
       "      <td>42</td>\n",
       "      <td>Penguin Books</td>\n",
       "    </tr>\n",
       "    <tr>\n",
       "      <td>1</td>\n",
       "      <td>31</td>\n",
       "      <td>Vintage</td>\n",
       "    </tr>\n",
       "  </tbody>\n",
       "</table>\n",
       "</div>"
      ],
      "text/plain": [
       "   max      publisher\n",
       "0   42  Penguin Books\n",
       "1   31        Vintage"
      ]
     },
     "execution_count": 44,
     "metadata": {},
     "output_type": "execute_result"
    }
   ],
   "source": [
    "# Чтобы выполнить SQL-запрос, используйте Pandas\n",
    "pd.io.sql.read_sql(query, con = engine)"
   ]
  },
  {
   "cell_type": "markdown",
   "metadata": {},
   "source": [
    "Пытался через MAX без сортировки, но никак не получается название издательства при этом вывести, только цифру"
   ]
  },
  {
   "cell_type": "markdown",
   "metadata": {},
   "source": [
    "## Определите автора с самой высокой средней оценкой книг — учитывайте только книги с 50 и более оценками"
   ]
  },
  {
   "cell_type": "code",
   "execution_count": 45,
   "metadata": {},
   "outputs": [],
   "source": [
    "query = '''        \n",
    "        SELECT\n",
    "            \n",
    "            AVG(mean_rating) AS mean_total_rating,\n",
    "            author\n",
    "        FROM (    \n",
    "            SELECT\n",
    "                title,\n",
    "                COUNT(rating) AS cnt_rating,\n",
    "                AVG(rating) AS mean_rating,\n",
    "                author\n",
    "            FROM\n",
    "                books\n",
    "                LEFT JOIN ratings ON books.book_id = ratings.book_id\n",
    "                LEFT JOIN authors ON books.author_id = authors.author_id\n",
    "            GROUP BY\n",
    "                title, author\n",
    "            HAVING\n",
    "                COUNT(rating) > 50\n",
    "            ORDER BY\n",
    "                author DESC                \n",
    "            ) AS SQBU  \n",
    "        GROUP BY\n",
    "            author\n",
    "        ORDER BY\n",
    "            mean_total_rating DESC\n",
    "        LIMIT 1    \n",
    "\n",
    "        '''"
   ]
  },
  {
   "cell_type": "code",
   "execution_count": 46,
   "metadata": {},
   "outputs": [
    {
     "data": {
      "text/html": [
       "<div>\n",
       "<style scoped>\n",
       "    .dataframe tbody tr th:only-of-type {\n",
       "        vertical-align: middle;\n",
       "    }\n",
       "\n",
       "    .dataframe tbody tr th {\n",
       "        vertical-align: top;\n",
       "    }\n",
       "\n",
       "    .dataframe thead th {\n",
       "        text-align: right;\n",
       "    }\n",
       "</style>\n",
       "<table border=\"1\" class=\"dataframe\">\n",
       "  <thead>\n",
       "    <tr style=\"text-align: right;\">\n",
       "      <th></th>\n",
       "      <th>mean_total_rating</th>\n",
       "      <th>author</th>\n",
       "    </tr>\n",
       "  </thead>\n",
       "  <tbody>\n",
       "    <tr>\n",
       "      <td>0</td>\n",
       "      <td>4.283844</td>\n",
       "      <td>J.K. Rowling/Mary GrandPré</td>\n",
       "    </tr>\n",
       "  </tbody>\n",
       "</table>\n",
       "</div>"
      ],
      "text/plain": [
       "   mean_total_rating                      author\n",
       "0           4.283844  J.K. Rowling/Mary GrandPré"
      ]
     },
     "execution_count": 46,
     "metadata": {},
     "output_type": "execute_result"
    }
   ],
   "source": [
    "# Чтобы выполнить SQL-запрос, используйте Pandas\n",
    "pd.io.sql.read_sql(query, con = engine)"
   ]
  },
  {
   "cell_type": "markdown",
   "metadata": {},
   "source": [
    "СНачала мы сгруппировали по книгам и их авторам, посчитали кол-во оценок и их среднее. Далее получившийся результат сгруппировали уже только по авторам, и посчитав среднее вывели лидера: \tJ.K. Rowling/Mary GrandPré с оценкой 4.283844"
   ]
  },
  {
   "cell_type": "markdown",
   "metadata": {},
   "source": [
    "## Посчитайте среднее количество обзоров от пользователей, которые поставили больше 50 оценок"
   ]
  },
  {
   "cell_type": "code",
   "execution_count": 47,
   "metadata": {},
   "outputs": [],
   "source": [
    "query = '''        \n",
    "        SELECT\n",
    "            AVG(cnt_review) AS mean_review\n",
    "        FROM (\n",
    "            SELECT\n",
    "                COUNT(rating) AS cnt_rating,\n",
    "                ratings.username,\n",
    "                AVG(cnt_review) AS cnt_review\n",
    "            FROM\n",
    "                ratings\n",
    "                LEFT JOIN (\n",
    "                    SELECT\n",
    "                        reviews.username,\n",
    "                        COUNT(text) AS cnt_review\n",
    "                    FROM\n",
    "                        reviews    \n",
    "                    GROUP BY\n",
    "                        reviews.username\n",
    "                    ) AS SQBU ON ratings.username = SQBU.username\n",
    "            GROUP BY\n",
    "                ratings.username\n",
    "            HAVING\n",
    "                COUNT(rating) > 50\n",
    "            ) AS SQBU_2                          \n",
    "                      \n",
    "        '''"
   ]
  },
  {
   "cell_type": "code",
   "execution_count": 48,
   "metadata": {},
   "outputs": [
    {
     "data": {
      "text/html": [
       "<div>\n",
       "<style scoped>\n",
       "    .dataframe tbody tr th:only-of-type {\n",
       "        vertical-align: middle;\n",
       "    }\n",
       "\n",
       "    .dataframe tbody tr th {\n",
       "        vertical-align: top;\n",
       "    }\n",
       "\n",
       "    .dataframe thead th {\n",
       "        text-align: right;\n",
       "    }\n",
       "</style>\n",
       "<table border=\"1\" class=\"dataframe\">\n",
       "  <thead>\n",
       "    <tr style=\"text-align: right;\">\n",
       "      <th></th>\n",
       "      <th>mean_review</th>\n",
       "    </tr>\n",
       "  </thead>\n",
       "  <tbody>\n",
       "    <tr>\n",
       "      <td>0</td>\n",
       "      <td>24.333333</td>\n",
       "    </tr>\n",
       "  </tbody>\n",
       "</table>\n",
       "</div>"
      ],
      "text/plain": [
       "   mean_review\n",
       "0    24.333333"
      ]
     },
     "execution_count": 48,
     "metadata": {},
     "output_type": "execute_result"
    }
   ],
   "source": [
    "# Чтобы выполнить SQL-запрос, используйте Pandas\n",
    "pd.io.sql.read_sql(query, con = engine)"
   ]
  },
  {
   "cell_type": "markdown",
   "metadata": {},
   "source": [
    "В первом подзапросе мы сначала посчитали кол-во обзоров для каждого пользователя. Далее мы соединили с таблицей, где для каждого пользователя посчитано кол-во оценок и сделан срез более 50 и соединили таблицы. Т.к. к каждому пользователю при соединение таблиц будет добавляться кол-во сделанных им обзоров, то логично сделать среднее, а не считать строки. В конце мы это обрамляем в подзапрос и просто считаем среднее по столбцу кол-ва обзоров. В итоге получилась цифра 24.3"
   ]
  },
  {
   "cell_type": "markdown",
   "metadata": {},
   "source": [
    "<div class=\"alert alert-block alert-success\">\n",
    "    \n",
    "\n",
    "__Комментарий от ревьюера №1__\n",
    "\n",
    "1, 3, 4 и 5 запросы сделаны верно, молодец.\n",
    "</div>"
   ]
  },
  {
   "cell_type": "markdown",
   "metadata": {},
   "source": [
    "## Вывод"
   ]
  },
  {
   "cell_type": "markdown",
   "metadata": {},
   "source": [
    "- После 01.01.2000 было выпущено 819 книг.\n",
    "- Издательство, выпустившее большее кол-во книг с кол-вом страниц более 50: Penguin Books, 42 книги\n",
    "- Автор с самой высокой средней оценкой книг (более 50 оценок для книг): лидер J.K. Rowling/Mary GrandPré с оценкой 4.283844\n",
    "- Среднее кол-во обзоров от пользователей, поставивших более 50 оценок:  24.3\n",
    "\n",
    "Так же мы для каждой книги посчитали кол-во обзоров и среднюю оценку, тройка лидеров:\n",
    "\n",
    "|title |\tcnt_review |\tmean_rating|\n",
    "|------|---------------|---------------|\n",
    "|Memoirs of a Geisha |\t8 \t|4.13 |\n",
    "|Twilight (Twilight #1) |\t7 |\t3.66 |\n",
    "|Harry Potter and the Chamber of Secrets (Harry... |\t6 |\t4.28 |\n"
   ]
  },
  {
   "cell_type": "markdown",
   "metadata": {},
   "source": [
    "<div class=\"alert alert-block alert-warning\">\n",
    "    \n",
    "\n",
    "__Комментарий от ревьюера №1__\n",
    "\n",
    "Хорошо, что написал общий вывод, но его нужно будет поправить после исправления в проекте второго запроса)\n",
    "</div>"
   ]
  },
  {
   "cell_type": "markdown",
   "metadata": {},
   "source": [
    "<div class=\"alert alert-info\" style=\"border-radius: 15px; box-shadow: 4px 4px 4px; border: 1px solid \" > <font size=\"4\"><b>Комментарии студента</b></font>\n",
    "    \n",
    "Поправил\n",
    "</div>"
   ]
  },
  {
   "cell_type": "code",
   "execution_count": null,
   "metadata": {},
   "outputs": [],
   "source": []
  }
 ],
 "metadata": {
  "ExecuteTimeLog": [
   {
    "duration": 81,
    "start_time": "2021-10-26T23:21:16.989Z"
   },
   {
    "duration": 726,
    "start_time": "2021-10-26T23:21:52.478Z"
   },
   {
    "duration": 76,
    "start_time": "2021-10-26T23:22:04.119Z"
   },
   {
    "duration": 31,
    "start_time": "2021-10-26T23:22:19.089Z"
   },
   {
    "duration": 286,
    "start_time": "2021-10-26T23:23:13.940Z"
   },
   {
    "duration": 78,
    "start_time": "2021-10-26T23:25:16.199Z"
   },
   {
    "duration": 78,
    "start_time": "2021-10-26T23:25:25.006Z"
   },
   {
    "duration": 88,
    "start_time": "2021-10-26T23:30:23.789Z"
   },
   {
    "duration": 1447,
    "start_time": "2021-10-26T23:33:53.695Z"
   },
   {
    "duration": 81,
    "start_time": "2021-10-26T23:34:02.410Z"
   },
   {
    "duration": 94,
    "start_time": "2021-10-26T23:34:28.691Z"
   },
   {
    "duration": 671,
    "start_time": "2021-10-27T08:33:58.997Z"
   },
   {
    "duration": 32,
    "start_time": "2021-10-27T08:34:00.173Z"
   },
   {
    "duration": 3,
    "start_time": "2021-10-27T08:34:00.974Z"
   },
   {
    "duration": 56,
    "start_time": "2021-10-27T08:34:37.711Z"
   },
   {
    "duration": 242,
    "start_time": "2021-10-27T09:31:02.414Z"
   },
   {
    "duration": 3,
    "start_time": "2021-10-27T09:45:14.214Z"
   },
   {
    "duration": 22,
    "start_time": "2021-10-27T09:45:16.880Z"
   },
   {
    "duration": 2,
    "start_time": "2021-10-27T09:47:17.555Z"
   },
   {
    "duration": 23,
    "start_time": "2021-10-27T09:47:17.834Z"
   },
   {
    "duration": 20,
    "start_time": "2021-10-27T09:47:42.363Z"
   },
   {
    "duration": 8,
    "start_time": "2021-10-27T09:48:12.307Z"
   },
   {
    "duration": 2,
    "start_time": "2021-10-27T09:56:28.887Z"
   },
   {
    "duration": 12,
    "start_time": "2021-10-27T09:56:29.604Z"
   },
   {
    "duration": 3,
    "start_time": "2021-10-27T09:58:42.257Z"
   },
   {
    "duration": 21,
    "start_time": "2021-10-27T09:58:47.217Z"
   },
   {
    "duration": 19,
    "start_time": "2021-10-27T09:59:22.766Z"
   },
   {
    "duration": 5,
    "start_time": "2021-10-27T09:59:44.065Z"
   },
   {
    "duration": 5,
    "start_time": "2021-10-27T10:00:05.193Z"
   },
   {
    "duration": 2,
    "start_time": "2021-10-27T10:04:20.469Z"
   },
   {
    "duration": 22,
    "start_time": "2021-10-27T10:04:21.679Z"
   },
   {
    "duration": 693,
    "start_time": "2021-10-27T10:06:53.331Z"
   },
   {
    "duration": 28,
    "start_time": "2021-10-27T10:06:54.026Z"
   },
   {
    "duration": 2,
    "start_time": "2021-10-27T10:06:54.056Z"
   },
   {
    "duration": 66,
    "start_time": "2021-10-27T10:06:54.060Z"
   },
   {
    "duration": 2,
    "start_time": "2021-10-27T10:06:54.128Z"
   },
   {
    "duration": 17,
    "start_time": "2021-10-27T10:06:54.132Z"
   },
   {
    "duration": 2,
    "start_time": "2021-10-27T10:06:54.151Z"
   },
   {
    "duration": 15,
    "start_time": "2021-10-27T10:06:54.156Z"
   },
   {
    "duration": 2,
    "start_time": "2021-10-27T10:06:54.173Z"
   },
   {
    "duration": 40,
    "start_time": "2021-10-27T10:06:54.177Z"
   },
   {
    "duration": 2,
    "start_time": "2021-10-27T10:06:54.219Z"
   },
   {
    "duration": 30,
    "start_time": "2021-10-27T10:06:54.223Z"
   },
   {
    "duration": 2,
    "start_time": "2021-10-27T10:06:54.254Z"
   },
   {
    "duration": 14,
    "start_time": "2021-10-27T10:06:54.258Z"
   },
   {
    "duration": 2,
    "start_time": "2021-10-27T10:08:57.114Z"
   },
   {
    "duration": 17,
    "start_time": "2021-10-27T10:08:57.118Z"
   },
   {
    "duration": 3,
    "start_time": "2021-10-27T10:12:28.027Z"
   },
   {
    "duration": 16,
    "start_time": "2021-10-27T10:12:28.868Z"
   },
   {
    "duration": 3,
    "start_time": "2021-10-27T10:12:37.724Z"
   },
   {
    "duration": 12,
    "start_time": "2021-10-27T10:12:38.300Z"
   },
   {
    "duration": 3,
    "start_time": "2021-10-27T10:13:01.772Z"
   },
   {
    "duration": 14,
    "start_time": "2021-10-27T10:13:05.086Z"
   },
   {
    "duration": 3,
    "start_time": "2021-10-27T10:13:51.947Z"
   },
   {
    "duration": 21,
    "start_time": "2021-10-27T10:13:51.952Z"
   },
   {
    "duration": 2,
    "start_time": "2021-10-27T10:33:20.101Z"
   },
   {
    "duration": 90,
    "start_time": "2021-10-27T10:33:27.116Z"
   },
   {
    "duration": 2,
    "start_time": "2021-10-27T10:40:48.464Z"
   },
   {
    "duration": 22,
    "start_time": "2021-10-27T10:40:49.023Z"
   },
   {
    "duration": 3,
    "start_time": "2021-10-27T10:43:36.982Z"
   },
   {
    "duration": 448,
    "start_time": "2021-10-27T10:43:42.799Z"
   },
   {
    "duration": 2,
    "start_time": "2021-10-27T10:44:49.331Z"
   },
   {
    "duration": 376,
    "start_time": "2021-10-27T10:44:49.995Z"
   },
   {
    "duration": 3,
    "start_time": "2021-10-27T10:45:21.768Z"
   },
   {
    "duration": 517,
    "start_time": "2021-10-27T10:45:22.419Z"
   },
   {
    "duration": 3,
    "start_time": "2021-10-27T10:48:11.311Z"
   },
   {
    "duration": 378,
    "start_time": "2021-10-27T10:48:11.858Z"
   },
   {
    "duration": 3,
    "start_time": "2021-10-27T10:48:29.390Z"
   },
   {
    "duration": 13,
    "start_time": "2021-10-27T10:48:29.995Z"
   },
   {
    "duration": 2,
    "start_time": "2021-10-27T10:48:58.608Z"
   },
   {
    "duration": 14,
    "start_time": "2021-10-27T10:49:00.980Z"
   },
   {
    "duration": 3,
    "start_time": "2021-10-27T10:49:57.602Z"
   },
   {
    "duration": 17,
    "start_time": "2021-10-27T10:49:57.607Z"
   },
   {
    "duration": 3,
    "start_time": "2021-10-27T10:51:22.752Z"
   },
   {
    "duration": 378,
    "start_time": "2021-10-27T10:51:22.815Z"
   },
   {
    "duration": 2,
    "start_time": "2021-10-27T10:51:44.565Z"
   },
   {
    "duration": 16,
    "start_time": "2021-10-27T10:51:45.041Z"
   },
   {
    "duration": 3,
    "start_time": "2021-10-27T10:51:51.385Z"
   },
   {
    "duration": 14,
    "start_time": "2021-10-27T10:51:51.390Z"
   },
   {
    "duration": 3,
    "start_time": "2021-10-27T11:13:35.773Z"
   },
   {
    "duration": 421,
    "start_time": "2021-10-27T11:13:36.166Z"
   },
   {
    "duration": 3,
    "start_time": "2021-10-27T11:15:44.732Z"
   },
   {
    "duration": 478,
    "start_time": "2021-10-27T11:15:45.343Z"
   },
   {
    "duration": 3,
    "start_time": "2021-10-27T11:16:05.246Z"
   },
   {
    "duration": 386,
    "start_time": "2021-10-27T11:16:05.870Z"
   },
   {
    "duration": 3,
    "start_time": "2021-10-27T11:19:19.022Z"
   },
   {
    "duration": 381,
    "start_time": "2021-10-27T11:19:19.610Z"
   },
   {
    "duration": 3,
    "start_time": "2021-10-27T11:19:32.071Z"
   },
   {
    "duration": 373,
    "start_time": "2021-10-27T11:19:34.769Z"
   },
   {
    "duration": 3,
    "start_time": "2021-10-27T11:19:57.877Z"
   },
   {
    "duration": 377,
    "start_time": "2021-10-27T11:19:59.486Z"
   },
   {
    "duration": 2,
    "start_time": "2021-10-27T11:20:24.278Z"
   },
   {
    "duration": 390,
    "start_time": "2021-10-27T11:20:24.777Z"
   },
   {
    "duration": 2,
    "start_time": "2021-10-27T11:20:47.226Z"
   },
   {
    "duration": 401,
    "start_time": "2021-10-27T11:20:49.887Z"
   },
   {
    "duration": 2,
    "start_time": "2021-10-27T11:21:06.623Z"
   },
   {
    "duration": 786,
    "start_time": "2021-10-27T20:20:59.361Z"
   },
   {
    "duration": 37,
    "start_time": "2021-10-27T20:21:00.150Z"
   },
   {
    "duration": 3,
    "start_time": "2021-10-27T20:21:00.190Z"
   },
   {
    "duration": 295,
    "start_time": "2021-10-27T20:21:00.196Z"
   },
   {
    "duration": 3,
    "start_time": "2021-10-27T20:21:00.494Z"
   },
   {
    "duration": 84,
    "start_time": "2021-10-27T20:21:00.499Z"
   },
   {
    "duration": 4,
    "start_time": "2021-10-27T20:21:00.586Z"
   },
   {
    "duration": 98,
    "start_time": "2021-10-27T20:21:00.593Z"
   },
   {
    "duration": 4,
    "start_time": "2021-10-27T20:21:00.695Z"
   },
   {
    "duration": 103,
    "start_time": "2021-10-27T20:21:00.702Z"
   },
   {
    "duration": 3,
    "start_time": "2021-10-27T20:21:00.807Z"
   },
   {
    "duration": 139,
    "start_time": "2021-10-27T20:21:00.813Z"
   },
   {
    "duration": 3,
    "start_time": "2021-10-27T20:21:00.954Z"
   },
   {
    "duration": 106,
    "start_time": "2021-10-27T20:21:00.960Z"
   },
   {
    "duration": 4,
    "start_time": "2021-10-27T20:21:01.068Z"
   },
   {
    "duration": 87,
    "start_time": "2021-10-27T20:21:01.074Z"
   },
   {
    "duration": 3,
    "start_time": "2021-10-27T20:21:01.164Z"
   },
   {
    "duration": 100,
    "start_time": "2021-10-27T20:21:01.170Z"
   },
   {
    "duration": 3,
    "start_time": "2021-10-27T20:21:01.273Z"
   },
   {
    "duration": 119,
    "start_time": "2021-10-27T20:21:01.279Z"
   },
   {
    "duration": 3,
    "start_time": "2021-10-27T20:29:41.377Z"
   },
   {
    "duration": 458,
    "start_time": "2021-10-27T20:29:42.005Z"
   },
   {
    "duration": 4,
    "start_time": "2021-10-27T20:30:13.691Z"
   },
   {
    "duration": 355,
    "start_time": "2021-10-27T20:30:14.187Z"
   },
   {
    "duration": 3,
    "start_time": "2021-10-27T20:56:39.377Z"
   },
   {
    "duration": 408,
    "start_time": "2021-10-27T20:56:39.383Z"
   },
   {
    "duration": 3,
    "start_time": "2021-10-27T20:57:07.974Z"
   },
   {
    "duration": 360,
    "start_time": "2021-10-27T20:57:07.980Z"
   },
   {
    "duration": 3,
    "start_time": "2021-10-27T20:57:43.766Z"
   },
   {
    "duration": 139,
    "start_time": "2021-10-27T20:57:43.939Z"
   },
   {
    "duration": 3,
    "start_time": "2021-10-27T20:59:17.639Z"
   },
   {
    "duration": 351,
    "start_time": "2021-10-27T20:59:18.062Z"
   },
   {
    "duration": 4,
    "start_time": "2021-10-27T20:59:38.075Z"
   },
   {
    "duration": 374,
    "start_time": "2021-10-27T20:59:38.391Z"
   },
   {
    "duration": 3,
    "start_time": "2021-10-27T20:59:58.388Z"
   },
   {
    "duration": 367,
    "start_time": "2021-10-27T20:59:58.393Z"
   },
   {
    "duration": 4,
    "start_time": "2021-10-27T21:00:27.153Z"
   },
   {
    "duration": 93,
    "start_time": "2021-10-27T21:00:27.482Z"
   },
   {
    "duration": 4,
    "start_time": "2021-10-27T21:01:11.263Z"
   },
   {
    "duration": 358,
    "start_time": "2021-10-27T21:01:11.754Z"
   },
   {
    "duration": 3,
    "start_time": "2021-10-27T21:01:33.082Z"
   },
   {
    "duration": 91,
    "start_time": "2021-10-27T21:01:33.545Z"
   },
   {
    "duration": 3,
    "start_time": "2021-10-27T21:17:01.882Z"
   },
   {
    "duration": 394,
    "start_time": "2021-10-27T21:17:01.887Z"
   },
   {
    "duration": 4,
    "start_time": "2021-10-27T21:18:48.512Z"
   },
   {
    "duration": 360,
    "start_time": "2021-10-27T21:18:48.520Z"
   },
   {
    "duration": 4,
    "start_time": "2021-10-27T21:19:18.942Z"
   },
   {
    "duration": 347,
    "start_time": "2021-10-27T21:19:19.423Z"
   },
   {
    "duration": 3,
    "start_time": "2021-10-27T21:20:52.255Z"
   },
   {
    "duration": 102,
    "start_time": "2021-10-27T21:20:58.398Z"
   },
   {
    "duration": 4,
    "start_time": "2021-10-27T21:21:32.419Z"
   },
   {
    "duration": 91,
    "start_time": "2021-10-27T21:21:32.791Z"
   },
   {
    "duration": 4,
    "start_time": "2021-10-27T21:24:58.199Z"
   },
   {
    "duration": 346,
    "start_time": "2021-10-27T21:24:58.744Z"
   },
   {
    "duration": 4,
    "start_time": "2021-10-27T21:25:13.226Z"
   },
   {
    "duration": 356,
    "start_time": "2021-10-27T21:25:13.975Z"
   },
   {
    "duration": 3,
    "start_time": "2021-10-27T21:34:25.383Z"
   },
   {
    "duration": 368,
    "start_time": "2021-10-27T21:34:25.968Z"
   },
   {
    "duration": 4,
    "start_time": "2021-10-27T21:36:17.702Z"
   },
   {
    "duration": 393,
    "start_time": "2021-10-27T21:36:17.710Z"
   },
   {
    "duration": 4,
    "start_time": "2021-10-27T21:38:15.347Z"
   },
   {
    "duration": 105,
    "start_time": "2021-10-27T21:38:15.801Z"
   },
   {
    "duration": 3,
    "start_time": "2021-10-27T21:38:47.142Z"
   },
   {
    "duration": 113,
    "start_time": "2021-10-27T21:38:47.148Z"
   },
   {
    "duration": 4,
    "start_time": "2021-10-27T21:44:53.964Z"
   },
   {
    "duration": 362,
    "start_time": "2021-10-27T21:44:54.686Z"
   },
   {
    "duration": 4,
    "start_time": "2021-10-27T21:45:51.667Z"
   },
   {
    "duration": 574,
    "start_time": "2021-10-27T21:45:52.237Z"
   },
   {
    "duration": 3,
    "start_time": "2021-10-27T21:47:21.285Z"
   },
   {
    "duration": 115,
    "start_time": "2021-10-27T21:47:22.012Z"
   },
   {
    "duration": 3,
    "start_time": "2021-10-27T21:47:53.295Z"
   },
   {
    "duration": 129,
    "start_time": "2021-10-27T21:47:53.302Z"
   },
   {
    "duration": 4,
    "start_time": "2021-10-27T21:48:00.447Z"
   },
   {
    "duration": 126,
    "start_time": "2021-10-27T21:48:00.455Z"
   },
   {
    "duration": 3,
    "start_time": "2021-10-27T21:51:26.254Z"
   },
   {
    "duration": 114,
    "start_time": "2021-10-27T21:51:30.752Z"
   },
   {
    "duration": 3,
    "start_time": "2021-10-27T21:54:04.246Z"
   },
   {
    "duration": 138,
    "start_time": "2021-10-27T21:54:04.695Z"
   },
   {
    "duration": 4,
    "start_time": "2021-10-27T21:54:59.273Z"
   },
   {
    "duration": 128,
    "start_time": "2021-10-27T21:55:00.089Z"
   },
   {
    "duration": 3,
    "start_time": "2021-10-27T21:55:08.591Z"
   },
   {
    "duration": 102,
    "start_time": "2021-10-27T21:55:09.217Z"
   },
   {
    "duration": 4,
    "start_time": "2021-10-27T21:55:14.514Z"
   },
   {
    "duration": 128,
    "start_time": "2021-10-27T21:55:15.219Z"
   },
   {
    "duration": 4,
    "start_time": "2021-10-27T21:57:33.463Z"
   },
   {
    "duration": 798,
    "start_time": "2021-10-27T21:57:33.470Z"
   },
   {
    "duration": 3,
    "start_time": "2021-10-27T21:59:28.013Z"
   },
   {
    "duration": 403,
    "start_time": "2021-10-27T21:59:28.468Z"
   },
   {
    "duration": 4,
    "start_time": "2021-10-27T21:59:54.284Z"
   },
   {
    "duration": 400,
    "start_time": "2021-10-27T21:59:54.830Z"
   },
   {
    "duration": 4,
    "start_time": "2021-10-27T22:00:03.563Z"
   },
   {
    "duration": 420,
    "start_time": "2021-10-27T22:00:03.569Z"
   },
   {
    "duration": 3,
    "start_time": "2021-10-27T22:00:14.729Z"
   },
   {
    "duration": 84,
    "start_time": "2021-10-27T22:00:15.250Z"
   },
   {
    "duration": 3,
    "start_time": "2021-10-27T22:00:32.046Z"
   },
   {
    "duration": 389,
    "start_time": "2021-10-27T22:00:32.591Z"
   },
   {
    "duration": 3,
    "start_time": "2021-10-27T22:02:51.288Z"
   },
   {
    "duration": 440,
    "start_time": "2021-10-27T22:02:51.863Z"
   },
   {
    "duration": 4,
    "start_time": "2021-10-27T22:05:08.072Z"
   },
   {
    "duration": 503,
    "start_time": "2021-10-27T22:05:08.582Z"
   },
   {
    "duration": 3,
    "start_time": "2021-10-27T22:05:19.631Z"
   },
   {
    "duration": 361,
    "start_time": "2021-10-27T22:05:20.186Z"
   },
   {
    "duration": 3,
    "start_time": "2021-10-27T22:05:27.888Z"
   },
   {
    "duration": 1013,
    "start_time": "2021-10-27T22:05:28.405Z"
   },
   {
    "duration": 3,
    "start_time": "2021-10-27T22:06:57.185Z"
   },
   {
    "duration": 81,
    "start_time": "2021-10-27T22:06:57.450Z"
   },
   {
    "duration": 3,
    "start_time": "2021-10-27T22:10:02.159Z"
   },
   {
    "duration": 372,
    "start_time": "2021-10-27T22:10:02.683Z"
   },
   {
    "duration": 4,
    "start_time": "2021-10-27T22:10:17.659Z"
   },
   {
    "duration": 81,
    "start_time": "2021-10-27T22:10:18.023Z"
   },
   {
    "duration": 4,
    "start_time": "2021-10-27T22:11:11.716Z"
   },
   {
    "duration": 81,
    "start_time": "2021-10-27T22:11:12.245Z"
   },
   {
    "duration": 3,
    "start_time": "2021-10-27T22:11:36.840Z"
   },
   {
    "duration": 730,
    "start_time": "2021-10-27T22:11:37.176Z"
   },
   {
    "duration": 4,
    "start_time": "2021-10-27T22:17:28.169Z"
   },
   {
    "duration": 81,
    "start_time": "2021-10-27T22:17:31.741Z"
   },
   {
    "duration": 3,
    "start_time": "2021-10-27T22:19:55.078Z"
   },
   {
    "duration": 356,
    "start_time": "2021-10-27T22:19:55.084Z"
   },
   {
    "duration": 3,
    "start_time": "2021-10-27T22:23:28.245Z"
   },
   {
    "duration": 366,
    "start_time": "2021-10-27T22:23:29.331Z"
   },
   {
    "duration": 3,
    "start_time": "2021-10-27T22:23:31.601Z"
   },
   {
    "duration": 76,
    "start_time": "2021-10-27T22:23:32.252Z"
   },
   {
    "duration": 4,
    "start_time": "2021-10-27T22:23:46.318Z"
   },
   {
    "duration": 363,
    "start_time": "2021-10-27T22:23:46.933Z"
   },
   {
    "duration": 4,
    "start_time": "2021-10-27T22:24:04.465Z"
   },
   {
    "duration": 367,
    "start_time": "2021-10-27T22:24:06.766Z"
   },
   {
    "duration": 4,
    "start_time": "2021-10-27T22:24:24.790Z"
   },
   {
    "duration": 373,
    "start_time": "2021-10-27T22:24:25.162Z"
   },
   {
    "duration": 3,
    "start_time": "2021-10-27T22:25:46.246Z"
   },
   {
    "duration": 75,
    "start_time": "2021-10-27T22:25:46.622Z"
   },
   {
    "duration": 3,
    "start_time": "2021-10-27T22:27:18.479Z"
   },
   {
    "duration": 392,
    "start_time": "2021-10-27T22:27:18.485Z"
   },
   {
    "duration": 3,
    "start_time": "2021-10-27T22:27:54.776Z"
   },
   {
    "duration": 81,
    "start_time": "2021-10-27T22:27:55.030Z"
   },
   {
    "duration": 4,
    "start_time": "2021-10-27T22:29:15.955Z"
   },
   {
    "duration": 368,
    "start_time": "2021-10-27T22:29:16.612Z"
   },
   {
    "duration": 4,
    "start_time": "2021-10-27T22:29:24.335Z"
   },
   {
    "duration": 367,
    "start_time": "2021-10-27T22:29:24.344Z"
   },
   {
    "duration": 3,
    "start_time": "2021-10-27T22:30:32.622Z"
   },
   {
    "duration": 84,
    "start_time": "2021-10-27T22:30:32.899Z"
   },
   {
    "duration": 4,
    "start_time": "2021-10-27T22:30:42.707Z"
   },
   {
    "duration": 76,
    "start_time": "2021-10-27T22:30:42.870Z"
   },
   {
    "duration": 4,
    "start_time": "2021-10-27T22:34:26.655Z"
   },
   {
    "duration": 369,
    "start_time": "2021-10-27T22:34:27.186Z"
   },
   {
    "duration": 4,
    "start_time": "2021-10-27T22:38:50.618Z"
   },
   {
    "duration": 367,
    "start_time": "2021-10-27T22:38:51.131Z"
   },
   {
    "duration": 3,
    "start_time": "2021-10-27T22:39:33.555Z"
   },
   {
    "duration": 80,
    "start_time": "2021-10-27T22:39:33.561Z"
   },
   {
    "duration": 4,
    "start_time": "2021-10-27T22:40:14.279Z"
   },
   {
    "duration": 82,
    "start_time": "2021-10-27T22:40:14.288Z"
   },
   {
    "duration": 4,
    "start_time": "2021-10-27T22:40:21.456Z"
   },
   {
    "duration": 81,
    "start_time": "2021-10-27T22:40:21.466Z"
   },
   {
    "duration": 3,
    "start_time": "2021-10-27T22:47:09.277Z"
   },
   {
    "duration": 198,
    "start_time": "2021-10-27T22:47:09.498Z"
   },
   {
    "duration": 4,
    "start_time": "2021-10-27T22:49:04.977Z"
   },
   {
    "duration": 382,
    "start_time": "2021-10-27T22:49:04.984Z"
   },
   {
    "duration": 4,
    "start_time": "2021-10-27T22:49:40.561Z"
   },
   {
    "duration": 357,
    "start_time": "2021-10-27T22:49:40.567Z"
   },
   {
    "duration": 4,
    "start_time": "2021-10-27T22:50:58.704Z"
   },
   {
    "duration": 368,
    "start_time": "2021-10-27T22:50:58.710Z"
   },
   {
    "duration": 3,
    "start_time": "2021-10-27T22:51:10.796Z"
   },
   {
    "duration": 194,
    "start_time": "2021-10-27T22:51:12.960Z"
   },
   {
    "duration": 4,
    "start_time": "2021-10-27T22:52:09.661Z"
   },
   {
    "duration": 201,
    "start_time": "2021-10-27T22:52:09.667Z"
   },
   {
    "duration": 4,
    "start_time": "2021-10-27T22:55:01.770Z"
   },
   {
    "duration": 366,
    "start_time": "2021-10-27T22:55:02.295Z"
   },
   {
    "duration": 3,
    "start_time": "2021-10-27T22:57:02.157Z"
   },
   {
    "duration": 116,
    "start_time": "2021-10-27T22:57:02.163Z"
   },
   {
    "duration": 4,
    "start_time": "2021-10-27T22:57:34.755Z"
   },
   {
    "duration": 498,
    "start_time": "2021-10-27T22:57:35.280Z"
   },
   {
    "duration": 3,
    "start_time": "2021-10-27T22:58:03.465Z"
   },
   {
    "duration": 106,
    "start_time": "2021-10-27T22:58:06.312Z"
   },
   {
    "duration": 4,
    "start_time": "2021-10-27T22:59:52.844Z"
   },
   {
    "duration": 381,
    "start_time": "2021-10-27T22:59:52.850Z"
   },
   {
    "duration": 3,
    "start_time": "2021-10-27T23:00:09.060Z"
   },
   {
    "duration": 368,
    "start_time": "2021-10-27T23:00:10.952Z"
   },
   {
    "duration": 3,
    "start_time": "2021-10-27T23:00:58.274Z"
   },
   {
    "duration": 106,
    "start_time": "2021-10-27T23:00:58.680Z"
   },
   {
    "duration": 4,
    "start_time": "2021-10-27T23:03:25.938Z"
   },
   {
    "duration": 375,
    "start_time": "2021-10-27T23:03:26.363Z"
   },
   {
    "duration": 4,
    "start_time": "2021-10-28T07:59:31.626Z"
   },
   {
    "duration": 604,
    "start_time": "2021-10-28T07:59:37.680Z"
   },
   {
    "duration": 29,
    "start_time": "2021-10-28T07:59:38.285Z"
   },
   {
    "duration": 2,
    "start_time": "2021-10-28T07:59:38.318Z"
   },
   {
    "duration": 233,
    "start_time": "2021-10-28T07:59:38.321Z"
   },
   {
    "duration": 3,
    "start_time": "2021-10-28T07:59:38.555Z"
   },
   {
    "duration": 70,
    "start_time": "2021-10-28T07:59:38.559Z"
   },
   {
    "duration": 2,
    "start_time": "2021-10-28T07:59:38.631Z"
   },
   {
    "duration": 79,
    "start_time": "2021-10-28T07:59:38.635Z"
   },
   {
    "duration": 2,
    "start_time": "2021-10-28T07:59:38.715Z"
   },
   {
    "duration": 68,
    "start_time": "2021-10-28T07:59:38.719Z"
   },
   {
    "duration": 2,
    "start_time": "2021-10-28T07:59:38.788Z"
   },
   {
    "duration": 105,
    "start_time": "2021-10-28T07:59:38.792Z"
   },
   {
    "duration": 2,
    "start_time": "2021-10-28T07:59:38.898Z"
   },
   {
    "duration": 83,
    "start_time": "2021-10-28T07:59:38.901Z"
   },
   {
    "duration": 2,
    "start_time": "2021-10-28T07:59:38.985Z"
   },
   {
    "duration": 67,
    "start_time": "2021-10-28T07:59:38.989Z"
   },
   {
    "duration": 2,
    "start_time": "2021-10-28T07:59:39.057Z"
   },
   {
    "duration": 84,
    "start_time": "2021-10-28T07:59:39.060Z"
   },
   {
    "duration": 2,
    "start_time": "2021-10-28T07:59:39.145Z"
   },
   {
    "duration": 67,
    "start_time": "2021-10-28T07:59:39.148Z"
   },
   {
    "duration": 2,
    "start_time": "2021-10-28T07:59:39.216Z"
   },
   {
    "duration": 297,
    "start_time": "2021-10-28T07:59:39.220Z"
   },
   {
    "duration": 2,
    "start_time": "2021-10-28T08:00:26.832Z"
   },
   {
    "duration": 81,
    "start_time": "2021-10-28T08:00:29.171Z"
   },
   {
    "duration": 2,
    "start_time": "2021-10-28T08:02:19.702Z"
   },
   {
    "duration": 233,
    "start_time": "2021-10-28T08:02:20.010Z"
   },
   {
    "duration": 3,
    "start_time": "2021-10-28T08:02:33.442Z"
   },
   {
    "duration": 73,
    "start_time": "2021-10-28T08:02:33.450Z"
   },
   {
    "duration": 2,
    "start_time": "2021-10-28T08:02:42.712Z"
   },
   {
    "duration": 67,
    "start_time": "2021-10-28T08:02:43.104Z"
   },
   {
    "duration": 3,
    "start_time": "2021-10-28T08:02:48.828Z"
   },
   {
    "duration": 2,
    "start_time": "2021-10-28T08:02:54.837Z"
   },
   {
    "duration": 68,
    "start_time": "2021-10-28T08:03:01.944Z"
   },
   {
    "duration": 3,
    "start_time": "2021-10-28T08:03:09.049Z"
   },
   {
    "duration": 75,
    "start_time": "2021-10-28T08:03:09.053Z"
   },
   {
    "duration": 3,
    "start_time": "2021-10-28T08:03:44.468Z"
   },
   {
    "duration": 75,
    "start_time": "2021-10-28T08:03:44.472Z"
   },
   {
    "duration": 2,
    "start_time": "2021-10-28T08:03:59.529Z"
   },
   {
    "duration": 69,
    "start_time": "2021-10-28T08:03:59.982Z"
   },
   {
    "duration": 3,
    "start_time": "2021-10-28T08:04:35.636Z"
   },
   {
    "duration": 72,
    "start_time": "2021-10-28T08:04:35.993Z"
   },
   {
    "duration": 2,
    "start_time": "2021-10-28T08:04:48.582Z"
   },
   {
    "duration": 70,
    "start_time": "2021-10-28T08:04:48.758Z"
   },
   {
    "duration": 3,
    "start_time": "2021-10-28T08:04:55.719Z"
   },
   {
    "duration": 70,
    "start_time": "2021-10-28T08:04:55.723Z"
   },
   {
    "duration": 4,
    "start_time": "2021-10-28T08:05:01.334Z"
   },
   {
    "duration": 72,
    "start_time": "2021-10-28T08:05:01.672Z"
   },
   {
    "duration": 3,
    "start_time": "2021-10-28T08:05:08.064Z"
   },
   {
    "duration": 68,
    "start_time": "2021-10-28T08:05:08.398Z"
   },
   {
    "duration": 2,
    "start_time": "2021-10-28T08:06:41.998Z"
   },
   {
    "duration": 248,
    "start_time": "2021-10-28T08:06:42.283Z"
   },
   {
    "duration": 3,
    "start_time": "2021-10-28T08:06:58.420Z"
   },
   {
    "duration": 68,
    "start_time": "2021-10-28T08:06:59.034Z"
   },
   {
    "duration": 3,
    "start_time": "2021-10-28T08:07:37.027Z"
   },
   {
    "duration": 288,
    "start_time": "2021-10-28T08:07:37.353Z"
   },
   {
    "duration": 3,
    "start_time": "2021-10-28T08:07:51.892Z"
   },
   {
    "duration": 69,
    "start_time": "2021-10-28T08:07:52.251Z"
   },
   {
    "duration": 2,
    "start_time": "2021-10-28T08:09:58.978Z"
   },
   {
    "duration": 255,
    "start_time": "2021-10-28T08:09:58.982Z"
   },
   {
    "duration": 3,
    "start_time": "2021-10-28T08:10:42.327Z"
   },
   {
    "duration": 242,
    "start_time": "2021-10-28T08:10:42.669Z"
   },
   {
    "duration": 2,
    "start_time": "2021-10-28T08:10:50.392Z"
   },
   {
    "duration": 68,
    "start_time": "2021-10-28T08:10:50.700Z"
   },
   {
    "duration": 3,
    "start_time": "2021-10-28T08:12:19.289Z"
   },
   {
    "duration": 72,
    "start_time": "2021-10-28T08:12:19.294Z"
   },
   {
    "duration": 2,
    "start_time": "2021-10-28T08:12:28.933Z"
   },
   {
    "duration": 73,
    "start_time": "2021-10-28T08:12:29.225Z"
   },
   {
    "duration": 3,
    "start_time": "2021-10-28T08:12:40.655Z"
   },
   {
    "duration": 67,
    "start_time": "2021-10-28T08:12:41.806Z"
   },
   {
    "duration": 3,
    "start_time": "2021-10-28T08:13:03.363Z"
   },
   {
    "duration": 69,
    "start_time": "2021-10-28T08:13:04.012Z"
   },
   {
    "duration": 3,
    "start_time": "2021-10-28T08:13:15.568Z"
   },
   {
    "duration": 71,
    "start_time": "2021-10-28T08:13:15.928Z"
   },
   {
    "duration": 2,
    "start_time": "2021-10-28T08:13:34.970Z"
   },
   {
    "duration": 70,
    "start_time": "2021-10-28T08:13:35.049Z"
   },
   {
    "duration": 2,
    "start_time": "2021-10-28T08:16:06.105Z"
   },
   {
    "duration": 513,
    "start_time": "2021-10-28T08:16:06.737Z"
   },
   {
    "duration": 3,
    "start_time": "2021-10-28T08:22:04.945Z"
   },
   {
    "duration": 1140,
    "start_time": "2021-10-28T08:22:05.216Z"
   },
   {
    "duration": 2,
    "start_time": "2021-10-28T08:22:36.303Z"
   },
   {
    "duration": 238,
    "start_time": "2021-10-28T08:22:36.307Z"
   },
   {
    "duration": 3,
    "start_time": "2021-10-28T08:23:48.067Z"
   },
   {
    "duration": 70,
    "start_time": "2021-10-28T08:23:48.302Z"
   },
   {
    "duration": 3,
    "start_time": "2021-10-28T08:26:30.767Z"
   },
   {
    "duration": 83,
    "start_time": "2021-10-28T08:26:37.388Z"
   },
   {
    "duration": 3,
    "start_time": "2021-10-28T08:27:18.409Z"
   },
   {
    "duration": 231,
    "start_time": "2021-10-28T08:27:18.417Z"
   },
   {
    "duration": 2,
    "start_time": "2021-10-28T08:27:54.665Z"
   },
   {
    "duration": 265,
    "start_time": "2021-10-28T08:27:58.080Z"
   },
   {
    "duration": 3,
    "start_time": "2021-10-28T08:28:18.598Z"
   },
   {
    "duration": 70,
    "start_time": "2021-10-28T08:28:19.203Z"
   },
   {
    "duration": 2,
    "start_time": "2021-10-28T08:29:41.934Z"
   },
   {
    "duration": 73,
    "start_time": "2021-10-28T08:29:43.263Z"
   },
   {
    "duration": 2,
    "start_time": "2021-10-28T08:29:52.404Z"
   },
   {
    "duration": 251,
    "start_time": "2021-10-28T08:29:52.765Z"
   },
   {
    "duration": 3,
    "start_time": "2021-10-28T08:30:25.652Z"
   },
   {
    "duration": 73,
    "start_time": "2021-10-28T08:30:25.992Z"
   },
   {
    "duration": 3,
    "start_time": "2021-10-28T08:31:08.571Z"
   },
   {
    "duration": 354,
    "start_time": "2021-10-28T08:31:08.937Z"
   },
   {
    "duration": 3,
    "start_time": "2021-10-28T08:40:51.073Z"
   },
   {
    "duration": 71,
    "start_time": "2021-10-28T08:40:51.366Z"
   },
   {
    "duration": 2,
    "start_time": "2021-10-28T08:43:17.083Z"
   },
   {
    "duration": 255,
    "start_time": "2021-10-28T08:43:17.406Z"
   },
   {
    "duration": 2,
    "start_time": "2021-10-28T08:43:36.335Z"
   },
   {
    "duration": 239,
    "start_time": "2021-10-28T08:43:37.020Z"
   },
   {
    "duration": 3,
    "start_time": "2021-10-28T08:43:53.410Z"
   },
   {
    "duration": 69,
    "start_time": "2021-10-28T08:43:53.538Z"
   },
   {
    "duration": 2,
    "start_time": "2021-10-28T08:46:39.965Z"
   },
   {
    "duration": 229,
    "start_time": "2021-10-28T08:46:40.264Z"
   },
   {
    "duration": 3,
    "start_time": "2021-10-28T08:46:59.983Z"
   },
   {
    "duration": 70,
    "start_time": "2021-10-28T08:47:00.265Z"
   },
   {
    "duration": 2,
    "start_time": "2021-10-28T08:47:56.137Z"
   },
   {
    "duration": 70,
    "start_time": "2021-10-28T08:47:56.381Z"
   },
   {
    "duration": 2,
    "start_time": "2021-10-28T08:48:01.913Z"
   },
   {
    "duration": 68,
    "start_time": "2021-10-28T08:48:03.856Z"
   },
   {
    "duration": 3,
    "start_time": "2021-10-28T08:48:18.510Z"
   },
   {
    "duration": 68,
    "start_time": "2021-10-28T08:48:19.027Z"
   },
   {
    "duration": 3,
    "start_time": "2021-10-28T08:53:05.414Z"
   },
   {
    "duration": 545,
    "start_time": "2021-10-28T08:53:05.419Z"
   },
   {
    "duration": 3,
    "start_time": "2021-10-28T08:53:19.438Z"
   },
   {
    "duration": 305,
    "start_time": "2021-10-28T08:53:19.591Z"
   },
   {
    "duration": 2,
    "start_time": "2021-10-28T08:59:13.785Z"
   },
   {
    "duration": 237,
    "start_time": "2021-10-28T08:59:13.789Z"
   },
   {
    "duration": 2,
    "start_time": "2021-10-28T08:59:38.304Z"
   },
   {
    "duration": 290,
    "start_time": "2021-10-28T08:59:38.626Z"
   },
   {
    "duration": 2,
    "start_time": "2021-10-28T09:03:53.949Z"
   },
   {
    "duration": 386,
    "start_time": "2021-10-28T09:03:53.953Z"
   },
   {
    "duration": 3,
    "start_time": "2021-10-28T09:05:19.380Z"
   },
   {
    "duration": 276,
    "start_time": "2021-10-28T09:05:19.944Z"
   },
   {
    "duration": 3,
    "start_time": "2021-10-28T09:06:37.465Z"
   },
   {
    "duration": 270,
    "start_time": "2021-10-28T09:06:37.805Z"
   },
   {
    "duration": 3,
    "start_time": "2021-10-28T09:06:58.696Z"
   },
   {
    "duration": 252,
    "start_time": "2021-10-28T09:06:58.701Z"
   },
   {
    "duration": 3,
    "start_time": "2021-10-28T09:07:50.048Z"
   },
   {
    "duration": 242,
    "start_time": "2021-10-28T09:07:50.382Z"
   },
   {
    "duration": 3,
    "start_time": "2021-10-28T09:08:35.879Z"
   },
   {
    "duration": 279,
    "start_time": "2021-10-28T09:08:35.884Z"
   },
   {
    "duration": 3,
    "start_time": "2021-10-28T09:09:28.798Z"
   },
   {
    "duration": 116,
    "start_time": "2021-10-28T09:09:29.228Z"
   },
   {
    "duration": 3,
    "start_time": "2021-10-28T09:15:41.165Z"
   },
   {
    "duration": 115,
    "start_time": "2021-10-28T09:15:41.169Z"
   },
   {
    "duration": 3,
    "start_time": "2021-10-28T09:17:39.073Z"
   },
   {
    "duration": 68,
    "start_time": "2021-10-28T09:17:39.612Z"
   },
   {
    "duration": 2,
    "start_time": "2021-10-28T09:18:10.682Z"
   },
   {
    "duration": 113,
    "start_time": "2021-10-28T09:18:11.527Z"
   },
   {
    "duration": 3,
    "start_time": "2021-10-28T09:19:34.532Z"
   },
   {
    "duration": 67,
    "start_time": "2021-10-28T09:19:34.798Z"
   },
   {
    "duration": 2,
    "start_time": "2021-10-28T09:20:00.835Z"
   },
   {
    "duration": 85,
    "start_time": "2021-10-28T09:20:00.839Z"
   },
   {
    "duration": 3,
    "start_time": "2021-10-28T09:21:52.499Z"
   },
   {
    "duration": 108,
    "start_time": "2021-10-28T09:22:00.033Z"
   },
   {
    "duration": 2,
    "start_time": "2021-10-28T09:24:23.264Z"
   },
   {
    "duration": 64,
    "start_time": "2021-10-28T09:24:23.542Z"
   },
   {
    "duration": 2,
    "start_time": "2021-10-28T09:24:36.328Z"
   },
   {
    "duration": 66,
    "start_time": "2021-10-28T09:24:36.681Z"
   },
   {
    "duration": 2,
    "start_time": "2021-10-28T09:25:27.084Z"
   },
   {
    "duration": 253,
    "start_time": "2021-10-28T09:25:27.446Z"
   },
   {
    "duration": 2,
    "start_time": "2021-10-28T09:25:41.055Z"
   },
   {
    "duration": 2,
    "start_time": "2021-10-28T09:25:50.260Z"
   },
   {
    "duration": 68,
    "start_time": "2021-10-28T09:25:50.583Z"
   },
   {
    "duration": 2,
    "start_time": "2021-10-28T09:28:23.017Z"
   },
   {
    "duration": 73,
    "start_time": "2021-10-28T09:28:23.022Z"
   },
   {
    "duration": 4,
    "start_time": "2021-10-28T09:29:41.119Z"
   },
   {
    "duration": 73,
    "start_time": "2021-10-28T09:29:41.125Z"
   },
   {
    "duration": 2,
    "start_time": "2021-10-28T09:30:59.417Z"
   },
   {
    "duration": 244,
    "start_time": "2021-10-28T09:30:59.807Z"
   },
   {
    "duration": 2,
    "start_time": "2021-10-28T09:31:32.832Z"
   },
   {
    "duration": 74,
    "start_time": "2021-10-28T09:31:32.836Z"
   },
   {
    "duration": 3,
    "start_time": "2021-10-28T09:32:08.230Z"
   },
   {
    "duration": 241,
    "start_time": "2021-10-28T09:32:08.235Z"
   },
   {
    "duration": 3,
    "start_time": "2021-10-28T09:32:36.656Z"
   },
   {
    "duration": 249,
    "start_time": "2021-10-28T09:32:36.662Z"
   },
   {
    "duration": 2,
    "start_time": "2021-10-28T09:33:05.286Z"
   },
   {
    "duration": 68,
    "start_time": "2021-10-28T09:33:05.973Z"
   },
   {
    "duration": 3,
    "start_time": "2021-10-28T09:34:02.243Z"
   },
   {
    "duration": 72,
    "start_time": "2021-10-28T09:34:02.672Z"
   },
   {
    "duration": 2,
    "start_time": "2021-10-28T09:36:35.986Z"
   },
   {
    "duration": 241,
    "start_time": "2021-10-28T09:36:35.992Z"
   },
   {
    "duration": 3,
    "start_time": "2021-10-28T09:37:13.313Z"
   },
   {
    "duration": 67,
    "start_time": "2021-10-28T09:37:13.631Z"
   },
   {
    "duration": 3,
    "start_time": "2021-10-28T09:39:50.741Z"
   },
   {
    "duration": 392,
    "start_time": "2021-10-28T09:39:51.177Z"
   },
   {
    "duration": 3,
    "start_time": "2021-10-28T09:40:28.222Z"
   },
   {
    "duration": 73,
    "start_time": "2021-10-28T09:40:28.226Z"
   },
   {
    "duration": 2,
    "start_time": "2021-10-28T09:41:03.792Z"
   },
   {
    "duration": 70,
    "start_time": "2021-10-28T09:41:03.796Z"
   },
   {
    "duration": 2,
    "start_time": "2021-10-28T09:41:18.001Z"
   },
   {
    "duration": 70,
    "start_time": "2021-10-28T09:41:18.005Z"
   },
   {
    "duration": 3,
    "start_time": "2021-10-28T09:44:03.795Z"
   },
   {
    "duration": 359,
    "start_time": "2021-10-28T09:44:04.148Z"
   },
   {
    "duration": 3,
    "start_time": "2021-10-28T09:45:06.144Z"
   },
   {
    "duration": 72,
    "start_time": "2021-10-28T09:45:06.148Z"
   },
   {
    "duration": 3,
    "start_time": "2021-10-28T09:45:21.292Z"
   },
   {
    "duration": 68,
    "start_time": "2021-10-28T09:45:21.589Z"
   },
   {
    "duration": 622,
    "start_time": "2021-10-28T09:59:47.376Z"
   },
   {
    "duration": 26,
    "start_time": "2021-10-28T09:59:48.000Z"
   },
   {
    "duration": 3,
    "start_time": "2021-10-28T09:59:48.027Z"
   },
   {
    "duration": 269,
    "start_time": "2021-10-28T09:59:48.032Z"
   },
   {
    "duration": 2,
    "start_time": "2021-10-28T09:59:48.303Z"
   },
   {
    "duration": 76,
    "start_time": "2021-10-28T09:59:48.307Z"
   },
   {
    "duration": 2,
    "start_time": "2021-10-28T09:59:48.385Z"
   },
   {
    "duration": 88,
    "start_time": "2021-10-28T09:59:48.389Z"
   },
   {
    "duration": 2,
    "start_time": "2021-10-28T09:59:48.479Z"
   },
   {
    "duration": 80,
    "start_time": "2021-10-28T09:59:48.483Z"
   },
   {
    "duration": 2,
    "start_time": "2021-10-28T09:59:48.564Z"
   },
   {
    "duration": 111,
    "start_time": "2021-10-28T09:59:48.568Z"
   },
   {
    "duration": 2,
    "start_time": "2021-10-28T09:59:48.681Z"
   },
   {
    "duration": 91,
    "start_time": "2021-10-28T09:59:48.685Z"
   },
   {
    "duration": 3,
    "start_time": "2021-10-28T09:59:48.778Z"
   },
   {
    "duration": 73,
    "start_time": "2021-10-28T09:59:48.783Z"
   },
   {
    "duration": 3,
    "start_time": "2021-10-28T09:59:48.858Z"
   },
   {
    "duration": 96,
    "start_time": "2021-10-28T09:59:48.863Z"
   },
   {
    "duration": 3,
    "start_time": "2021-10-28T09:59:48.961Z"
   },
   {
    "duration": 90,
    "start_time": "2021-10-28T09:59:48.966Z"
   },
   {
    "duration": 2,
    "start_time": "2021-10-28T09:59:49.058Z"
   },
   {
    "duration": 78,
    "start_time": "2021-10-28T09:59:49.062Z"
   },
   {
    "duration": 2,
    "start_time": "2021-10-28T09:59:49.144Z"
   },
   {
    "duration": 89,
    "start_time": "2021-10-28T09:59:49.148Z"
   },
   {
    "duration": 863,
    "start_time": "2021-10-28T20:38:43.810Z"
   },
   {
    "duration": 50,
    "start_time": "2021-10-28T20:38:44.676Z"
   },
   {
    "duration": 4,
    "start_time": "2021-10-28T20:38:44.728Z"
   },
   {
    "duration": 59,
    "start_time": "2021-10-28T20:38:44.735Z"
   },
   {
    "duration": 4,
    "start_time": "2021-10-28T20:38:44.798Z"
   },
   {
    "duration": 24,
    "start_time": "2021-10-28T20:38:44.805Z"
   },
   {
    "duration": 3,
    "start_time": "2021-10-28T20:38:44.832Z"
   },
   {
    "duration": 25,
    "start_time": "2021-10-28T20:38:44.838Z"
   },
   {
    "duration": 33,
    "start_time": "2021-10-28T20:38:44.867Z"
   },
   {
    "duration": 27,
    "start_time": "2021-10-28T20:38:44.903Z"
   },
   {
    "duration": 4,
    "start_time": "2021-10-28T20:38:44.933Z"
   },
   {
    "duration": 65,
    "start_time": "2021-10-28T20:38:44.940Z"
   },
   {
    "duration": 4,
    "start_time": "2021-10-28T20:38:45.008Z"
   },
   {
    "duration": 37,
    "start_time": "2021-10-28T20:38:45.014Z"
   },
   {
    "duration": 3,
    "start_time": "2021-10-28T20:38:45.053Z"
   },
   {
    "duration": 16,
    "start_time": "2021-10-28T20:38:45.059Z"
   },
   {
    "duration": 25,
    "start_time": "2021-10-28T20:38:45.078Z"
   },
   {
    "duration": 50,
    "start_time": "2021-10-28T20:38:45.106Z"
   },
   {
    "duration": 4,
    "start_time": "2021-10-28T20:38:45.159Z"
   },
   {
    "duration": 25,
    "start_time": "2021-10-28T20:38:45.165Z"
   },
   {
    "duration": 8,
    "start_time": "2021-10-28T20:38:45.193Z"
   },
   {
    "duration": 25,
    "start_time": "2021-10-28T20:38:45.204Z"
   },
   {
    "duration": 4,
    "start_time": "2021-10-28T20:38:45.234Z"
   },
   {
    "duration": 29,
    "start_time": "2021-10-28T20:38:45.241Z"
   },
   {
    "duration": 855,
    "start_time": "2021-10-28T22:14:34.613Z"
   },
   {
    "duration": 40,
    "start_time": "2021-10-28T22:14:35.471Z"
   },
   {
    "duration": 4,
    "start_time": "2021-10-28T22:14:35.514Z"
   },
   {
    "duration": 68,
    "start_time": "2021-10-28T22:14:35.520Z"
   },
   {
    "duration": 3,
    "start_time": "2021-10-28T22:14:35.591Z"
   },
   {
    "duration": 21,
    "start_time": "2021-10-28T22:14:35.597Z"
   },
   {
    "duration": 3,
    "start_time": "2021-10-28T22:14:35.620Z"
   },
   {
    "duration": 37,
    "start_time": "2021-10-28T22:14:35.627Z"
   },
   {
    "duration": 3,
    "start_time": "2021-10-28T22:14:35.667Z"
   },
   {
    "duration": 40,
    "start_time": "2021-10-28T22:14:35.672Z"
   },
   {
    "duration": 3,
    "start_time": "2021-10-28T22:14:35.715Z"
   },
   {
    "duration": 59,
    "start_time": "2021-10-28T22:14:35.720Z"
   },
   {
    "duration": 2,
    "start_time": "2021-10-28T22:14:35.782Z"
   },
   {
    "duration": 39,
    "start_time": "2021-10-28T22:14:35.786Z"
   },
   {
    "duration": 3,
    "start_time": "2021-10-28T22:14:35.828Z"
   },
   {
    "duration": 26,
    "start_time": "2021-10-28T22:14:35.833Z"
   },
   {
    "duration": 3,
    "start_time": "2021-10-28T22:14:35.861Z"
   },
   {
    "duration": 52,
    "start_time": "2021-10-28T22:14:35.867Z"
   },
   {
    "duration": 3,
    "start_time": "2021-10-28T22:14:35.921Z"
   },
   {
    "duration": 30,
    "start_time": "2021-10-28T22:14:35.926Z"
   },
   {
    "duration": 3,
    "start_time": "2021-10-28T22:14:35.958Z"
   },
   {
    "duration": 31,
    "start_time": "2021-10-28T22:14:35.963Z"
   },
   {
    "duration": 3,
    "start_time": "2021-10-28T22:14:35.998Z"
   },
   {
    "duration": 38,
    "start_time": "2021-10-28T22:14:36.003Z"
   },
   {
    "duration": 3,
    "start_time": "2021-10-28T22:19:56.232Z"
   },
   {
    "duration": 530,
    "start_time": "2021-10-28T22:20:02.641Z"
   },
   {
    "duration": 3,
    "start_time": "2021-10-28T22:23:15.807Z"
   },
   {
    "duration": 15,
    "start_time": "2021-10-28T22:23:16.206Z"
   },
   {
    "duration": 4,
    "start_time": "2021-10-28T22:23:25.914Z"
   },
   {
    "duration": 378,
    "start_time": "2021-10-28T22:23:25.921Z"
   },
   {
    "duration": 4,
    "start_time": "2021-10-28T22:23:54.533Z"
   },
   {
    "duration": 27,
    "start_time": "2021-10-28T22:23:54.540Z"
   },
   {
    "duration": 3,
    "start_time": "2021-10-28T22:24:13.385Z"
   },
   {
    "duration": 16,
    "start_time": "2021-10-28T22:24:13.747Z"
   },
   {
    "duration": 3,
    "start_time": "2021-10-28T22:25:05.244Z"
   },
   {
    "duration": 22,
    "start_time": "2021-10-28T22:25:05.250Z"
   },
   {
    "duration": 4,
    "start_time": "2021-10-28T22:25:14.956Z"
   },
   {
    "duration": 21,
    "start_time": "2021-10-28T22:25:14.964Z"
   },
   {
    "duration": 4,
    "start_time": "2021-10-28T22:25:24.265Z"
   },
   {
    "duration": 15,
    "start_time": "2021-10-28T22:25:26.565Z"
   },
   {
    "duration": 4,
    "start_time": "2021-10-28T22:25:34.964Z"
   },
   {
    "duration": 15,
    "start_time": "2021-10-28T22:25:35.293Z"
   },
   {
    "duration": 4,
    "start_time": "2021-10-28T22:26:37.503Z"
   },
   {
    "duration": 18,
    "start_time": "2021-10-28T22:26:37.510Z"
   },
   {
    "duration": 4,
    "start_time": "2021-10-28T22:26:51.755Z"
   },
   {
    "duration": 378,
    "start_time": "2021-10-28T22:26:52.108Z"
   },
   {
    "duration": 4,
    "start_time": "2021-10-28T22:27:00.159Z"
   },
   {
    "duration": 15,
    "start_time": "2021-10-28T22:27:00.532Z"
   },
   {
    "duration": 4,
    "start_time": "2021-10-28T22:27:49.488Z"
   },
   {
    "duration": 14,
    "start_time": "2021-10-28T22:27:49.800Z"
   },
   {
    "duration": 4,
    "start_time": "2021-10-28T22:29:28.037Z"
   },
   {
    "duration": 20,
    "start_time": "2021-10-28T22:29:28.044Z"
   },
   {
    "duration": 3,
    "start_time": "2021-10-28T22:32:02.384Z"
   },
   {
    "duration": 397,
    "start_time": "2021-10-28T22:32:02.716Z"
   },
   {
    "duration": 4,
    "start_time": "2021-10-28T22:32:11.749Z"
   },
   {
    "duration": 17,
    "start_time": "2021-10-28T22:32:12.378Z"
   },
   {
    "duration": 3,
    "start_time": "2021-10-28T22:36:39.765Z"
   },
   {
    "duration": 15,
    "start_time": "2021-10-28T22:36:40.016Z"
   },
   {
    "duration": 4,
    "start_time": "2021-10-28T22:38:53.999Z"
   },
   {
    "duration": 20,
    "start_time": "2021-10-28T22:38:54.006Z"
   },
   {
    "duration": 4,
    "start_time": "2021-10-28T22:38:54.887Z"
   },
   {
    "duration": 17,
    "start_time": "2021-10-28T22:38:55.169Z"
   },
   {
    "duration": 4,
    "start_time": "2021-10-28T22:40:35.729Z"
   },
   {
    "duration": 16,
    "start_time": "2021-10-28T22:40:36.096Z"
   },
   {
    "duration": 5,
    "start_time": "2021-10-28T22:40:36.979Z"
   },
   {
    "duration": 21,
    "start_time": "2021-10-28T22:40:37.276Z"
   },
   {
    "duration": 4,
    "start_time": "2021-10-28T22:42:20.233Z"
   },
   {
    "duration": 16,
    "start_time": "2021-10-28T22:42:20.475Z"
   },
   {
    "duration": 3,
    "start_time": "2021-10-28T22:43:34.111Z"
   },
   {
    "duration": 18,
    "start_time": "2021-10-28T22:43:34.117Z"
   },
   {
    "duration": 4,
    "start_time": "2021-10-28T22:48:32.308Z"
   },
   {
    "duration": 31,
    "start_time": "2021-10-28T22:48:32.543Z"
   },
   {
    "duration": 4,
    "start_time": "2021-10-28T22:48:58.708Z"
   },
   {
    "duration": 403,
    "start_time": "2021-10-28T22:48:58.715Z"
   },
   {
    "duration": 3,
    "start_time": "2021-10-28T22:49:05.813Z"
   },
   {
    "duration": 379,
    "start_time": "2021-10-28T22:49:05.819Z"
   },
   {
    "duration": 3,
    "start_time": "2021-10-28T22:51:50.270Z"
   },
   {
    "duration": 382,
    "start_time": "2021-10-28T22:51:50.276Z"
   },
   {
    "duration": 3,
    "start_time": "2021-10-28T22:52:06.468Z"
   },
   {
    "duration": 108,
    "start_time": "2021-10-28T22:52:06.708Z"
   },
   {
    "duration": 4,
    "start_time": "2021-10-28T22:53:36.898Z"
   },
   {
    "duration": 28,
    "start_time": "2021-10-28T22:53:36.905Z"
   },
   {
    "duration": 3,
    "start_time": "2021-10-28T22:54:24.035Z"
   },
   {
    "duration": 19,
    "start_time": "2021-10-28T22:54:24.259Z"
   },
   {
    "duration": 4,
    "start_time": "2021-10-28T22:56:00.872Z"
   },
   {
    "duration": 424,
    "start_time": "2021-10-28T22:56:01.123Z"
   },
   {
    "duration": 4,
    "start_time": "2021-10-28T22:58:09.866Z"
   },
   {
    "duration": 52,
    "start_time": "2021-10-28T22:58:09.873Z"
   },
   {
    "duration": 4,
    "start_time": "2021-10-28T22:59:38.061Z"
   },
   {
    "duration": 373,
    "start_time": "2021-10-28T22:59:38.322Z"
   },
   {
    "duration": 3,
    "start_time": "2021-10-28T23:01:00.872Z"
   },
   {
    "duration": 19,
    "start_time": "2021-10-28T23:01:01.340Z"
   },
   {
    "duration": 4,
    "start_time": "2021-10-28T23:04:04.585Z"
   },
   {
    "duration": 34,
    "start_time": "2021-10-28T23:04:04.940Z"
   },
   {
    "duration": 3,
    "start_time": "2021-10-28T23:04:13.327Z"
   },
   {
    "duration": 31,
    "start_time": "2021-10-28T23:04:13.584Z"
   },
   {
    "duration": 3,
    "start_time": "2021-10-28T23:08:39.631Z"
   },
   {
    "duration": 395,
    "start_time": "2021-10-28T23:08:39.637Z"
   },
   {
    "duration": 3,
    "start_time": "2021-10-28T23:09:15.227Z"
   },
   {
    "duration": 618,
    "start_time": "2021-10-28T23:09:15.445Z"
   },
   {
    "duration": 4,
    "start_time": "2021-10-28T23:09:33.529Z"
   },
   {
    "duration": 380,
    "start_time": "2021-10-28T23:09:33.883Z"
   },
   {
    "duration": 4,
    "start_time": "2021-10-28T23:10:02.364Z"
   },
   {
    "duration": 362,
    "start_time": "2021-10-28T23:10:04.827Z"
   },
   {
    "duration": 3,
    "start_time": "2021-10-28T23:11:24.125Z"
   },
   {
    "duration": 25,
    "start_time": "2021-10-28T23:11:24.461Z"
   },
   {
    "duration": 5,
    "start_time": "2021-10-28T23:11:58.431Z"
   },
   {
    "duration": 438,
    "start_time": "2021-10-28T23:11:58.439Z"
   },
   {
    "duration": 3,
    "start_time": "2021-10-28T23:12:19.735Z"
   },
   {
    "duration": 392,
    "start_time": "2021-10-28T23:12:19.741Z"
   },
   {
    "duration": 3,
    "start_time": "2021-10-28T23:12:40.963Z"
   },
   {
    "duration": 412,
    "start_time": "2021-10-28T23:12:41.387Z"
   },
   {
    "duration": 3,
    "start_time": "2021-10-28T23:13:02.275Z"
   },
   {
    "duration": 25,
    "start_time": "2021-10-28T23:13:02.293Z"
   },
   {
    "duration": 4,
    "start_time": "2021-10-28T23:13:39.560Z"
   },
   {
    "duration": 382,
    "start_time": "2021-10-28T23:13:39.951Z"
   },
   {
    "duration": 3,
    "start_time": "2021-10-28T23:14:04.212Z"
   },
   {
    "duration": 637,
    "start_time": "2021-10-28T23:14:04.218Z"
   },
   {
    "duration": 3,
    "start_time": "2021-10-28T23:15:16.879Z"
   },
   {
    "duration": 369,
    "start_time": "2021-10-28T23:15:16.885Z"
   },
   {
    "duration": 3,
    "start_time": "2021-10-28T23:15:44.627Z"
   },
   {
    "duration": 395,
    "start_time": "2021-10-28T23:15:45.002Z"
   },
   {
    "duration": 4,
    "start_time": "2021-10-28T23:16:26.282Z"
   },
   {
    "duration": 34,
    "start_time": "2021-10-28T23:16:26.289Z"
   },
   {
    "duration": 3,
    "start_time": "2021-10-28T23:18:17.864Z"
   },
   {
    "duration": 374,
    "start_time": "2021-10-28T23:18:18.445Z"
   },
   {
    "duration": 3,
    "start_time": "2021-10-28T23:18:32.072Z"
   },
   {
    "duration": 28,
    "start_time": "2021-10-28T23:18:32.078Z"
   },
   {
    "duration": 3,
    "start_time": "2021-10-28T23:19:01.834Z"
   },
   {
    "duration": 20,
    "start_time": "2021-10-28T23:19:02.778Z"
   },
   {
    "duration": 4,
    "start_time": "2021-10-28T23:20:53.978Z"
   },
   {
    "duration": 395,
    "start_time": "2021-10-28T23:20:53.985Z"
   },
   {
    "duration": 3,
    "start_time": "2021-10-28T23:21:01.089Z"
   },
   {
    "duration": 25,
    "start_time": "2021-10-28T23:21:01.095Z"
   },
   {
    "duration": 3,
    "start_time": "2021-10-28T23:21:15.338Z"
   },
   {
    "duration": 15,
    "start_time": "2021-10-28T23:21:15.488Z"
   },
   {
    "duration": 4,
    "start_time": "2021-10-28T23:22:35.076Z"
   },
   {
    "duration": 15,
    "start_time": "2021-10-28T23:22:35.579Z"
   },
   {
    "duration": 3,
    "start_time": "2021-10-28T23:24:56.054Z"
   },
   {
    "duration": 371,
    "start_time": "2021-10-28T23:24:56.449Z"
   },
   {
    "duration": 3,
    "start_time": "2021-10-28T23:27:34.412Z"
   },
   {
    "duration": 382,
    "start_time": "2021-10-28T23:27:34.864Z"
   },
   {
    "duration": 4,
    "start_time": "2021-10-28T23:28:40.538Z"
   },
   {
    "duration": 376,
    "start_time": "2021-10-28T23:28:40.898Z"
   },
   {
    "duration": 3,
    "start_time": "2021-10-28T23:31:11.658Z"
   },
   {
    "duration": 390,
    "start_time": "2021-10-28T23:31:11.989Z"
   },
   {
    "duration": 3,
    "start_time": "2021-10-28T23:32:17.866Z"
   },
   {
    "duration": 366,
    "start_time": "2021-10-28T23:32:18.244Z"
   },
   {
    "duration": 3,
    "start_time": "2021-10-28T23:32:24.994Z"
   },
   {
    "duration": 403,
    "start_time": "2021-10-28T23:32:25.390Z"
   },
   {
    "duration": 3,
    "start_time": "2021-10-28T23:32:40.035Z"
   },
   {
    "duration": 387,
    "start_time": "2021-10-28T23:32:40.442Z"
   },
   {
    "duration": 4,
    "start_time": "2021-10-28T23:32:45.729Z"
   },
   {
    "duration": 376,
    "start_time": "2021-10-28T23:32:45.735Z"
   },
   {
    "duration": 4,
    "start_time": "2021-10-28T23:33:13.990Z"
   },
   {
    "duration": 497,
    "start_time": "2021-10-28T23:33:14.166Z"
   },
   {
    "duration": 4,
    "start_time": "2021-10-28T23:34:00.050Z"
   },
   {
    "duration": 19,
    "start_time": "2021-10-28T23:34:00.957Z"
   },
   {
    "duration": 3,
    "start_time": "2021-10-28T23:35:10.597Z"
   },
   {
    "duration": 384,
    "start_time": "2021-10-28T23:35:10.991Z"
   },
   {
    "duration": 4,
    "start_time": "2021-10-28T23:35:41.874Z"
   },
   {
    "duration": 23,
    "start_time": "2021-10-28T23:35:42.262Z"
   },
   {
    "duration": 3,
    "start_time": "2021-10-28T23:36:39.707Z"
   },
   {
    "duration": 380,
    "start_time": "2021-10-28T23:36:40.098Z"
   },
   {
    "duration": 3,
    "start_time": "2021-10-28T23:36:52.263Z"
   },
   {
    "duration": 369,
    "start_time": "2021-10-28T23:36:52.381Z"
   },
   {
    "duration": 4,
    "start_time": "2021-10-28T23:36:59.363Z"
   },
   {
    "duration": 27,
    "start_time": "2021-10-28T23:36:59.369Z"
   },
   {
    "duration": 3,
    "start_time": "2021-10-28T23:42:36.232Z"
   },
   {
    "duration": 73,
    "start_time": "2021-10-28T23:42:36.238Z"
   },
   {
    "duration": 3,
    "start_time": "2021-10-28T23:43:40.229Z"
   },
   {
    "duration": 26,
    "start_time": "2021-10-28T23:43:40.670Z"
   },
   {
    "duration": 4,
    "start_time": "2021-10-28T23:44:51.538Z"
   },
   {
    "duration": 29,
    "start_time": "2021-10-28T23:44:51.922Z"
   },
   {
    "duration": 4,
    "start_time": "2021-10-28T23:47:21.587Z"
   },
   {
    "duration": 34,
    "start_time": "2021-10-28T23:47:21.594Z"
   },
   {
    "duration": 3,
    "start_time": "2021-10-28T23:49:34.368Z"
   },
   {
    "duration": 42,
    "start_time": "2021-10-28T23:49:36.506Z"
   },
   {
    "duration": 3,
    "start_time": "2021-10-28T23:49:52.418Z"
   },
   {
    "duration": 802,
    "start_time": "2021-10-28T23:49:52.913Z"
   },
   {
    "duration": 3,
    "start_time": "2021-10-28T23:50:08.650Z"
   },
   {
    "duration": 38,
    "start_time": "2021-10-28T23:50:09.059Z"
   },
   {
    "duration": 3,
    "start_time": "2021-10-28T23:51:30.000Z"
   },
   {
    "duration": 73,
    "start_time": "2021-10-28T23:51:30.005Z"
   },
   {
    "duration": 129,
    "start_time": "2021-10-28T23:52:44.115Z"
   },
   {
    "duration": 32,
    "start_time": "2021-10-28T23:52:44.454Z"
   },
   {
    "duration": 3,
    "start_time": "2021-10-28T23:52:55.511Z"
   },
   {
    "duration": 259,
    "start_time": "2021-10-28T23:52:55.516Z"
   },
   {
    "duration": 4,
    "start_time": "2021-10-28T23:57:53.439Z"
   },
   {
    "duration": 513,
    "start_time": "2021-10-28T23:57:53.447Z"
   },
   {
    "duration": 4,
    "start_time": "2021-10-28T23:58:36.060Z"
   },
   {
    "duration": 393,
    "start_time": "2021-10-28T23:58:36.067Z"
   },
   {
    "duration": 4,
    "start_time": "2021-10-29T00:00:09.002Z"
   },
   {
    "duration": 25,
    "start_time": "2021-10-29T00:00:09.832Z"
   },
   {
    "duration": 3,
    "start_time": "2021-10-29T00:00:44.625Z"
   },
   {
    "duration": 21,
    "start_time": "2021-10-29T00:00:44.955Z"
   },
   {
    "duration": 4,
    "start_time": "2021-10-29T00:08:23.186Z"
   },
   {
    "duration": 381,
    "start_time": "2021-10-29T00:08:23.572Z"
   },
   {
    "duration": 4,
    "start_time": "2021-10-29T00:09:18.835Z"
   },
   {
    "duration": 383,
    "start_time": "2021-10-29T00:09:19.102Z"
   },
   {
    "duration": 4,
    "start_time": "2021-10-29T00:09:37.750Z"
   },
   {
    "duration": 434,
    "start_time": "2021-10-29T00:09:37.756Z"
   },
   {
    "duration": 4,
    "start_time": "2021-10-29T00:09:45.788Z"
   },
   {
    "duration": 373,
    "start_time": "2021-10-29T00:09:46.260Z"
   },
   {
    "duration": 3,
    "start_time": "2021-10-29T00:12:04.822Z"
   },
   {
    "duration": 262,
    "start_time": "2021-10-29T00:12:04.828Z"
   },
   {
    "duration": 3,
    "start_time": "2021-10-29T00:13:33.552Z"
   },
   {
    "duration": 23,
    "start_time": "2021-10-29T00:13:33.913Z"
   },
   {
    "duration": 4,
    "start_time": "2021-10-29T00:13:45.165Z"
   },
   {
    "duration": 358,
    "start_time": "2021-10-29T00:13:46.538Z"
   },
   {
    "duration": 4,
    "start_time": "2021-10-29T00:13:53.489Z"
   },
   {
    "duration": 374,
    "start_time": "2021-10-29T00:13:53.816Z"
   },
   {
    "duration": 4,
    "start_time": "2021-10-29T00:14:05.576Z"
   },
   {
    "duration": 393,
    "start_time": "2021-10-29T00:14:05.583Z"
   },
   {
    "duration": 4,
    "start_time": "2021-10-29T00:14:12.680Z"
   },
   {
    "duration": 25,
    "start_time": "2021-10-29T00:14:12.687Z"
   },
   {
    "duration": 4,
    "start_time": "2021-10-29T00:16:31.107Z"
   },
   {
    "duration": 24,
    "start_time": "2021-10-29T00:16:31.429Z"
   },
   {
    "duration": 3,
    "start_time": "2021-10-29T00:16:45.475Z"
   },
   {
    "duration": 26,
    "start_time": "2021-10-29T00:16:45.770Z"
   },
   {
    "duration": 3,
    "start_time": "2021-10-29T00:20:20.084Z"
   },
   {
    "duration": 385,
    "start_time": "2021-10-29T00:20:20.301Z"
   },
   {
    "duration": 3,
    "start_time": "2021-10-29T00:21:16.441Z"
   },
   {
    "duration": 45,
    "start_time": "2021-10-29T00:21:16.447Z"
   },
   {
    "duration": 804,
    "start_time": "2021-10-29T00:26:58.908Z"
   },
   {
    "duration": 51,
    "start_time": "2021-10-29T00:26:59.714Z"
   },
   {
    "duration": 5,
    "start_time": "2021-10-29T00:26:59.768Z"
   },
   {
    "duration": 57,
    "start_time": "2021-10-29T00:26:59.776Z"
   },
   {
    "duration": 3,
    "start_time": "2021-10-29T00:26:59.835Z"
   },
   {
    "duration": 31,
    "start_time": "2021-10-29T00:26:59.840Z"
   },
   {
    "duration": 3,
    "start_time": "2021-10-29T00:26:59.873Z"
   },
   {
    "duration": 14,
    "start_time": "2021-10-29T00:26:59.880Z"
   },
   {
    "duration": 3,
    "start_time": "2021-10-29T00:26:59.897Z"
   },
   {
    "duration": 16,
    "start_time": "2021-10-29T00:26:59.902Z"
   },
   {
    "duration": 3,
    "start_time": "2021-10-29T00:26:59.920Z"
   },
   {
    "duration": 44,
    "start_time": "2021-10-29T00:26:59.925Z"
   },
   {
    "duration": 2,
    "start_time": "2021-10-29T00:26:59.972Z"
   },
   {
    "duration": 19,
    "start_time": "2021-10-29T00:26:59.977Z"
   },
   {
    "duration": 3,
    "start_time": "2021-10-29T00:26:59.998Z"
   },
   {
    "duration": 40,
    "start_time": "2021-10-29T00:27:00.003Z"
   },
   {
    "duration": 3,
    "start_time": "2021-10-29T00:27:00.057Z"
   },
   {
    "duration": 27,
    "start_time": "2021-10-29T00:27:00.063Z"
   },
   {
    "duration": 3,
    "start_time": "2021-10-29T00:27:00.092Z"
   },
   {
    "duration": 25,
    "start_time": "2021-10-29T00:27:00.097Z"
   },
   {
    "duration": 3,
    "start_time": "2021-10-29T00:27:00.124Z"
   },
   {
    "duration": 30,
    "start_time": "2021-10-29T00:27:00.129Z"
   },
   {
    "duration": 3,
    "start_time": "2021-10-29T00:27:00.164Z"
   },
   {
    "duration": 55,
    "start_time": "2021-10-29T00:27:00.170Z"
   },
   {
    "duration": 3,
    "start_time": "2021-10-29T00:27:00.228Z"
   },
   {
    "duration": 37,
    "start_time": "2021-10-29T00:27:00.233Z"
   },
   {
    "duration": 9,
    "start_time": "2021-10-29T00:27:00.273Z"
   },
   {
    "duration": 30,
    "start_time": "2021-10-29T00:27:00.285Z"
   },
   {
    "duration": 4,
    "start_time": "2021-10-29T00:27:00.317Z"
   },
   {
    "duration": 46,
    "start_time": "2021-10-29T00:27:00.323Z"
   },
   {
    "duration": 3,
    "start_time": "2021-10-29T00:27:00.372Z"
   },
   {
    "duration": 46,
    "start_time": "2021-10-29T00:27:00.378Z"
   },
   {
    "duration": 3,
    "start_time": "2021-10-29T00:27:00.427Z"
   },
   {
    "duration": 42,
    "start_time": "2021-10-29T00:27:00.433Z"
   },
   {
    "duration": 8,
    "start_time": "2021-10-29T00:27:00.477Z"
   },
   {
    "duration": 34,
    "start_time": "2021-10-29T00:27:00.487Z"
   },
   {
    "duration": 9,
    "start_time": "2021-10-29T00:27:00.524Z"
   },
   {
    "duration": 26,
    "start_time": "2021-10-29T00:27:00.535Z"
   },
   {
    "duration": 3,
    "start_time": "2021-10-29T00:27:00.564Z"
   },
   {
    "duration": 39,
    "start_time": "2021-10-29T00:27:00.570Z"
   },
   {
    "duration": 3,
    "start_time": "2021-10-29T00:27:00.611Z"
   },
   {
    "duration": 70,
    "start_time": "2021-10-29T00:27:00.616Z"
   },
   {
    "duration": 3,
    "start_time": "2021-10-29T00:27:00.689Z"
   },
   {
    "duration": 61,
    "start_time": "2021-10-29T00:27:00.694Z"
   },
   {
    "duration": 3,
    "start_time": "2021-10-29T00:27:00.758Z"
   },
   {
    "duration": 37,
    "start_time": "2021-10-29T00:27:00.763Z"
   },
   {
    "duration": 4,
    "start_time": "2021-10-29T00:27:00.802Z"
   },
   {
    "duration": 60,
    "start_time": "2021-10-29T00:27:00.808Z"
   },
   {
    "duration": 895,
    "start_time": "2021-10-29T18:14:22.047Z"
   },
   {
    "duration": 43,
    "start_time": "2021-10-29T18:14:22.944Z"
   },
   {
    "duration": 3,
    "start_time": "2021-10-29T18:14:22.990Z"
   },
   {
    "duration": 222,
    "start_time": "2021-10-29T18:14:22.995Z"
   },
   {
    "duration": 4,
    "start_time": "2021-10-29T18:14:23.219Z"
   },
   {
    "duration": 66,
    "start_time": "2021-10-29T18:14:23.225Z"
   },
   {
    "duration": 4,
    "start_time": "2021-10-29T18:14:23.293Z"
   },
   {
    "duration": 64,
    "start_time": "2021-10-29T18:14:23.300Z"
   },
   {
    "duration": 4,
    "start_time": "2021-10-29T18:14:23.367Z"
   },
   {
    "duration": 67,
    "start_time": "2021-10-29T18:14:23.374Z"
   },
   {
    "duration": 4,
    "start_time": "2021-10-29T18:14:23.443Z"
   },
   {
    "duration": 79,
    "start_time": "2021-10-29T18:14:23.449Z"
   },
   {
    "duration": 3,
    "start_time": "2021-10-29T18:14:23.531Z"
   },
   {
    "duration": 62,
    "start_time": "2021-10-29T18:14:23.536Z"
   },
   {
    "duration": 4,
    "start_time": "2021-10-29T18:14:23.600Z"
   },
   {
    "duration": 64,
    "start_time": "2021-10-29T18:14:23.606Z"
   },
   {
    "duration": 3,
    "start_time": "2021-10-29T18:14:23.672Z"
   },
   {
    "duration": 69,
    "start_time": "2021-10-29T18:14:23.678Z"
   },
   {
    "duration": 3,
    "start_time": "2021-10-29T18:14:23.749Z"
   },
   {
    "duration": 61,
    "start_time": "2021-10-29T18:14:23.754Z"
   },
   {
    "duration": 3,
    "start_time": "2021-10-29T18:14:23.818Z"
   },
   {
    "duration": 65,
    "start_time": "2021-10-29T18:14:23.823Z"
   },
   {
    "duration": 3,
    "start_time": "2021-10-29T18:14:23.893Z"
   },
   {
    "duration": 109,
    "start_time": "2021-10-29T18:14:23.899Z"
   },
   {
    "duration": 4,
    "start_time": "2021-10-29T18:14:24.010Z"
   },
   {
    "duration": 70,
    "start_time": "2021-10-29T18:14:24.016Z"
   },
   {
    "duration": 4,
    "start_time": "2021-10-29T18:14:24.088Z"
   },
   {
    "duration": 70,
    "start_time": "2021-10-29T18:14:24.094Z"
   },
   {
    "duration": 3,
    "start_time": "2021-10-29T18:14:24.166Z"
   },
   {
    "duration": 84,
    "start_time": "2021-10-29T18:14:24.171Z"
   },
   {
    "duration": 3,
    "start_time": "2021-10-29T18:14:24.257Z"
   },
   {
    "duration": 61,
    "start_time": "2021-10-29T18:14:24.263Z"
   },
   {
    "duration": 3,
    "start_time": "2021-10-29T18:14:24.327Z"
   },
   {
    "duration": 62,
    "start_time": "2021-10-29T18:14:24.333Z"
   },
   {
    "duration": 4,
    "start_time": "2021-10-29T18:14:24.398Z"
   },
   {
    "duration": 61,
    "start_time": "2021-10-29T18:14:24.405Z"
   },
   {
    "duration": 4,
    "start_time": "2021-10-29T18:14:24.469Z"
   },
   {
    "duration": 65,
    "start_time": "2021-10-29T18:14:24.477Z"
   },
   {
    "duration": 3,
    "start_time": "2021-10-29T18:14:24.544Z"
   },
   {
    "duration": 64,
    "start_time": "2021-10-29T18:14:24.550Z"
   },
   {
    "duration": 3,
    "start_time": "2021-10-29T18:14:24.616Z"
   },
   {
    "duration": 94,
    "start_time": "2021-10-29T18:14:24.621Z"
   },
   {
    "duration": 3,
    "start_time": "2021-10-29T18:14:24.717Z"
   },
   {
    "duration": 66,
    "start_time": "2021-10-29T18:14:24.723Z"
   },
   {
    "duration": 3,
    "start_time": "2021-10-29T18:14:24.791Z"
   },
   {
    "duration": 68,
    "start_time": "2021-10-29T18:14:24.796Z"
   },
   {
    "duration": 3,
    "start_time": "2021-10-29T18:14:24.866Z"
   },
   {
    "duration": 74,
    "start_time": "2021-10-29T18:14:24.871Z"
   }
  ],
  "kernelspec": {
   "display_name": "Python 3",
   "language": "python",
   "name": "python3"
  },
  "language_info": {
   "codemirror_mode": {
    "name": "ipython",
    "version": 3
   },
   "file_extension": ".py",
   "mimetype": "text/x-python",
   "name": "python",
   "nbconvert_exporter": "python",
   "pygments_lexer": "ipython3",
   "version": "3.7.10"
  },
  "toc": {
   "base_numbering": 1,
   "nav_menu": {
    "height": "53px",
    "width": "239.2px"
   },
   "number_sections": true,
   "sideBar": true,
   "skip_h1_title": true,
   "title_cell": "Содержание",
   "title_sidebar": "Contents",
   "toc_cell": true,
   "toc_position": {
    "height": "calc(100% - 180px)",
    "left": "10px",
    "top": "150px",
    "width": "255.133px"
   },
   "toc_section_display": true,
   "toc_window_display": true
  }
 },
 "nbformat": 4,
 "nbformat_minor": 2
}
