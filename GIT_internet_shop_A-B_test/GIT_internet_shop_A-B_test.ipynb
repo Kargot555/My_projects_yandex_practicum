{
 "cells": [
  {
   "cell_type": "markdown",
   "metadata": {},
   "source": [
    "<h1>Содержание<span class=\"tocSkip\"></span></h1>"
   ]
  },
  {
   "cell_type": "markdown",
   "metadata": {},
   "source": [
    "## Изучение файлов данных"
   ]
  },
  {
   "cell_type": "markdown",
   "metadata": {},
   "source": [
    "### Библиотеки"
   ]
  },
  {
   "cell_type": "code",
   "execution_count": 1,
   "metadata": {},
   "outputs": [],
   "source": [
    "# достаём библиотеки\n",
    "import matplotlib.pyplot as plt\n",
    "import pandas as pd\n",
    "from scipy import stats as st\n",
    "\n",
    "# библиотека сиборн для визуализации на Питоне поверх matplotlib\n",
    "import seaborn as sns"
   ]
  },
  {
   "cell_type": "code",
   "execution_count": 2,
   "metadata": {},
   "outputs": [],
   "source": [
    "# Импорт библиотеки высокоуровневых математических функций\n",
    "import numpy as np"
   ]
  },
  {
   "cell_type": "code",
   "execution_count": 3,
   "metadata": {},
   "outputs": [],
   "source": [
    "# лаконичный, последовательный, высокоуровневый API для создания фигур\n",
    "import plotly.express as px"
   ]
  },
  {
   "cell_type": "code",
   "execution_count": 4,
   "metadata": {},
   "outputs": [],
   "source": [
    "import plotly.graph_objects as go"
   ]
  },
  {
   "cell_type": "code",
   "execution_count": 5,
   "metadata": {},
   "outputs": [],
   "source": [
    "# уберём warnings\n",
    "import sys\n",
    "import warnings\n",
    "if not sys.warnoptions:\n",
    "       warnings.simplefilter(\"ignore\")"
   ]
  },
  {
   "cell_type": "code",
   "execution_count": 6,
   "metadata": {},
   "outputs": [],
   "source": [
    "import datetime as dt"
   ]
  },
  {
   "cell_type": "code",
   "execution_count": 7,
   "metadata": {},
   "outputs": [],
   "source": [
    "import scipy.stats as stats"
   ]
  },
  {
   "cell_type": "markdown",
   "metadata": {},
   "source": [
    "### Настройки"
   ]
  },
  {
   "cell_type": "code",
   "execution_count": 8,
   "metadata": {},
   "outputs": [],
   "source": [
    "# format вывода значений в виде числа с 2-мя знаками после запятой\n",
    "pd.options.display.float_format = '{:,.2f}'.format"
   ]
  },
  {
   "cell_type": "code",
   "execution_count": 9,
   "metadata": {},
   "outputs": [],
   "source": [
    "# количество отображаемых столбцов\n",
    "pd.options.display.max_columns = 200"
   ]
  },
  {
   "cell_type": "markdown",
   "metadata": {},
   "source": [
    "### Вывод и изучение данных"
   ]
  },
  {
   "cell_type": "code",
   "execution_count": 10,
   "metadata": {},
   "outputs": [
    {
     "data": {
      "text/html": [
       "<div>\n",
       "<style scoped>\n",
       "    .dataframe tbody tr th:only-of-type {\n",
       "        vertical-align: middle;\n",
       "    }\n",
       "\n",
       "    .dataframe tbody tr th {\n",
       "        vertical-align: top;\n",
       "    }\n",
       "\n",
       "    .dataframe thead th {\n",
       "        text-align: right;\n",
       "    }\n",
       "</style>\n",
       "<table border=\"1\" class=\"dataframe\">\n",
       "  <thead>\n",
       "    <tr style=\"text-align: right;\">\n",
       "      <th></th>\n",
       "      <th>Hypothesis</th>\n",
       "      <th>Reach</th>\n",
       "      <th>Impact</th>\n",
       "      <th>Confidence</th>\n",
       "      <th>Efforts</th>\n",
       "    </tr>\n",
       "  </thead>\n",
       "  <tbody>\n",
       "    <tr>\n",
       "      <td>0</td>\n",
       "      <td>Добавить два новых канала привлечения трафика,...</td>\n",
       "      <td>3</td>\n",
       "      <td>10</td>\n",
       "      <td>8</td>\n",
       "      <td>6</td>\n",
       "    </tr>\n",
       "    <tr>\n",
       "      <td>1</td>\n",
       "      <td>Запустить собственную службу доставки, что сок...</td>\n",
       "      <td>2</td>\n",
       "      <td>5</td>\n",
       "      <td>4</td>\n",
       "      <td>10</td>\n",
       "    </tr>\n",
       "    <tr>\n",
       "      <td>2</td>\n",
       "      <td>Добавить блоки рекомендаций товаров на сайт ин...</td>\n",
       "      <td>8</td>\n",
       "      <td>3</td>\n",
       "      <td>7</td>\n",
       "      <td>3</td>\n",
       "    </tr>\n",
       "    <tr>\n",
       "      <td>3</td>\n",
       "      <td>Изменить структура категорий, что увеличит кон...</td>\n",
       "      <td>8</td>\n",
       "      <td>3</td>\n",
       "      <td>3</td>\n",
       "      <td>8</td>\n",
       "    </tr>\n",
       "    <tr>\n",
       "      <td>4</td>\n",
       "      <td>Изменить цвет фона главной страницы, чтобы уве...</td>\n",
       "      <td>3</td>\n",
       "      <td>1</td>\n",
       "      <td>1</td>\n",
       "      <td>1</td>\n",
       "    </tr>\n",
       "    <tr>\n",
       "      <td>5</td>\n",
       "      <td>Добавить страницу отзывов клиентов о магазине,...</td>\n",
       "      <td>3</td>\n",
       "      <td>2</td>\n",
       "      <td>2</td>\n",
       "      <td>3</td>\n",
       "    </tr>\n",
       "    <tr>\n",
       "      <td>6</td>\n",
       "      <td>Показать на главной странице баннеры с актуаль...</td>\n",
       "      <td>5</td>\n",
       "      <td>3</td>\n",
       "      <td>8</td>\n",
       "      <td>3</td>\n",
       "    </tr>\n",
       "    <tr>\n",
       "      <td>7</td>\n",
       "      <td>Добавить форму подписки на все основные страни...</td>\n",
       "      <td>10</td>\n",
       "      <td>7</td>\n",
       "      <td>8</td>\n",
       "      <td>5</td>\n",
       "    </tr>\n",
       "    <tr>\n",
       "      <td>8</td>\n",
       "      <td>Запустить акцию, дающую скидку на товар в день...</td>\n",
       "      <td>1</td>\n",
       "      <td>9</td>\n",
       "      <td>9</td>\n",
       "      <td>5</td>\n",
       "    </tr>\n",
       "  </tbody>\n",
       "</table>\n",
       "</div>"
      ],
      "text/plain": [
       "                                          Hypothesis  Reach  Impact  \\\n",
       "0  Добавить два новых канала привлечения трафика,...      3      10   \n",
       "1  Запустить собственную службу доставки, что сок...      2       5   \n",
       "2  Добавить блоки рекомендаций товаров на сайт ин...      8       3   \n",
       "3  Изменить структура категорий, что увеличит кон...      8       3   \n",
       "4  Изменить цвет фона главной страницы, чтобы уве...      3       1   \n",
       "5  Добавить страницу отзывов клиентов о магазине,...      3       2   \n",
       "6  Показать на главной странице баннеры с актуаль...      5       3   \n",
       "7  Добавить форму подписки на все основные страни...     10       7   \n",
       "8  Запустить акцию, дающую скидку на товар в день...      1       9   \n",
       "\n",
       "   Confidence  Efforts  \n",
       "0           8        6  \n",
       "1           4       10  \n",
       "2           7        3  \n",
       "3           3        8  \n",
       "4           1        1  \n",
       "5           2        3  \n",
       "6           8        3  \n",
       "7           8        5  \n",
       "8           9        5  "
      ]
     },
     "metadata": {},
     "output_type": "display_data"
    }
   ],
   "source": [
    "# конструкция для работы с путями файлов на локальной машине и на сервере Практикума\n",
    "try:\n",
    "    hypothesis = pd.read_csv('/datasets/hypothesis.csv', sep=',')\n",
    "except:\n",
    "    hypothesis = pd.read_csv('hypothesis.csv', sep=',')\n",
    "    \n",
    "display(hypothesis.head(10))"
   ]
  },
  {
   "cell_type": "code",
   "execution_count": 11,
   "metadata": {},
   "outputs": [
    {
     "name": "stdout",
     "output_type": "stream",
     "text": [
      "<class 'pandas.core.frame.DataFrame'>\n",
      "RangeIndex: 9 entries, 0 to 8\n",
      "Data columns (total 5 columns):\n",
      "Hypothesis    9 non-null object\n",
      "Reach         9 non-null int64\n",
      "Impact        9 non-null int64\n",
      "Confidence    9 non-null int64\n",
      "Efforts       9 non-null int64\n",
      "dtypes: int64(4), object(1)\n",
      "memory usage: 488.0+ bytes\n"
     ]
    }
   ],
   "source": [
    "hypothesis.info()"
   ]
  },
  {
   "cell_type": "code",
   "execution_count": 12,
   "metadata": {},
   "outputs": [
    {
     "data": {
      "text/html": [
       "<div>\n",
       "<style scoped>\n",
       "    .dataframe tbody tr th:only-of-type {\n",
       "        vertical-align: middle;\n",
       "    }\n",
       "\n",
       "    .dataframe tbody tr th {\n",
       "        vertical-align: top;\n",
       "    }\n",
       "\n",
       "    .dataframe thead th {\n",
       "        text-align: right;\n",
       "    }\n",
       "</style>\n",
       "<table border=\"1\" class=\"dataframe\">\n",
       "  <thead>\n",
       "    <tr style=\"text-align: right;\">\n",
       "      <th></th>\n",
       "      <th>transactionId</th>\n",
       "      <th>visitorId</th>\n",
       "      <th>date</th>\n",
       "      <th>revenue</th>\n",
       "      <th>group</th>\n",
       "    </tr>\n",
       "  </thead>\n",
       "  <tbody>\n",
       "    <tr>\n",
       "      <td>0</td>\n",
       "      <td>3667963787</td>\n",
       "      <td>3312258926</td>\n",
       "      <td>2019-08-15</td>\n",
       "      <td>1650</td>\n",
       "      <td>B</td>\n",
       "    </tr>\n",
       "    <tr>\n",
       "      <td>1</td>\n",
       "      <td>2804400009</td>\n",
       "      <td>3642806036</td>\n",
       "      <td>2019-08-15</td>\n",
       "      <td>730</td>\n",
       "      <td>B</td>\n",
       "    </tr>\n",
       "    <tr>\n",
       "      <td>2</td>\n",
       "      <td>2961555356</td>\n",
       "      <td>4069496402</td>\n",
       "      <td>2019-08-15</td>\n",
       "      <td>400</td>\n",
       "      <td>A</td>\n",
       "    </tr>\n",
       "    <tr>\n",
       "      <td>3</td>\n",
       "      <td>3797467345</td>\n",
       "      <td>1196621759</td>\n",
       "      <td>2019-08-15</td>\n",
       "      <td>9759</td>\n",
       "      <td>B</td>\n",
       "    </tr>\n",
       "    <tr>\n",
       "      <td>4</td>\n",
       "      <td>2282983706</td>\n",
       "      <td>2322279887</td>\n",
       "      <td>2019-08-15</td>\n",
       "      <td>2308</td>\n",
       "      <td>B</td>\n",
       "    </tr>\n",
       "    <tr>\n",
       "      <td>5</td>\n",
       "      <td>182168103</td>\n",
       "      <td>935554773</td>\n",
       "      <td>2019-08-15</td>\n",
       "      <td>2210</td>\n",
       "      <td>B</td>\n",
       "    </tr>\n",
       "    <tr>\n",
       "      <td>6</td>\n",
       "      <td>398296753</td>\n",
       "      <td>2900797465</td>\n",
       "      <td>2019-08-15</td>\n",
       "      <td>1860</td>\n",
       "      <td>B</td>\n",
       "    </tr>\n",
       "    <tr>\n",
       "      <td>7</td>\n",
       "      <td>2626614568</td>\n",
       "      <td>78758296</td>\n",
       "      <td>2019-08-15</td>\n",
       "      <td>1044</td>\n",
       "      <td>A</td>\n",
       "    </tr>\n",
       "    <tr>\n",
       "      <td>8</td>\n",
       "      <td>1576988021</td>\n",
       "      <td>295230930</td>\n",
       "      <td>2019-08-15</td>\n",
       "      <td>13710</td>\n",
       "      <td>A</td>\n",
       "    </tr>\n",
       "    <tr>\n",
       "      <td>9</td>\n",
       "      <td>1506739906</td>\n",
       "      <td>1882260405</td>\n",
       "      <td>2019-08-15</td>\n",
       "      <td>1855</td>\n",
       "      <td>B</td>\n",
       "    </tr>\n",
       "  </tbody>\n",
       "</table>\n",
       "</div>"
      ],
      "text/plain": [
       "   transactionId   visitorId        date  revenue group\n",
       "0     3667963787  3312258926  2019-08-15     1650     B\n",
       "1     2804400009  3642806036  2019-08-15      730     B\n",
       "2     2961555356  4069496402  2019-08-15      400     A\n",
       "3     3797467345  1196621759  2019-08-15     9759     B\n",
       "4     2282983706  2322279887  2019-08-15     2308     B\n",
       "5      182168103   935554773  2019-08-15     2210     B\n",
       "6      398296753  2900797465  2019-08-15     1860     B\n",
       "7     2626614568    78758296  2019-08-15     1044     A\n",
       "8     1576988021   295230930  2019-08-15    13710     A\n",
       "9     1506739906  1882260405  2019-08-15     1855     B"
      ]
     },
     "metadata": {},
     "output_type": "display_data"
    }
   ],
   "source": [
    "# конструкция для работы с путями файлов на локальной машине и на сервере Практикума\n",
    "try:\n",
    "    orders = pd.read_csv('/datasets/orders.csv', sep=',')\n",
    "except:\n",
    "    orders = pd.read_csv('orders.csv', sep=',')\n",
    "    \n",
    "display(orders.head(10))"
   ]
  },
  {
   "cell_type": "code",
   "execution_count": 13,
   "metadata": {},
   "outputs": [
    {
     "name": "stdout",
     "output_type": "stream",
     "text": [
      "<class 'pandas.core.frame.DataFrame'>\n",
      "RangeIndex: 1197 entries, 0 to 1196\n",
      "Data columns (total 5 columns):\n",
      "transactionId    1197 non-null int64\n",
      "visitorId        1197 non-null int64\n",
      "date             1197 non-null object\n",
      "revenue          1197 non-null int64\n",
      "group            1197 non-null object\n",
      "dtypes: int64(3), object(2)\n",
      "memory usage: 46.9+ KB\n"
     ]
    }
   ],
   "source": [
    "orders.info()"
   ]
  },
  {
   "cell_type": "code",
   "execution_count": 14,
   "metadata": {},
   "outputs": [
    {
     "data": {
      "text/html": [
       "<div>\n",
       "<style scoped>\n",
       "    .dataframe tbody tr th:only-of-type {\n",
       "        vertical-align: middle;\n",
       "    }\n",
       "\n",
       "    .dataframe tbody tr th {\n",
       "        vertical-align: top;\n",
       "    }\n",
       "\n",
       "    .dataframe thead th {\n",
       "        text-align: right;\n",
       "    }\n",
       "</style>\n",
       "<table border=\"1\" class=\"dataframe\">\n",
       "  <thead>\n",
       "    <tr style=\"text-align: right;\">\n",
       "      <th></th>\n",
       "      <th>date</th>\n",
       "      <th>group</th>\n",
       "      <th>visitors</th>\n",
       "    </tr>\n",
       "  </thead>\n",
       "  <tbody>\n",
       "    <tr>\n",
       "      <td>0</td>\n",
       "      <td>2019-08-01</td>\n",
       "      <td>A</td>\n",
       "      <td>719</td>\n",
       "    </tr>\n",
       "    <tr>\n",
       "      <td>1</td>\n",
       "      <td>2019-08-02</td>\n",
       "      <td>A</td>\n",
       "      <td>619</td>\n",
       "    </tr>\n",
       "    <tr>\n",
       "      <td>2</td>\n",
       "      <td>2019-08-03</td>\n",
       "      <td>A</td>\n",
       "      <td>507</td>\n",
       "    </tr>\n",
       "    <tr>\n",
       "      <td>3</td>\n",
       "      <td>2019-08-04</td>\n",
       "      <td>A</td>\n",
       "      <td>717</td>\n",
       "    </tr>\n",
       "    <tr>\n",
       "      <td>4</td>\n",
       "      <td>2019-08-05</td>\n",
       "      <td>A</td>\n",
       "      <td>756</td>\n",
       "    </tr>\n",
       "    <tr>\n",
       "      <td>5</td>\n",
       "      <td>2019-08-06</td>\n",
       "      <td>A</td>\n",
       "      <td>667</td>\n",
       "    </tr>\n",
       "    <tr>\n",
       "      <td>6</td>\n",
       "      <td>2019-08-07</td>\n",
       "      <td>A</td>\n",
       "      <td>644</td>\n",
       "    </tr>\n",
       "    <tr>\n",
       "      <td>7</td>\n",
       "      <td>2019-08-08</td>\n",
       "      <td>A</td>\n",
       "      <td>610</td>\n",
       "    </tr>\n",
       "    <tr>\n",
       "      <td>8</td>\n",
       "      <td>2019-08-09</td>\n",
       "      <td>A</td>\n",
       "      <td>617</td>\n",
       "    </tr>\n",
       "    <tr>\n",
       "      <td>9</td>\n",
       "      <td>2019-08-10</td>\n",
       "      <td>A</td>\n",
       "      <td>406</td>\n",
       "    </tr>\n",
       "  </tbody>\n",
       "</table>\n",
       "</div>"
      ],
      "text/plain": [
       "         date group  visitors\n",
       "0  2019-08-01     A       719\n",
       "1  2019-08-02     A       619\n",
       "2  2019-08-03     A       507\n",
       "3  2019-08-04     A       717\n",
       "4  2019-08-05     A       756\n",
       "5  2019-08-06     A       667\n",
       "6  2019-08-07     A       644\n",
       "7  2019-08-08     A       610\n",
       "8  2019-08-09     A       617\n",
       "9  2019-08-10     A       406"
      ]
     },
     "metadata": {},
     "output_type": "display_data"
    }
   ],
   "source": [
    "# конструкция для работы с путями файлов на локальной машине и на сервере Практикума\n",
    "try:\n",
    "    visitors = pd.read_csv('/datasets/visitors.csv', sep=',')\n",
    "except:\n",
    "    visitors = pd.read_csv('visitors.csv', sep=',')\n",
    "    \n",
    "display(visitors.head(10))"
   ]
  },
  {
   "cell_type": "code",
   "execution_count": 15,
   "metadata": {},
   "outputs": [
    {
     "name": "stdout",
     "output_type": "stream",
     "text": [
      "<class 'pandas.core.frame.DataFrame'>\n",
      "RangeIndex: 62 entries, 0 to 61\n",
      "Data columns (total 3 columns):\n",
      "date        62 non-null object\n",
      "group       62 non-null object\n",
      "visitors    62 non-null int64\n",
      "dtypes: int64(1), object(2)\n",
      "memory usage: 1.6+ KB\n"
     ]
    }
   ],
   "source": [
    "visitors.info()"
   ]
  },
  {
   "cell_type": "markdown",
   "metadata": {},
   "source": [
    "### Изучение пропущенных значений"
   ]
  },
  {
   "cell_type": "markdown",
   "metadata": {},
   "source": [
    "При изучение данных пропущенных значений не отмечено"
   ]
  },
  {
   "cell_type": "markdown",
   "metadata": {},
   "source": [
    "### Описание данных"
   ]
  },
  {
   "cell_type": "markdown",
   "metadata": {},
   "source": [
    "Данные для первой части\n",
    "Файл /datasets/hypothesis.csv. Скачать датасет\n",
    "\n",
    "    Hypothesis — краткое описание гипотезы;\n",
    "    Reach — охват пользователей по 10-балльной шкале;\n",
    "    Impact — влияние на пользователей по 10-балльной шкале;\n",
    "    Confidence — уверенность в гипотезе по 10-балльной шкале;\n",
    "    Efforts — затраты ресурсов на проверку гипотезы по 10-балльной шкале. Чем больше значение Efforts, тем дороже проверка гипотезы.\n",
    "\n",
    "Данные для второй части\n",
    "Файл /datasets/orders.csv. Скачать датасет\n",
    "\n",
    "    transactionId — идентификатор заказа;\n",
    "    visitorId — идентификатор пользователя, совершившего заказ;\n",
    "    date — дата, когда был совершён заказ;\n",
    "    revenue — выручка заказа;\n",
    "    group — группа A/B-теста, в которую попал заказ.\n",
    "\n",
    "Файл /datasets/visitors.csv. Скачать датасет\n",
    "\n",
    "    date — дата;\n",
    "    group — группа A/B-теста;\n",
    "    visitors — количество пользователей в указанную дату в указанной группе A/B-теста"
   ]
  },
  {
   "cell_type": "markdown",
   "metadata": {},
   "source": [
    "### Вывод"
   ]
  },
  {
   "cell_type": "markdown",
   "metadata": {},
   "source": [
    "Мы описали цели и задачи. Изучили данных, пропущенных значений не отметили. Описали сами данные"
   ]
  },
  {
   "cell_type": "markdown",
   "metadata": {},
   "source": [
    "## Предобработка данных"
   ]
  },
  {
   "cell_type": "markdown",
   "metadata": {},
   "source": [
    "### Изучение данных"
   ]
  },
  {
   "cell_type": "code",
   "execution_count": 16,
   "metadata": {},
   "outputs": [
    {
     "data": {
      "text/html": [
       "<div>\n",
       "<style scoped>\n",
       "    .dataframe tbody tr th:only-of-type {\n",
       "        vertical-align: middle;\n",
       "    }\n",
       "\n",
       "    .dataframe tbody tr th {\n",
       "        vertical-align: top;\n",
       "    }\n",
       "\n",
       "    .dataframe thead th {\n",
       "        text-align: right;\n",
       "    }\n",
       "</style>\n",
       "<table border=\"1\" class=\"dataframe\">\n",
       "  <thead>\n",
       "    <tr style=\"text-align: right;\">\n",
       "      <th></th>\n",
       "      <th>hypothesis</th>\n",
       "      <th>reach</th>\n",
       "      <th>impact</th>\n",
       "      <th>confidence</th>\n",
       "      <th>efforts</th>\n",
       "    </tr>\n",
       "  </thead>\n",
       "  <tbody>\n",
       "    <tr>\n",
       "      <td>0</td>\n",
       "      <td>Добавить два новых канала привлечения трафика,...</td>\n",
       "      <td>3</td>\n",
       "      <td>10</td>\n",
       "      <td>8</td>\n",
       "      <td>6</td>\n",
       "    </tr>\n",
       "    <tr>\n",
       "      <td>1</td>\n",
       "      <td>Запустить собственную службу доставки, что сок...</td>\n",
       "      <td>2</td>\n",
       "      <td>5</td>\n",
       "      <td>4</td>\n",
       "      <td>10</td>\n",
       "    </tr>\n",
       "    <tr>\n",
       "      <td>2</td>\n",
       "      <td>Добавить блоки рекомендаций товаров на сайт ин...</td>\n",
       "      <td>8</td>\n",
       "      <td>3</td>\n",
       "      <td>7</td>\n",
       "      <td>3</td>\n",
       "    </tr>\n",
       "    <tr>\n",
       "      <td>3</td>\n",
       "      <td>Изменить структура категорий, что увеличит кон...</td>\n",
       "      <td>8</td>\n",
       "      <td>3</td>\n",
       "      <td>3</td>\n",
       "      <td>8</td>\n",
       "    </tr>\n",
       "    <tr>\n",
       "      <td>4</td>\n",
       "      <td>Изменить цвет фона главной страницы, чтобы уве...</td>\n",
       "      <td>3</td>\n",
       "      <td>1</td>\n",
       "      <td>1</td>\n",
       "      <td>1</td>\n",
       "    </tr>\n",
       "    <tr>\n",
       "      <td>5</td>\n",
       "      <td>Добавить страницу отзывов клиентов о магазине,...</td>\n",
       "      <td>3</td>\n",
       "      <td>2</td>\n",
       "      <td>2</td>\n",
       "      <td>3</td>\n",
       "    </tr>\n",
       "    <tr>\n",
       "      <td>6</td>\n",
       "      <td>Показать на главной странице баннеры с актуаль...</td>\n",
       "      <td>5</td>\n",
       "      <td>3</td>\n",
       "      <td>8</td>\n",
       "      <td>3</td>\n",
       "    </tr>\n",
       "    <tr>\n",
       "      <td>7</td>\n",
       "      <td>Добавить форму подписки на все основные страни...</td>\n",
       "      <td>10</td>\n",
       "      <td>7</td>\n",
       "      <td>8</td>\n",
       "      <td>5</td>\n",
       "    </tr>\n",
       "    <tr>\n",
       "      <td>8</td>\n",
       "      <td>Запустить акцию, дающую скидку на товар в день...</td>\n",
       "      <td>1</td>\n",
       "      <td>9</td>\n",
       "      <td>9</td>\n",
       "      <td>5</td>\n",
       "    </tr>\n",
       "  </tbody>\n",
       "</table>\n",
       "</div>"
      ],
      "text/plain": [
       "                                          hypothesis  reach  impact  \\\n",
       "0  Добавить два новых канала привлечения трафика,...      3      10   \n",
       "1  Запустить собственную службу доставки, что сок...      2       5   \n",
       "2  Добавить блоки рекомендаций товаров на сайт ин...      8       3   \n",
       "3  Изменить структура категорий, что увеличит кон...      8       3   \n",
       "4  Изменить цвет фона главной страницы, чтобы уве...      3       1   \n",
       "5  Добавить страницу отзывов клиентов о магазине,...      3       2   \n",
       "6  Показать на главной странице баннеры с актуаль...      5       3   \n",
       "7  Добавить форму подписки на все основные страни...     10       7   \n",
       "8  Запустить акцию, дающую скидку на товар в день...      1       9   \n",
       "\n",
       "   confidence  efforts  \n",
       "0           8        6  \n",
       "1           4       10  \n",
       "2           7        3  \n",
       "3           3        8  \n",
       "4           1        1  \n",
       "5           2        3  \n",
       "6           8        3  \n",
       "7           8        5  \n",
       "8           9        5  "
      ]
     },
     "execution_count": 16,
     "metadata": {},
     "output_type": "execute_result"
    }
   ],
   "source": [
    "# приведём столбцы к нижнему регистру\n",
    "hypothesis.columns = hypothesis.columns.str.lower()\n",
    "hypothesis"
   ]
  },
  {
   "cell_type": "code",
   "execution_count": 17,
   "metadata": {},
   "outputs": [
    {
     "name": "stdout",
     "output_type": "stream",
     "text": [
      "transactionId\n"
     ]
    },
    {
     "data": {
      "text/plain": [
       "3574407166    1\n",
       "2470658885    1\n",
       "1476831880    1\n",
       "3709669952    1\n",
       "2764584088    1\n",
       "             ..\n",
       "1168756094    1\n",
       "1185885568    1\n",
       "11068804      1\n",
       "486237576     1\n",
       "1192185169    1\n",
       "Name: transactionId, Length: 1197, dtype: int64"
      ]
     },
     "metadata": {},
     "output_type": "display_data"
    },
    {
     "name": "stdout",
     "output_type": "stream",
     "text": [
      "visitorId\n"
     ]
    },
    {
     "data": {
      "text/plain": [
       "4256040402    11\n",
       "2458001652    11\n",
       "2378935119     9\n",
       "2038680547     8\n",
       "3717692402     5\n",
       "              ..\n",
       "3254689071     1\n",
       "4186744110     1\n",
       "1455861274     1\n",
       "3612778094     1\n",
       "3149228032     1\n",
       "Name: visitorId, Length: 1031, dtype: int64"
      ]
     },
     "metadata": {},
     "output_type": "display_data"
    },
    {
     "name": "stdout",
     "output_type": "stream",
     "text": [
      "date\n"
     ]
    },
    {
     "data": {
      "text/plain": [
       "2019-08-05    48\n",
       "2019-08-12    47\n",
       "2019-08-14    47\n",
       "2019-08-06    46\n",
       "2019-08-15    46\n",
       "2019-08-01    45\n",
       "2019-08-28    45\n",
       "2019-08-02    44\n",
       "2019-08-27    44\n",
       "2019-08-19    43\n",
       "2019-08-08    43\n",
       "2019-08-07    42\n",
       "2019-08-29    42\n",
       "2019-08-26    41\n",
       "2019-08-09    41\n",
       "2019-08-22    41\n",
       "2019-08-03    40\n",
       "2019-08-23    40\n",
       "2019-08-10    39\n",
       "2019-08-16    38\n",
       "2019-08-21    37\n",
       "2019-08-13    35\n",
       "2019-08-30    35\n",
       "2019-08-04    33\n",
       "2019-08-31    32\n",
       "2019-08-20    32\n",
       "2019-08-24    31\n",
       "2019-08-18    26\n",
       "2019-08-11    26\n",
       "2019-08-25    24\n",
       "2019-08-17    24\n",
       "Name: date, dtype: int64"
      ]
     },
     "metadata": {},
     "output_type": "display_data"
    },
    {
     "name": "stdout",
     "output_type": "stream",
     "text": [
      "revenue\n"
     ]
    },
    {
     "data": {
      "text/plain": [
       "990      17\n",
       "890      13\n",
       "390      13\n",
       "1490     10\n",
       "1190     10\n",
       "         ..\n",
       "1139      1\n",
       "25250     1\n",
       "3180      1\n",
       "10970     1\n",
       "6145      1\n",
       "Name: revenue, Length: 713, dtype: int64"
      ]
     },
     "metadata": {},
     "output_type": "display_data"
    },
    {
     "name": "stdout",
     "output_type": "stream",
     "text": [
      "group\n"
     ]
    },
    {
     "data": {
      "text/plain": [
       "B    640\n",
       "A    557\n",
       "Name: group, dtype: int64"
      ]
     },
     "metadata": {},
     "output_type": "display_data"
    }
   ],
   "source": [
    "# в цикле выводим `value_counts()` для каждого столбца\n",
    "\n",
    "for col in orders.columns:\n",
    "    print(str(col))\n",
    "    display(orders[col].value_counts())"
   ]
  },
  {
   "cell_type": "code",
   "execution_count": 18,
   "metadata": {},
   "outputs": [
    {
     "name": "stdout",
     "output_type": "stream",
     "text": [
      "date\n"
     ]
    },
    {
     "data": {
      "text/plain": [
       "2019-08-22    2\n",
       "2019-08-26    2\n",
       "2019-08-05    2\n",
       "2019-08-31    2\n",
       "2019-08-12    2\n",
       "2019-08-06    2\n",
       "2019-08-17    2\n",
       "2019-08-23    2\n",
       "2019-08-01    2\n",
       "2019-08-29    2\n",
       "2019-08-07    2\n",
       "2019-08-03    2\n",
       "2019-08-09    2\n",
       "2019-08-25    2\n",
       "2019-08-27    2\n",
       "2019-08-13    2\n",
       "2019-08-18    2\n",
       "2019-08-28    2\n",
       "2019-08-10    2\n",
       "2019-08-14    2\n",
       "2019-08-24    2\n",
       "2019-08-20    2\n",
       "2019-08-04    2\n",
       "2019-08-02    2\n",
       "2019-08-30    2\n",
       "2019-08-19    2\n",
       "2019-08-16    2\n",
       "2019-08-08    2\n",
       "2019-08-11    2\n",
       "2019-08-15    2\n",
       "2019-08-21    2\n",
       "Name: date, dtype: int64"
      ]
     },
     "metadata": {},
     "output_type": "display_data"
    },
    {
     "name": "stdout",
     "output_type": "stream",
     "text": [
      "group\n"
     ]
    },
    {
     "data": {
      "text/plain": [
       "A    31\n",
       "B    31\n",
       "Name: group, dtype: int64"
      ]
     },
     "metadata": {},
     "output_type": "display_data"
    },
    {
     "name": "stdout",
     "output_type": "stream",
     "text": [
      "visitors\n"
     ]
    },
    {
     "data": {
      "text/plain": [
       "610    2\n",
       "718    2\n",
       "654    2\n",
       "490    2\n",
       "509    1\n",
       "575    1\n",
       "699    1\n",
       "709    1\n",
       "361    1\n",
       "560    1\n",
       "679    1\n",
       "421    1\n",
       "676    1\n",
       "546    1\n",
       "544    1\n",
       "543    1\n",
       "722    1\n",
       "707    1\n",
       "668    1\n",
       "667    1\n",
       "406    1\n",
       "531    1\n",
       "656    1\n",
       "655    1\n",
       "395    1\n",
       "650    1\n",
       "646    1\n",
       "644    1\n",
       "770    1\n",
       "577    1\n",
       "711    1\n",
       "581    1\n",
       "617    1\n",
       "378    1\n",
       "413    1\n",
       "746    1\n",
       "502    1\n",
       "628    1\n",
       "756    1\n",
       "369    1\n",
       "412    1\n",
       "621    1\n",
       "748    1\n",
       "619    1\n",
       "487    1\n",
       "507    1\n",
       "609    1\n",
       "737    1\n",
       "735    1\n",
       "468    1\n",
       "595    1\n",
       "594    1\n",
       "721    1\n",
       "720    1\n",
       "719    1\n",
       "717    1\n",
       "713    1\n",
       "769    1\n",
       "Name: visitors, dtype: int64"
      ]
     },
     "metadata": {},
     "output_type": "display_data"
    }
   ],
   "source": [
    "# в цикле выводим `value_counts()` для каждого столбца\n",
    "\n",
    "for col in visitors.columns:\n",
    "    print(str(col))\n",
    "    display(visitors[col].value_counts())"
   ]
  },
  {
   "cell_type": "markdown",
   "metadata": {},
   "source": [
    "Подозрительных отрицательных значений не найдено"
   ]
  },
  {
   "cell_type": "markdown",
   "metadata": {},
   "source": [
    "### Работа с дубликатами"
   ]
  },
  {
   "cell_type": "code",
   "execution_count": 19,
   "metadata": {},
   "outputs": [
    {
     "data": {
      "text/plain": [
       "0"
      ]
     },
     "execution_count": 19,
     "metadata": {},
     "output_type": "execute_result"
    }
   ],
   "source": [
    "# поищем дубликаты\n",
    "orders.duplicated().sum()"
   ]
  },
  {
   "cell_type": "markdown",
   "metadata": {},
   "source": [
    "Дубликаты не найдены"
   ]
  },
  {
   "cell_type": "markdown",
   "metadata": {},
   "source": [
    "### Работа с пропущенными значениями"
   ]
  },
  {
   "cell_type": "markdown",
   "metadata": {},
   "source": [
    "Ранее мы и не обнаружили"
   ]
  },
  {
   "cell_type": "markdown",
   "metadata": {},
   "source": [
    "### Работа с типами данных"
   ]
  },
  {
   "cell_type": "code",
   "execution_count": 20,
   "metadata": {},
   "outputs": [],
   "source": [
    "# Приведём столбцы к формату даты и времени\n",
    "orders['date'] = orders['date'].map(lambda x: dt.datetime.strptime(x, '%Y-%m-%d'))\n",
    "visitors['date'] = visitors['date'].map(lambda x: dt.datetime.strptime(x, '%Y-%m-%d'))\n",
    "\n",
    "\n",
    "# перевод в нужный формат по старому\n",
    "# orders['date'] = pd.to_datetime(orders['date'], format=\"%Y-%m-%d\")\n",
    "# visitors['date'] = pd.to_datetime(visitors['date'], format=\"%Y-%m-%d\")"
   ]
  },
  {
   "cell_type": "markdown",
   "metadata": {},
   "source": [
    "### Вывод"
   ]
  },
  {
   "cell_type": "markdown",
   "metadata": {},
   "source": [
    "Мы не нашли пропущенных значений. Не нашли дубликаты, привели столбцы к формату времение и даты. Уменьшать разрядность не стал, таблички то маленькие"
   ]
  },
  {
   "cell_type": "markdown",
   "metadata": {},
   "source": [
    "## Приоритизация гипотез"
   ]
  },
  {
   "cell_type": "markdown",
   "metadata": {},
   "source": [
    "### Фреймворк ICE"
   ]
  },
  {
   "cell_type": "code",
   "execution_count": 21,
   "metadata": {},
   "outputs": [],
   "source": [
    "# Рассчитаем ICE по формуле:\n",
    "hypothesis['ICE'] = hypothesis['impact'] * hypothesis['confidence'] / hypothesis['efforts']"
   ]
  },
  {
   "cell_type": "code",
   "execution_count": 22,
   "metadata": {},
   "outputs": [
    {
     "name": "stdout",
     "output_type": "stream",
     "text": [
      "                                          hypothesis   ICE\n",
      "8  Запустить акцию, дающую скидку на товар в день... 16.20\n",
      "0  Добавить два новых канала привлечения трафика,... 13.33\n",
      "7  Добавить форму подписки на все основные страни... 11.20\n",
      "6  Показать на главной странице баннеры с актуаль...  8.00\n",
      "2  Добавить блоки рекомендаций товаров на сайт ин...  7.00\n",
      "1  Запустить собственную службу доставки, что сок...  2.00\n",
      "5  Добавить страницу отзывов клиентов о магазине,...  1.33\n",
      "3  Изменить структура категорий, что увеличит кон...  1.12\n",
      "4  Изменить цвет фона главной страницы, чтобы уве...  1.00\n"
     ]
    }
   ],
   "source": [
    "print(hypothesis.loc[:, ['hypothesis', 'ICE']].sort_values(by='ICE', ascending=False))"
   ]
  },
  {
   "cell_type": "markdown",
   "metadata": {},
   "source": [
    "Наиболее перспективны гипотезы 8, 0, 7, 6"
   ]
  },
  {
   "cell_type": "markdown",
   "metadata": {},
   "source": [
    "### Фреймворк RICE"
   ]
  },
  {
   "cell_type": "code",
   "execution_count": 23,
   "metadata": {},
   "outputs": [],
   "source": [
    "hypothesis['RICE'] = hypothesis['reach'] * hypothesis['impact'] * hypothesis['confidence'] / hypothesis['efforts']"
   ]
  },
  {
   "cell_type": "code",
   "execution_count": 24,
   "metadata": {},
   "outputs": [
    {
     "name": "stdout",
     "output_type": "stream",
     "text": [
      "                                          hypothesis   RICE\n",
      "7  Добавить форму подписки на все основные страни... 112.00\n",
      "2  Добавить блоки рекомендаций товаров на сайт ин...  56.00\n",
      "0  Добавить два новых канала привлечения трафика,...  40.00\n",
      "6  Показать на главной странице баннеры с актуаль...  40.00\n",
      "8  Запустить акцию, дающую скидку на товар в день...  16.20\n",
      "3  Изменить структура категорий, что увеличит кон...   9.00\n",
      "1  Запустить собственную службу доставки, что сок...   4.00\n",
      "5  Добавить страницу отзывов клиентов о магазине,...   4.00\n",
      "4  Изменить цвет фона главной страницы, чтобы уве...   3.00\n"
     ]
    }
   ],
   "source": [
    "print(hypothesis.loc[:, ['hypothesis', 'RICE']].sort_values(by='RICE', ascending=False))"
   ]
  },
  {
   "cell_type": "markdown",
   "metadata": {},
   "source": [
    "Наиболее перспективными гипотезами оказались 7, 2, 0, 6"
   ]
  },
  {
   "cell_type": "markdown",
   "metadata": {},
   "source": [
    "### Вывод"
   ]
  },
  {
   "cell_type": "markdown",
   "metadata": {},
   "source": [
    "При использование RICE вместо ICE приоритизация гипотез изменилась. Это произошло из за параметра 'reach' - охват. У 8 гипотезы он равен 1, а у 2 равен 8. Кроме силы самой гипотезы стоит учитывать так же и охват, как много пользователей она затронет."
   ]
  },
  {
   "cell_type": "markdown",
   "metadata": {},
   "source": [
    "## Анализ А/В теста"
   ]
  },
  {
   "cell_type": "markdown",
   "metadata": {},
   "source": [
    "### График кумулятивной выручки по группам"
   ]
  },
  {
   "cell_type": "code",
   "execution_count": 25,
   "metadata": {},
   "outputs": [],
   "source": [
    "# создаем массив уникальных пар значений дат и групп теста\n",
    "datesGroups = orders[['date','group']].drop_duplicates()"
   ]
  },
  {
   "cell_type": "code",
   "execution_count": 26,
   "metadata": {},
   "outputs": [],
   "source": [
    "# Соберём агрегированные кумулятивные по дням данные о заказах в несколько действий. \n",
    "\n",
    "ordersAggregated = datesGroups.apply(\n",
    "    lambda x: orders[np.logical_and(orders['date'] <= x['date'], orders['group'] == x['group'])].agg({\n",
    "'date' : 'max',\n",
    "'group' : 'max',\n",
    "'transactionId' : pd.Series.nunique,\n",
    "'visitorId' : pd.Series.nunique,\n",
    "'revenue' : 'sum'}), axis=1).sort_values(by=['date','group'])\n"
   ]
  },
  {
   "cell_type": "markdown",
   "metadata": {},
   "source": [
    "Этот код работает так, будто мы ежедневно считали результаты тестирования до выбранного дня включительно и сохраняли их в строках таблицы ordersAggregated. "
   ]
  },
  {
   "cell_type": "code",
   "execution_count": 27,
   "metadata": {},
   "outputs": [],
   "source": [
    "# Аналогично получим агрегированные кумулятивные по дням данные о посетителях интернет-магазина: \n",
    "\n",
    "visitorsAggregated = datesGroups.apply(\n",
    "    lambda x: visitors[np.logical_and(visitors['date'] <= x['date'], visitors['group'] == x['group'])].agg({\n",
    "    'date' : 'max',\n",
    "    'group' : 'max', \n",
    "    'visitors' : 'sum'}), axis=1).sort_values(by=['date','group'])"
   ]
  },
  {
   "cell_type": "code",
   "execution_count": 28,
   "metadata": {},
   "outputs": [],
   "source": [
    "# создаем массив уникальных пар значений дат и групп теста\n",
    "datesGroups = orders[['date','group']].drop_duplicates()"
   ]
  },
  {
   "cell_type": "code",
   "execution_count": 29,
   "metadata": {},
   "outputs": [
    {
     "data": {
      "text/html": [
       "<div>\n",
       "<style scoped>\n",
       "    .dataframe tbody tr th:only-of-type {\n",
       "        vertical-align: middle;\n",
       "    }\n",
       "\n",
       "    .dataframe tbody tr th {\n",
       "        vertical-align: top;\n",
       "    }\n",
       "\n",
       "    .dataframe thead th {\n",
       "        text-align: right;\n",
       "    }\n",
       "</style>\n",
       "<table border=\"1\" class=\"dataframe\">\n",
       "  <thead>\n",
       "    <tr style=\"text-align: right;\">\n",
       "      <th></th>\n",
       "      <th>date</th>\n",
       "      <th>group</th>\n",
       "      <th>orders</th>\n",
       "      <th>buyers</th>\n",
       "      <th>revenue</th>\n",
       "      <th>visitors</th>\n",
       "    </tr>\n",
       "  </thead>\n",
       "  <tbody>\n",
       "    <tr>\n",
       "      <td>0</td>\n",
       "      <td>2019-08-01</td>\n",
       "      <td>A</td>\n",
       "      <td>24</td>\n",
       "      <td>20</td>\n",
       "      <td>148579</td>\n",
       "      <td>719</td>\n",
       "    </tr>\n",
       "    <tr>\n",
       "      <td>1</td>\n",
       "      <td>2019-08-01</td>\n",
       "      <td>B</td>\n",
       "      <td>21</td>\n",
       "      <td>20</td>\n",
       "      <td>101217</td>\n",
       "      <td>713</td>\n",
       "    </tr>\n",
       "    <tr>\n",
       "      <td>2</td>\n",
       "      <td>2019-08-02</td>\n",
       "      <td>A</td>\n",
       "      <td>44</td>\n",
       "      <td>38</td>\n",
       "      <td>242401</td>\n",
       "      <td>1338</td>\n",
       "    </tr>\n",
       "    <tr>\n",
       "      <td>3</td>\n",
       "      <td>2019-08-02</td>\n",
       "      <td>B</td>\n",
       "      <td>45</td>\n",
       "      <td>43</td>\n",
       "      <td>266748</td>\n",
       "      <td>1294</td>\n",
       "    </tr>\n",
       "    <tr>\n",
       "      <td>4</td>\n",
       "      <td>2019-08-03</td>\n",
       "      <td>A</td>\n",
       "      <td>68</td>\n",
       "      <td>62</td>\n",
       "      <td>354874</td>\n",
       "      <td>1845</td>\n",
       "    </tr>\n",
       "  </tbody>\n",
       "</table>\n",
       "</div>"
      ],
      "text/plain": [
       "        date group  orders  buyers  revenue  visitors\n",
       "0 2019-08-01     A      24      20   148579       719\n",
       "1 2019-08-01     B      21      20   101217       713\n",
       "2 2019-08-02     A      44      38   242401      1338\n",
       "3 2019-08-02     B      45      43   266748      1294\n",
       "4 2019-08-03     A      68      62   354874      1845"
      ]
     },
     "execution_count": 29,
     "metadata": {},
     "output_type": "execute_result"
    }
   ],
   "source": [
    "# объединяем кумулятивные данные в одной таблице и присваиваем ее столбцам понятные названия\n",
    "\n",
    "cumulativeData = ordersAggregated.merge(\n",
    "    visitorsAggregated, left_on=['date', 'group'], right_on=['date', 'group'])\n",
    "cumulativeData.columns = ['date', 'group', 'orders', 'buyers', 'revenue', 'visitors']\n",
    "\n",
    "cumulativeData.head(5)"
   ]
  },
  {
   "cell_type": "code",
   "execution_count": 30,
   "metadata": {},
   "outputs": [],
   "source": [
    "# датафрейм с кумулятивным количеством заказов и кумулятивной выручкой по дням в группе А\n",
    "cumulativeRevenueA = cumulativeData[cumulativeData['group']=='A'][['date','revenue', 'orders']]"
   ]
  },
  {
   "cell_type": "code",
   "execution_count": 31,
   "metadata": {},
   "outputs": [],
   "source": [
    "# датафрейм с кумулятивным количеством заказов и кумулятивной выручкой по дням в группе B\n",
    "cumulativeRevenueB = cumulativeData[cumulativeData['group']=='B'][['date','revenue', 'orders']]"
   ]
  },
  {
   "cell_type": "code",
   "execution_count": 32,
   "metadata": {},
   "outputs": [
    {
     "data": {
      "image/png": "[encoded data removed]",
      "text/plain": [
       "<Figure size 864x648 with 1 Axes>"
      ]
     },
     "metadata": {
      "needs_background": "light"
     },
     "output_type": "display_data"
    }
   ],
   "source": [
    "# Строим график выручки группы А\n",
    "plt.figure(figsize=(12, 9))\n",
    "plt.plot(cumulativeRevenueA['date'], cumulativeRevenueA['revenue'], label='A')\n",
    "\n",
    "# Строим график выручки группы B\n",
    "plt.plot(cumulativeRevenueB['date'], cumulativeRevenueB['revenue'], label='B')\n",
    "\n",
    "plt.title('Кумулятивная выручка')\n",
    "plt.ylabel('Выручка')\n",
    "plt.xlabel('Дата')\n",
    "plt.legend()\n",
    "plt.show()"
   ]
  },
  {
   "cell_type": "markdown",
   "metadata": {},
   "source": [
    "Мы видим большую выручку группы 'B', но у неё наблюдается резкий скачок, возможно выбросы"
   ]
  },
  {
   "cell_type": "markdown",
   "metadata": {},
   "source": [
    "### График кумулятивного среднего чека по группам"
   ]
  },
  {
   "cell_type": "code",
   "execution_count": 33,
   "metadata": {},
   "outputs": [
    {
     "data": {
      "image/png": "[encoded data removed]",
      "text/plain": [
       "<Figure size 864x648 with 1 Axes>"
      ]
     },
     "metadata": {
      "needs_background": "light"
     },
     "output_type": "display_data"
    }
   ],
   "source": [
    "# Построим графики среднего чека по группам — \n",
    "# разделим кумулятивную выручку на кумулятивное число заказов:\n",
    "\n",
    "plt.figure(figsize=(12, 9))\n",
    "plt.plot(cumulativeRevenueA['date'], cumulativeRevenueA['revenue']/cumulativeRevenueA['orders'], label='A')\n",
    "plt.plot(cumulativeRevenueB['date'], cumulativeRevenueB['revenue']/cumulativeRevenueB['orders'], label='B')\n",
    "plt.title('Кумулятивная средний чек')\n",
    "plt.ylabel('Средний чек')\n",
    "plt.xlabel('Дата')\n",
    "\n",
    "plt.legend()\n",
    "plt.show()"
   ]
  },
  {
   "cell_type": "markdown",
   "metadata": {},
   "source": [
    "Кумулятивное значение среднего чека продолжает колебаться. Принимать решение по этой метрике рано, или требуется дополнительный анализ выбросов"
   ]
  },
  {
   "cell_type": "markdown",
   "metadata": {},
   "source": [
    "### График относительного изменения кумулятивного среднего чека группы B к группе A"
   ]
  },
  {
   "cell_type": "code",
   "execution_count": 34,
   "metadata": {},
   "outputs": [],
   "source": [
    "# Построим график относительного различия для среднего чека. \n",
    "# собираем данные в одном датафрейме\n",
    "mergedCumulativeRevenue = cumulativeRevenueA.merge(\n",
    "    cumulativeRevenueB, \n",
    "    left_on='date', \n",
    "    right_on='date',\n",
    "    how='left', \n",
    "    suffixes=['A', 'B']\n",
    ")"
   ]
  },
  {
   "cell_type": "code",
   "execution_count": 35,
   "metadata": {},
   "outputs": [
    {
     "data": {
      "image/png": "[encoded data removed]",
      "text/plain": [
       "<Figure size 864x648 with 1 Axes>"
      ]
     },
     "metadata": {
      "needs_background": "light"
     },
     "output_type": "display_data"
    }
   ],
   "source": [
    "# cтроим отношение средних чеков\n",
    "plt.figure(figsize=(12, 9))\n",
    "plt.plot(mergedCumulativeRevenue['date'], (\n",
    "    mergedCumulativeRevenue['revenueB']/mergedCumulativeRevenue['ordersB'])/(\n",
    "    mergedCumulativeRevenue['revenueA']/mergedCumulativeRevenue['ordersA'])-1)\n",
    "# добавляем ось X\n",
    "plt.axhline(y=0, color='black', linestyle='--')\n",
    "\n",
    "plt.title('Соотношение средних чеков')\n",
    "plt.ylabel('Отношение')\n",
    "plt.xlabel('Дата')\n",
    "plt.show()"
   ]
  },
  {
   "cell_type": "markdown",
   "metadata": {},
   "source": [
    "Соотношение средних чеков резко менялось в некоторые даты. Именно тогда видимо и были совершены анамальные заказы."
   ]
  },
  {
   "cell_type": "markdown",
   "metadata": {},
   "source": [
    "### График кумулятивной конверсии по группам"
   ]
  },
  {
   "cell_type": "code",
   "execution_count": 36,
   "metadata": {},
   "outputs": [],
   "source": [
    "# Аналогично проанализируем график кумулятивной конверсии\n",
    "# считаем кумулятивную конверсию\n",
    "cumulativeData['conversion'] = cumulativeData['orders']/cumulativeData['visitors']"
   ]
  },
  {
   "cell_type": "code",
   "execution_count": 37,
   "metadata": {},
   "outputs": [],
   "source": [
    "# отделяем данные по группе A\n",
    "cumulativeDataA = cumulativeData[cumulativeData['group']=='A']"
   ]
  },
  {
   "cell_type": "code",
   "execution_count": 38,
   "metadata": {},
   "outputs": [],
   "source": [
    "# отделяем данные по группе B\n",
    "cumulativeDataB = cumulativeData[cumulativeData['group']=='B']"
   ]
  },
  {
   "cell_type": "code",
   "execution_count": 39,
   "metadata": {},
   "outputs": [
    {
     "data": {
      "image/png": "[encoded data removed]",
      "text/plain": [
       "<Figure size 864x648 with 1 Axes>"
      ]
     },
     "metadata": {
      "needs_background": "light"
     },
     "output_type": "display_data"
    }
   ],
   "source": [
    "# строим графики\n",
    "plt.figure(figsize=(12, 9))\n",
    "plt.plot(cumulativeDataA['date'], cumulativeDataA['conversion'], label='A')\n",
    "plt.plot(cumulativeDataB['date'], cumulativeDataB['conversion'], label='B')\n",
    "plt.title('Кумулятивная конверсия')\n",
    "plt.ylabel('Конверсия')\n",
    "plt.xlabel('Дата')\n",
    "plt.legend()\n",
    "\n",
    "# задаем масштаб осей\n",
    "plt.axis([\"2019-08-01\", '2019-09-01', 0, 0.05])\n",
    "plt.show()"
   ]
  },
  {
   "cell_type": "markdown",
   "metadata": {},
   "source": [
    "В начале теста группа \"А\" имела бОльшую конверсию, но после 08-05 группа \"В\" вышла вперёд и зафиксировалась около одного значения."
   ]
  },
  {
   "cell_type": "markdown",
   "metadata": {},
   "source": [
    "### График относительного изменения кумулятивной конверсии группы B к группе A"
   ]
  },
  {
   "cell_type": "code",
   "execution_count": 40,
   "metadata": {},
   "outputs": [],
   "source": [
    "# Построим график относительного различия кумулятивных конверсий:\n",
    "mergedCumulativeConversions = cumulativeDataA[['date','conversion']].merge(\n",
    "    cumulativeDataB[['date','conversion']],\n",
    "    left_on='date', \n",
    "    right_on='date',\n",
    "    how='left',\n",
    "    suffixes=['A', 'B'])"
   ]
  },
  {
   "cell_type": "code",
   "execution_count": 41,
   "metadata": {},
   "outputs": [
    {
     "data": {
      "image/png": "[encoded data removed]",
      "text/plain": [
       "<Figure size 864x648 with 1 Axes>"
      ]
     },
     "metadata": {
      "needs_background": "light"
     },
     "output_type": "display_data"
    }
   ],
   "source": [
    "plt.figure(figsize=(12, 9))\n",
    "plt.plot(mergedCumulativeConversions['date'], \n",
    "         mergedCumulativeConversions['conversionB']/mergedCumulativeConversions['conversionA']-1,\n",
    "         label=\"Относительный прирост конверсии группы B относительно группы A\")\n",
    "plt.legend()\n",
    "\n",
    "plt.axhline(y=0, color='black', linestyle='--')\n",
    "plt.axhline(y=0.2, color='grey', linestyle='--')\n",
    "plt.axis([\"2019-08-01\", '2019-09-01', -0.5, 0.5])\n",
    "plt.show()"
   ]
  },
  {
   "cell_type": "markdown",
   "metadata": {},
   "source": [
    "Вначале группа \"В\" проигрывала группе \"А\". Но почти сразу группа \"В\" стала лидировать по конверсии. Достигнув максимума в 20% зафиксировалась около 10-15%"
   ]
  },
  {
   "cell_type": "markdown",
   "metadata": {},
   "source": [
    "### Точечный график количества заказов по пользователям"
   ]
  },
  {
   "cell_type": "markdown",
   "metadata": {},
   "source": [
    "Подсчитаем количество заказов по пользователям и посмотрим на результат:"
   ]
  },
  {
   "cell_type": "code",
   "execution_count": 42,
   "metadata": {},
   "outputs": [
    {
     "data": {
      "text/html": [
       "<div>\n",
       "<style scoped>\n",
       "    .dataframe tbody tr th:only-of-type {\n",
       "        vertical-align: middle;\n",
       "    }\n",
       "\n",
       "    .dataframe tbody tr th {\n",
       "        vertical-align: top;\n",
       "    }\n",
       "\n",
       "    .dataframe thead th {\n",
       "        text-align: right;\n",
       "    }\n",
       "</style>\n",
       "<table border=\"1\" class=\"dataframe\">\n",
       "  <thead>\n",
       "    <tr style=\"text-align: right;\">\n",
       "      <th></th>\n",
       "      <th>userId</th>\n",
       "      <th>orders</th>\n",
       "    </tr>\n",
       "  </thead>\n",
       "  <tbody>\n",
       "    <tr>\n",
       "      <td>1023</td>\n",
       "      <td>4256040402</td>\n",
       "      <td>11</td>\n",
       "    </tr>\n",
       "    <tr>\n",
       "      <td>591</td>\n",
       "      <td>2458001652</td>\n",
       "      <td>11</td>\n",
       "    </tr>\n",
       "    <tr>\n",
       "      <td>569</td>\n",
       "      <td>2378935119</td>\n",
       "      <td>9</td>\n",
       "    </tr>\n",
       "    <tr>\n",
       "      <td>487</td>\n",
       "      <td>2038680547</td>\n",
       "      <td>8</td>\n",
       "    </tr>\n",
       "    <tr>\n",
       "      <td>44</td>\n",
       "      <td>199603092</td>\n",
       "      <td>5</td>\n",
       "    </tr>\n",
       "    <tr>\n",
       "      <td>744</td>\n",
       "      <td>3062433592</td>\n",
       "      <td>5</td>\n",
       "    </tr>\n",
       "    <tr>\n",
       "      <td>55</td>\n",
       "      <td>237748145</td>\n",
       "      <td>5</td>\n",
       "    </tr>\n",
       "    <tr>\n",
       "      <td>917</td>\n",
       "      <td>3803269165</td>\n",
       "      <td>5</td>\n",
       "    </tr>\n",
       "    <tr>\n",
       "      <td>299</td>\n",
       "      <td>1230306981</td>\n",
       "      <td>5</td>\n",
       "    </tr>\n",
       "    <tr>\n",
       "      <td>897</td>\n",
       "      <td>3717692402</td>\n",
       "      <td>5</td>\n",
       "    </tr>\n",
       "  </tbody>\n",
       "</table>\n",
       "</div>"
      ],
      "text/plain": [
       "          userId  orders\n",
       "1023  4256040402      11\n",
       "591   2458001652      11\n",
       "569   2378935119       9\n",
       "487   2038680547       8\n",
       "44     199603092       5\n",
       "744   3062433592       5\n",
       "55     237748145       5\n",
       "917   3803269165       5\n",
       "299   1230306981       5\n",
       "897   3717692402       5"
      ]
     },
     "execution_count": 42,
     "metadata": {},
     "output_type": "execute_result"
    }
   ],
   "source": [
    "# Метод .drop(['...', '...', '...'], axis=1) поможет избавиться от лишних столбцов\n",
    "# Метод .groupby('...', as_index=False) сгруппирует заказы по пользователям\n",
    "# Метод .agg({'...' : '...',}) посчитает агрегированные метрики на сгруппированных данных\n",
    "# Метод pd.Series.nunique подсчитает число уникальных заказов\n",
    "# Метод .sort_values(by='...',ascending=False) отсортирует датафрейм по значению в столбце\n",
    "ordersByUsers = (\n",
    "    orders.drop(['group', 'revenue', 'date'], axis=1)\n",
    "    .groupby('visitorId', as_index=False)\n",
    "    .agg({'transactionId': pd.Series.nunique})\n",
    ")\n",
    "\n",
    "ordersByUsers.columns = ['userId', 'orders']\n",
    "\n",
    "ordersByUsers.sort_values(by='orders', ascending=False).head(10)"
   ]
  },
  {
   "cell_type": "code",
   "execution_count": 43,
   "metadata": {},
   "outputs": [
    {
     "data": {
      "image/png": "[encoded data removed]",
      "text/plain": [
       "<Figure size 432x288 with 1 Axes>"
      ]
     },
     "metadata": {
      "needs_background": "light"
     },
     "output_type": "display_data"
    }
   ],
   "source": [
    "# серия из чисел от 0 до количества наблюдений в ordersByUsers\n",
    "x_values = pd.Series(range(0, len(ordersByUsers)))\n",
    "\n",
    "plt.scatter(x_values, ordersByUsers['orders']) \n",
    "plt.title('Распределение количества заказов')\n",
    "plt.ylabel('Количество заказов')\n",
    "plt.xlabel('')\n",
    "plt.show()"
   ]
  },
  {
   "cell_type": "markdown",
   "metadata": {},
   "source": [
    "Мы построили точечный график распределения количества заказов. Большинство укладывается в 5 и менее заказов, однаков 5 и 4 заказов это много или нормально?"
   ]
  },
  {
   "cell_type": "markdown",
   "metadata": {},
   "source": [
    "### 95-й и 99-й перцентили количества заказов на пользователя"
   ]
  },
  {
   "cell_type": "code",
   "execution_count": 44,
   "metadata": {},
   "outputs": [
    {
     "name": "stdout",
     "output_type": "stream",
     "text": [
      "95-й и 99-й перцентили количества заказов на пользователя: [2. 4.]\n"
     ]
    }
   ],
   "source": [
    "# Метод np.percentile('column', [percentile1, percentile2, percentile3]) находит перцентили.\n",
    "print('95-й и 99-й перцентили количества заказов на пользователя:', np.percentile(ordersByUsers['orders'], [95, 99])) "
   ]
  },
  {
   "cell_type": "markdown",
   "metadata": {},
   "source": [
    "Не больше 2 заказов совершали 95% пользователей и не больше 4 заказов 99%"
   ]
  },
  {
   "cell_type": "markdown",
   "metadata": {},
   "source": [
    "### Точечный график стоимостей заказов"
   ]
  },
  {
   "cell_type": "code",
   "execution_count": 45,
   "metadata": {},
   "outputs": [
    {
     "data": {
      "text/html": [
       "<div>\n",
       "<style scoped>\n",
       "    .dataframe tbody tr th:only-of-type {\n",
       "        vertical-align: middle;\n",
       "    }\n",
       "\n",
       "    .dataframe tbody tr th {\n",
       "        vertical-align: top;\n",
       "    }\n",
       "\n",
       "    .dataframe thead th {\n",
       "        text-align: right;\n",
       "    }\n",
       "</style>\n",
       "<table border=\"1\" class=\"dataframe\">\n",
       "  <thead>\n",
       "    <tr style=\"text-align: right;\">\n",
       "      <th></th>\n",
       "      <th>transactionId</th>\n",
       "      <th>visitorId</th>\n",
       "      <th>date</th>\n",
       "      <th>revenue</th>\n",
       "      <th>group</th>\n",
       "    </tr>\n",
       "  </thead>\n",
       "  <tbody>\n",
       "    <tr>\n",
       "      <td>425</td>\n",
       "      <td>590470918</td>\n",
       "      <td>1920142716</td>\n",
       "      <td>2019-08-19</td>\n",
       "      <td>1294500</td>\n",
       "      <td>B</td>\n",
       "    </tr>\n",
       "    <tr>\n",
       "      <td>1196</td>\n",
       "      <td>3936777065</td>\n",
       "      <td>2108080724</td>\n",
       "      <td>2019-08-15</td>\n",
       "      <td>202740</td>\n",
       "      <td>B</td>\n",
       "    </tr>\n",
       "    <tr>\n",
       "      <td>858</td>\n",
       "      <td>192721366</td>\n",
       "      <td>1316129916</td>\n",
       "      <td>2019-08-27</td>\n",
       "      <td>93940</td>\n",
       "      <td>A</td>\n",
       "    </tr>\n",
       "    <tr>\n",
       "      <td>1136</td>\n",
       "      <td>666610489</td>\n",
       "      <td>1307669133</td>\n",
       "      <td>2019-08-13</td>\n",
       "      <td>92550</td>\n",
       "      <td>A</td>\n",
       "    </tr>\n",
       "    <tr>\n",
       "      <td>744</td>\n",
       "      <td>3668308183</td>\n",
       "      <td>888512513</td>\n",
       "      <td>2019-08-27</td>\n",
       "      <td>86620</td>\n",
       "      <td>B</td>\n",
       "    </tr>\n",
       "    <tr>\n",
       "      <td>682</td>\n",
       "      <td>1216533772</td>\n",
       "      <td>4266935830</td>\n",
       "      <td>2019-08-29</td>\n",
       "      <td>78990</td>\n",
       "      <td>B</td>\n",
       "    </tr>\n",
       "    <tr>\n",
       "      <td>662</td>\n",
       "      <td>1811671147</td>\n",
       "      <td>4266935830</td>\n",
       "      <td>2019-08-29</td>\n",
       "      <td>78990</td>\n",
       "      <td>A</td>\n",
       "    </tr>\n",
       "    <tr>\n",
       "      <td>743</td>\n",
       "      <td>3603576309</td>\n",
       "      <td>4133034833</td>\n",
       "      <td>2019-08-09</td>\n",
       "      <td>67990</td>\n",
       "      <td>A</td>\n",
       "    </tr>\n",
       "    <tr>\n",
       "      <td>1103</td>\n",
       "      <td>1348774318</td>\n",
       "      <td>1164614297</td>\n",
       "      <td>2019-08-12</td>\n",
       "      <td>66350</td>\n",
       "      <td>A</td>\n",
       "    </tr>\n",
       "    <tr>\n",
       "      <td>1099</td>\n",
       "      <td>316924019</td>\n",
       "      <td>148427295</td>\n",
       "      <td>2019-08-12</td>\n",
       "      <td>65710</td>\n",
       "      <td>A</td>\n",
       "    </tr>\n",
       "  </tbody>\n",
       "</table>\n",
       "</div>"
      ],
      "text/plain": [
       "      transactionId   visitorId       date  revenue group\n",
       "425       590470918  1920142716 2019-08-19  1294500     B\n",
       "1196     3936777065  2108080724 2019-08-15   202740     B\n",
       "858       192721366  1316129916 2019-08-27    93940     A\n",
       "1136      666610489  1307669133 2019-08-13    92550     A\n",
       "744      3668308183   888512513 2019-08-27    86620     B\n",
       "682      1216533772  4266935830 2019-08-29    78990     B\n",
       "662      1811671147  4266935830 2019-08-29    78990     A\n",
       "743      3603576309  4133034833 2019-08-09    67990     A\n",
       "1103     1348774318  1164614297 2019-08-12    66350     A\n",
       "1099      316924019   148427295 2019-08-12    65710     A"
      ]
     },
     "execution_count": 45,
     "metadata": {},
     "output_type": "execute_result"
    }
   ],
   "source": [
    "orders.sort_values(by='revenue', ascending=False).head(10)"
   ]
  },
  {
   "cell_type": "code",
   "execution_count": 46,
   "metadata": {},
   "outputs": [
    {
     "data": {
      "image/png": "[encoded data removed]",
      "text/plain": [
       "<Figure size 432x288 with 1 Axes>"
      ]
     },
     "metadata": {
      "needs_background": "light"
     },
     "output_type": "display_data"
    }
   ],
   "source": [
    "x_values = pd.Series(range(0, len(orders['revenue'])))\n",
    "plt.scatter(x_values, orders['revenue']) \n",
    "plt.title('Распределение стоимости')\n",
    "plt.ylabel('Стоимость')\n",
    "plt.xlabel('')\n",
    "plt.show()"
   ]
  },
  {
   "cell_type": "markdown",
   "metadata": {},
   "source": [
    "Выделяется пара заказов стоимостью около 200 000, и почти 130 000. Но вот какой стоимостью заказ считать нормальным тяжело сказать"
   ]
  },
  {
   "cell_type": "markdown",
   "metadata": {},
   "source": [
    "###  95-й и 99-й перцентили стоимости заказов"
   ]
  },
  {
   "cell_type": "code",
   "execution_count": 47,
   "metadata": {},
   "outputs": [
    {
     "name": "stdout",
     "output_type": "stream",
     "text": [
      "95-й и 99-й перцентили количества заказов на пользователя: [28000.  58233.2]\n"
     ]
    }
   ],
   "source": [
    "# Метод np.percentile('column', [percentile1, percentile2, percentile3]) находит перцентили.\n",
    "print('95-й и 99-й перцентили количества заказов на пользователя:', np.percentile(orders['revenue'], [95, 99])) "
   ]
  },
  {
   "cell_type": "markdown",
   "metadata": {},
   "source": [
    "Заказы не дороже 28 000 совершали 95% пользователей, не дороже 58 233,2 совершили 99%"
   ]
  },
  {
   "cell_type": "markdown",
   "metadata": {},
   "source": [
    "### Статистическая значимость различий в конверсии между группами по «сырым» данным"
   ]
  },
  {
   "cell_type": "markdown",
   "metadata": {},
   "source": [
    "Начнём с подготовки данных"
   ]
  },
  {
   "cell_type": "code",
   "execution_count": 48,
   "metadata": {},
   "outputs": [],
   "source": [
    "# визиты для группы \"А\"\n",
    "visitorsADaily = visitors[visitors['group'] == 'A'][['date', 'visitors']]\n",
    "visitorsADaily.columns = ['date', 'visitorsPerDateA']"
   ]
  },
  {
   "cell_type": "code",
   "execution_count": 49,
   "metadata": {},
   "outputs": [],
   "source": [
    "visitorsACummulative = visitorsADaily.apply(\n",
    "    lambda x: visitorsADaily[visitorsADaily['date'] <= x['date']].agg(\n",
    "        {'date': 'max', 'visitorsPerDateA': 'sum'}\n",
    "    ),\n",
    "    axis=1,\n",
    ")\n",
    "visitorsACummulative.columns = ['date', 'visitorsCummulativeA']"
   ]
  },
  {
   "cell_type": "code",
   "execution_count": 50,
   "metadata": {},
   "outputs": [],
   "source": [
    "# визиты для группы \"В\"\n",
    "visitorsBDaily = visitors[visitors['group'] == 'B'][['date', 'visitors']]\n",
    "visitorsBDaily.columns = ['date', 'visitorsPerDateB']"
   ]
  },
  {
   "cell_type": "code",
   "execution_count": 51,
   "metadata": {},
   "outputs": [],
   "source": [
    "visitorsBCummulative = visitorsBDaily.apply(\n",
    "    lambda x: visitorsBDaily[visitorsBDaily['date'] <= x['date']].agg(\n",
    "        {'date': 'max', 'visitorsPerDateB': 'sum'}\n",
    "    ),\n",
    "    axis=1,\n",
    ")\n",
    "visitorsBCummulative.columns = ['date', 'visitorsCummulativeB']"
   ]
  },
  {
   "cell_type": "code",
   "execution_count": null,
   "metadata": {},
   "outputs": [],
   "source": []
  },
  {
   "cell_type": "code",
   "execution_count": 52,
   "metadata": {},
   "outputs": [],
   "source": [
    "# заказы для группы \"А\"\n",
    "ordersADaily = (\n",
    "    orders[orders['group'] == 'A'][['date', 'transactionId', 'visitorId', 'revenue']]\n",
    "    .groupby('date', as_index=False)\n",
    "    .agg({'transactionId': pd.Series.nunique, 'revenue': 'sum'})\n",
    ")\n",
    "ordersADaily.columns = ['date', 'ordersPerDateA', 'revenuePerDateA']"
   ]
  },
  {
   "cell_type": "code",
   "execution_count": 53,
   "metadata": {},
   "outputs": [],
   "source": [
    "ordersACummulative = ordersADaily.apply(\n",
    "    lambda x: ordersADaily[ordersADaily['date'] <= x['date']].agg(\n",
    "        {'date': 'max', 'ordersPerDateA': 'sum', 'revenuePerDateA': 'sum'}\n",
    "    ),\n",
    "    axis=1,\n",
    ").sort_values(by=['date'])"
   ]
  },
  {
   "cell_type": "code",
   "execution_count": 54,
   "metadata": {},
   "outputs": [],
   "source": [
    "ordersACummulative.columns = [\n",
    "    'date',\n",
    "    'ordersCummulativeA',\n",
    "    'revenueCummulativeA',\n",
    "]"
   ]
  },
  {
   "cell_type": "code",
   "execution_count": null,
   "metadata": {},
   "outputs": [],
   "source": []
  },
  {
   "cell_type": "code",
   "execution_count": 55,
   "metadata": {},
   "outputs": [],
   "source": [
    "# заказы для группы \"В\"\n",
    "ordersBDaily = (\n",
    "    orders[orders['group'] == 'B'][['date', 'transactionId', 'visitorId', 'revenue']]\n",
    "    .groupby('date', as_index=False)\n",
    "    .agg({'transactionId': pd.Series.nunique, 'revenue': 'sum'})\n",
    ")\n",
    "ordersBDaily.columns = ['date', 'ordersPerDateB', 'revenuePerDateB']"
   ]
  },
  {
   "cell_type": "code",
   "execution_count": 56,
   "metadata": {},
   "outputs": [],
   "source": [
    "ordersBCummulative = ordersBDaily.apply(\n",
    "    lambda x: ordersBDaily[ordersBDaily['date'] <= x['date']].agg(\n",
    "        {'date': 'max', 'ordersPerDateB': 'sum', 'revenuePerDateB': 'sum'}\n",
    "    ),\n",
    "    axis=1,\n",
    ").sort_values(by=['date'])"
   ]
  },
  {
   "cell_type": "code",
   "execution_count": 57,
   "metadata": {},
   "outputs": [],
   "source": [
    "ordersBCummulative.columns = [\n",
    "    'date',\n",
    "    'ordersCummulativeB',\n",
    "    'revenueCummulativeB',\n",
    "]"
   ]
  },
  {
   "cell_type": "code",
   "execution_count": null,
   "metadata": {},
   "outputs": [],
   "source": []
  },
  {
   "cell_type": "code",
   "execution_count": 58,
   "metadata": {},
   "outputs": [
    {
     "data": {
      "text/html": [
       "<div>\n",
       "<style scoped>\n",
       "    .dataframe tbody tr th:only-of-type {\n",
       "        vertical-align: middle;\n",
       "    }\n",
       "\n",
       "    .dataframe tbody tr th {\n",
       "        vertical-align: top;\n",
       "    }\n",
       "\n",
       "    .dataframe thead th {\n",
       "        text-align: right;\n",
       "    }\n",
       "</style>\n",
       "<table border=\"1\" class=\"dataframe\">\n",
       "  <thead>\n",
       "    <tr style=\"text-align: right;\">\n",
       "      <th></th>\n",
       "      <th>date</th>\n",
       "      <th>ordersPerDateA</th>\n",
       "      <th>revenuePerDateA</th>\n",
       "      <th>ordersPerDateB</th>\n",
       "      <th>revenuePerDateB</th>\n",
       "      <th>ordersCummulativeA</th>\n",
       "      <th>revenueCummulativeA</th>\n",
       "      <th>ordersCummulativeB</th>\n",
       "      <th>revenueCummulativeB</th>\n",
       "      <th>visitorsPerDateA</th>\n",
       "      <th>visitorsPerDateB</th>\n",
       "      <th>visitorsCummulativeA</th>\n",
       "      <th>visitorsCummulativeB</th>\n",
       "    </tr>\n",
       "  </thead>\n",
       "  <tbody>\n",
       "    <tr>\n",
       "      <td>0</td>\n",
       "      <td>2019-08-01</td>\n",
       "      <td>24</td>\n",
       "      <td>148579</td>\n",
       "      <td>21</td>\n",
       "      <td>101217</td>\n",
       "      <td>24</td>\n",
       "      <td>148579</td>\n",
       "      <td>21</td>\n",
       "      <td>101217</td>\n",
       "      <td>719</td>\n",
       "      <td>713</td>\n",
       "      <td>719</td>\n",
       "      <td>713</td>\n",
       "    </tr>\n",
       "    <tr>\n",
       "      <td>1</td>\n",
       "      <td>2019-08-02</td>\n",
       "      <td>20</td>\n",
       "      <td>93822</td>\n",
       "      <td>24</td>\n",
       "      <td>165531</td>\n",
       "      <td>44</td>\n",
       "      <td>242401</td>\n",
       "      <td>45</td>\n",
       "      <td>266748</td>\n",
       "      <td>619</td>\n",
       "      <td>581</td>\n",
       "      <td>1338</td>\n",
       "      <td>1294</td>\n",
       "    </tr>\n",
       "    <tr>\n",
       "      <td>2</td>\n",
       "      <td>2019-08-03</td>\n",
       "      <td>24</td>\n",
       "      <td>112473</td>\n",
       "      <td>16</td>\n",
       "      <td>114248</td>\n",
       "      <td>68</td>\n",
       "      <td>354874</td>\n",
       "      <td>61</td>\n",
       "      <td>380996</td>\n",
       "      <td>507</td>\n",
       "      <td>509</td>\n",
       "      <td>1845</td>\n",
       "      <td>1803</td>\n",
       "    </tr>\n",
       "    <tr>\n",
       "      <td>3</td>\n",
       "      <td>2019-08-04</td>\n",
       "      <td>16</td>\n",
       "      <td>70825</td>\n",
       "      <td>17</td>\n",
       "      <td>108571</td>\n",
       "      <td>84</td>\n",
       "      <td>425699</td>\n",
       "      <td>78</td>\n",
       "      <td>489567</td>\n",
       "      <td>717</td>\n",
       "      <td>770</td>\n",
       "      <td>2562</td>\n",
       "      <td>2573</td>\n",
       "    </tr>\n",
       "    <tr>\n",
       "      <td>4</td>\n",
       "      <td>2019-08-05</td>\n",
       "      <td>25</td>\n",
       "      <td>124218</td>\n",
       "      <td>23</td>\n",
       "      <td>92428</td>\n",
       "      <td>109</td>\n",
       "      <td>549917</td>\n",
       "      <td>101</td>\n",
       "      <td>581995</td>\n",
       "      <td>756</td>\n",
       "      <td>707</td>\n",
       "      <td>3318</td>\n",
       "      <td>3280</td>\n",
       "    </tr>\n",
       "  </tbody>\n",
       "</table>\n",
       "</div>"
      ],
      "text/plain": [
       "        date  ordersPerDateA  revenuePerDateA  ordersPerDateB  \\\n",
       "0 2019-08-01              24           148579              21   \n",
       "1 2019-08-02              20            93822              24   \n",
       "2 2019-08-03              24           112473              16   \n",
       "3 2019-08-04              16            70825              17   \n",
       "4 2019-08-05              25           124218              23   \n",
       "\n",
       "   revenuePerDateB  ordersCummulativeA  revenueCummulativeA  \\\n",
       "0           101217                  24               148579   \n",
       "1           165531                  44               242401   \n",
       "2           114248                  68               354874   \n",
       "3           108571                  84               425699   \n",
       "4            92428                 109               549917   \n",
       "\n",
       "   ordersCummulativeB  revenueCummulativeB  visitorsPerDateA  \\\n",
       "0                  21               101217               719   \n",
       "1                  45               266748               619   \n",
       "2                  61               380996               507   \n",
       "3                  78               489567               717   \n",
       "4                 101               581995               756   \n",
       "\n",
       "   visitorsPerDateB  visitorsCummulativeA  visitorsCummulativeB  \n",
       "0               713                   719                   713  \n",
       "1               581                  1338                  1294  \n",
       "2               509                  1845                  1803  \n",
       "3               770                  2562                  2573  \n",
       "4               707                  3318                  3280  "
      ]
     },
     "execution_count": 58,
     "metadata": {},
     "output_type": "execute_result"
    }
   ],
   "source": [
    "data = (\n",
    "    ordersADaily.merge(\n",
    "        ordersBDaily, left_on='date', right_on='date', how='left'\n",
    "    )\n",
    "    .merge(ordersACummulative, left_on='date', right_on='date', how='left')\n",
    "    .merge(ordersBCummulative, left_on='date', right_on='date', how='left')\n",
    "    .merge(visitorsADaily, left_on='date', right_on='date', how='left')\n",
    "    .merge(visitorsBDaily, left_on='date', right_on='date', how='left')\n",
    "    .merge(visitorsACummulative, left_on='date', right_on='date', how='left')\n",
    "    .merge(visitorsBCummulative, left_on='date', right_on='date', how='left')\n",
    ")\n",
    "\n",
    "data.head(5)"
   ]
  },
  {
   "cell_type": "markdown",
   "metadata": {},
   "source": [
    "Посчитаем статистическую значимость различия в конверсии между группами"
   ]
  },
  {
   "cell_type": "code",
   "execution_count": 59,
   "metadata": {},
   "outputs": [],
   "source": [
    "# Создадим переменные ordersByUsersA и ordersByUsersB со столбцами ['userId', 'orders'].\n",
    "# В них для пользователей, которые заказывали хотя бы 1 раз, укажем число совершённых заказов\n",
    "ordersByUsersA = (\n",
    "    orders[orders['group'] == 'A']\n",
    "    .groupby('visitorId', as_index=False)\n",
    "    .agg({'transactionId': pd.Series.nunique})\n",
    ")\n",
    "ordersByUsersA.columns = ['userId', 'orders']"
   ]
  },
  {
   "cell_type": "code",
   "execution_count": 60,
   "metadata": {},
   "outputs": [],
   "source": [
    "ordersByUsersB = (\n",
    "    orders[orders['group'] == 'B']\n",
    "    .groupby('visitorId', as_index=False)\n",
    "    .agg({'transactionId': pd.Series.nunique})\n",
    ")\n",
    "ordersByUsersB.columns = ['userId', 'orders']"
   ]
  },
  {
   "cell_type": "markdown",
   "metadata": {},
   "source": [
    "Объявим переменные sampleA и sampleB, в которых пользователям из разных групп будет соответствовать количество заказов. Тем, кто ничего не заказал, будут соответствовать нули. Это нужно, чтобы подготовить выборки к проверке критерием Манна-Уитни\n",
    "\n",
    "Переменная sampleA должна состоять из двух частей:\n",
    "\n",
    "- Список с количеством заказов для каждого из пользователей: ordersByUsersA['orders'].\n",
    "- Нули для пользователей, которые ничего не заказывали. Их количество равно разнице между суммой посетителей и количеством записей о заказах: data['visitorsPerDateA'].sum() - len(ordersByUsersA['orders']). Создадим объект pd.Series нужной длины:"
   ]
  },
  {
   "cell_type": "code",
   "execution_count": 61,
   "metadata": {},
   "outputs": [
    {
     "data": {
      "text/plain": [
       "0        0\n",
       "1        0\n",
       "2        0\n",
       "3        0\n",
       "4        0\n",
       "        ..\n",
       "18228    0\n",
       "18229    0\n",
       "18230    0\n",
       "18231    0\n",
       "18232    0\n",
       "Name: orders, Length: 18233, dtype: int64"
      ]
     },
     "execution_count": 61,
     "metadata": {},
     "output_type": "execute_result"
    }
   ],
   "source": [
    "# Список индексов создали функцией np.arange(). Она работает так же, как функция range(),\n",
    "# только создаёт массив индексов в формате np.array, который требуется в pd.Series\n",
    "pd.Series(0, index=np.arange(data['visitorsPerDateA'].sum() - len(ordersByUsersA['orders'])), name='orders')"
   ]
  },
  {
   "cell_type": "code",
   "execution_count": 62,
   "metadata": {},
   "outputs": [
    {
     "data": {
      "text/plain": [
       "[0      1\n",
       " 1      1\n",
       " 2      1\n",
       " 3      1\n",
       " 4      1\n",
       "       ..\n",
       " 498    1\n",
       " 499    7\n",
       " 500    1\n",
       " 501    1\n",
       " 502    1\n",
       " Name: orders, Length: 503, dtype: int64,\n",
       " 0        0\n",
       " 1        0\n",
       " 2        0\n",
       " 3        0\n",
       " 4        0\n",
       "         ..\n",
       " 18228    0\n",
       " 18229    0\n",
       " 18230    0\n",
       " 18231    0\n",
       " 18232    0\n",
       " Name: orders, Length: 18233, dtype: int64]"
      ]
     },
     "execution_count": 62,
     "metadata": {},
     "output_type": "execute_result"
    }
   ],
   "source": [
    "# В Pandas последовательности объединяют функцией pd.concat() (от англ. concatenate, «сцеплять»).\n",
    "# Сперва ей передают то, что объединяют — в нашем случае список из первой и второй части:\n",
    "[ordersByUsersA['orders'],pd.Series(0, index=np.arange(\n",
    "    data['visitorsPerDateA'].sum() - len(ordersByUsersA['orders'])), name='orders')]"
   ]
  },
  {
   "cell_type": "code",
   "execution_count": 63,
   "metadata": {},
   "outputs": [],
   "source": [
    "# Дальше передадим аргумент, сообщающий, что объекты Series нужно объединить по строкам (то есть записать подряд):\n",
    "# pd.concat([...], axis=0). То же делаем для sampleB и получаем:\n",
    "sampleA = pd.concat(\n",
    "    [\n",
    "        ordersByUsersA['orders'],\n",
    "        pd.Series(\n",
    "            0,\n",
    "            index=np.arange(\n",
    "                data['visitorsPerDateA'].sum() - len(ordersByUsersA['orders'])\n",
    "            ),\n",
    "            name='orders',\n",
    "        ),\n",
    "    ],\n",
    "    axis=0,\n",
    ")"
   ]
  },
  {
   "cell_type": "code",
   "execution_count": 64,
   "metadata": {},
   "outputs": [],
   "source": [
    "sampleB = pd.concat(\n",
    "    [\n",
    "        ordersByUsersB['orders'],\n",
    "        pd.Series(\n",
    "            0,\n",
    "            index=np.arange(\n",
    "                data['visitorsPerDateB'].sum() - len(ordersByUsersB['orders'])\n",
    "            ),\n",
    "            name='orders',\n",
    "        ),\n",
    "    ],\n",
    "    axis=0,\n",
    ")"
   ]
  },
  {
   "cell_type": "markdown",
   "metadata": {},
   "source": [
    "Применим критерий и отформатируем p-value, округлив его до трёх знаков после запятой.\n",
    "Напомним, что в sampleA сохранили выборку, где каждый элемент — число заказов определённого пользователя, в том числе ноль. Значит, число элементов sampleA — это количество пользователей, сумма всех элементов — количество заказов. Чтобы получить конверсию в группе, поделим сумму заказов на число пользователей — найдём среднее в выборке sampleA методом mean(). Аналогично найдём конверсию группы B: SampleB.mean().\n",
    "Выведем относительный прирост конверсии группы B: конверсия группы B / конверсия группы A - 1. Округлим до трёх знаков после запятой."
   ]
  },
  {
   "cell_type": "code",
   "execution_count": 65,
   "metadata": {},
   "outputs": [
    {
     "name": "stdout",
     "output_type": "stream",
     "text": [
      "P-value равен: 0.00840\n"
     ]
    }
   ],
   "source": [
    "print(\"P-value равен: {0:.5f}\".format(stats.mannwhitneyu(sampleA, sampleB)[1]))"
   ]
  },
  {
   "cell_type": "code",
   "execution_count": 66,
   "metadata": {},
   "outputs": [
    {
     "name": "stdout",
     "output_type": "stream",
     "text": [
      "Относительный прирост группы 'В' к группе 'А': 0.138\n"
     ]
    }
   ],
   "source": [
    "print(\"Относительный прирост группы 'В' к группе 'А': {0:.3f}\".format(\n",
    "    (data['ordersPerDateB'].sum()/data['visitorsPerDateB'].sum())/(\n",
    "    data['ordersPerDateA'].sum()/data['visitorsPerDateA'].sum())-1))"
   ]
  },
  {
   "cell_type": "markdown",
   "metadata": {},
   "source": [
    "P-value значительно меньше 0.05, Значит, нулевую гипотезу о том, что статистически значимых различий в конверсии между группами нет, отвергаем. Нулевая гипотеза отвергнута. Относительный прирост конверсии группы В к группе А составил около 13-14%"
   ]
  },
  {
   "cell_type": "markdown",
   "metadata": {},
   "source": [
    "### Статистическую значимость различий в среднем чеке заказа между группами по «сырым» данным"
   ]
  },
  {
   "cell_type": "code",
   "execution_count": 67,
   "metadata": {},
   "outputs": [
    {
     "name": "stdout",
     "output_type": "stream",
     "text": [
      "P-value равен: 0.365\n"
     ]
    }
   ],
   "source": [
    "print('P-value равен: {0:.3f}'.format(stats.mannwhitneyu(\n",
    "    orders[orders['group']=='A']['revenue'],\n",
    "    orders[orders['group']=='B']['revenue'])[1]))"
   ]
  },
  {
   "cell_type": "code",
   "execution_count": 68,
   "metadata": {},
   "outputs": [
    {
     "name": "stdout",
     "output_type": "stream",
     "text": [
      "Относительный прирост группы \"В\" к группе \"А\": 0.259\n"
     ]
    }
   ],
   "source": [
    "print('Относительный прирост группы \"В\" к группе \"А\": {0:.3f}'.format(orders[\n",
    "    orders['group']=='B']['revenue'].mean()/orders[\n",
    "    orders['group']=='A']['revenue'].mean()-1))"
   ]
  },
  {
   "cell_type": "markdown",
   "metadata": {},
   "source": [
    "P-value значительно больше 0.05. Значит, причин отвергать нулевую гипотезу и считать, что в среднем чеке есть различия, нет. Нулевая гипотеза не отвергнута.  Кроме того относительные различия в среднем чеке около 26% в пользу группы В"
   ]
  },
  {
   "cell_type": "markdown",
   "metadata": {},
   "source": [
    "### Статистическую значимость различий в конверсии между группами по «очищенным» данным"
   ]
  },
  {
   "cell_type": "markdown",
   "metadata": {},
   "source": [
    "    95-й и 99-й перцентили средних чеков равны  28 000 и 58 233 рублям. А 95-й и 99-й перцентили количества заказов на одного пользователя равны 2 и 4 заказа на пользователя.\n",
    "Примем за аномальных пользователей тех, кто совершил от 3 заказов или совершил заказ дороже 30 000 рублей. Так мы уберём от 1% до 5% пользователей с наибольшим числом заказов и от 1% до 5% пользователей с дорогими заказами. Сделаем срезы пользователей с числом заказов больше 3 — usersWithManyOrders и пользователей, совершивших заказы дороже 30 000 — usersWithExpensiveOrders. Объединим их в таблице abnormalUsers.\n",
    "Узнаем, сколько всего аномальных пользователей методом shape(). "
   ]
  },
  {
   "cell_type": "code",
   "execution_count": 69,
   "metadata": {},
   "outputs": [
    {
     "data": {
      "text/plain": [
       "1099    148427295\n",
       "18      199603092\n",
       "928     204675465\n",
       "23      237748145\n",
       "37      249864742\n",
       "dtype: int64"
      ]
     },
     "execution_count": 69,
     "metadata": {},
     "output_type": "execute_result"
    }
   ],
   "source": [
    "usersWithManyOrders = pd.concat(\n",
    "    [\n",
    "        ordersByUsersA[ordersByUsersA['orders'] >= 3]['userId'],\n",
    "        ordersByUsersB[ordersByUsersB['orders'] >= 3]['userId'],\n",
    "    ],\n",
    "    axis=0,\n",
    ")\n",
    "usersWithExpensiveOrders = orders[orders['revenue'] > 30000]['visitorId']\n",
    "abnormalUsers = (\n",
    "    pd.concat([usersWithManyOrders, usersWithExpensiveOrders], axis=0)\n",
    "    .drop_duplicates()\n",
    "    .sort_values()\n",
    ")\n",
    "abnormalUsers.head(5)"
   ]
  },
  {
   "cell_type": "markdown",
   "metadata": {},
   "source": [
    "Вот они наши ненормальные"
   ]
  },
  {
   "cell_type": "code",
   "execution_count": 70,
   "metadata": {},
   "outputs": [],
   "source": [
    "# Посчитаем статистическую значимость различий в конверсии между группами теста по очищенным данным.\n",
    "# Сначала подготовим выборки количества заказов по пользователям по группам теста:\n",
    "sampleAFiltered = pd.concat(\n",
    "    [\n",
    "        ordersByUsersA[\n",
    "            np.logical_not(ordersByUsersA['userId'].isin(abnormalUsers))\n",
    "        ]['orders'],\n",
    "        pd.Series(\n",
    "            0,\n",
    "            index=np.arange(\n",
    "                data['visitorsPerDateA'].sum() - len(ordersByUsersA['orders'])\n",
    "            ),\n",
    "            name='orders',\n",
    "        ),\n",
    "    ],\n",
    "    axis=0,\n",
    ")"
   ]
  },
  {
   "cell_type": "code",
   "execution_count": 71,
   "metadata": {},
   "outputs": [],
   "source": [
    "sampleBFiltered = pd.concat(\n",
    "    [\n",
    "        ordersByUsersB[\n",
    "            np.logical_not(ordersByUsersB['userId'].isin(abnormalUsers))\n",
    "        ]['orders'],\n",
    "        pd.Series(\n",
    "            0,\n",
    "            index=np.arange(\n",
    "                data['visitorsPerDateB'].sum() - len(ordersByUsersB['orders'])\n",
    "            ),\n",
    "            name='orders',\n",
    "        ),\n",
    "    ],\n",
    "    axis=0,\n",
    ")"
   ]
  },
  {
   "cell_type": "code",
   "execution_count": 72,
   "metadata": {},
   "outputs": [
    {
     "name": "stdout",
     "output_type": "stream",
     "text": [
      "P-value равен: 0.00667\n"
     ]
    }
   ],
   "source": [
    "# Применим статистический критерий Манна-Уитни к полученным выборкам:\n",
    "print('P-value равен: {0:.5f}'.format(stats.mannwhitneyu(sampleAFiltered, sampleBFiltered)[1]))"
   ]
  },
  {
   "cell_type": "code",
   "execution_count": 73,
   "metadata": {},
   "outputs": [
    {
     "name": "stdout",
     "output_type": "stream",
     "text": [
      "Относительный прирост группы \"В\" к группе \"А\": 0.172\n"
     ]
    }
   ],
   "source": [
    "print('Относительный прирост группы \"В\" к группе \"А\": {0:.3f}'.format(sampleBFiltered.mean()/sampleAFiltered.mean()-1))"
   ]
  },
  {
   "cell_type": "markdown",
   "metadata": {},
   "source": [
    "Как и в случае с \"сырыми данными\" статистическая значимость достигнута. Сегмент \"В\" лучше сегмента \"А\""
   ]
  },
  {
   "cell_type": "markdown",
   "metadata": {},
   "source": [
    "###  Статистическую значимость различий в среднем чеке заказа между группами по «очищенным» данным"
   ]
  },
  {
   "cell_type": "code",
   "execution_count": 74,
   "metadata": {},
   "outputs": [
    {
     "name": "stdout",
     "output_type": "stream",
     "text": [
      "P-value равен: 0.360\n"
     ]
    }
   ],
   "source": [
    "print(\n",
    "    'P-value равен: {0:.3f}'.format(\n",
    "        stats.mannwhitneyu(\n",
    "            orders[\n",
    "                np.logical_and(\n",
    "                    orders['group'] == 'A',\n",
    "                    np.logical_not(orders['visitorId'].isin(abnormalUsers)),\n",
    "                )\n",
    "            ]['revenue'],\n",
    "            orders[\n",
    "                np.logical_and(\n",
    "                    orders['group'] == 'B',\n",
    "                    np.logical_not(orders['visitorId'].isin(abnormalUsers)),\n",
    "                )\n",
    "            ]['revenue'],\n",
    "        )[1]\n",
    "    )\n",
    ")"
   ]
  },
  {
   "cell_type": "code",
   "execution_count": 75,
   "metadata": {},
   "outputs": [
    {
     "name": "stdout",
     "output_type": "stream",
     "text": [
      "Относительный прирост группы В к группе А: -0.023\n"
     ]
    }
   ],
   "source": [
    "print(\n",
    "    \"Относительный прирост группы В к группе А: {0:.3f}\".format(\n",
    "        orders[\n",
    "            np.logical_and(\n",
    "                orders['group'] == 'B',\n",
    "                np.logical_not(orders['visitorId'].isin(abnormalUsers)),\n",
    "            )\n",
    "        ]['revenue'].mean()\n",
    "        / orders[\n",
    "            np.logical_and(\n",
    "                orders['group'] == 'A',\n",
    "                np.logical_not(orders['visitorId'].isin(abnormalUsers)),\n",
    "            )\n",
    "        ]['revenue'].mean()\n",
    "        - 1\n",
    "    )\n",
    ")"
   ]
  },
  {
   "cell_type": "markdown",
   "metadata": {},
   "source": [
    "Так же, как и с сырыми данными, причин отвергать нулевую гипотезу нет. Но после очистки теперь группа А вперед на 2% группы В"
   ]
  },
  {
   "cell_type": "markdown",
   "metadata": {},
   "source": [
    "### Решение по результатам теста"
   ]
  },
  {
   "cell_type": "markdown",
   "metadata": {},
   "source": [
    "- Есть статистически значимое различие по конверсии между группами как по сырым данным, так и после фильтрации аномалий.\n",
    "- По сырым данным нет статистически значимого различия по среднему чеку между группами. Так же, как и после удаления аномалий статистически значимое различие не появилось.\n",
    "- График различия конверсии между группами сообщает, что результаты группы B лучше группы A: имеют тенденцию к росту, либо зафиксировались около среднего значения."
   ]
  },
  {
   "cell_type": "code",
   "execution_count": 76,
   "metadata": {},
   "outputs": [
    {
     "data": {
      "image/png": "[encoded data removed]",
      "text/plain": [
       "<Figure size 864x648 with 1 Axes>"
      ]
     },
     "metadata": {
      "needs_background": "light"
     },
     "output_type": "display_data"
    }
   ],
   "source": [
    "plt.figure(figsize=(12, 9))\n",
    "plt.plot(mergedCumulativeConversions['date'], \n",
    "         mergedCumulativeConversions['conversionB']/mergedCumulativeConversions['conversionA']-1,\n",
    "         label=\"Относительный прирост конверсии группы B относительно группы A\")\n",
    "plt.legend()\n",
    "\n",
    "plt.axhline(y=0, color='black', linestyle='--')\n",
    "plt.axhline(y=0.2, color='grey', linestyle='--')\n",
    "plt.axis([\"2019-08-01\", '2019-09-01', -0.5, 0.5])\n",
    "plt.show()"
   ]
  },
  {
   "cell_type": "markdown",
   "metadata": {},
   "source": [
    "График различия среднего чека колеблется. Сделать из этого графика определённые выводы нельзя."
   ]
  },
  {
   "cell_type": "code",
   "execution_count": 77,
   "metadata": {},
   "outputs": [
    {
     "data": {
      "image/png": "[encoded data removed]",
      "text/plain": [
       "<Figure size 864x648 with 1 Axes>"
      ]
     },
     "metadata": {
      "needs_background": "light"
     },
     "output_type": "display_data"
    }
   ],
   "source": [
    "# cтроим отношение средних чеков\n",
    "plt.figure(figsize=(12, 9))\n",
    "plt.plot(mergedCumulativeRevenue['date'], (\n",
    "    mergedCumulativeRevenue['revenueB']/mergedCumulativeRevenue['ordersB'])/(\n",
    "    mergedCumulativeRevenue['revenueA']/mergedCumulativeRevenue['ordersA'])-1)\n",
    "# добавляем ось X\n",
    "plt.axhline(y=0, color='black', linestyle='--')\n",
    "\n",
    "plt.title('Соотношение средних чеков')\n",
    "plt.ylabel('Отношение')\n",
    "plt.xlabel('Дата')\n",
    "plt.show()"
   ]
  },
  {
   "cell_type": "markdown",
   "metadata": {},
   "source": [
    "Решение: остановить тест, по конверсии победила группа B. По среднему чеку не достигнута статистическая значимость и говорить о чьей то победе нельзя"
   ]
  },
  {
   "cell_type": "code",
   "execution_count": null,
   "metadata": {},
   "outputs": [],
   "source": []
  }
 ],
 "metadata": {
  "ExecuteTimeLog": [
   {
    "duration": 100,
    "start_time": "2021-08-07T07:58:45.396Z"
   },
   {
    "duration": 181,
    "start_time": "2021-08-07T08:10:20.595Z"
   },
   {
    "duration": 662,
    "start_time": "2021-08-07T08:10:33.814Z"
   },
   {
    "duration": 3,
    "start_time": "2021-08-07T08:10:44.712Z"
   },
   {
    "duration": 324,
    "start_time": "2021-08-07T08:11:41.015Z"
   },
   {
    "duration": 288,
    "start_time": "2021-08-07T08:12:07.928Z"
   },
   {
    "duration": 1095,
    "start_time": "2021-08-07T08:12:23.590Z"
   },
   {
    "duration": 2,
    "start_time": "2021-08-07T08:12:24.687Z"
   },
   {
    "duration": 338,
    "start_time": "2021-08-07T08:12:24.691Z"
   },
   {
    "duration": 3,
    "start_time": "2021-08-07T08:12:25.031Z"
   },
   {
    "duration": 6,
    "start_time": "2021-08-07T08:12:25.035Z"
   },
   {
    "duration": 5,
    "start_time": "2021-08-07T08:12:25.043Z"
   },
   {
    "duration": 25,
    "start_time": "2021-08-07T08:14:21.244Z"
   },
   {
    "duration": 6,
    "start_time": "2021-08-07T08:15:05.352Z"
   },
   {
    "duration": 41,
    "start_time": "2021-08-07T08:16:31.605Z"
   },
   {
    "duration": 6,
    "start_time": "2021-08-07T08:16:40.372Z"
   },
   {
    "duration": 6,
    "start_time": "2021-08-07T08:17:00.012Z"
   },
   {
    "duration": 21,
    "start_time": "2021-08-07T08:17:29.566Z"
   },
   {
    "duration": 19,
    "start_time": "2021-08-07T08:18:45.091Z"
   },
   {
    "duration": 5,
    "start_time": "2021-08-07T08:18:59.123Z"
   },
   {
    "duration": 83,
    "start_time": "2021-08-07T08:19:59.074Z"
   },
   {
    "duration": 17,
    "start_time": "2021-08-07T08:24:47.880Z"
   },
   {
    "duration": 17,
    "start_time": "2021-08-07T08:25:50.194Z"
   },
   {
    "duration": 6,
    "start_time": "2021-08-07T08:28:41.305Z"
   },
   {
    "duration": 6,
    "start_time": "2021-08-07T08:28:53.472Z"
   },
   {
    "duration": 5,
    "start_time": "2021-08-07T08:48:06.393Z"
   },
   {
    "duration": 14,
    "start_time": "2021-08-07T08:48:15.896Z"
   },
   {
    "duration": 105,
    "start_time": "2021-08-07T08:50:14.036Z"
   },
   {
    "duration": 91,
    "start_time": "2021-08-07T08:50:25.940Z"
   },
   {
    "duration": 385,
    "start_time": "2021-08-07T08:50:32.436Z"
   },
   {
    "duration": 6,
    "start_time": "2021-08-07T08:50:49.626Z"
   },
   {
    "duration": 328,
    "start_time": "2021-08-09T17:18:04.340Z"
   },
   {
    "duration": 1460,
    "start_time": "2021-08-09T17:19:02.603Z"
   },
   {
    "duration": 3,
    "start_time": "2021-08-09T17:19:04.065Z"
   },
   {
    "duration": 446,
    "start_time": "2021-08-09T17:19:04.072Z"
   },
   {
    "duration": 5,
    "start_time": "2021-08-09T17:19:04.520Z"
   },
   {
    "duration": 6,
    "start_time": "2021-08-09T17:19:04.527Z"
   },
   {
    "duration": 5,
    "start_time": "2021-08-09T17:19:04.535Z"
   },
   {
    "duration": 36,
    "start_time": "2021-08-09T17:19:04.543Z"
   },
   {
    "duration": 21,
    "start_time": "2021-08-09T17:19:04.581Z"
   },
   {
    "duration": 51,
    "start_time": "2021-08-09T17:19:04.606Z"
   },
   {
    "duration": 9,
    "start_time": "2021-08-09T17:19:04.661Z"
   },
   {
    "duration": 28,
    "start_time": "2021-08-09T17:19:04.673Z"
   },
   {
    "duration": 9,
    "start_time": "2021-08-09T17:19:04.704Z"
   },
   {
    "duration": 14,
    "start_time": "2021-08-09T17:19:04.716Z"
   },
   {
    "duration": 76,
    "start_time": "2021-08-09T17:19:04.732Z"
   },
   {
    "duration": 18,
    "start_time": "2021-08-09T17:19:04.810Z"
   },
   {
    "duration": 10,
    "start_time": "2021-08-09T17:19:04.831Z"
   },
   {
    "duration": 15,
    "start_time": "2021-08-09T17:19:04.843Z"
   },
   {
    "duration": 6937,
    "start_time": "2021-08-09T17:19:04.860Z"
   },
   {
    "duration": 11,
    "start_time": "2021-08-09T17:20:16.387Z"
   },
   {
    "duration": 10,
    "start_time": "2021-08-09T17:20:37.841Z"
   },
   {
    "duration": 7,
    "start_time": "2021-08-09T17:24:33.324Z"
   },
   {
    "duration": 10,
    "start_time": "2021-08-09T17:24:57.981Z"
   },
   {
    "duration": 9,
    "start_time": "2021-08-09T17:25:22.390Z"
   },
   {
    "duration": 1676,
    "start_time": "2021-08-09T18:39:44.694Z"
   },
   {
    "duration": 1916,
    "start_time": "2021-08-09T18:42:10.829Z"
   },
   {
    "duration": 1449,
    "start_time": "2021-08-09T18:42:48.114Z"
   },
   {
    "duration": 3,
    "start_time": "2021-08-09T18:42:49.566Z"
   },
   {
    "duration": 440,
    "start_time": "2021-08-09T18:42:49.573Z"
   },
   {
    "duration": 4,
    "start_time": "2021-08-09T18:42:50.016Z"
   },
   {
    "duration": 10,
    "start_time": "2021-08-09T18:42:50.023Z"
   },
   {
    "duration": 13,
    "start_time": "2021-08-09T18:42:50.036Z"
   },
   {
    "duration": 33,
    "start_time": "2021-08-09T18:42:50.052Z"
   },
   {
    "duration": 14,
    "start_time": "2021-08-09T18:42:50.089Z"
   },
   {
    "duration": 49,
    "start_time": "2021-08-09T18:42:50.106Z"
   },
   {
    "duration": 7,
    "start_time": "2021-08-09T18:42:50.157Z"
   },
   {
    "duration": 28,
    "start_time": "2021-08-09T18:42:50.166Z"
   },
   {
    "duration": 17,
    "start_time": "2021-08-09T18:42:50.197Z"
   },
   {
    "duration": 14,
    "start_time": "2021-08-09T18:42:50.217Z"
   },
   {
    "duration": 67,
    "start_time": "2021-08-09T18:42:50.233Z"
   },
   {
    "duration": 19,
    "start_time": "2021-08-09T18:42:50.302Z"
   },
   {
    "duration": 8,
    "start_time": "2021-08-09T18:42:50.323Z"
   },
   {
    "duration": 9,
    "start_time": "2021-08-09T18:42:50.333Z"
   },
   {
    "duration": 55,
    "start_time": "2021-08-09T18:42:50.345Z"
   },
   {
    "duration": 10,
    "start_time": "2021-08-09T18:42:50.403Z"
   },
   {
    "duration": 10,
    "start_time": "2021-08-09T18:42:50.415Z"
   },
   {
    "duration": 12,
    "start_time": "2021-08-09T18:42:50.427Z"
   },
   {
    "duration": 82,
    "start_time": "2021-08-09T18:42:50.442Z"
   },
   {
    "duration": 478,
    "start_time": "2021-08-09T18:42:50.049Z"
   },
   {
    "duration": 2007,
    "start_time": "2021-08-09T18:44:02.619Z"
   },
   {
    "duration": 1280,
    "start_time": "2021-08-09T18:45:35.259Z"
   },
   {
    "duration": 4,
    "start_time": "2021-08-09T18:49:26.420Z"
   },
   {
    "duration": 1479,
    "start_time": "2021-08-09T18:49:30.990Z"
   },
   {
    "duration": 3,
    "start_time": "2021-08-09T18:49:32.472Z"
   },
   {
    "duration": 423,
    "start_time": "2021-08-09T18:49:32.478Z"
   },
   {
    "duration": 4,
    "start_time": "2021-08-09T18:49:32.904Z"
   },
   {
    "duration": 8,
    "start_time": "2021-08-09T18:49:32.910Z"
   },
   {
    "duration": 8,
    "start_time": "2021-08-09T18:49:32.920Z"
   },
   {
    "duration": 40,
    "start_time": "2021-08-09T18:49:32.930Z"
   },
   {
    "duration": 9,
    "start_time": "2021-08-09T18:49:32.974Z"
   },
   {
    "duration": 61,
    "start_time": "2021-08-09T18:49:32.985Z"
   },
   {
    "duration": 8,
    "start_time": "2021-08-09T18:49:33.048Z"
   },
   {
    "duration": 27,
    "start_time": "2021-08-09T18:49:33.058Z"
   },
   {
    "duration": 10,
    "start_time": "2021-08-09T18:49:33.087Z"
   },
   {
    "duration": 14,
    "start_time": "2021-08-09T18:49:33.100Z"
   },
   {
    "duration": 33,
    "start_time": "2021-08-09T18:49:33.116Z"
   },
   {
    "duration": 57,
    "start_time": "2021-08-09T18:49:33.151Z"
   },
   {
    "duration": 7,
    "start_time": "2021-08-09T18:49:33.211Z"
   },
   {
    "duration": 4,
    "start_time": "2021-08-09T18:49:33.221Z"
   },
   {
    "duration": 9,
    "start_time": "2021-08-09T18:49:33.227Z"
   },
   {
    "duration": 9,
    "start_time": "2021-08-09T18:49:33.239Z"
   },
   {
    "duration": 55,
    "start_time": "2021-08-09T18:49:33.250Z"
   },
   {
    "duration": 13,
    "start_time": "2021-08-09T18:49:33.308Z"
   },
   {
    "duration": 114,
    "start_time": "2021-08-09T18:49:33.323Z"
   },
   {
    "duration": 499,
    "start_time": "2021-08-09T18:49:32.940Z"
   },
   {
    "duration": 1425,
    "start_time": "2021-08-09T18:49:53.528Z"
   },
   {
    "duration": 1185,
    "start_time": "2021-08-09T18:50:51.517Z"
   },
   {
    "duration": 8,
    "start_time": "2021-08-09T18:51:18.887Z"
   },
   {
    "duration": 1237,
    "start_time": "2021-08-09T18:51:21.561Z"
   },
   {
    "duration": 11,
    "start_time": "2021-08-09T18:51:44.406Z"
   },
   {
    "duration": 1483,
    "start_time": "2021-08-09T18:51:47.972Z"
   },
   {
    "duration": 1475,
    "start_time": "2021-08-09T18:52:10.535Z"
   },
   {
    "duration": 1219,
    "start_time": "2021-08-09T18:53:28.564Z"
   },
   {
    "duration": 1394,
    "start_time": "2021-08-09T18:54:18.362Z"
   },
   {
    "duration": 1486,
    "start_time": "2021-08-09T18:55:22.975Z"
   },
   {
    "duration": 3,
    "start_time": "2021-08-09T18:55:24.464Z"
   },
   {
    "duration": 433,
    "start_time": "2021-08-09T18:55:24.470Z"
   },
   {
    "duration": 4,
    "start_time": "2021-08-09T18:55:24.906Z"
   },
   {
    "duration": 19,
    "start_time": "2021-08-09T18:55:24.913Z"
   },
   {
    "duration": 7,
    "start_time": "2021-08-09T18:55:24.935Z"
   },
   {
    "duration": 35,
    "start_time": "2021-08-09T18:55:24.944Z"
   },
   {
    "duration": 9,
    "start_time": "2021-08-09T18:55:24.983Z"
   },
   {
    "duration": 49,
    "start_time": "2021-08-09T18:55:25.002Z"
   },
   {
    "duration": 8,
    "start_time": "2021-08-09T18:55:25.053Z"
   },
   {
    "duration": 27,
    "start_time": "2021-08-09T18:55:25.064Z"
   },
   {
    "duration": 9,
    "start_time": "2021-08-09T18:55:25.094Z"
   },
   {
    "duration": 17,
    "start_time": "2021-08-09T18:55:25.106Z"
   },
   {
    "duration": 33,
    "start_time": "2021-08-09T18:55:25.126Z"
   },
   {
    "duration": 54,
    "start_time": "2021-08-09T18:55:25.162Z"
   },
   {
    "duration": 8,
    "start_time": "2021-08-09T18:55:25.219Z"
   },
   {
    "duration": 9,
    "start_time": "2021-08-09T18:55:25.230Z"
   },
   {
    "duration": 14,
    "start_time": "2021-08-09T18:55:25.242Z"
   },
   {
    "duration": 44,
    "start_time": "2021-08-09T18:55:25.259Z"
   },
   {
    "duration": 8,
    "start_time": "2021-08-09T18:55:25.306Z"
   },
   {
    "duration": 15,
    "start_time": "2021-08-09T18:55:25.317Z"
   },
   {
    "duration": 1381,
    "start_time": "2021-08-09T18:55:25.335Z"
   },
   {
    "duration": 8,
    "start_time": "2021-08-09T18:59:15.131Z"
   },
   {
    "duration": 4,
    "start_time": "2021-08-09T19:00:20.541Z"
   },
   {
    "duration": 1224,
    "start_time": "2021-08-09T19:00:21.951Z"
   },
   {
    "duration": 1428,
    "start_time": "2021-08-09T19:01:01.773Z"
   },
   {
    "duration": 3,
    "start_time": "2021-08-09T19:01:03.203Z"
   },
   {
    "duration": 433,
    "start_time": "2021-08-09T19:01:03.209Z"
   },
   {
    "duration": 4,
    "start_time": "2021-08-09T19:01:03.645Z"
   },
   {
    "duration": 27,
    "start_time": "2021-08-09T19:01:03.651Z"
   },
   {
    "duration": 12,
    "start_time": "2021-08-09T19:01:03.681Z"
   },
   {
    "duration": 37,
    "start_time": "2021-08-09T19:01:03.695Z"
   },
   {
    "duration": 8,
    "start_time": "2021-08-09T19:01:03.735Z"
   },
   {
    "duration": 50,
    "start_time": "2021-08-09T19:01:03.746Z"
   },
   {
    "duration": 8,
    "start_time": "2021-08-09T19:01:03.798Z"
   },
   {
    "duration": 31,
    "start_time": "2021-08-09T19:01:03.808Z"
   },
   {
    "duration": 8,
    "start_time": "2021-08-09T19:01:03.841Z"
   },
   {
    "duration": 15,
    "start_time": "2021-08-09T19:01:03.852Z"
   },
   {
    "duration": 59,
    "start_time": "2021-08-09T19:01:03.869Z"
   },
   {
    "duration": 20,
    "start_time": "2021-08-09T19:01:03.930Z"
   },
   {
    "duration": 55,
    "start_time": "2021-08-09T19:01:03.952Z"
   },
   {
    "duration": 3,
    "start_time": "2021-08-09T19:01:04.010Z"
   },
   {
    "duration": 8,
    "start_time": "2021-08-09T19:01:04.016Z"
   },
   {
    "duration": 13,
    "start_time": "2021-08-09T19:01:04.027Z"
   },
   {
    "duration": 8,
    "start_time": "2021-08-09T19:01:04.042Z"
   },
   {
    "duration": 11,
    "start_time": "2021-08-09T19:01:04.100Z"
   },
   {
    "duration": 10,
    "start_time": "2021-08-09T19:01:04.114Z"
   },
   {
    "duration": 1570,
    "start_time": "2021-08-09T19:01:04.128Z"
   },
   {
    "duration": 1175,
    "start_time": "2021-08-09T19:01:51.663Z"
   },
   {
    "duration": 1203,
    "start_time": "2021-08-09T19:02:08.968Z"
   },
   {
    "duration": 1335,
    "start_time": "2021-08-09T19:02:32.400Z"
   },
   {
    "duration": 1918,
    "start_time": "2021-08-09T19:02:56.235Z"
   },
   {
    "duration": 2076,
    "start_time": "2021-08-09T19:03:08.451Z"
   },
   {
    "duration": 2,
    "start_time": "2021-08-09T19:03:10.530Z"
   },
   {
    "duration": 474,
    "start_time": "2021-08-09T19:03:10.536Z"
   },
   {
    "duration": 4,
    "start_time": "2021-08-09T19:03:11.013Z"
   },
   {
    "duration": 17,
    "start_time": "2021-08-09T19:03:11.019Z"
   },
   {
    "duration": 12,
    "start_time": "2021-08-09T19:03:11.038Z"
   },
   {
    "duration": 34,
    "start_time": "2021-08-09T19:03:11.052Z"
   },
   {
    "duration": 8,
    "start_time": "2021-08-09T19:03:11.089Z"
   },
   {
    "duration": 52,
    "start_time": "2021-08-09T19:03:11.100Z"
   },
   {
    "duration": 8,
    "start_time": "2021-08-09T19:03:11.154Z"
   },
   {
    "duration": 27,
    "start_time": "2021-08-09T19:03:11.164Z"
   },
   {
    "duration": 12,
    "start_time": "2021-08-09T19:03:11.193Z"
   },
   {
    "duration": 18,
    "start_time": "2021-08-09T19:03:11.207Z"
   },
   {
    "duration": 40,
    "start_time": "2021-08-09T19:03:11.228Z"
   },
   {
    "duration": 48,
    "start_time": "2021-08-09T19:03:11.270Z"
   },
   {
    "duration": 8,
    "start_time": "2021-08-09T19:03:11.320Z"
   },
   {
    "duration": 1949,
    "start_time": "2021-08-09T19:03:11.330Z"
   },
   {
    "duration": 104,
    "start_time": "2021-08-09T19:03:13.178Z"
   },
   {
    "duration": 105,
    "start_time": "2021-08-09T19:03:13.179Z"
   },
   {
    "duration": 105,
    "start_time": "2021-08-09T19:03:13.180Z"
   },
   {
    "duration": 106,
    "start_time": "2021-08-09T19:03:13.181Z"
   },
   {
    "duration": 106,
    "start_time": "2021-08-09T19:03:13.182Z"
   },
   {
    "duration": 107,
    "start_time": "2021-08-09T19:03:13.183Z"
   },
   {
    "duration": 10,
    "start_time": "2021-08-09T19:03:48.818Z"
   },
   {
    "duration": 11,
    "start_time": "2021-08-09T19:03:52.586Z"
   },
   {
    "duration": 9,
    "start_time": "2021-08-09T19:03:53.044Z"
   },
   {
    "duration": 13,
    "start_time": "2021-08-09T19:03:55.944Z"
   },
   {
    "duration": 50,
    "start_time": "2021-08-09T19:03:55.960Z"
   },
   {
    "duration": 7,
    "start_time": "2021-08-09T19:03:59.744Z"
   },
   {
    "duration": 1210,
    "start_time": "2021-08-09T19:04:00.393Z"
   },
   {
    "duration": 1275,
    "start_time": "2021-08-09T19:05:15.866Z"
   },
   {
    "duration": 1215,
    "start_time": "2021-08-09T19:05:36.311Z"
   },
   {
    "duration": 9,
    "start_time": "2021-08-09T19:09:37.802Z"
   },
   {
    "duration": 8,
    "start_time": "2021-08-09T19:10:50.248Z"
   },
   {
    "duration": 6473,
    "start_time": "2021-08-09T19:11:39.124Z"
   },
   {
    "duration": 339,
    "start_time": "2021-08-09T19:13:38.046Z"
   },
   {
    "duration": 275,
    "start_time": "2021-08-09T19:13:56.102Z"
   },
   {
    "duration": 9,
    "start_time": "2021-08-09T19:14:22.978Z"
   },
   {
    "duration": 10,
    "start_time": "2021-08-09T19:21:02.792Z"
   },
   {
    "duration": 20,
    "start_time": "2021-08-09T19:21:26.828Z"
   },
   {
    "duration": 7,
    "start_time": "2021-08-09T19:24:42.026Z"
   },
   {
    "duration": 7,
    "start_time": "2021-08-09T19:28:52.173Z"
   },
   {
    "duration": 302,
    "start_time": "2021-08-09T19:29:04.518Z"
   },
   {
    "duration": 406,
    "start_time": "2021-08-09T19:29:27.037Z"
   },
   {
    "duration": 281,
    "start_time": "2021-08-09T19:31:48.161Z"
   },
   {
    "duration": 269,
    "start_time": "2021-08-09T19:31:56.851Z"
   },
   {
    "duration": 236,
    "start_time": "2021-08-09T19:32:18.394Z"
   },
   {
    "duration": 307,
    "start_time": "2021-08-09T19:32:54.178Z"
   },
   {
    "duration": 520,
    "start_time": "2021-08-09T19:33:06.231Z"
   },
   {
    "duration": 371,
    "start_time": "2021-08-09T19:33:22.774Z"
   },
   {
    "duration": 502,
    "start_time": "2021-08-09T19:36:33.160Z"
   },
   {
    "duration": 317,
    "start_time": "2021-08-09T19:38:29.926Z"
   },
   {
    "duration": 565,
    "start_time": "2021-08-09T19:39:12.679Z"
   },
   {
    "duration": 517,
    "start_time": "2021-08-09T19:39:19.789Z"
   },
   {
    "duration": 608,
    "start_time": "2021-08-09T19:39:43.818Z"
   },
   {
    "duration": 363,
    "start_time": "2021-08-09T19:40:35.901Z"
   },
   {
    "duration": 578,
    "start_time": "2021-08-09T19:41:30.801Z"
   },
   {
    "duration": 628,
    "start_time": "2021-08-09T19:41:37.941Z"
   },
   {
    "duration": 354,
    "start_time": "2021-08-09T19:42:02.238Z"
   },
   {
    "duration": 527,
    "start_time": "2021-08-09T19:53:24.473Z"
   },
   {
    "duration": 1423,
    "start_time": "2021-08-09T19:55:15.841Z"
   },
   {
    "duration": 3,
    "start_time": "2021-08-09T19:55:17.267Z"
   },
   {
    "duration": 427,
    "start_time": "2021-08-09T19:55:17.272Z"
   },
   {
    "duration": 6,
    "start_time": "2021-08-09T19:55:17.702Z"
   },
   {
    "duration": 10,
    "start_time": "2021-08-09T19:55:17.711Z"
   },
   {
    "duration": 18,
    "start_time": "2021-08-09T19:55:17.723Z"
   },
   {
    "duration": 36,
    "start_time": "2021-08-09T19:55:17.744Z"
   },
   {
    "duration": 8,
    "start_time": "2021-08-09T19:55:17.784Z"
   },
   {
    "duration": 46,
    "start_time": "2021-08-09T19:55:17.802Z"
   },
   {
    "duration": 8,
    "start_time": "2021-08-09T19:55:17.851Z"
   },
   {
    "duration": 35,
    "start_time": "2021-08-09T19:55:17.861Z"
   },
   {
    "duration": 14,
    "start_time": "2021-08-09T19:55:17.898Z"
   },
   {
    "duration": 14,
    "start_time": "2021-08-09T19:55:17.915Z"
   },
   {
    "duration": 30,
    "start_time": "2021-08-09T19:55:17.931Z"
   },
   {
    "duration": 54,
    "start_time": "2021-08-09T19:55:17.963Z"
   },
   {
    "duration": 7,
    "start_time": "2021-08-09T19:55:18.020Z"
   },
   {
    "duration": 20,
    "start_time": "2021-08-09T19:55:18.030Z"
   },
   {
    "duration": 12,
    "start_time": "2021-08-09T19:55:18.052Z"
   },
   {
    "duration": 36,
    "start_time": "2021-08-09T19:55:18.067Z"
   },
   {
    "duration": 7,
    "start_time": "2021-08-09T19:55:18.106Z"
   },
   {
    "duration": 10,
    "start_time": "2021-08-09T19:55:18.116Z"
   },
   {
    "duration": 9,
    "start_time": "2021-08-09T19:55:18.129Z"
   },
   {
    "duration": 387,
    "start_time": "2021-08-09T19:55:18.142Z"
   },
   {
    "duration": 276,
    "start_time": "2021-08-09T19:55:18.532Z"
   },
   {
    "duration": 7,
    "start_time": "2021-08-09T19:55:18.810Z"
   },
   {
    "duration": 27,
    "start_time": "2021-08-09T19:55:18.820Z"
   },
   {
    "duration": 18,
    "start_time": "2021-08-09T19:55:18.850Z"
   },
   {
    "duration": 21,
    "start_time": "2021-08-09T19:55:18.870Z"
   },
   {
    "duration": 341,
    "start_time": "2021-08-09T19:55:18.893Z"
   },
   {
    "duration": 560,
    "start_time": "2021-08-09T19:55:19.237Z"
   },
   {
    "duration": 1460,
    "start_time": "2021-08-09T19:55:48.295Z"
   },
   {
    "duration": 3,
    "start_time": "2021-08-09T19:55:49.758Z"
   },
   {
    "duration": 432,
    "start_time": "2021-08-09T19:55:49.764Z"
   },
   {
    "duration": 4,
    "start_time": "2021-08-09T19:55:50.199Z"
   },
   {
    "duration": 9,
    "start_time": "2021-08-09T19:55:50.206Z"
   },
   {
    "duration": 13,
    "start_time": "2021-08-09T19:55:50.218Z"
   },
   {
    "duration": 41,
    "start_time": "2021-08-09T19:55:50.234Z"
   },
   {
    "duration": 9,
    "start_time": "2021-08-09T19:55:50.279Z"
   },
   {
    "duration": 54,
    "start_time": "2021-08-09T19:55:50.291Z"
   },
   {
    "duration": 9,
    "start_time": "2021-08-09T19:55:50.347Z"
   },
   {
    "duration": 30,
    "start_time": "2021-08-09T19:55:50.358Z"
   },
   {
    "duration": 12,
    "start_time": "2021-08-09T19:55:50.391Z"
   },
   {
    "duration": 22,
    "start_time": "2021-08-09T19:55:50.405Z"
   },
   {
    "duration": 36,
    "start_time": "2021-08-09T19:55:50.430Z"
   },
   {
    "duration": 54,
    "start_time": "2021-08-09T19:55:50.469Z"
   },
   {
    "duration": 9,
    "start_time": "2021-08-09T19:55:50.526Z"
   },
   {
    "duration": 64,
    "start_time": "2021-08-09T19:55:50.538Z"
   },
   {
    "duration": 14,
    "start_time": "2021-08-09T19:55:50.605Z"
   },
   {
    "duration": 17,
    "start_time": "2021-08-09T19:55:50.622Z"
   },
   {
    "duration": 23,
    "start_time": "2021-08-09T19:55:50.641Z"
   },
   {
    "duration": 16,
    "start_time": "2021-08-09T19:55:50.667Z"
   },
   {
    "duration": 17,
    "start_time": "2021-08-09T19:55:50.686Z"
   },
   {
    "duration": 348,
    "start_time": "2021-08-09T19:55:50.708Z"
   },
   {
    "duration": 333,
    "start_time": "2021-08-09T19:55:51.059Z"
   },
   {
    "duration": 11,
    "start_time": "2021-08-09T19:55:51.395Z"
   },
   {
    "duration": 29,
    "start_time": "2021-08-09T19:55:51.409Z"
   },
   {
    "duration": 9,
    "start_time": "2021-08-09T19:55:51.442Z"
   },
   {
    "duration": 9,
    "start_time": "2021-08-09T19:55:51.454Z"
   },
   {
    "duration": 367,
    "start_time": "2021-08-09T19:55:51.465Z"
   },
   {
    "duration": 546,
    "start_time": "2021-08-09T19:55:51.834Z"
   },
   {
    "duration": 328,
    "start_time": "2021-08-09T19:57:10.947Z"
   },
   {
    "duration": 325,
    "start_time": "2021-08-09T19:57:16.903Z"
   },
   {
    "duration": 4,
    "start_time": "2021-08-09T19:59:43.803Z"
   },
   {
    "duration": 1464,
    "start_time": "2021-08-09T19:59:52.903Z"
   },
   {
    "duration": 3,
    "start_time": "2021-08-09T19:59:54.370Z"
   },
   {
    "duration": 438,
    "start_time": "2021-08-09T19:59:54.376Z"
   },
   {
    "duration": 4,
    "start_time": "2021-08-09T19:59:54.817Z"
   },
   {
    "duration": 6,
    "start_time": "2021-08-09T19:59:54.824Z"
   },
   {
    "duration": 5,
    "start_time": "2021-08-09T19:59:54.832Z"
   },
   {
    "duration": 4,
    "start_time": "2021-08-09T19:59:54.841Z"
   },
   {
    "duration": 64,
    "start_time": "2021-08-09T19:59:54.849Z"
   },
   {
    "duration": 11,
    "start_time": "2021-08-09T19:59:54.916Z"
   },
   {
    "duration": 53,
    "start_time": "2021-08-09T19:59:54.930Z"
   },
   {
    "duration": 9,
    "start_time": "2021-08-09T19:59:54.986Z"
   },
   {
    "duration": 25,
    "start_time": "2021-08-09T19:59:55.001Z"
   },
   {
    "duration": 11,
    "start_time": "2021-08-09T19:59:55.029Z"
   },
   {
    "duration": 17,
    "start_time": "2021-08-09T19:59:55.042Z"
   },
   {
    "duration": 56,
    "start_time": "2021-08-09T19:59:55.062Z"
   },
   {
    "duration": 18,
    "start_time": "2021-08-09T19:59:55.120Z"
   },
   {
    "duration": 7,
    "start_time": "2021-08-09T19:59:55.140Z"
   },
   {
    "duration": 12,
    "start_time": "2021-08-09T19:59:55.201Z"
   },
   {
    "duration": 8,
    "start_time": "2021-08-09T19:59:55.216Z"
   },
   {
    "duration": 10,
    "start_time": "2021-08-09T19:59:55.227Z"
   },
   {
    "duration": 6,
    "start_time": "2021-08-09T19:59:55.240Z"
   },
   {
    "duration": 58,
    "start_time": "2021-08-09T19:59:55.248Z"
   },
   {
    "duration": 8,
    "start_time": "2021-08-09T19:59:55.310Z"
   },
   {
    "duration": 368,
    "start_time": "2021-08-09T19:59:55.321Z"
   },
   {
    "duration": 280,
    "start_time": "2021-08-09T19:59:55.691Z"
   },
   {
    "duration": 7,
    "start_time": "2021-08-09T19:59:55.973Z"
   },
   {
    "duration": 19,
    "start_time": "2021-08-09T19:59:56.001Z"
   },
   {
    "duration": 9,
    "start_time": "2021-08-09T19:59:56.023Z"
   },
   {
    "duration": 10,
    "start_time": "2021-08-09T19:59:56.034Z"
   },
   {
    "duration": 481,
    "start_time": "2021-08-09T19:59:56.046Z"
   },
   {
    "duration": 752,
    "start_time": "2021-08-09T19:59:56.530Z"
   },
   {
    "duration": 430,
    "start_time": "2021-08-09T20:00:29.762Z"
   },
   {
    "duration": 427,
    "start_time": "2021-08-09T20:00:58.265Z"
   },
   {
    "duration": 9,
    "start_time": "2021-08-09T20:05:31.520Z"
   },
   {
    "duration": 285,
    "start_time": "2021-08-09T20:06:29.547Z"
   },
   {
    "duration": 399,
    "start_time": "2021-08-09T20:06:56.631Z"
   },
   {
    "duration": 392,
    "start_time": "2021-08-09T20:07:07.619Z"
   },
   {
    "duration": 445,
    "start_time": "2021-08-09T20:08:06.890Z"
   },
   {
    "duration": 5,
    "start_time": "2021-08-09T20:21:01.833Z"
   },
   {
    "duration": 6,
    "start_time": "2021-08-09T20:21:35.888Z"
   },
   {
    "duration": 6,
    "start_time": "2021-08-09T20:21:51.913Z"
   },
   {
    "duration": 543,
    "start_time": "2021-08-09T20:22:12.436Z"
   },
   {
    "duration": 725,
    "start_time": "2021-08-09T20:23:49.010Z"
   },
   {
    "duration": 426,
    "start_time": "2021-08-09T20:26:03.167Z"
   },
   {
    "duration": 398,
    "start_time": "2021-08-09T20:26:14.049Z"
   },
   {
    "duration": 90,
    "start_time": "2021-08-09T20:26:24.135Z"
   },
   {
    "duration": 437,
    "start_time": "2021-08-09T20:26:36.671Z"
   },
   {
    "duration": 386,
    "start_time": "2021-08-09T20:27:09.431Z"
   },
   {
    "duration": 93,
    "start_time": "2021-08-09T20:27:18.323Z"
   },
   {
    "duration": 416,
    "start_time": "2021-08-09T20:27:29.456Z"
   },
   {
    "duration": 845,
    "start_time": "2021-08-09T20:31:16.887Z"
   },
   {
    "duration": 1382,
    "start_time": "2021-08-09T20:31:34.491Z"
   },
   {
    "duration": 3,
    "start_time": "2021-08-09T20:31:35.876Z"
   },
   {
    "duration": 434,
    "start_time": "2021-08-09T20:31:35.882Z"
   },
   {
    "duration": 6,
    "start_time": "2021-08-09T20:31:36.319Z"
   },
   {
    "duration": 6,
    "start_time": "2021-08-09T20:31:36.328Z"
   },
   {
    "duration": 7,
    "start_time": "2021-08-09T20:31:36.337Z"
   },
   {
    "duration": 7,
    "start_time": "2021-08-09T20:31:36.346Z"
   },
   {
    "duration": 57,
    "start_time": "2021-08-09T20:31:36.358Z"
   },
   {
    "duration": 13,
    "start_time": "2021-08-09T20:31:36.418Z"
   },
   {
    "duration": 50,
    "start_time": "2021-08-09T20:31:36.434Z"
   },
   {
    "duration": 8,
    "start_time": "2021-08-09T20:31:36.486Z"
   },
   {
    "duration": 27,
    "start_time": "2021-08-09T20:31:36.500Z"
   },
   {
    "duration": 17,
    "start_time": "2021-08-09T20:31:36.529Z"
   },
   {
    "duration": 14,
    "start_time": "2021-08-09T20:31:36.549Z"
   },
   {
    "duration": 53,
    "start_time": "2021-08-09T20:31:36.566Z"
   },
   {
    "duration": 21,
    "start_time": "2021-08-09T20:31:36.621Z"
   },
   {
    "duration": 57,
    "start_time": "2021-08-09T20:31:36.645Z"
   },
   {
    "duration": 9,
    "start_time": "2021-08-09T20:31:36.705Z"
   },
   {
    "duration": 10,
    "start_time": "2021-08-09T20:31:36.716Z"
   },
   {
    "duration": 9,
    "start_time": "2021-08-09T20:31:36.729Z"
   },
   {
    "duration": 9,
    "start_time": "2021-08-09T20:31:36.740Z"
   },
   {
    "duration": 53,
    "start_time": "2021-08-09T20:31:36.751Z"
   },
   {
    "duration": 16,
    "start_time": "2021-08-09T20:31:36.809Z"
   },
   {
    "duration": 345,
    "start_time": "2021-08-09T20:31:36.828Z"
   },
   {
    "duration": 280,
    "start_time": "2021-08-09T20:31:37.176Z"
   },
   {
    "duration": 7,
    "start_time": "2021-08-09T20:31:37.459Z"
   },
   {
    "duration": 41,
    "start_time": "2021-08-09T20:31:37.469Z"
   },
   {
    "duration": 10,
    "start_time": "2021-08-09T20:31:37.513Z"
   },
   {
    "duration": 13,
    "start_time": "2021-08-09T20:31:37.526Z"
   },
   {
    "duration": 343,
    "start_time": "2021-08-09T20:31:37.541Z"
   },
   {
    "duration": 325,
    "start_time": "2021-08-09T20:31:37.887Z"
   },
   {
    "duration": 9,
    "start_time": "2021-08-09T20:31:38.215Z"
   },
   {
    "duration": 852,
    "start_time": "2021-08-09T20:31:38.226Z"
   },
   {
    "duration": 5,
    "start_time": "2021-08-09T20:31:39.081Z"
   },
   {
    "duration": 14,
    "start_time": "2021-08-09T20:31:39.089Z"
   },
   {
    "duration": 13,
    "start_time": "2021-08-09T20:31:39.106Z"
   },
   {
    "duration": 289,
    "start_time": "2021-08-09T20:31:39.121Z"
   },
   {
    "duration": 739,
    "start_time": "2021-08-09T20:37:13.995Z"
   },
   {
    "duration": 695,
    "start_time": "2021-08-09T20:40:06.563Z"
   },
   {
    "duration": 420,
    "start_time": "2021-08-09T20:40:24.683Z"
   },
   {
    "duration": 268,
    "start_time": "2021-08-09T20:58:42.721Z"
   },
   {
    "duration": 838,
    "start_time": "2021-08-09T21:03:50.367Z"
   },
   {
    "duration": 485,
    "start_time": "2021-08-09T21:04:09.505Z"
   },
   {
    "duration": 604,
    "start_time": "2021-08-09T21:04:19.128Z"
   },
   {
    "duration": 856,
    "start_time": "2021-08-09T21:04:52.467Z"
   },
   {
    "duration": 601,
    "start_time": "2021-08-09T21:05:01.822Z"
   },
   {
    "duration": 583,
    "start_time": "2021-08-09T21:05:13.989Z"
   },
   {
    "duration": 439,
    "start_time": "2021-08-09T21:05:37.521Z"
   },
   {
    "duration": 473,
    "start_time": "2021-08-09T21:06:11.159Z"
   },
   {
    "duration": 300,
    "start_time": "2021-08-09T21:12:46.324Z"
   },
   {
    "duration": 642,
    "start_time": "2021-08-09T21:13:05.093Z"
   },
   {
    "duration": 489,
    "start_time": "2021-08-09T21:13:16.267Z"
   },
   {
    "duration": 12,
    "start_time": "2021-08-09T21:22:27.679Z"
   },
   {
    "duration": 385,
    "start_time": "2021-08-09T21:22:56.254Z"
   },
   {
    "duration": 387,
    "start_time": "2021-08-09T21:23:06.414Z"
   },
   {
    "duration": 540,
    "start_time": "2021-08-09T21:23:22.674Z"
   },
   {
    "duration": 13,
    "start_time": "2021-08-09T21:23:44.031Z"
   },
   {
    "duration": 495,
    "start_time": "2021-08-09T21:23:44.048Z"
   },
   {
    "duration": 527,
    "start_time": "2021-08-09T21:24:14.684Z"
   },
   {
    "duration": 91,
    "start_time": "2021-08-09T21:24:45.309Z"
   },
   {
    "duration": 860,
    "start_time": "2021-08-09T21:25:10.567Z"
   },
   {
    "duration": 713,
    "start_time": "2021-08-09T21:25:32.870Z"
   },
   {
    "duration": 686,
    "start_time": "2021-08-09T21:26:06.879Z"
   },
   {
    "duration": 829,
    "start_time": "2021-08-09T21:26:25.447Z"
   },
   {
    "duration": 691,
    "start_time": "2021-08-09T21:27:58.116Z"
   },
   {
    "duration": 1375,
    "start_time": "2021-08-09T21:29:22.289Z"
   },
   {
    "duration": 4,
    "start_time": "2021-08-09T21:29:23.667Z"
   },
   {
    "duration": 435,
    "start_time": "2021-08-09T21:29:23.676Z"
   },
   {
    "duration": 4,
    "start_time": "2021-08-09T21:29:24.114Z"
   },
   {
    "duration": 6,
    "start_time": "2021-08-09T21:29:24.120Z"
   },
   {
    "duration": 8,
    "start_time": "2021-08-09T21:29:24.128Z"
   },
   {
    "duration": 8,
    "start_time": "2021-08-09T21:29:24.138Z"
   },
   {
    "duration": 31,
    "start_time": "2021-08-09T21:29:24.150Z"
   },
   {
    "duration": 22,
    "start_time": "2021-08-09T21:29:24.185Z"
   },
   {
    "duration": 51,
    "start_time": "2021-08-09T21:29:24.209Z"
   },
   {
    "duration": 7,
    "start_time": "2021-08-09T21:29:24.263Z"
   },
   {
    "duration": 30,
    "start_time": "2021-08-09T21:29:24.272Z"
   },
   {
    "duration": 8,
    "start_time": "2021-08-09T21:29:24.304Z"
   },
   {
    "duration": 15,
    "start_time": "2021-08-09T21:29:24.315Z"
   },
   {
    "duration": 76,
    "start_time": "2021-08-09T21:29:24.332Z"
   },
   {
    "duration": 19,
    "start_time": "2021-08-09T21:29:24.410Z"
   },
   {
    "duration": 8,
    "start_time": "2021-08-09T21:29:24.431Z"
   },
   {
    "duration": 60,
    "start_time": "2021-08-09T21:29:24.441Z"
   },
   {
    "duration": 7,
    "start_time": "2021-08-09T21:29:24.503Z"
   },
   {
    "duration": 9,
    "start_time": "2021-08-09T21:29:24.513Z"
   },
   {
    "duration": 12,
    "start_time": "2021-08-09T21:29:24.525Z"
   },
   {
    "duration": 11,
    "start_time": "2021-08-09T21:29:24.539Z"
   },
   {
    "duration": 8,
    "start_time": "2021-08-09T21:29:24.555Z"
   },
   {
    "duration": 378,
    "start_time": "2021-08-09T21:29:24.565Z"
   },
   {
    "duration": 273,
    "start_time": "2021-08-09T21:29:24.945Z"
   },
   {
    "duration": 8,
    "start_time": "2021-08-09T21:29:25.220Z"
   },
   {
    "duration": 24,
    "start_time": "2021-08-09T21:29:25.230Z"
   },
   {
    "duration": 7,
    "start_time": "2021-08-09T21:29:25.257Z"
   },
   {
    "duration": 35,
    "start_time": "2021-08-09T21:29:25.266Z"
   },
   {
    "duration": 486,
    "start_time": "2021-08-09T21:29:25.303Z"
   },
   {
    "duration": 491,
    "start_time": "2021-08-09T21:29:25.791Z"
   },
   {
    "duration": 16,
    "start_time": "2021-08-09T21:29:26.285Z"
   },
   {
    "duration": 567,
    "start_time": "2021-08-09T21:29:26.304Z"
   },
   {
    "duration": 5,
    "start_time": "2021-08-09T21:29:26.873Z"
   },
   {
    "duration": 19,
    "start_time": "2021-08-09T21:29:26.881Z"
   },
   {
    "duration": 7,
    "start_time": "2021-08-09T21:29:26.903Z"
   },
   {
    "duration": 510,
    "start_time": "2021-08-09T21:29:26.913Z"
   },
   {
    "duration": 11,
    "start_time": "2021-08-09T21:29:27.426Z"
   },
   {
    "duration": 906,
    "start_time": "2021-08-09T21:29:27.439Z"
   },
   {
    "duration": 555,
    "start_time": "2021-08-09T21:30:45.913Z"
   },
   {
    "duration": 559,
    "start_time": "2021-08-09T21:31:05.484Z"
   },
   {
    "duration": 1506,
    "start_time": "2021-08-10T08:47:38.151Z"
   },
   {
    "duration": 3,
    "start_time": "2021-08-10T08:47:39.662Z"
   },
   {
    "duration": 455,
    "start_time": "2021-08-10T08:47:39.669Z"
   },
   {
    "duration": 4,
    "start_time": "2021-08-10T08:47:40.127Z"
   },
   {
    "duration": 9,
    "start_time": "2021-08-10T08:47:40.134Z"
   },
   {
    "duration": 14,
    "start_time": "2021-08-10T08:47:40.146Z"
   },
   {
    "duration": 11,
    "start_time": "2021-08-10T08:47:40.162Z"
   },
   {
    "duration": 11,
    "start_time": "2021-08-10T08:47:40.177Z"
   },
   {
    "duration": 36,
    "start_time": "2021-08-10T08:47:40.191Z"
   },
   {
    "duration": 10,
    "start_time": "2021-08-10T08:47:40.229Z"
   },
   {
    "duration": 80,
    "start_time": "2021-08-10T08:47:40.241Z"
   },
   {
    "duration": 8,
    "start_time": "2021-08-10T08:47:40.324Z"
   },
   {
    "duration": 38,
    "start_time": "2021-08-10T08:47:40.334Z"
   },
   {
    "duration": 15,
    "start_time": "2021-08-10T08:47:40.374Z"
   },
   {
    "duration": 20,
    "start_time": "2021-08-10T08:47:40.391Z"
   },
   {
    "duration": 56,
    "start_time": "2021-08-10T08:47:40.414Z"
   },
   {
    "duration": 17,
    "start_time": "2021-08-10T08:47:40.473Z"
   },
   {
    "duration": 7,
    "start_time": "2021-08-10T08:47:40.492Z"
   },
   {
    "duration": 1811,
    "start_time": "2021-08-10T08:47:40.501Z"
   },
   {
    "duration": 772,
    "start_time": "2021-08-10T08:47:41.545Z"
   },
   {
    "duration": 770,
    "start_time": "2021-08-10T08:47:41.550Z"
   },
   {
    "duration": 766,
    "start_time": "2021-08-10T08:47:41.556Z"
   },
   {
    "duration": 764,
    "start_time": "2021-08-10T08:47:41.560Z"
   },
   {
    "duration": 762,
    "start_time": "2021-08-10T08:47:41.564Z"
   },
   {
    "duration": 759,
    "start_time": "2021-08-10T08:47:41.569Z"
   },
   {
    "duration": 758,
    "start_time": "2021-08-10T08:47:41.572Z"
   },
   {
    "duration": 758,
    "start_time": "2021-08-10T08:47:41.574Z"
   },
   {
    "duration": 757,
    "start_time": "2021-08-10T08:47:41.577Z"
   },
   {
    "duration": 757,
    "start_time": "2021-08-10T08:47:41.579Z"
   },
   {
    "duration": 756,
    "start_time": "2021-08-10T08:47:41.582Z"
   },
   {
    "duration": 755,
    "start_time": "2021-08-10T08:47:41.585Z"
   },
   {
    "duration": 755,
    "start_time": "2021-08-10T08:47:41.587Z"
   },
   {
    "duration": 755,
    "start_time": "2021-08-10T08:47:41.589Z"
   },
   {
    "duration": 753,
    "start_time": "2021-08-10T08:47:41.592Z"
   },
   {
    "duration": 753,
    "start_time": "2021-08-10T08:47:41.594Z"
   },
   {
    "duration": 751,
    "start_time": "2021-08-10T08:47:41.597Z"
   },
   {
    "duration": 750,
    "start_time": "2021-08-10T08:47:41.600Z"
   },
   {
    "duration": 749,
    "start_time": "2021-08-10T08:47:41.602Z"
   },
   {
    "duration": 748,
    "start_time": "2021-08-10T08:47:41.604Z"
   },
   {
    "duration": 755,
    "start_time": "2021-08-10T08:47:41.606Z"
   },
   {
    "duration": 21,
    "start_time": "2021-08-10T08:48:40.234Z"
   },
   {
    "duration": 1499,
    "start_time": "2021-08-10T08:48:50.448Z"
   },
   {
    "duration": 3,
    "start_time": "2021-08-10T08:48:51.950Z"
   },
   {
    "duration": 443,
    "start_time": "2021-08-10T08:48:51.963Z"
   },
   {
    "duration": 4,
    "start_time": "2021-08-10T08:48:52.408Z"
   },
   {
    "duration": 7,
    "start_time": "2021-08-10T08:48:52.416Z"
   },
   {
    "duration": 6,
    "start_time": "2021-08-10T08:48:52.426Z"
   },
   {
    "duration": 9,
    "start_time": "2021-08-10T08:48:52.434Z"
   },
   {
    "duration": 26,
    "start_time": "2021-08-10T08:48:52.447Z"
   },
   {
    "duration": 32,
    "start_time": "2021-08-10T08:48:52.477Z"
   },
   {
    "duration": 9,
    "start_time": "2021-08-10T08:48:52.511Z"
   },
   {
    "duration": 66,
    "start_time": "2021-08-10T08:48:52.524Z"
   },
   {
    "duration": 11,
    "start_time": "2021-08-10T08:48:52.593Z"
   },
   {
    "duration": 30,
    "start_time": "2021-08-10T08:48:52.608Z"
   },
   {
    "duration": 23,
    "start_time": "2021-08-10T08:48:52.641Z"
   },
   {
    "duration": 16,
    "start_time": "2021-08-10T08:48:52.668Z"
   },
   {
    "duration": 78,
    "start_time": "2021-08-10T08:48:52.687Z"
   },
   {
    "duration": 23,
    "start_time": "2021-08-10T08:48:52.768Z"
   },
   {
    "duration": 8,
    "start_time": "2021-08-10T08:48:52.793Z"
   },
   {
    "duration": 75,
    "start_time": "2021-08-10T08:48:52.803Z"
   },
   {
    "duration": 17,
    "start_time": "2021-08-10T08:48:52.880Z"
   },
   {
    "duration": 10,
    "start_time": "2021-08-10T08:48:52.900Z"
   },
   {
    "duration": 6,
    "start_time": "2021-08-10T08:48:52.912Z"
   },
   {
    "duration": 13,
    "start_time": "2021-08-10T08:48:52.923Z"
   },
   {
    "duration": 9,
    "start_time": "2021-08-10T08:48:52.964Z"
   },
   {
    "duration": 374,
    "start_time": "2021-08-10T08:48:52.976Z"
   },
   {
    "duration": 282,
    "start_time": "2021-08-10T08:48:53.353Z"
   },
   {
    "duration": 9,
    "start_time": "2021-08-10T08:48:53.638Z"
   },
   {
    "duration": 29,
    "start_time": "2021-08-10T08:48:53.649Z"
   },
   {
    "duration": 10,
    "start_time": "2021-08-10T08:48:53.680Z"
   },
   {
    "duration": 9,
    "start_time": "2021-08-10T08:48:53.693Z"
   },
   {
    "duration": 524,
    "start_time": "2021-08-10T08:48:53.704Z"
   },
   {
    "duration": 470,
    "start_time": "2021-08-10T08:48:54.231Z"
   },
   {
    "duration": 9,
    "start_time": "2021-08-10T08:48:54.704Z"
   },
   {
    "duration": 599,
    "start_time": "2021-08-10T08:48:54.716Z"
   },
   {
    "duration": 5,
    "start_time": "2021-08-10T08:48:55.317Z"
   },
   {
    "duration": 7,
    "start_time": "2021-08-10T08:48:55.325Z"
   },
   {
    "duration": 26,
    "start_time": "2021-08-10T08:48:55.335Z"
   },
   {
    "duration": 471,
    "start_time": "2021-08-10T08:48:55.365Z"
   },
   {
    "duration": 24,
    "start_time": "2021-08-10T08:48:55.838Z"
   },
   {
    "duration": 544,
    "start_time": "2021-08-10T08:48:55.865Z"
   },
   {
    "duration": 1688,
    "start_time": "2021-08-10T08:50:11.139Z"
   },
   {
    "duration": 3,
    "start_time": "2021-08-10T08:50:12.830Z"
   },
   {
    "duration": 479,
    "start_time": "2021-08-10T08:50:12.838Z"
   },
   {
    "duration": 5,
    "start_time": "2021-08-10T08:50:13.319Z"
   },
   {
    "duration": 9,
    "start_time": "2021-08-10T08:50:13.326Z"
   },
   {
    "duration": 11,
    "start_time": "2021-08-10T08:50:13.338Z"
   },
   {
    "duration": 12,
    "start_time": "2021-08-10T08:50:13.353Z"
   },
   {
    "duration": 8,
    "start_time": "2021-08-10T08:50:13.367Z"
   },
   {
    "duration": 37,
    "start_time": "2021-08-10T08:50:13.378Z"
   },
   {
    "duration": 22,
    "start_time": "2021-08-10T08:50:13.418Z"
   },
   {
    "duration": 66,
    "start_time": "2021-08-10T08:50:13.443Z"
   },
   {
    "duration": 17,
    "start_time": "2021-08-10T08:50:13.512Z"
   },
   {
    "duration": 28,
    "start_time": "2021-08-10T08:50:13.532Z"
   },
   {
    "duration": 10,
    "start_time": "2021-08-10T08:50:13.563Z"
   },
   {
    "duration": 24,
    "start_time": "2021-08-10T08:50:13.575Z"
   },
   {
    "duration": 64,
    "start_time": "2021-08-10T08:50:13.602Z"
   },
   {
    "duration": 20,
    "start_time": "2021-08-10T08:50:13.668Z"
   },
   {
    "duration": 8,
    "start_time": "2021-08-10T08:50:13.690Z"
   },
   {
    "duration": 74,
    "start_time": "2021-08-10T08:50:13.701Z"
   },
   {
    "duration": 10,
    "start_time": "2021-08-10T08:50:13.777Z"
   },
   {
    "duration": 12,
    "start_time": "2021-08-10T08:50:13.790Z"
   },
   {
    "duration": 8,
    "start_time": "2021-08-10T08:50:13.807Z"
   },
   {
    "duration": 50,
    "start_time": "2021-08-10T08:50:13.818Z"
   },
   {
    "duration": 13,
    "start_time": "2021-08-10T08:50:13.871Z"
   },
   {
    "duration": 375,
    "start_time": "2021-08-10T08:50:13.886Z"
   },
   {
    "duration": 281,
    "start_time": "2021-08-10T08:50:14.264Z"
   },
   {
    "duration": 8,
    "start_time": "2021-08-10T08:50:14.563Z"
   },
   {
    "duration": 45,
    "start_time": "2021-08-10T08:50:14.573Z"
   },
   {
    "duration": 7,
    "start_time": "2021-08-10T08:50:14.621Z"
   },
   {
    "duration": 23,
    "start_time": "2021-08-10T08:50:14.630Z"
   },
   {
    "duration": 487,
    "start_time": "2021-08-10T08:50:14.656Z"
   },
   {
    "duration": 481,
    "start_time": "2021-08-10T08:50:15.145Z"
   },
   {
    "duration": 10,
    "start_time": "2021-08-10T08:50:15.629Z"
   },
   {
    "duration": 596,
    "start_time": "2021-08-10T08:50:15.642Z"
   },
   {
    "duration": 5,
    "start_time": "2021-08-10T08:50:16.241Z"
   },
   {
    "duration": 17,
    "start_time": "2021-08-10T08:50:16.248Z"
   },
   {
    "duration": 10,
    "start_time": "2021-08-10T08:50:16.267Z"
   },
   {
    "duration": 482,
    "start_time": "2021-08-10T08:50:16.279Z"
   },
   {
    "duration": 11,
    "start_time": "2021-08-10T08:50:16.764Z"
   },
   {
    "duration": 562,
    "start_time": "2021-08-10T08:50:16.778Z"
   },
   {
    "duration": 245,
    "start_time": "2021-08-10T08:56:56.800Z"
   },
   {
    "duration": 242,
    "start_time": "2021-08-10T08:57:07.848Z"
   },
   {
    "duration": 266,
    "start_time": "2021-08-10T08:58:40.376Z"
   },
   {
    "duration": 365,
    "start_time": "2021-08-10T09:00:06.889Z"
   },
   {
    "duration": 250,
    "start_time": "2021-08-10T09:00:24.385Z"
   },
   {
    "duration": 491,
    "start_time": "2021-08-10T09:00:34.160Z"
   },
   {
    "duration": 6,
    "start_time": "2021-08-10T09:04:19.950Z"
   },
   {
    "duration": 5,
    "start_time": "2021-08-10T09:05:00.544Z"
   },
   {
    "duration": 15,
    "start_time": "2021-08-10T09:10:41.641Z"
   },
   {
    "duration": 392,
    "start_time": "2021-08-10T09:11:37.810Z"
   },
   {
    "duration": 381,
    "start_time": "2021-08-10T09:11:47.551Z"
   },
   {
    "duration": 406,
    "start_time": "2021-08-10T09:12:46.150Z"
   },
   {
    "duration": 385,
    "start_time": "2021-08-10T09:13:22.312Z"
   },
   {
    "duration": 373,
    "start_time": "2021-08-10T09:14:00.012Z"
   },
   {
    "duration": 5,
    "start_time": "2021-08-10T09:16:55.541Z"
   },
   {
    "duration": 486,
    "start_time": "2021-08-10T09:35:48.999Z"
   },
   {
    "duration": 330,
    "start_time": "2021-08-10T09:36:08.169Z"
   },
   {
    "duration": 8,
    "start_time": "2021-08-10T09:37:07.465Z"
   },
   {
    "duration": 136,
    "start_time": "2021-08-10T09:37:12.043Z"
   },
   {
    "duration": 9,
    "start_time": "2021-08-10T09:38:38.291Z"
   },
   {
    "duration": 90,
    "start_time": "2021-08-10T09:42:07.323Z"
   },
   {
    "duration": 6,
    "start_time": "2021-08-10T09:42:10.007Z"
   },
   {
    "duration": 106,
    "start_time": "2021-08-10T09:42:10.016Z"
   },
   {
    "duration": 473,
    "start_time": "2021-08-10T09:43:16.929Z"
   },
   {
    "duration": 23,
    "start_time": "2021-08-10T09:44:12.731Z"
   },
   {
    "duration": 98,
    "start_time": "2021-08-10T09:44:54.226Z"
   },
   {
    "duration": 4,
    "start_time": "2021-08-10T09:45:10.101Z"
   },
   {
    "duration": 92,
    "start_time": "2021-08-10T09:45:20.302Z"
   },
   {
    "duration": 4,
    "start_time": "2021-08-10T09:45:35.131Z"
   },
   {
    "duration": 25,
    "start_time": "2021-08-10T09:46:45.779Z"
   },
   {
    "duration": 101,
    "start_time": "2021-08-10T09:47:21.337Z"
   },
   {
    "duration": 4,
    "start_time": "2021-08-10T09:47:52.023Z"
   },
   {
    "duration": 50,
    "start_time": "2021-08-10T09:48:32.421Z"
   },
   {
    "duration": 359,
    "start_time": "2021-08-10T09:50:32.264Z"
   },
   {
    "duration": 339,
    "start_time": "2021-08-10T09:50:48.176Z"
   },
   {
    "duration": 140,
    "start_time": "2021-08-10T09:51:56.937Z"
   },
   {
    "duration": 119,
    "start_time": "2021-08-10T09:52:41.594Z"
   },
   {
    "duration": 9,
    "start_time": "2021-08-10T09:56:39.665Z"
   },
   {
    "duration": 25,
    "start_time": "2021-08-10T09:58:21.019Z"
   },
   {
    "duration": 9,
    "start_time": "2021-08-10T10:01:25.077Z"
   },
   {
    "duration": 6,
    "start_time": "2021-08-10T10:04:51.575Z"
   },
   {
    "duration": 7,
    "start_time": "2021-08-10T10:04:51.849Z"
   },
   {
    "duration": 367,
    "start_time": "2021-08-10T10:07:13.959Z"
   },
   {
    "duration": 7,
    "start_time": "2021-08-10T10:07:49.515Z"
   },
   {
    "duration": 1429,
    "start_time": "2021-08-10T10:08:20.102Z"
   },
   {
    "duration": 3,
    "start_time": "2021-08-10T10:08:21.534Z"
   },
   {
    "duration": 441,
    "start_time": "2021-08-10T10:08:21.539Z"
   },
   {
    "duration": 4,
    "start_time": "2021-08-10T10:08:21.982Z"
   },
   {
    "duration": 15,
    "start_time": "2021-08-10T10:08:21.989Z"
   },
   {
    "duration": 11,
    "start_time": "2021-08-10T10:08:22.007Z"
   },
   {
    "duration": 7,
    "start_time": "2021-08-10T10:08:22.020Z"
   },
   {
    "duration": 5,
    "start_time": "2021-08-10T10:08:22.031Z"
   },
   {
    "duration": 52,
    "start_time": "2021-08-10T10:08:22.039Z"
   },
   {
    "duration": 10,
    "start_time": "2021-08-10T10:08:22.093Z"
   },
   {
    "duration": 76,
    "start_time": "2021-08-10T10:08:22.106Z"
   },
   {
    "duration": 9,
    "start_time": "2021-08-10T10:08:22.184Z"
   },
   {
    "duration": 27,
    "start_time": "2021-08-10T10:08:22.195Z"
   },
   {
    "duration": 15,
    "start_time": "2021-08-10T10:08:22.224Z"
   },
   {
    "duration": 31,
    "start_time": "2021-08-10T10:08:22.241Z"
   },
   {
    "duration": 46,
    "start_time": "2021-08-10T10:08:22.275Z"
   },
   {
    "duration": 54,
    "start_time": "2021-08-10T10:08:22.324Z"
   },
   {
    "duration": 7,
    "start_time": "2021-08-10T10:08:22.381Z"
   },
   {
    "duration": 22,
    "start_time": "2021-08-10T10:08:22.391Z"
   },
   {
    "duration": 8,
    "start_time": "2021-08-10T10:08:22.463Z"
   },
   {
    "duration": 29,
    "start_time": "2021-08-10T10:08:22.473Z"
   },
   {
    "duration": 35,
    "start_time": "2021-08-10T10:08:22.505Z"
   },
   {
    "duration": 16,
    "start_time": "2021-08-10T10:08:22.546Z"
   },
   {
    "duration": 16,
    "start_time": "2021-08-10T10:08:22.567Z"
   },
   {
    "duration": 346,
    "start_time": "2021-08-10T10:08:22.585Z"
   },
   {
    "duration": 282,
    "start_time": "2021-08-10T10:08:22.933Z"
   },
   {
    "duration": 8,
    "start_time": "2021-08-10T10:08:23.218Z"
   },
   {
    "duration": 37,
    "start_time": "2021-08-10T10:08:23.228Z"
   },
   {
    "duration": 13,
    "start_time": "2021-08-10T10:08:23.268Z"
   },
   {
    "duration": 9,
    "start_time": "2021-08-10T10:08:23.283Z"
   },
   {
    "duration": 501,
    "start_time": "2021-08-10T10:08:23.294Z"
   },
   {
    "duration": 477,
    "start_time": "2021-08-10T10:08:23.797Z"
   },
   {
    "duration": 9,
    "start_time": "2021-08-10T10:08:24.276Z"
   },
   {
    "duration": 534,
    "start_time": "2021-08-10T10:08:24.287Z"
   },
   {
    "duration": 5,
    "start_time": "2021-08-10T10:08:24.823Z"
   },
   {
    "duration": 11,
    "start_time": "2021-08-10T10:08:24.830Z"
   },
   {
    "duration": 18,
    "start_time": "2021-08-10T10:08:24.844Z"
   },
   {
    "duration": 477,
    "start_time": "2021-08-10T10:08:24.864Z"
   },
   {
    "duration": 19,
    "start_time": "2021-08-10T10:08:25.344Z"
   },
   {
    "duration": 539,
    "start_time": "2021-08-10T10:08:25.365Z"
   },
   {
    "duration": 216,
    "start_time": "2021-08-10T10:08:25.907Z"
   },
   {
    "duration": 413,
    "start_time": "2021-08-10T10:08:26.125Z"
   },
   {
    "duration": 7,
    "start_time": "2021-08-10T10:08:26.542Z"
   },
   {
    "duration": 15,
    "start_time": "2021-08-10T10:08:26.562Z"
   },
   {
    "duration": 391,
    "start_time": "2021-08-10T10:08:26.579Z"
   },
   {
    "duration": 6,
    "start_time": "2021-08-10T10:08:26.972Z"
   },
   {
    "duration": 13,
    "start_time": "2021-08-10T10:08:26.980Z"
   },
   {
    "duration": 109,
    "start_time": "2021-08-10T10:08:26.995Z"
   },
   {
    "duration": 9,
    "start_time": "2021-08-10T10:08:27.107Z"
   },
   {
    "duration": 103,
    "start_time": "2021-08-10T10:08:27.118Z"
   },
   {
    "duration": 21,
    "start_time": "2021-08-10T10:08:27.224Z"
   },
   {
    "duration": 104,
    "start_time": "2021-08-10T10:08:27.262Z"
   },
   {
    "duration": 4,
    "start_time": "2021-08-10T10:08:27.369Z"
   },
   {
    "duration": 23,
    "start_time": "2021-08-10T10:08:27.376Z"
   },
   {
    "duration": 139,
    "start_time": "2021-08-10T10:08:27.401Z"
   },
   {
    "duration": 13,
    "start_time": "2021-08-10T10:08:27.542Z"
   },
   {
    "duration": 49,
    "start_time": "2021-08-10T10:08:27.563Z"
   },
   {
    "duration": 136,
    "start_time": "2021-08-10T10:08:27.615Z"
   },
   {
    "duration": 136,
    "start_time": "2021-08-10T10:08:27.762Z"
   },
   {
    "duration": 8,
    "start_time": "2021-08-10T10:08:27.900Z"
   },
   {
    "duration": 14,
    "start_time": "2021-08-10T10:08:27.911Z"
   },
   {
    "duration": 34,
    "start_time": "2021-08-10T10:08:27.928Z"
   },
   {
    "duration": 9,
    "start_time": "2021-08-10T10:08:27.964Z"
   },
   {
    "duration": 493,
    "start_time": "2021-08-10T10:08:27.975Z"
   },
   {
    "duration": 825,
    "start_time": "2021-08-10T10:08:27.645Z"
   },
   {
    "duration": 4,
    "start_time": "2021-08-10T10:10:46.096Z"
   },
   {
    "duration": 4,
    "start_time": "2021-08-10T10:11:02.879Z"
   },
   {
    "duration": 10,
    "start_time": "2021-08-10T10:11:16.341Z"
   },
   {
    "duration": 6,
    "start_time": "2021-08-10T10:11:18.847Z"
   },
   {
    "duration": 8,
    "start_time": "2021-08-10T10:13:51.912Z"
   },
   {
    "duration": 137,
    "start_time": "2021-08-10T10:15:00.242Z"
   },
   {
    "duration": 6,
    "start_time": "2021-08-10T10:15:23.393Z"
   },
   {
    "duration": 6,
    "start_time": "2021-08-10T10:19:39.030Z"
   },
   {
    "duration": 10,
    "start_time": "2021-08-10T10:20:43.156Z"
   },
   {
    "duration": 11,
    "start_time": "2021-08-10T10:20:47.073Z"
   },
   {
    "duration": 10,
    "start_time": "2021-08-10T10:21:48.407Z"
   },
   {
    "duration": 10,
    "start_time": "2021-08-10T10:22:19.738Z"
   },
   {
    "duration": 9,
    "start_time": "2021-08-10T10:22:49.643Z"
   },
   {
    "duration": 9,
    "start_time": "2021-08-10T10:22:55.309Z"
   },
   {
    "duration": 8440,
    "start_time": "2021-08-10T10:42:25.923Z"
   },
   {
    "duration": 1979,
    "start_time": "2021-08-10T10:43:44.520Z"
   },
   {
    "duration": 4,
    "start_time": "2021-08-10T10:43:46.502Z"
   },
   {
    "duration": 601,
    "start_time": "2021-08-10T10:43:46.510Z"
   },
   {
    "duration": 5,
    "start_time": "2021-08-10T10:43:47.115Z"
   },
   {
    "duration": 8,
    "start_time": "2021-08-10T10:43:47.123Z"
   },
   {
    "duration": 10,
    "start_time": "2021-08-10T10:43:47.134Z"
   },
   {
    "duration": 7,
    "start_time": "2021-08-10T10:43:47.147Z"
   },
   {
    "duration": 5,
    "start_time": "2021-08-10T10:43:47.159Z"
   },
   {
    "duration": 5,
    "start_time": "2021-08-10T10:43:47.168Z"
   },
   {
    "duration": 32,
    "start_time": "2021-08-10T10:43:47.176Z"
   },
   {
    "duration": 15,
    "start_time": "2021-08-10T10:43:47.211Z"
   },
   {
    "duration": 68,
    "start_time": "2021-08-10T10:43:47.228Z"
   },
   {
    "duration": 9,
    "start_time": "2021-08-10T10:43:47.298Z"
   },
   {
    "duration": 26,
    "start_time": "2021-08-10T10:43:47.310Z"
   },
   {
    "duration": 12,
    "start_time": "2021-08-10T10:43:47.339Z"
   },
   {
    "duration": 13,
    "start_time": "2021-08-10T10:43:47.353Z"
   },
   {
    "duration": 39,
    "start_time": "2021-08-10T10:43:47.368Z"
   },
   {
    "duration": 57,
    "start_time": "2021-08-10T10:43:47.409Z"
   },
   {
    "duration": 10,
    "start_time": "2021-08-10T10:43:47.468Z"
   },
   {
    "duration": 22,
    "start_time": "2021-08-10T10:43:47.480Z"
   },
   {
    "duration": 11,
    "start_time": "2021-08-10T10:43:47.504Z"
   },
   {
    "duration": 45,
    "start_time": "2021-08-10T10:43:47.517Z"
   },
   {
    "duration": 6,
    "start_time": "2021-08-10T10:43:47.568Z"
   },
   {
    "duration": 20,
    "start_time": "2021-08-10T10:43:47.578Z"
   },
   {
    "duration": 13,
    "start_time": "2021-08-10T10:43:47.600Z"
   },
   {
    "duration": 371,
    "start_time": "2021-08-10T10:43:47.616Z"
   },
   {
    "duration": 281,
    "start_time": "2021-08-10T10:43:47.989Z"
   },
   {
    "duration": 11,
    "start_time": "2021-08-10T10:43:48.273Z"
   },
   {
    "duration": 20,
    "start_time": "2021-08-10T10:43:48.287Z"
   },
   {
    "duration": 9,
    "start_time": "2021-08-10T10:43:48.309Z"
   },
   {
    "duration": 13,
    "start_time": "2021-08-10T10:43:48.321Z"
   },
   {
    "duration": 524,
    "start_time": "2021-08-10T10:43:48.361Z"
   },
   {
    "duration": 525,
    "start_time": "2021-08-10T10:43:48.888Z"
   },
   {
    "duration": 9,
    "start_time": "2021-08-10T10:43:49.416Z"
   },
   {
    "duration": 609,
    "start_time": "2021-08-10T10:43:49.428Z"
   },
   {
    "duration": 5,
    "start_time": "2021-08-10T10:43:50.039Z"
   },
   {
    "duration": 16,
    "start_time": "2021-08-10T10:43:50.046Z"
   },
   {
    "duration": 13,
    "start_time": "2021-08-10T10:43:50.065Z"
   },
   {
    "duration": 504,
    "start_time": "2021-08-10T10:43:50.081Z"
   },
   {
    "duration": 13,
    "start_time": "2021-08-10T10:43:50.587Z"
   },
   {
    "duration": 570,
    "start_time": "2021-08-10T10:43:50.602Z"
   },
   {
    "duration": 213,
    "start_time": "2021-08-10T10:43:51.175Z"
   },
   {
    "duration": 412,
    "start_time": "2021-08-10T10:43:51.391Z"
   },
   {
    "duration": 6,
    "start_time": "2021-08-10T10:43:51.806Z"
   },
   {
    "duration": 21,
    "start_time": "2021-08-10T10:43:51.815Z"
   },
   {
    "duration": 428,
    "start_time": "2021-08-10T10:43:51.838Z"
   },
   {
    "duration": 7,
    "start_time": "2021-08-10T10:43:52.268Z"
   },
   {
    "duration": 9,
    "start_time": "2021-08-10T10:43:52.277Z"
   },
   {
    "duration": 120,
    "start_time": "2021-08-10T10:43:52.288Z"
   },
   {
    "duration": 15,
    "start_time": "2021-08-10T10:43:52.410Z"
   },
   {
    "duration": 103,
    "start_time": "2021-08-10T10:43:52.427Z"
   },
   {
    "duration": 35,
    "start_time": "2021-08-10T10:43:52.533Z"
   },
   {
    "duration": 114,
    "start_time": "2021-08-10T10:43:52.571Z"
   },
   {
    "duration": 18,
    "start_time": "2021-08-10T10:43:52.688Z"
   },
   {
    "duration": 33,
    "start_time": "2021-08-10T10:43:52.709Z"
   },
   {
    "duration": 101,
    "start_time": "2021-08-10T10:43:52.745Z"
   },
   {
    "duration": 16,
    "start_time": "2021-08-10T10:43:52.848Z"
   },
   {
    "duration": 49,
    "start_time": "2021-08-10T10:43:52.866Z"
   },
   {
    "duration": 127,
    "start_time": "2021-08-10T10:43:52.917Z"
   },
   {
    "duration": 145,
    "start_time": "2021-08-10T10:43:53.047Z"
   },
   {
    "duration": 9,
    "start_time": "2021-08-10T10:43:53.194Z"
   },
   {
    "duration": 20,
    "start_time": "2021-08-10T10:43:53.207Z"
   },
   {
    "duration": 6,
    "start_time": "2021-08-10T10:43:53.230Z"
   },
   {
    "duration": 6,
    "start_time": "2021-08-10T10:43:53.262Z"
   },
   {
    "duration": 17,
    "start_time": "2021-08-10T10:43:53.271Z"
   },
   {
    "duration": 7,
    "start_time": "2021-08-10T10:43:53.290Z"
   },
   {
    "duration": 21,
    "start_time": "2021-08-10T10:43:53.299Z"
   },
   {
    "duration": 39,
    "start_time": "2021-08-10T10:43:53.327Z"
   },
   {
    "duration": 9629,
    "start_time": "2021-08-10T10:43:53.369Z"
   },
   {
    "duration": 14,
    "start_time": "2021-08-10T10:44:22.726Z"
   },
   {
    "duration": 16,
    "start_time": "2021-08-10T10:44:33.876Z"
   },
   {
    "duration": 8,
    "start_time": "2021-08-10T10:47:12.899Z"
   },
   {
    "duration": 8,
    "start_time": "2021-08-10T10:47:24.097Z"
   },
   {
    "duration": 9,
    "start_time": "2021-08-10T10:48:08.506Z"
   },
   {
    "duration": 6,
    "start_time": "2021-08-10T10:48:11.175Z"
   },
   {
    "duration": 8,
    "start_time": "2021-08-10T10:48:35.072Z"
   },
   {
    "duration": 6,
    "start_time": "2021-08-10T10:48:56.489Z"
   },
   {
    "duration": 8776,
    "start_time": "2021-08-10T10:52:56.302Z"
   },
   {
    "duration": 14,
    "start_time": "2021-08-10T10:54:29.025Z"
   },
   {
    "duration": 15,
    "start_time": "2021-08-10T10:55:05.429Z"
   },
   {
    "duration": 13,
    "start_time": "2021-08-10T10:55:42.014Z"
   },
   {
    "duration": 13,
    "start_time": "2021-08-10T10:56:06.240Z"
   },
   {
    "duration": 1471,
    "start_time": "2021-08-10T10:57:39.455Z"
   },
   {
    "duration": 3,
    "start_time": "2021-08-10T10:57:40.929Z"
   },
   {
    "duration": 511,
    "start_time": "2021-08-10T10:57:40.934Z"
   },
   {
    "duration": 4,
    "start_time": "2021-08-10T10:57:41.448Z"
   },
   {
    "duration": 11,
    "start_time": "2021-08-10T10:57:41.455Z"
   },
   {
    "duration": 17,
    "start_time": "2021-08-10T10:57:41.468Z"
   },
   {
    "duration": 8,
    "start_time": "2021-08-10T10:57:41.487Z"
   },
   {
    "duration": 5,
    "start_time": "2021-08-10T10:57:41.498Z"
   },
   {
    "duration": 13,
    "start_time": "2021-08-10T10:57:41.506Z"
   },
   {
    "duration": 34,
    "start_time": "2021-08-10T10:57:41.521Z"
   },
   {
    "duration": 23,
    "start_time": "2021-08-10T10:57:41.557Z"
   },
   {
    "duration": 43,
    "start_time": "2021-08-10T10:57:41.591Z"
   },
   {
    "duration": 8,
    "start_time": "2021-08-10T10:57:41.637Z"
   },
   {
    "duration": 43,
    "start_time": "2021-08-10T10:57:41.649Z"
   },
   {
    "duration": 10,
    "start_time": "2021-08-10T10:57:41.695Z"
   },
   {
    "duration": 22,
    "start_time": "2021-08-10T10:57:41.708Z"
   },
   {
    "duration": 58,
    "start_time": "2021-08-10T10:57:41.732Z"
   },
   {
    "duration": 21,
    "start_time": "2021-08-10T10:57:41.792Z"
   },
   {
    "duration": 8,
    "start_time": "2021-08-10T10:57:41.863Z"
   },
   {
    "duration": 22,
    "start_time": "2021-08-10T10:57:41.876Z"
   },
   {
    "duration": 9,
    "start_time": "2021-08-10T10:57:41.901Z"
   },
   {
    "duration": 10,
    "start_time": "2021-08-10T10:57:41.913Z"
   },
   {
    "duration": 6,
    "start_time": "2021-08-10T10:57:41.963Z"
   },
   {
    "duration": 16,
    "start_time": "2021-08-10T10:57:41.971Z"
   },
   {
    "duration": 13,
    "start_time": "2021-08-10T10:57:41.990Z"
   },
   {
    "duration": 402,
    "start_time": "2021-08-10T10:57:42.006Z"
   },
   {
    "duration": 278,
    "start_time": "2021-08-10T10:57:42.411Z"
   },
   {
    "duration": 7,
    "start_time": "2021-08-10T10:57:42.692Z"
   },
   {
    "duration": 21,
    "start_time": "2021-08-10T10:57:42.702Z"
   },
   {
    "duration": 9,
    "start_time": "2021-08-10T10:57:42.726Z"
   },
   {
    "duration": 8,
    "start_time": "2021-08-10T10:57:42.763Z"
   },
   {
    "duration": 494,
    "start_time": "2021-08-10T10:57:42.774Z"
   },
   {
    "duration": 475,
    "start_time": "2021-08-10T10:57:43.271Z"
   },
   {
    "duration": 17,
    "start_time": "2021-08-10T10:57:43.749Z"
   },
   {
    "duration": 719,
    "start_time": "2021-08-10T10:57:43.769Z"
   },
   {
    "duration": 6,
    "start_time": "2021-08-10T10:57:44.492Z"
   },
   {
    "duration": 10,
    "start_time": "2021-08-10T10:57:44.501Z"
   },
   {
    "duration": 6,
    "start_time": "2021-08-10T10:57:44.520Z"
   },
   {
    "duration": 668,
    "start_time": "2021-08-10T10:57:44.531Z"
   },
   {
    "duration": 18,
    "start_time": "2021-08-10T10:57:45.202Z"
   },
   {
    "duration": 744,
    "start_time": "2021-08-10T10:57:45.224Z"
   },
   {
    "duration": 349,
    "start_time": "2021-08-10T10:57:45.972Z"
   },
   {
    "duration": 531,
    "start_time": "2021-08-10T10:57:46.324Z"
   },
   {
    "duration": 9,
    "start_time": "2021-08-10T10:57:46.861Z"
   },
   {
    "duration": 20,
    "start_time": "2021-08-10T10:57:46.873Z"
   },
   {
    "duration": 397,
    "start_time": "2021-08-10T10:57:46.896Z"
   },
   {
    "duration": 6,
    "start_time": "2021-08-10T10:57:47.296Z"
   },
   {
    "duration": 11,
    "start_time": "2021-08-10T10:57:47.304Z"
   },
   {
    "duration": 118,
    "start_time": "2021-08-10T10:57:47.317Z"
   },
   {
    "duration": 14,
    "start_time": "2021-08-10T10:57:47.437Z"
   },
   {
    "duration": 101,
    "start_time": "2021-08-10T10:57:47.462Z"
   },
   {
    "duration": 24,
    "start_time": "2021-08-10T10:57:47.566Z"
   },
   {
    "duration": 124,
    "start_time": "2021-08-10T10:57:47.592Z"
   },
   {
    "duration": 7,
    "start_time": "2021-08-10T10:57:47.719Z"
   },
   {
    "duration": 33,
    "start_time": "2021-08-10T10:57:47.728Z"
   },
   {
    "duration": 109,
    "start_time": "2021-08-10T10:57:47.764Z"
   },
   {
    "duration": 7,
    "start_time": "2021-08-10T10:57:47.876Z"
   },
   {
    "duration": 47,
    "start_time": "2021-08-10T10:57:47.885Z"
   },
   {
    "duration": 145,
    "start_time": "2021-08-10T10:57:47.934Z"
   },
   {
    "duration": 140,
    "start_time": "2021-08-10T10:57:48.081Z"
   },
   {
    "duration": 8,
    "start_time": "2021-08-10T10:57:48.223Z"
   },
   {
    "duration": 30,
    "start_time": "2021-08-10T10:57:48.233Z"
   },
   {
    "duration": 7,
    "start_time": "2021-08-10T10:57:48.265Z"
   },
   {
    "duration": 5,
    "start_time": "2021-08-10T10:57:48.275Z"
   },
   {
    "duration": 12,
    "start_time": "2021-08-10T10:57:48.283Z"
   },
   {
    "duration": 5,
    "start_time": "2021-08-10T10:57:48.297Z"
   },
   {
    "duration": 15,
    "start_time": "2021-08-10T10:57:48.305Z"
   },
   {
    "duration": 11,
    "start_time": "2021-08-10T10:57:48.364Z"
   },
   {
    "duration": 18,
    "start_time": "2021-08-10T10:57:48.378Z"
   },
   {
    "duration": 9,
    "start_time": "2021-08-10T10:57:48.399Z"
   },
   {
    "duration": 56,
    "start_time": "2021-08-10T10:57:48.411Z"
   },
   {
    "duration": 13,
    "start_time": "2021-08-10T10:57:48.470Z"
   },
   {
    "duration": 6,
    "start_time": "2021-08-10T10:57:48.487Z"
   },
   {
    "duration": 15,
    "start_time": "2021-08-10T10:57:48.496Z"
   },
   {
    "duration": 60,
    "start_time": "2021-08-10T10:57:48.514Z"
   },
   {
    "duration": 1944,
    "start_time": "2021-08-10T10:59:05.365Z"
   },
   {
    "duration": 4,
    "start_time": "2021-08-10T10:59:07.312Z"
   },
   {
    "duration": 475,
    "start_time": "2021-08-10T10:59:07.321Z"
   },
   {
    "duration": 4,
    "start_time": "2021-08-10T10:59:07.799Z"
   },
   {
    "duration": 26,
    "start_time": "2021-08-10T10:59:07.805Z"
   },
   {
    "duration": 22,
    "start_time": "2021-08-10T10:59:07.833Z"
   },
   {
    "duration": 25,
    "start_time": "2021-08-10T10:59:07.858Z"
   },
   {
    "duration": 16,
    "start_time": "2021-08-10T10:59:07.887Z"
   },
   {
    "duration": 17,
    "start_time": "2021-08-10T10:59:07.906Z"
   },
   {
    "duration": 42,
    "start_time": "2021-08-10T10:59:07.926Z"
   },
   {
    "duration": 15,
    "start_time": "2021-08-10T10:59:07.971Z"
   },
   {
    "duration": 48,
    "start_time": "2021-08-10T10:59:07.989Z"
   },
   {
    "duration": 10,
    "start_time": "2021-08-10T10:59:08.039Z"
   },
   {
    "duration": 27,
    "start_time": "2021-08-10T10:59:08.051Z"
   },
   {
    "duration": 21,
    "start_time": "2021-08-10T10:59:08.081Z"
   },
   {
    "duration": 20,
    "start_time": "2021-08-10T10:59:08.105Z"
   },
   {
    "duration": 51,
    "start_time": "2021-08-10T10:59:08.128Z"
   },
   {
    "duration": 24,
    "start_time": "2021-08-10T10:59:08.182Z"
   },
   {
    "duration": 54,
    "start_time": "2021-08-10T10:59:08.209Z"
   },
   {
    "duration": 24,
    "start_time": "2021-08-10T10:59:08.266Z"
   },
   {
    "duration": 9,
    "start_time": "2021-08-10T10:59:08.293Z"
   },
   {
    "duration": 16,
    "start_time": "2021-08-10T10:59:08.305Z"
   },
   {
    "duration": 34,
    "start_time": "2021-08-10T10:59:08.329Z"
   },
   {
    "duration": 18,
    "start_time": "2021-08-10T10:59:08.368Z"
   },
   {
    "duration": 21,
    "start_time": "2021-08-10T10:59:08.389Z"
   },
   {
    "duration": 355,
    "start_time": "2021-08-10T10:59:08.413Z"
   },
   {
    "duration": 291,
    "start_time": "2021-08-10T10:59:08.771Z"
   },
   {
    "duration": 8,
    "start_time": "2021-08-10T10:59:09.064Z"
   },
   {
    "duration": 28,
    "start_time": "2021-08-10T10:59:09.074Z"
   },
   {
    "duration": 7,
    "start_time": "2021-08-10T10:59:09.105Z"
   },
   {
    "duration": 10,
    "start_time": "2021-08-10T10:59:09.114Z"
   },
   {
    "duration": 521,
    "start_time": "2021-08-10T10:59:09.127Z"
   },
   {
    "duration": 473,
    "start_time": "2021-08-10T10:59:09.650Z"
   },
   {
    "duration": 9,
    "start_time": "2021-08-10T10:59:10.125Z"
   },
   {
    "duration": 578,
    "start_time": "2021-08-10T10:59:10.136Z"
   },
   {
    "duration": 5,
    "start_time": "2021-08-10T10:59:10.716Z"
   },
   {
    "duration": 23,
    "start_time": "2021-08-10T10:59:10.724Z"
   },
   {
    "duration": 40,
    "start_time": "2021-08-10T10:59:10.750Z"
   },
   {
    "duration": 483,
    "start_time": "2021-08-10T10:59:10.793Z"
   },
   {
    "duration": 13,
    "start_time": "2021-08-10T10:59:11.278Z"
   },
   {
    "duration": 536,
    "start_time": "2021-08-10T10:59:11.293Z"
   },
   {
    "duration": 201,
    "start_time": "2021-08-10T10:59:11.831Z"
   },
   {
    "duration": 415,
    "start_time": "2021-08-10T10:59:12.035Z"
   },
   {
    "duration": 12,
    "start_time": "2021-08-10T10:59:12.453Z"
   },
   {
    "duration": 19,
    "start_time": "2021-08-10T10:59:12.468Z"
   },
   {
    "duration": 393,
    "start_time": "2021-08-10T10:59:12.490Z"
   },
   {
    "duration": 5,
    "start_time": "2021-08-10T10:59:12.886Z"
   },
   {
    "duration": 13,
    "start_time": "2021-08-10T10:59:12.894Z"
   },
   {
    "duration": 111,
    "start_time": "2021-08-10T10:59:12.910Z"
   },
   {
    "duration": 15,
    "start_time": "2021-08-10T10:59:13.023Z"
   },
   {
    "duration": 99,
    "start_time": "2021-08-10T10:59:13.041Z"
   },
   {
    "duration": 34,
    "start_time": "2021-08-10T10:59:13.143Z"
   },
   {
    "duration": 112,
    "start_time": "2021-08-10T10:59:13.180Z"
   },
   {
    "duration": 11,
    "start_time": "2021-08-10T10:59:13.294Z"
   },
   {
    "duration": 23,
    "start_time": "2021-08-10T10:59:13.307Z"
   },
   {
    "duration": 111,
    "start_time": "2021-08-10T10:59:13.333Z"
   },
   {
    "duration": 16,
    "start_time": "2021-08-10T10:59:13.446Z"
   },
   {
    "duration": 49,
    "start_time": "2021-08-10T10:59:13.464Z"
   },
   {
    "duration": 119,
    "start_time": "2021-08-10T10:59:13.516Z"
   },
   {
    "duration": 136,
    "start_time": "2021-08-10T10:59:13.638Z"
   },
   {
    "duration": 9,
    "start_time": "2021-08-10T10:59:13.777Z"
   },
   {
    "duration": 18,
    "start_time": "2021-08-10T10:59:13.789Z"
   },
   {
    "duration": 11,
    "start_time": "2021-08-10T10:59:13.809Z"
   },
   {
    "duration": 8,
    "start_time": "2021-08-10T10:59:13.823Z"
   },
   {
    "duration": 13,
    "start_time": "2021-08-10T10:59:13.862Z"
   },
   {
    "duration": 7,
    "start_time": "2021-08-10T10:59:13.878Z"
   },
   {
    "duration": 13,
    "start_time": "2021-08-10T10:59:13.888Z"
   },
   {
    "duration": 9,
    "start_time": "2021-08-10T10:59:13.910Z"
   },
   {
    "duration": 55,
    "start_time": "2021-08-10T10:59:13.922Z"
   },
   {
    "duration": 13,
    "start_time": "2021-08-10T10:59:13.980Z"
   },
   {
    "duration": 10,
    "start_time": "2021-08-10T10:59:13.996Z"
   },
   {
    "duration": 53,
    "start_time": "2021-08-10T10:59:14.009Z"
   },
   {
    "duration": 5,
    "start_time": "2021-08-10T10:59:14.065Z"
   },
   {
    "duration": 14,
    "start_time": "2021-08-10T10:59:14.073Z"
   },
   {
    "duration": 13,
    "start_time": "2021-08-10T10:59:14.090Z"
   },
   {
    "duration": 587,
    "start_time": "2021-08-10T11:07:11.430Z"
   },
   {
    "duration": 684,
    "start_time": "2021-08-10T11:08:55.739Z"
   },
   {
    "duration": 1587,
    "start_time": "2021-08-10T11:10:32.763Z"
   },
   {
    "duration": 4,
    "start_time": "2021-08-10T11:10:34.353Z"
   },
   {
    "duration": 482,
    "start_time": "2021-08-10T11:10:34.363Z"
   },
   {
    "duration": 5,
    "start_time": "2021-08-10T11:10:34.848Z"
   },
   {
    "duration": 8,
    "start_time": "2021-08-10T11:10:34.855Z"
   },
   {
    "duration": 7,
    "start_time": "2021-08-10T11:10:34.867Z"
   },
   {
    "duration": 7,
    "start_time": "2021-08-10T11:10:34.876Z"
   },
   {
    "duration": 5,
    "start_time": "2021-08-10T11:10:34.887Z"
   },
   {
    "duration": 7,
    "start_time": "2021-08-10T11:10:34.894Z"
   },
   {
    "duration": 38,
    "start_time": "2021-08-10T11:10:34.904Z"
   },
   {
    "duration": 11,
    "start_time": "2021-08-10T11:10:34.963Z"
   },
   {
    "duration": 43,
    "start_time": "2021-08-10T11:10:34.978Z"
   },
   {
    "duration": 9,
    "start_time": "2021-08-10T11:10:35.025Z"
   },
   {
    "duration": 37,
    "start_time": "2021-08-10T11:10:35.037Z"
   },
   {
    "duration": 13,
    "start_time": "2021-08-10T11:10:35.077Z"
   },
   {
    "duration": 17,
    "start_time": "2021-08-10T11:10:35.092Z"
   },
   {
    "duration": 64,
    "start_time": "2021-08-10T11:10:35.112Z"
   },
   {
    "duration": 19,
    "start_time": "2021-08-10T11:10:35.179Z"
   },
   {
    "duration": 15,
    "start_time": "2021-08-10T11:10:35.200Z"
   },
   {
    "duration": 22,
    "start_time": "2021-08-10T11:10:35.263Z"
   },
   {
    "duration": 15,
    "start_time": "2021-08-10T11:10:35.288Z"
   },
   {
    "duration": 18,
    "start_time": "2021-08-10T11:10:35.306Z"
   },
   {
    "duration": 10,
    "start_time": "2021-08-10T11:10:35.332Z"
   },
   {
    "duration": 17,
    "start_time": "2021-08-10T11:10:35.366Z"
   },
   {
    "duration": 18,
    "start_time": "2021-08-10T11:10:35.386Z"
   },
   {
    "duration": 555,
    "start_time": "2021-08-10T11:10:35.407Z"
   },
   {
    "duration": 279,
    "start_time": "2021-08-10T11:10:35.964Z"
   },
   {
    "duration": 24,
    "start_time": "2021-08-10T11:10:36.245Z"
   },
   {
    "duration": 24,
    "start_time": "2021-08-10T11:10:36.271Z"
   },
   {
    "duration": 8,
    "start_time": "2021-08-10T11:10:36.298Z"
   },
   {
    "duration": 8,
    "start_time": "2021-08-10T11:10:36.309Z"
   },
   {
    "duration": 583,
    "start_time": "2021-08-10T11:10:36.319Z"
   },
   {
    "duration": 501,
    "start_time": "2021-08-10T11:10:36.904Z"
   },
   {
    "duration": 9,
    "start_time": "2021-08-10T11:10:37.408Z"
   },
   {
    "duration": 593,
    "start_time": "2021-08-10T11:10:37.419Z"
   },
   {
    "duration": 5,
    "start_time": "2021-08-10T11:10:38.014Z"
   },
   {
    "duration": 21,
    "start_time": "2021-08-10T11:10:38.022Z"
   },
   {
    "duration": 18,
    "start_time": "2021-08-10T11:10:38.045Z"
   },
   {
    "duration": 569,
    "start_time": "2021-08-10T11:10:38.065Z"
   },
   {
    "duration": 12,
    "start_time": "2021-08-10T11:10:38.636Z"
   },
   {
    "duration": 551,
    "start_time": "2021-08-10T11:10:38.662Z"
   },
   {
    "duration": 198,
    "start_time": "2021-08-10T11:10:39.216Z"
   },
   {
    "duration": 428,
    "start_time": "2021-08-10T11:10:39.416Z"
   },
   {
    "duration": 5,
    "start_time": "2021-08-10T11:10:39.847Z"
   },
   {
    "duration": 15,
    "start_time": "2021-08-10T11:10:39.862Z"
   },
   {
    "duration": 402,
    "start_time": "2021-08-10T11:10:39.880Z"
   },
   {
    "duration": 6,
    "start_time": "2021-08-10T11:10:40.284Z"
   },
   {
    "duration": 17,
    "start_time": "2021-08-10T11:10:40.292Z"
   },
   {
    "duration": 110,
    "start_time": "2021-08-10T11:10:40.311Z"
   },
   {
    "duration": 9,
    "start_time": "2021-08-10T11:10:40.423Z"
   },
   {
    "duration": 106,
    "start_time": "2021-08-10T11:10:40.435Z"
   },
   {
    "duration": 35,
    "start_time": "2021-08-10T11:10:40.544Z"
   },
   {
    "duration": 108,
    "start_time": "2021-08-10T11:10:40.582Z"
   },
   {
    "duration": 17,
    "start_time": "2021-08-10T11:10:40.693Z"
   },
   {
    "duration": 25,
    "start_time": "2021-08-10T11:10:40.712Z"
   },
   {
    "duration": 122,
    "start_time": "2021-08-10T11:10:40.740Z"
   },
   {
    "duration": 9,
    "start_time": "2021-08-10T11:10:40.864Z"
   },
   {
    "duration": 51,
    "start_time": "2021-08-10T11:10:40.875Z"
   },
   {
    "duration": 144,
    "start_time": "2021-08-10T11:10:40.928Z"
   },
   {
    "duration": 147,
    "start_time": "2021-08-10T11:10:41.075Z"
   },
   {
    "duration": 36,
    "start_time": "2021-08-10T11:10:41.226Z"
   },
   {
    "duration": 10,
    "start_time": "2021-08-10T11:10:41.265Z"
   },
   {
    "duration": 7,
    "start_time": "2021-08-10T11:10:41.278Z"
   },
   {
    "duration": 6,
    "start_time": "2021-08-10T11:10:41.288Z"
   },
   {
    "duration": 11,
    "start_time": "2021-08-10T11:10:41.297Z"
   },
   {
    "duration": 52,
    "start_time": "2021-08-10T11:10:41.311Z"
   },
   {
    "duration": 15,
    "start_time": "2021-08-10T11:10:41.366Z"
   },
   {
    "duration": 9,
    "start_time": "2021-08-10T11:10:41.390Z"
   },
   {
    "duration": 19,
    "start_time": "2021-08-10T11:10:41.402Z"
   },
   {
    "duration": 45,
    "start_time": "2021-08-10T11:10:41.423Z"
   },
   {
    "duration": 7,
    "start_time": "2021-08-10T11:10:41.471Z"
   },
   {
    "duration": 12,
    "start_time": "2021-08-10T11:10:41.481Z"
   },
   {
    "duration": 5,
    "start_time": "2021-08-10T11:10:41.496Z"
   },
   {
    "duration": 20,
    "start_time": "2021-08-10T11:10:41.503Z"
   },
   {
    "duration": 46,
    "start_time": "2021-08-10T11:10:41.525Z"
   },
   {
    "duration": 548,
    "start_time": "2021-08-10T11:10:41.573Z"
   },
   {
    "duration": 721,
    "start_time": "2021-08-10T11:10:42.124Z"
   },
   {
    "duration": 17,
    "start_time": "2021-08-10T11:11:11.928Z"
   },
   {
    "duration": 9,
    "start_time": "2021-08-10T11:11:14.148Z"
   },
   {
    "duration": 8,
    "start_time": "2021-08-10T11:11:14.556Z"
   },
   {
    "duration": 8,
    "start_time": "2021-08-10T11:11:15.536Z"
   },
   {
    "duration": 6,
    "start_time": "2021-08-10T11:11:22.554Z"
   },
   {
    "duration": 15,
    "start_time": "2021-08-10T11:11:24.829Z"
   },
   {
    "duration": 12,
    "start_time": "2021-08-10T11:11:24.847Z"
   },
   {
    "duration": 1575,
    "start_time": "2021-08-10T11:22:45.366Z"
   },
   {
    "duration": 4,
    "start_time": "2021-08-10T11:22:46.943Z"
   },
   {
    "duration": 466,
    "start_time": "2021-08-10T11:22:46.949Z"
   },
   {
    "duration": 4,
    "start_time": "2021-08-10T11:22:47.417Z"
   },
   {
    "duration": 14,
    "start_time": "2021-08-10T11:22:47.423Z"
   },
   {
    "duration": 18,
    "start_time": "2021-08-10T11:22:47.440Z"
   },
   {
    "duration": 9,
    "start_time": "2021-08-10T11:22:47.460Z"
   },
   {
    "duration": 13,
    "start_time": "2021-08-10T11:22:47.473Z"
   },
   {
    "duration": 9,
    "start_time": "2021-08-10T11:22:47.488Z"
   },
   {
    "duration": 39,
    "start_time": "2021-08-10T11:22:47.500Z"
   },
   {
    "duration": 11,
    "start_time": "2021-08-10T11:22:47.541Z"
   },
   {
    "duration": 50,
    "start_time": "2021-08-10T11:22:47.563Z"
   },
   {
    "duration": 12,
    "start_time": "2021-08-10T11:22:47.616Z"
   },
   {
    "duration": 29,
    "start_time": "2021-08-10T11:22:47.631Z"
   },
   {
    "duration": 16,
    "start_time": "2021-08-10T11:22:47.663Z"
   },
   {
    "duration": 17,
    "start_time": "2021-08-10T11:22:47.681Z"
   },
   {
    "duration": 71,
    "start_time": "2021-08-10T11:22:47.700Z"
   },
   {
    "duration": 25,
    "start_time": "2021-08-10T11:22:47.774Z"
   },
   {
    "duration": 10,
    "start_time": "2021-08-10T11:22:47.802Z"
   },
   {
    "duration": 74,
    "start_time": "2021-08-10T11:22:47.814Z"
   },
   {
    "duration": 25,
    "start_time": "2021-08-10T11:22:47.892Z"
   },
   {
    "duration": 16,
    "start_time": "2021-08-10T11:22:47.919Z"
   },
   {
    "duration": 16,
    "start_time": "2021-08-10T11:22:47.941Z"
   },
   {
    "duration": 23,
    "start_time": "2021-08-10T11:22:47.960Z"
   },
   {
    "duration": 15,
    "start_time": "2021-08-10T11:22:47.985Z"
   },
   {
    "duration": 341,
    "start_time": "2021-08-10T11:22:48.003Z"
   },
   {
    "duration": 279,
    "start_time": "2021-08-10T11:22:48.347Z"
   },
   {
    "duration": 7,
    "start_time": "2021-08-10T11:22:48.628Z"
   },
   {
    "duration": 39,
    "start_time": "2021-08-10T11:22:48.638Z"
   },
   {
    "duration": 7,
    "start_time": "2021-08-10T11:22:48.679Z"
   },
   {
    "duration": 18,
    "start_time": "2021-08-10T11:22:48.689Z"
   },
   {
    "duration": 504,
    "start_time": "2021-08-10T11:22:48.709Z"
   },
   {
    "duration": 455,
    "start_time": "2021-08-10T11:22:49.216Z"
   },
   {
    "duration": 9,
    "start_time": "2021-08-10T11:22:49.674Z"
   },
   {
    "duration": 550,
    "start_time": "2021-08-10T11:22:49.685Z"
   },
   {
    "duration": 5,
    "start_time": "2021-08-10T11:22:50.237Z"
   },
   {
    "duration": 20,
    "start_time": "2021-08-10T11:22:50.245Z"
   },
   {
    "duration": 13,
    "start_time": "2021-08-10T11:22:50.268Z"
   },
   {
    "duration": 630,
    "start_time": "2021-08-10T11:22:50.283Z"
   },
   {
    "duration": 17,
    "start_time": "2021-08-10T11:22:50.916Z"
   },
   {
    "duration": 726,
    "start_time": "2021-08-10T11:22:50.936Z"
   },
   {
    "duration": 340,
    "start_time": "2021-08-10T11:22:51.665Z"
   },
   {
    "duration": 551,
    "start_time": "2021-08-10T11:22:52.008Z"
   },
   {
    "duration": 8,
    "start_time": "2021-08-10T11:22:52.563Z"
   },
   {
    "duration": 23,
    "start_time": "2021-08-10T11:22:52.574Z"
   },
   {
    "duration": 589,
    "start_time": "2021-08-10T11:22:52.601Z"
   },
   {
    "duration": 8,
    "start_time": "2021-08-10T11:22:53.193Z"
   },
   {
    "duration": 18,
    "start_time": "2021-08-10T11:22:53.204Z"
   },
   {
    "duration": 163,
    "start_time": "2021-08-10T11:22:53.226Z"
   },
   {
    "duration": 9,
    "start_time": "2021-08-10T11:22:53.392Z"
   },
   {
    "duration": 160,
    "start_time": "2021-08-10T11:22:53.404Z"
   },
   {
    "duration": 38,
    "start_time": "2021-08-10T11:22:53.567Z"
   },
   {
    "duration": 163,
    "start_time": "2021-08-10T11:22:53.608Z"
   },
   {
    "duration": 10,
    "start_time": "2021-08-10T11:22:53.775Z"
   },
   {
    "duration": 38,
    "start_time": "2021-08-10T11:22:53.789Z"
   },
   {
    "duration": 170,
    "start_time": "2021-08-10T11:22:53.830Z"
   },
   {
    "duration": 7,
    "start_time": "2021-08-10T11:22:54.003Z"
   },
   {
    "duration": 95,
    "start_time": "2021-08-10T11:22:54.012Z"
   },
   {
    "duration": 121,
    "start_time": "2021-08-10T11:22:54.109Z"
   },
   {
    "duration": 178,
    "start_time": "2021-08-10T11:22:54.232Z"
   },
   {
    "duration": 9,
    "start_time": "2021-08-10T11:22:54.413Z"
   },
   {
    "duration": 18,
    "start_time": "2021-08-10T11:22:54.424Z"
   },
   {
    "duration": 7,
    "start_time": "2021-08-10T11:22:54.462Z"
   },
   {
    "duration": 18,
    "start_time": "2021-08-10T11:22:54.471Z"
   },
   {
    "duration": 14,
    "start_time": "2021-08-10T11:22:54.491Z"
   },
   {
    "duration": 9,
    "start_time": "2021-08-10T11:22:54.507Z"
   },
   {
    "duration": 19,
    "start_time": "2021-08-10T11:22:54.519Z"
   },
   {
    "duration": 10,
    "start_time": "2021-08-10T11:22:54.566Z"
   },
   {
    "duration": 15,
    "start_time": "2021-08-10T11:22:54.579Z"
   },
   {
    "duration": 10,
    "start_time": "2021-08-10T11:22:54.597Z"
   },
   {
    "duration": 16,
    "start_time": "2021-08-10T11:22:54.610Z"
   },
   {
    "duration": 16,
    "start_time": "2021-08-10T11:22:54.662Z"
   },
   {
    "duration": 11,
    "start_time": "2021-08-10T11:22:54.680Z"
   },
   {
    "duration": 25,
    "start_time": "2021-08-10T11:22:54.694Z"
   },
   {
    "duration": 19,
    "start_time": "2021-08-10T11:22:54.721Z"
   },
   {
    "duration": 594,
    "start_time": "2021-08-10T11:22:54.742Z"
   },
   {
    "duration": 708,
    "start_time": "2021-08-10T11:22:55.338Z"
   },
   {
    "duration": 105,
    "start_time": "2021-08-10T11:22:56.049Z"
   },
   {
    "duration": 1577,
    "start_time": "2021-08-10T11:23:24.367Z"
   },
   {
    "duration": 3,
    "start_time": "2021-08-10T11:23:25.947Z"
   },
   {
    "duration": 501,
    "start_time": "2021-08-10T11:23:25.961Z"
   },
   {
    "duration": 4,
    "start_time": "2021-08-10T11:23:26.466Z"
   },
   {
    "duration": 7,
    "start_time": "2021-08-10T11:23:26.473Z"
   },
   {
    "duration": 7,
    "start_time": "2021-08-10T11:23:26.483Z"
   },
   {
    "duration": 8,
    "start_time": "2021-08-10T11:23:26.493Z"
   },
   {
    "duration": 8,
    "start_time": "2021-08-10T11:23:26.506Z"
   },
   {
    "duration": 44,
    "start_time": "2021-08-10T11:23:26.518Z"
   },
   {
    "duration": 27,
    "start_time": "2021-08-10T11:23:26.565Z"
   },
   {
    "duration": 11,
    "start_time": "2021-08-10T11:23:26.596Z"
   },
   {
    "duration": 52,
    "start_time": "2021-08-10T11:23:26.610Z"
   },
   {
    "duration": 9,
    "start_time": "2021-08-10T11:23:26.664Z"
   },
   {
    "duration": 33,
    "start_time": "2021-08-10T11:23:26.675Z"
   },
   {
    "duration": 14,
    "start_time": "2021-08-10T11:23:26.710Z"
   },
   {
    "duration": 16,
    "start_time": "2021-08-10T11:23:26.726Z"
   },
   {
    "duration": 43,
    "start_time": "2021-08-10T11:23:26.761Z"
   },
   {
    "duration": 64,
    "start_time": "2021-08-10T11:23:26.807Z"
   },
   {
    "duration": 9,
    "start_time": "2021-08-10T11:23:26.873Z"
   },
   {
    "duration": 24,
    "start_time": "2021-08-10T11:23:26.885Z"
   },
   {
    "duration": 59,
    "start_time": "2021-08-10T11:23:26.911Z"
   },
   {
    "duration": 36,
    "start_time": "2021-08-10T11:23:26.973Z"
   },
   {
    "duration": 8,
    "start_time": "2021-08-10T11:23:27.021Z"
   },
   {
    "duration": 30,
    "start_time": "2021-08-10T11:23:27.034Z"
   },
   {
    "duration": 10,
    "start_time": "2021-08-10T11:23:27.067Z"
   },
   {
    "duration": 432,
    "start_time": "2021-08-10T11:23:27.080Z"
   },
   {
    "duration": 433,
    "start_time": "2021-08-10T11:23:27.516Z"
   },
   {
    "duration": 14,
    "start_time": "2021-08-10T11:23:27.952Z"
   },
   {
    "duration": 24,
    "start_time": "2021-08-10T11:23:27.969Z"
   },
   {
    "duration": 11,
    "start_time": "2021-08-10T11:23:27.996Z"
   },
   {
    "duration": 11,
    "start_time": "2021-08-10T11:23:28.009Z"
   },
   {
    "duration": 558,
    "start_time": "2021-08-10T11:23:28.023Z"
   },
   {
    "duration": 672,
    "start_time": "2021-08-10T11:23:28.584Z"
   },
   {
    "duration": 13,
    "start_time": "2021-08-10T11:23:29.263Z"
   },
   {
    "duration": 587,
    "start_time": "2021-08-10T11:23:29.280Z"
   },
   {
    "duration": 5,
    "start_time": "2021-08-10T11:23:29.869Z"
   },
   {
    "duration": 29,
    "start_time": "2021-08-10T11:23:29.877Z"
   },
   {
    "duration": 9,
    "start_time": "2021-08-10T11:23:29.909Z"
   },
   {
    "duration": 652,
    "start_time": "2021-08-10T11:23:29.921Z"
   },
   {
    "duration": 13,
    "start_time": "2021-08-10T11:23:30.575Z"
   },
   {
    "duration": 577,
    "start_time": "2021-08-10T11:23:30.591Z"
   },
   {
    "duration": 320,
    "start_time": "2021-08-10T11:23:31.170Z"
   },
   {
    "duration": 410,
    "start_time": "2021-08-10T11:23:31.494Z"
   },
   {
    "duration": 7,
    "start_time": "2021-08-10T11:23:31.908Z"
   },
   {
    "duration": 45,
    "start_time": "2021-08-10T11:23:31.917Z"
   },
   {
    "duration": 479,
    "start_time": "2021-08-10T11:23:31.965Z"
   },
   {
    "duration": 16,
    "start_time": "2021-08-10T11:23:32.446Z"
   },
   {
    "duration": 14,
    "start_time": "2021-08-10T11:23:32.465Z"
   },
   {
    "duration": 110,
    "start_time": "2021-08-10T11:23:32.481Z"
   },
   {
    "duration": 17,
    "start_time": "2021-08-10T11:23:32.594Z"
   },
   {
    "duration": 104,
    "start_time": "2021-08-10T11:23:32.614Z"
   },
   {
    "duration": 25,
    "start_time": "2021-08-10T11:23:32.721Z"
   },
   {
    "duration": 114,
    "start_time": "2021-08-10T11:23:32.763Z"
   },
   {
    "duration": 7,
    "start_time": "2021-08-10T11:23:32.881Z"
   },
   {
    "duration": 40,
    "start_time": "2021-08-10T11:23:32.891Z"
   },
   {
    "duration": 116,
    "start_time": "2021-08-10T11:23:32.933Z"
   },
   {
    "duration": 12,
    "start_time": "2021-08-10T11:23:33.051Z"
   },
   {
    "duration": 77,
    "start_time": "2021-08-10T11:23:33.066Z"
   },
   {
    "duration": 189,
    "start_time": "2021-08-10T11:23:33.146Z"
   },
   {
    "duration": 148,
    "start_time": "2021-08-10T11:23:33.338Z"
   },
   {
    "duration": 9,
    "start_time": "2021-08-10T11:23:33.488Z"
   },
   {
    "duration": 31,
    "start_time": "2021-08-10T11:23:33.500Z"
   },
   {
    "duration": 10,
    "start_time": "2021-08-10T11:23:33.534Z"
   },
   {
    "duration": 19,
    "start_time": "2021-08-10T11:23:33.547Z"
   },
   {
    "duration": 12,
    "start_time": "2021-08-10T11:23:33.569Z"
   },
   {
    "duration": 6,
    "start_time": "2021-08-10T11:23:33.584Z"
   },
   {
    "duration": 14,
    "start_time": "2021-08-10T11:23:33.593Z"
   },
   {
    "duration": 50,
    "start_time": "2021-08-10T11:23:33.614Z"
   },
   {
    "duration": 16,
    "start_time": "2021-08-10T11:23:33.667Z"
   },
   {
    "duration": 11,
    "start_time": "2021-08-10T11:23:33.686Z"
   },
   {
    "duration": 12,
    "start_time": "2021-08-10T11:23:33.700Z"
   },
   {
    "duration": 14,
    "start_time": "2021-08-10T11:23:33.714Z"
   },
   {
    "duration": 33,
    "start_time": "2021-08-10T11:23:33.731Z"
   },
   {
    "duration": 16,
    "start_time": "2021-08-10T11:23:33.766Z"
   },
   {
    "duration": 15,
    "start_time": "2021-08-10T11:23:33.785Z"
   },
   {
    "duration": 623,
    "start_time": "2021-08-10T11:23:33.803Z"
   },
   {
    "duration": 675,
    "start_time": "2021-08-10T11:23:34.429Z"
   },
   {
    "duration": 128,
    "start_time": "2021-08-10T11:23:35.107Z"
   }
  ],
  "kernelspec": {
   "display_name": "Python 3",
   "language": "python",
   "name": "python3"
  },
  "language_info": {
   "codemirror_mode": {
    "name": "ipython",
    "version": 3
   },
   "file_extension": ".py",
   "mimetype": "text/x-python",
   "name": "python",
   "nbconvert_exporter": "python",
   "pygments_lexer": "ipython3",
   "version": "3.7.10"
  },
  "toc": {
   "base_numbering": 1,
   "nav_menu": {},
   "number_sections": true,
   "sideBar": true,
   "skip_h1_title": true,
   "title_cell": "Table of Contents",
   "title_sidebar": "Contents",
   "toc_cell": false,
   "toc_position": {
    "height": "calc(100% - 180px)",
    "left": "10px",
    "top": "150px",
    "width": "299.8px"
   },
   "toc_section_display": true,
   "toc_window_display": true
  }
 },
 "nbformat": 4,
 "nbformat_minor": 2
}
