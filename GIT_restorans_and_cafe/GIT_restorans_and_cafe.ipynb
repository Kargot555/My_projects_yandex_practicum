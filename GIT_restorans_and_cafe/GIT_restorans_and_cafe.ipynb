{
 "cells": [
  {
   "cell_type": "markdown",
   "metadata": {},
   "source": [
    "<h1>Содержание<span class=\"tocSkip\"></span></h1>"
   ]
  },
  {
   "cell_type": "markdown",
   "metadata": {},
   "source": [
    "## Описание проекта"
   ]
  },
  {
   "cell_type": "markdown",
   "metadata": {},
   "source": [
    "### Основные положения"
   ]
  },
  {
   "cell_type": "markdown",
   "metadata": {},
   "source": [
    "## Изучение файлов данных"
   ]
  },
  {
   "cell_type": "markdown",
   "metadata": {},
   "source": [
    "### Библиотеки"
   ]
  },
  {
   "cell_type": "code",
   "execution_count": 1,
   "metadata": {},
   "outputs": [],
   "source": [
    "# достаём библиотеки\n",
    "import matplotlib.pyplot as plt\n",
    "import pandas as pd\n",
    "from scipy import stats as st\n",
    "\n",
    "# библиотека сиборн для визуализации на Питоне поверх matplotlib\n",
    "import seaborn as sns"
   ]
  },
  {
   "cell_type": "code",
   "execution_count": 2,
   "metadata": {},
   "outputs": [],
   "source": [
    "# Импорт библиотеки высокоуровневых математических функций\n",
    "import numpy as np"
   ]
  },
  {
   "cell_type": "code",
   "execution_count": 3,
   "metadata": {},
   "outputs": [],
   "source": [
    "# лаконичный, последовательный, высокоуровневый API для создания фигур\n",
    "import plotly.express as px"
   ]
  },
  {
   "cell_type": "code",
   "execution_count": 4,
   "metadata": {},
   "outputs": [],
   "source": [
    "import plotly.graph_objects as go"
   ]
  },
  {
   "cell_type": "code",
   "execution_count": 5,
   "metadata": {},
   "outputs": [],
   "source": [
    "# уберём warnings\n",
    "import sys\n",
    "import warnings\n",
    "if not sys.warnoptions:\n",
    "       warnings.simplefilter(\"ignore\")"
   ]
  },
  {
   "cell_type": "code",
   "execution_count": 6,
   "metadata": {},
   "outputs": [],
   "source": [
    "import datetime as dt"
   ]
  },
  {
   "cell_type": "code",
   "execution_count": 7,
   "metadata": {},
   "outputs": [],
   "source": [
    "import scipy.stats as stats"
   ]
  },
  {
   "cell_type": "code",
   "execution_count": 8,
   "metadata": {},
   "outputs": [],
   "source": [
    "# Модуль Re для регулярных выражений в Python\n",
    "import re"
   ]
  },
  {
   "cell_type": "markdown",
   "metadata": {},
   "source": [
    "### Настройки"
   ]
  },
  {
   "cell_type": "code",
   "execution_count": 9,
   "metadata": {},
   "outputs": [],
   "source": [
    "# format вывода значений в виде числа с 2-мя знаками после запятой\n",
    "pd.options.display.float_format = '{:,.2f}'.format"
   ]
  },
  {
   "cell_type": "code",
   "execution_count": 10,
   "metadata": {},
   "outputs": [],
   "source": [
    "# количество отображаемых столбцов\n",
    "# pd.options.display.max_columns = 200\n",
    "pd.set_option('max_columns',None)"
   ]
  },
  {
   "cell_type": "markdown",
   "metadata": {},
   "source": [
    "### Вывод и изучение данных\n",
    "<a id=\"start\"></a>"
   ]
  },
  {
   "cell_type": "code",
   "execution_count": 11,
   "metadata": {},
   "outputs": [
    {
     "data": {
      "text/html": [
       "<div>\n",
       "<style scoped>\n",
       "    .dataframe tbody tr th:only-of-type {\n",
       "        vertical-align: middle;\n",
       "    }\n",
       "\n",
       "    .dataframe tbody tr th {\n",
       "        vertical-align: top;\n",
       "    }\n",
       "\n",
       "    .dataframe thead th {\n",
       "        text-align: right;\n",
       "    }\n",
       "</style>\n",
       "<table border=\"1\" class=\"dataframe\">\n",
       "  <thead>\n",
       "    <tr style=\"text-align: right;\">\n",
       "      <th></th>\n",
       "      <th>id</th>\n",
       "      <th>object_name</th>\n",
       "      <th>chain</th>\n",
       "      <th>object_type</th>\n",
       "      <th>address</th>\n",
       "      <th>number</th>\n",
       "    </tr>\n",
       "  </thead>\n",
       "  <tbody>\n",
       "    <tr>\n",
       "      <td>0</td>\n",
       "      <td>151635</td>\n",
       "      <td>СМЕТАНА</td>\n",
       "      <td>нет</td>\n",
       "      <td>кафе</td>\n",
       "      <td>город Москва, улица Егора Абакумова, дом 9</td>\n",
       "      <td>48</td>\n",
       "    </tr>\n",
       "    <tr>\n",
       "      <td>1</td>\n",
       "      <td>77874</td>\n",
       "      <td>Родник</td>\n",
       "      <td>нет</td>\n",
       "      <td>кафе</td>\n",
       "      <td>город Москва, улица Талалихина, дом 2/1, корпус 1</td>\n",
       "      <td>35</td>\n",
       "    </tr>\n",
       "    <tr>\n",
       "      <td>2</td>\n",
       "      <td>24309</td>\n",
       "      <td>Кафе «Академия»</td>\n",
       "      <td>нет</td>\n",
       "      <td>кафе</td>\n",
       "      <td>город Москва, Абельмановская улица, дом 6</td>\n",
       "      <td>95</td>\n",
       "    </tr>\n",
       "    <tr>\n",
       "      <td>3</td>\n",
       "      <td>21894</td>\n",
       "      <td>ПИЦЦЕТОРИЯ</td>\n",
       "      <td>да</td>\n",
       "      <td>кафе</td>\n",
       "      <td>город Москва, Абрамцевская улица, дом 1</td>\n",
       "      <td>40</td>\n",
       "    </tr>\n",
       "    <tr>\n",
       "      <td>4</td>\n",
       "      <td>119365</td>\n",
       "      <td>Кафе «Вишневая метель»</td>\n",
       "      <td>нет</td>\n",
       "      <td>кафе</td>\n",
       "      <td>город Москва, Абрамцевская улица, дом 9, корпус 1</td>\n",
       "      <td>50</td>\n",
       "    </tr>\n",
       "    <tr>\n",
       "      <td>5</td>\n",
       "      <td>27429</td>\n",
       "      <td>СТОЛ. ПРИ ГОУ СОШ № 1051</td>\n",
       "      <td>нет</td>\n",
       "      <td>столовая</td>\n",
       "      <td>город Москва, Абрамцевская улица, дом 15, корп...</td>\n",
       "      <td>240</td>\n",
       "    </tr>\n",
       "    <tr>\n",
       "      <td>6</td>\n",
       "      <td>148815</td>\n",
       "      <td>Брусника</td>\n",
       "      <td>да</td>\n",
       "      <td>кафе</td>\n",
       "      <td>город Москва, переулок Сивцев Вражек, дом 6/2</td>\n",
       "      <td>10</td>\n",
       "    </tr>\n",
       "    <tr>\n",
       "      <td>7</td>\n",
       "      <td>20957</td>\n",
       "      <td>Буфет МТУСИ</td>\n",
       "      <td>нет</td>\n",
       "      <td>столовая</td>\n",
       "      <td>город Москва, Авиамоторная улица, дом 8, строе...</td>\n",
       "      <td>90</td>\n",
       "    </tr>\n",
       "    <tr>\n",
       "      <td>8</td>\n",
       "      <td>20958</td>\n",
       "      <td>КПФ СЕМЬЯ-1</td>\n",
       "      <td>нет</td>\n",
       "      <td>столовая</td>\n",
       "      <td>город Москва, Авиамоторная улица, дом 8, строе...</td>\n",
       "      <td>150</td>\n",
       "    </tr>\n",
       "    <tr>\n",
       "      <td>9</td>\n",
       "      <td>28858</td>\n",
       "      <td>Столовая МТУСИ</td>\n",
       "      <td>нет</td>\n",
       "      <td>столовая</td>\n",
       "      <td>город Москва, Авиамоторная улица, дом 8, строе...</td>\n",
       "      <td>120</td>\n",
       "    </tr>\n",
       "  </tbody>\n",
       "</table>\n",
       "</div>"
      ],
      "text/plain": [
       "       id               object_name chain object_type  \\\n",
       "0  151635                   СМЕТАНА   нет        кафе   \n",
       "1   77874                    Родник   нет        кафе   \n",
       "2   24309           Кафе «Академия»   нет        кафе   \n",
       "3   21894                ПИЦЦЕТОРИЯ    да        кафе   \n",
       "4  119365    Кафе «Вишневая метель»   нет        кафе   \n",
       "5   27429  СТОЛ. ПРИ ГОУ СОШ № 1051   нет    столовая   \n",
       "6  148815                  Брусника    да        кафе   \n",
       "7   20957               Буфет МТУСИ   нет    столовая   \n",
       "8   20958               КПФ СЕМЬЯ-1   нет    столовая   \n",
       "9   28858            Столовая МТУСИ   нет    столовая   \n",
       "\n",
       "                                             address  number  \n",
       "0         город Москва, улица Егора Абакумова, дом 9      48  \n",
       "1  город Москва, улица Талалихина, дом 2/1, корпус 1      35  \n",
       "2          город Москва, Абельмановская улица, дом 6      95  \n",
       "3            город Москва, Абрамцевская улица, дом 1      40  \n",
       "4  город Москва, Абрамцевская улица, дом 9, корпус 1      50  \n",
       "5  город Москва, Абрамцевская улица, дом 15, корп...     240  \n",
       "6      город Москва, переулок Сивцев Вражек, дом 6/2      10  \n",
       "7  город Москва, Авиамоторная улица, дом 8, строе...      90  \n",
       "8  город Москва, Авиамоторная улица, дом 8, строе...     150  \n",
       "9  город Москва, Авиамоторная улица, дом 8, строе...     120  "
      ]
     },
     "metadata": {},
     "output_type": "display_data"
    }
   ],
   "source": [
    "# конструкция для работы с путями файлов на локальной машине и на сервере Практикума\n",
    "try:\n",
    "    rest_data = pd.read_csv('/datasets/rest_data.csv', sep=',')\n",
    "except:\n",
    "    rest_data = pd.read_csv('my_datasets/rest_data.csv', sep=',')\n",
    "    \n",
    "display(rest_data.head(10))"
   ]
  },
  {
   "cell_type": "code",
   "execution_count": 12,
   "metadata": {},
   "outputs": [
    {
     "name": "stdout",
     "output_type": "stream",
     "text": [
      "<class 'pandas.core.frame.DataFrame'>\n",
      "RangeIndex: 15366 entries, 0 to 15365\n",
      "Data columns (total 6 columns):\n",
      "id             15366 non-null int64\n",
      "object_name    15366 non-null object\n",
      "chain          15366 non-null object\n",
      "object_type    15366 non-null object\n",
      "address        15366 non-null object\n",
      "number         15366 non-null int64\n",
      "dtypes: int64(2), object(4)\n",
      "memory usage: 720.4+ KB\n"
     ]
    }
   ],
   "source": [
    "rest_data.info()"
   ]
  },
  {
   "cell_type": "markdown",
   "metadata": {},
   "source": [
    "### Изучение пропущенных значений"
   ]
  },
  {
   "cell_type": "markdown",
   "metadata": {},
   "source": [
    "Подозрительных пропущенных значений не отмечено"
   ]
  },
  {
   "cell_type": "markdown",
   "metadata": {},
   "source": [
    "### Описание данных"
   ]
  },
  {
   "cell_type": "markdown",
   "metadata": {},
   "source": [
    "Таблица *rest_data*:\n",
    "- **id** — идентификатор объекта;\n",
    "- **object_name** — название объекта общественного питания;\n",
    "- **chain** — сетевой ресторан;\n",
    "- **object_type** — тип объекта общественного питания;\n",
    "- **address** — адрес;\n",
    "- **number** — количество посадочных мест."
   ]
  },
  {
   "cell_type": "markdown",
   "metadata": {},
   "source": [
    "### Вывод"
   ]
  },
  {
   "cell_type": "markdown",
   "metadata": {},
   "source": [
    "Мы описали наше цели и задачи. Пропущенных значения мы не отметили. Описали данные из таблицы"
   ]
  },
  {
   "cell_type": "markdown",
   "metadata": {},
   "source": [
    "## Предобработка данных\n",
    "<a id=\"preprocessing\"></a>"
   ]
  },
  {
   "cell_type": "markdown",
   "metadata": {},
   "source": [
    "### Изучение данных\n",
    "<a id=\"learning\"></a>"
   ]
  },
  {
   "cell_type": "code",
   "execution_count": 13,
   "metadata": {},
   "outputs": [
    {
     "name": "stdout",
     "output_type": "stream",
     "text": [
      "id\n"
     ]
    },
    {
     "data": {
      "text/plain": [
       "27662     1\n",
       "223307    1\n",
       "185071    1\n",
       "23278     1\n",
       "21451     1\n",
       "         ..\n",
       "155041    1\n",
       "21920     1\n",
       "107934    1\n",
       "26006     1\n",
       "163840    1\n",
       "Name: id, Length: 15366, dtype: int64"
      ]
     },
     "metadata": {},
     "output_type": "display_data"
    },
    {
     "name": "stdout",
     "output_type": "stream",
     "text": [
      "object_name\n"
     ]
    },
    {
     "data": {
      "text/plain": [
       "Столовая                              267\n",
       "Кафе                                  236\n",
       "Шаурма                                234\n",
       "KFC                                   155\n",
       "Шоколадница                           142\n",
       "                                     ... \n",
       "13 RULES KRAFT BEER                     1\n",
       "Океан Суши                              1\n",
       "Буффетум                                1\n",
       "СТОЛОВАЯ при кс Мосфильм                1\n",
       "СТОЛОВАЯ ПРИ АВТОДОРОЖНОМ КОЛЛЕДЖЕ      1\n",
       "Name: object_name, Length: 10393, dtype: int64"
      ]
     },
     "metadata": {},
     "output_type": "display_data"
    },
    {
     "name": "stdout",
     "output_type": "stream",
     "text": [
      "chain\n"
     ]
    },
    {
     "data": {
      "text/plain": [
       "нет    12398\n",
       "да      2968\n",
       "Name: chain, dtype: int64"
      ]
     },
     "metadata": {},
     "output_type": "display_data"
    },
    {
     "name": "stdout",
     "output_type": "stream",
     "text": [
      "object_type\n"
     ]
    },
    {
     "data": {
      "text/plain": [
       "кафе                                 6099\n",
       "столовая                             2587\n",
       "ресторан                             2285\n",
       "предприятие быстрого обслуживания    1923\n",
       "бар                                   856\n",
       "буфет                                 585\n",
       "кафетерий                             398\n",
       "закусочная                            360\n",
       "магазин (отдел кулинарии)             273\n",
       "Name: object_type, dtype: int64"
      ]
     },
     "metadata": {},
     "output_type": "display_data"
    },
    {
     "name": "stdout",
     "output_type": "stream",
     "text": [
      "address\n"
     ]
    },
    {
     "data": {
      "text/plain": [
       "город Москва, Ходынский бульвар, дом 4              95\n",
       "город Москва, Пресненская набережная, дом 2         63\n",
       "город Москва, проспект Мира, дом 211, корпус 2      60\n",
       "город Москва, Кировоградская улица, дом 13А         53\n",
       "город Москва, площадь Киевского Вокзала, дом 2      48\n",
       "                                                    ..\n",
       "город Москва, Тимирязевская улица, дом 58            1\n",
       "город Москва, 3-я Песчаная улица, дом 2              1\n",
       "город Москва, Плетешковский переулок, дом 2          1\n",
       "город Москва, 1-я улица Машиностроения, дом 3/5А     1\n",
       "город Москва, проспект Мира, дом 48, строение 6      1\n",
       "Name: address, Length: 9108, dtype: int64"
      ]
     },
     "metadata": {},
     "output_type": "display_data"
    },
    {
     "name": "stdout",
     "output_type": "stream",
     "text": [
      "number\n"
     ]
    },
    {
     "data": {
      "text/plain": [
       "0      1621\n",
       "40      835\n",
       "20      727\n",
       "30      685\n",
       "10      644\n",
       "       ... \n",
       "491       1\n",
       "675       1\n",
       "455       1\n",
       "167       1\n",
       "495       1\n",
       "Name: number, Length: 315, dtype: int64"
      ]
     },
     "metadata": {},
     "output_type": "display_data"
    }
   ],
   "source": [
    "# в цикле выводим `value_counts()` для каждого столбца\n",
    "\n",
    "for col in rest_data.columns:\n",
    "    print(str(col))\n",
    "    display(rest_data[col].value_counts())"
   ]
  },
  {
   "cell_type": "markdown",
   "metadata": {},
   "source": [
    "Подозрительх отрицательных значений не отмечено"
   ]
  },
  {
   "cell_type": "markdown",
   "metadata": {},
   "source": [
    "### Работа с дублкатами\n",
    "\n",
    "<a id=\"duplicates\"></a>"
   ]
  },
  {
   "cell_type": "code",
   "execution_count": 14,
   "metadata": {},
   "outputs": [
    {
     "data": {
      "text/plain": [
       "0"
      ]
     },
     "execution_count": 14,
     "metadata": {},
     "output_type": "execute_result"
    }
   ],
   "source": [
    "# поищем дубликаты\n",
    "rest_data.duplicated().sum()"
   ]
  },
  {
   "cell_type": "code",
   "execution_count": 15,
   "metadata": {},
   "outputs": [
    {
     "data": {
      "text/plain": [
       "82"
      ]
     },
     "execution_count": 15,
     "metadata": {},
     "output_type": "execute_result"
    }
   ],
   "source": [
    "# удалим уникальные индификаторы, чтобы лучше изучить\n",
    "rest_data_duplicat = rest_data.drop(['id'], axis=1)\n",
    "rest_data_duplicat.duplicated().sum()"
   ]
  },
  {
   "cell_type": "code",
   "execution_count": 16,
   "metadata": {},
   "outputs": [
    {
     "data": {
      "text/html": [
       "<div>\n",
       "<style scoped>\n",
       "    .dataframe tbody tr th:only-of-type {\n",
       "        vertical-align: middle;\n",
       "    }\n",
       "\n",
       "    .dataframe tbody tr th {\n",
       "        vertical-align: top;\n",
       "    }\n",
       "\n",
       "    .dataframe thead th {\n",
       "        text-align: right;\n",
       "    }\n",
       "</style>\n",
       "<table border=\"1\" class=\"dataframe\">\n",
       "  <thead>\n",
       "    <tr style=\"text-align: right;\">\n",
       "      <th></th>\n",
       "      <th>object_name</th>\n",
       "      <th>chain</th>\n",
       "      <th>object_type</th>\n",
       "      <th>address</th>\n",
       "      <th>number</th>\n",
       "    </tr>\n",
       "  </thead>\n",
       "  <tbody>\n",
       "    <tr>\n",
       "      <td>2374</td>\n",
       "      <td>КОМБИНАТ ПИТАНИЯ МГТУ ИМ.Н.Э.БАУМАНА</td>\n",
       "      <td>нет</td>\n",
       "      <td>столовая</td>\n",
       "      <td>город Москва, 2-я Бауманская улица, дом 5, стр...</td>\n",
       "      <td>100</td>\n",
       "    </tr>\n",
       "    <tr>\n",
       "      <td>2381</td>\n",
       "      <td>КОМБИНАТ ПИТАНИЯ МГТУ ИМ.Н.Э.БАУМАНА</td>\n",
       "      <td>нет</td>\n",
       "      <td>столовая</td>\n",
       "      <td>город Москва, 2-я Бауманская улица, дом 5, стр...</td>\n",
       "      <td>100</td>\n",
       "    </tr>\n",
       "    <tr>\n",
       "      <td>2869</td>\n",
       "      <td>LALTRO BOSCO</td>\n",
       "      <td>нет</td>\n",
       "      <td>ресторан</td>\n",
       "      <td>город Москва, улица Петровка, дом 10</td>\n",
       "      <td>145</td>\n",
       "    </tr>\n",
       "    <tr>\n",
       "      <td>3480</td>\n",
       "      <td>Буфет Мади</td>\n",
       "      <td>нет</td>\n",
       "      <td>буфет</td>\n",
       "      <td>город Москва, Ленинградский проспект, дом 64</td>\n",
       "      <td>40</td>\n",
       "    </tr>\n",
       "    <tr>\n",
       "      <td>3481</td>\n",
       "      <td>Буфет Мади</td>\n",
       "      <td>нет</td>\n",
       "      <td>буфет</td>\n",
       "      <td>город Москва, Ленинградский проспект, дом 64</td>\n",
       "      <td>40</td>\n",
       "    </tr>\n",
       "    <tr>\n",
       "      <td>4430</td>\n",
       "      <td>СТОЛОВАЯ ГБОУ города Москвы № 384</td>\n",
       "      <td>нет</td>\n",
       "      <td>буфет</td>\n",
       "      <td>город Москва, Беловежская улица, дом 67</td>\n",
       "      <td>100</td>\n",
       "    </tr>\n",
       "    <tr>\n",
       "      <td>4431</td>\n",
       "      <td>СТОЛОВАЯ ГБОУ города Москвы № 384</td>\n",
       "      <td>нет</td>\n",
       "      <td>буфет</td>\n",
       "      <td>город Москва, Беловежская улица, дом 67</td>\n",
       "      <td>100</td>\n",
       "    </tr>\n",
       "    <tr>\n",
       "      <td>4536</td>\n",
       "      <td>Столовая «Комбинат питания КОСМОС»</td>\n",
       "      <td>нет</td>\n",
       "      <td>столовая</td>\n",
       "      <td>город Москва, Новозаводская улица, дом 12/11</td>\n",
       "      <td>15</td>\n",
       "    </tr>\n",
       "  </tbody>\n",
       "</table>\n",
       "</div>"
      ],
      "text/plain": [
       "                               object_name chain object_type  \\\n",
       "2374  КОМБИНАТ ПИТАНИЯ МГТУ ИМ.Н.Э.БАУМАНА   нет    столовая   \n",
       "2381  КОМБИНАТ ПИТАНИЯ МГТУ ИМ.Н.Э.БАУМАНА   нет    столовая   \n",
       "2869                          LALTRO BOSCO   нет    ресторан   \n",
       "3480                            Буфет Мади   нет       буфет   \n",
       "3481                            Буфет Мади   нет       буфет   \n",
       "4430     СТОЛОВАЯ ГБОУ города Москвы № 384   нет       буфет   \n",
       "4431     СТОЛОВАЯ ГБОУ города Москвы № 384   нет       буфет   \n",
       "4536    Столовая «Комбинат питания КОСМОС»   нет    столовая   \n",
       "\n",
       "                                                address  number  \n",
       "2374  город Москва, 2-я Бауманская улица, дом 5, стр...     100  \n",
       "2381  город Москва, 2-я Бауманская улица, дом 5, стр...     100  \n",
       "2869               город Москва, улица Петровка, дом 10     145  \n",
       "3480       город Москва, Ленинградский проспект, дом 64      40  \n",
       "3481       город Москва, Ленинградский проспект, дом 64      40  \n",
       "4430            город Москва, Беловежская улица, дом 67     100  \n",
       "4431            город Москва, Беловежская улица, дом 67     100  \n",
       "4536       город Москва, Новозаводская улица, дом 12/11      15  "
      ]
     },
     "execution_count": 16,
     "metadata": {},
     "output_type": "execute_result"
    }
   ],
   "source": [
    "# посмотрим на них\n",
    "rest_data_duplicat = rest_data_duplicat[rest_data_duplicat.duplicated(keep=False)]\n",
    "rest_data_duplicat.head(8)"
   ]
  },
  {
   "cell_type": "markdown",
   "metadata": {},
   "source": [
    "Мы нашли точки питания по одному адресу. Такое возможно"
   ]
  },
  {
   "cell_type": "markdown",
   "metadata": {},
   "source": [
    "### Работа с пропущенными значениями\n",
    "\n",
    "<a id=\"null\"></a>"
   ]
  },
  {
   "cell_type": "markdown",
   "metadata": {},
   "source": [
    "Ранее мы их не смогли найти"
   ]
  },
  {
   "cell_type": "markdown",
   "metadata": {},
   "source": [
    "### Работа с типами данных\n",
    "<a id=\"type\"></a>"
   ]
  },
  {
   "cell_type": "code",
   "execution_count": 17,
   "metadata": {},
   "outputs": [],
   "source": [
    "rest_data['number'] = rest_data['number'].astype('int32')"
   ]
  },
  {
   "cell_type": "code",
   "execution_count": 18,
   "metadata": {},
   "outputs": [
    {
     "name": "stdout",
     "output_type": "stream",
     "text": [
      "<class 'pandas.core.frame.DataFrame'>\n",
      "RangeIndex: 15366 entries, 0 to 15365\n",
      "Data columns (total 6 columns):\n",
      "id             15366 non-null int64\n",
      "object_name    15366 non-null object\n",
      "chain          15366 non-null object\n",
      "object_type    15366 non-null object\n",
      "address        15366 non-null object\n",
      "number         15366 non-null int32\n",
      "dtypes: int32(1), int64(1), object(4)\n",
      "memory usage: 660.4+ KB\n"
     ]
    }
   ],
   "source": [
    "rest_data.info()"
   ]
  },
  {
   "cell_type": "markdown",
   "metadata": {},
   "source": [
    "Столбцов, которые нужно привести к формату времени тут нет. Хотя бы столбец с номерами сделаем менее затратным для памяти"
   ]
  },
  {
   "cell_type": "markdown",
   "metadata": {},
   "source": [
    "### Вывод"
   ]
  },
  {
   "cell_type": "markdown",
   "metadata": {},
   "source": [
    "Мы изучили данные. Пропущенных значений нет. Дубликатов нет. Немного поработали с форматами"
   ]
  },
  {
   "cell_type": "markdown",
   "metadata": {},
   "source": [
    "## Анализ данных"
   ]
  },
  {
   "cell_type": "markdown",
   "metadata": {},
   "source": [
    "### Соотношение видов объектов общественного питания по количеству."
   ]
  },
  {
   "cell_type": "code",
   "execution_count": 19,
   "metadata": {},
   "outputs": [
    {
     "data": {
      "text/html": [
       "<div>\n",
       "<style scoped>\n",
       "    .dataframe tbody tr th:only-of-type {\n",
       "        vertical-align: middle;\n",
       "    }\n",
       "\n",
       "    .dataframe tbody tr th {\n",
       "        vertical-align: top;\n",
       "    }\n",
       "\n",
       "    .dataframe thead th {\n",
       "        text-align: right;\n",
       "    }\n",
       "</style>\n",
       "<table border=\"1\" class=\"dataframe\">\n",
       "  <thead>\n",
       "    <tr style=\"text-align: right;\">\n",
       "      <th></th>\n",
       "      <th>object_name</th>\n",
       "    </tr>\n",
       "    <tr>\n",
       "      <th>object_type</th>\n",
       "      <th></th>\n",
       "    </tr>\n",
       "  </thead>\n",
       "  <tbody>\n",
       "    <tr>\n",
       "      <td>кафе</td>\n",
       "      <td>6099</td>\n",
       "    </tr>\n",
       "    <tr>\n",
       "      <td>столовая</td>\n",
       "      <td>2587</td>\n",
       "    </tr>\n",
       "    <tr>\n",
       "      <td>ресторан</td>\n",
       "      <td>2285</td>\n",
       "    </tr>\n",
       "    <tr>\n",
       "      <td>предприятие быстрого обслуживания</td>\n",
       "      <td>1923</td>\n",
       "    </tr>\n",
       "    <tr>\n",
       "      <td>бар</td>\n",
       "      <td>856</td>\n",
       "    </tr>\n",
       "    <tr>\n",
       "      <td>буфет</td>\n",
       "      <td>585</td>\n",
       "    </tr>\n",
       "    <tr>\n",
       "      <td>кафетерий</td>\n",
       "      <td>398</td>\n",
       "    </tr>\n",
       "    <tr>\n",
       "      <td>закусочная</td>\n",
       "      <td>360</td>\n",
       "    </tr>\n",
       "    <tr>\n",
       "      <td>магазин (отдел кулинарии)</td>\n",
       "      <td>273</td>\n",
       "    </tr>\n",
       "  </tbody>\n",
       "</table>\n",
       "</div>"
      ],
      "text/plain": [
       "                                   object_name\n",
       "object_type                                   \n",
       "кафе                                      6099\n",
       "столовая                                  2587\n",
       "ресторан                                  2285\n",
       "предприятие быстрого обслуживания         1923\n",
       "бар                                        856\n",
       "буфет                                      585\n",
       "кафетерий                                  398\n",
       "закусочная                                 360\n",
       "магазин (отдел кулинарии)                  273"
      ]
     },
     "execution_count": 19,
     "metadata": {},
     "output_type": "execute_result"
    }
   ],
   "source": [
    "# создадим сводную таблицу для построения графика:\n",
    "rest_data_object_type_count = rest_data.pivot_table(index=['object_type'], \n",
    "                                        values='object_name', aggfunc='count')\n",
    "rest_data_object_type_count = rest_data_object_type_count.sort_values(by='object_name', ascending=False)\n",
    "rest_data_object_type_count.head(10)"
   ]
  },
  {
   "cell_type": "code",
   "execution_count": 20,
   "metadata": {},
   "outputs": [
    {
     "data": {
      "image/png": "[encoded data removed]",
      "text/plain": [
       "<Figure size 576x576 with 1 Axes>"
      ]
     },
     "metadata": {
      "needs_background": "light"
     },
     "output_type": "display_data"
    }
   ],
   "source": [
    "# построим гистограмму\n",
    "rest_data_object_type_count.plot(y='object_name',\n",
    "                      kind='bar',\n",
    "                      figsize=(8, 8))\n",
    "plt.title('Суммарное кол-во объектов по видам')\n",
    "plt.ylabel('Кол-во, шт')\n",
    "plt.xlabel('Тип объекта')\n",
    "plt.show()"
   ]
  },
  {
   "cell_type": "markdown",
   "metadata": {},
   "source": [
    "Явный лидер у нас \"кафе\". Дальше с большим отставанием идут столовые и рестораны"
   ]
  },
  {
   "cell_type": "markdown",
   "metadata": {},
   "source": [
    "### Соотношение сетевых и несетевых заведений по количеству"
   ]
  },
  {
   "cell_type": "code",
   "execution_count": 21,
   "metadata": {},
   "outputs": [
    {
     "data": {
      "text/html": [
       "<div>\n",
       "<style scoped>\n",
       "    .dataframe tbody tr th:only-of-type {\n",
       "        vertical-align: middle;\n",
       "    }\n",
       "\n",
       "    .dataframe tbody tr th {\n",
       "        vertical-align: top;\n",
       "    }\n",
       "\n",
       "    .dataframe thead th {\n",
       "        text-align: right;\n",
       "    }\n",
       "</style>\n",
       "<table border=\"1\" class=\"dataframe\">\n",
       "  <thead>\n",
       "    <tr style=\"text-align: right;\">\n",
       "      <th>chain</th>\n",
       "      <th>да</th>\n",
       "      <th>нет</th>\n",
       "    </tr>\n",
       "    <tr>\n",
       "      <th>object_type</th>\n",
       "      <th></th>\n",
       "      <th></th>\n",
       "    </tr>\n",
       "  </thead>\n",
       "  <tbody>\n",
       "    <tr>\n",
       "      <td>бар</td>\n",
       "      <td>37</td>\n",
       "      <td>819</td>\n",
       "    </tr>\n",
       "    <tr>\n",
       "      <td>буфет</td>\n",
       "      <td>11</td>\n",
       "      <td>574</td>\n",
       "    </tr>\n",
       "    <tr>\n",
       "      <td>закусочная</td>\n",
       "      <td>56</td>\n",
       "      <td>304</td>\n",
       "    </tr>\n",
       "    <tr>\n",
       "      <td>кафе</td>\n",
       "      <td>1396</td>\n",
       "      <td>4703</td>\n",
       "    </tr>\n",
       "    <tr>\n",
       "      <td>кафетерий</td>\n",
       "      <td>52</td>\n",
       "      <td>346</td>\n",
       "    </tr>\n",
       "    <tr>\n",
       "      <td>магазин (отдел кулинарии)</td>\n",
       "      <td>78</td>\n",
       "      <td>195</td>\n",
       "    </tr>\n",
       "    <tr>\n",
       "      <td>предприятие быстрого обслуживания</td>\n",
       "      <td>791</td>\n",
       "      <td>1132</td>\n",
       "    </tr>\n",
       "    <tr>\n",
       "      <td>ресторан</td>\n",
       "      <td>544</td>\n",
       "      <td>1741</td>\n",
       "    </tr>\n",
       "    <tr>\n",
       "      <td>столовая</td>\n",
       "      <td>3</td>\n",
       "      <td>2584</td>\n",
       "    </tr>\n",
       "  </tbody>\n",
       "</table>\n",
       "</div>"
      ],
      "text/plain": [
       "chain                                да   нет\n",
       "object_type                                  \n",
       "бар                                  37   819\n",
       "буфет                                11   574\n",
       "закусочная                           56   304\n",
       "кафе                               1396  4703\n",
       "кафетерий                            52   346\n",
       "магазин (отдел кулинарии)            78   195\n",
       "предприятие быстрого обслуживания   791  1132\n",
       "ресторан                            544  1741\n",
       "столовая                              3  2584"
      ]
     },
     "execution_count": 21,
     "metadata": {},
     "output_type": "execute_result"
    }
   ],
   "source": [
    "# создадим сводную таблицу для построения графика:\n",
    "rest_data_chain = rest_data.pivot_table(index=['object_type'], \n",
    "                                        columns='chain', values='object_name', aggfunc='count')\n",
    "rest_data_chain.head(10)"
   ]
  },
  {
   "cell_type": "code",
   "execution_count": 22,
   "metadata": {},
   "outputs": [
    {
     "data": {
      "text/html": [
       "<div>\n",
       "<style scoped>\n",
       "    .dataframe tbody tr th:only-of-type {\n",
       "        vertical-align: middle;\n",
       "    }\n",
       "\n",
       "    .dataframe tbody tr th {\n",
       "        vertical-align: top;\n",
       "    }\n",
       "\n",
       "    .dataframe thead th {\n",
       "        text-align: right;\n",
       "    }\n",
       "</style>\n",
       "<table border=\"1\" class=\"dataframe\">\n",
       "  <thead>\n",
       "    <tr style=\"text-align: right;\">\n",
       "      <th>chain</th>\n",
       "      <th>да</th>\n",
       "      <th>нет</th>\n",
       "      <th>type_chain</th>\n",
       "    </tr>\n",
       "    <tr>\n",
       "      <th>object_type</th>\n",
       "      <th></th>\n",
       "      <th></th>\n",
       "      <th></th>\n",
       "    </tr>\n",
       "  </thead>\n",
       "  <tbody>\n",
       "    <tr>\n",
       "      <td>бар</td>\n",
       "      <td>37</td>\n",
       "      <td>819</td>\n",
       "      <td>4.32</td>\n",
       "    </tr>\n",
       "    <tr>\n",
       "      <td>буфет</td>\n",
       "      <td>11</td>\n",
       "      <td>574</td>\n",
       "      <td>1.88</td>\n",
       "    </tr>\n",
       "    <tr>\n",
       "      <td>закусочная</td>\n",
       "      <td>56</td>\n",
       "      <td>304</td>\n",
       "      <td>15.56</td>\n",
       "    </tr>\n",
       "    <tr>\n",
       "      <td>кафе</td>\n",
       "      <td>1396</td>\n",
       "      <td>4703</td>\n",
       "      <td>22.89</td>\n",
       "    </tr>\n",
       "    <tr>\n",
       "      <td>кафетерий</td>\n",
       "      <td>52</td>\n",
       "      <td>346</td>\n",
       "      <td>13.07</td>\n",
       "    </tr>\n",
       "    <tr>\n",
       "      <td>магазин (отдел кулинарии)</td>\n",
       "      <td>78</td>\n",
       "      <td>195</td>\n",
       "      <td>28.57</td>\n",
       "    </tr>\n",
       "    <tr>\n",
       "      <td>предприятие быстрого обслуживания</td>\n",
       "      <td>791</td>\n",
       "      <td>1132</td>\n",
       "      <td>41.13</td>\n",
       "    </tr>\n",
       "    <tr>\n",
       "      <td>ресторан</td>\n",
       "      <td>544</td>\n",
       "      <td>1741</td>\n",
       "      <td>23.81</td>\n",
       "    </tr>\n",
       "    <tr>\n",
       "      <td>столовая</td>\n",
       "      <td>3</td>\n",
       "      <td>2584</td>\n",
       "      <td>0.12</td>\n",
       "    </tr>\n",
       "  </tbody>\n",
       "</table>\n",
       "</div>"
      ],
      "text/plain": [
       "chain                                да   нет  type_chain\n",
       "object_type                                              \n",
       "бар                                  37   819        4.32\n",
       "буфет                                11   574        1.88\n",
       "закусочная                           56   304       15.56\n",
       "кафе                               1396  4703       22.89\n",
       "кафетерий                            52   346       13.07\n",
       "магазин (отдел кулинарии)            78   195       28.57\n",
       "предприятие быстрого обслуживания   791  1132       41.13\n",
       "ресторан                            544  1741       23.81\n",
       "столовая                              3  2584        0.12"
      ]
     },
     "execution_count": 22,
     "metadata": {},
     "output_type": "execute_result"
    }
   ],
   "source": [
    "rest_data_chain['type_chain'] = rest_data_chain['да'] / (rest_data_chain['да'] + rest_data_chain['нет']) * 100\n",
    "rest_data_chain.head(10)"
   ]
  },
  {
   "cell_type": "code",
   "execution_count": 23,
   "metadata": {},
   "outputs": [
    {
     "data": {
      "image/png": "[encoded data removed]",
      "text/plain": [
       "<Figure size 576x576 with 1 Axes>"
      ]
     },
     "metadata": {
      "needs_background": "light"
     },
     "output_type": "display_data"
    }
   ],
   "source": [
    "# построим гистограмму\n",
    "rest_data_chain.plot(y='type_chain',\n",
    "                      kind='bar',\n",
    "                      figsize=(8, 8))\n",
    "plt.title('Процент сетевых объектов от общего количества')\n",
    "plt.ylabel('Процент')\n",
    "plt.xlabel('Тип объекта')\n",
    "plt.show()"
   ]
  },
  {
   "cell_type": "markdown",
   "metadata": {},
   "source": [
    "Я подсчитал процент сетевых объектов от общего числа по каждому типу объектов. Лидерами оказались предприятия быстрого обслуживания с 41,1%, далее магазины (отдел кулинарии):28.5% и рестораны:23,8%"
   ]
  },
  {
   "cell_type": "markdown",
   "metadata": {},
   "source": [
    "### Что характерно для сетевых заведений?"
   ]
  },
  {
   "cell_type": "code",
   "execution_count": 24,
   "metadata": {},
   "outputs": [
    {
     "data": {
      "text/html": [
       "<div>\n",
       "<style scoped>\n",
       "    .dataframe tbody tr th:only-of-type {\n",
       "        vertical-align: middle;\n",
       "    }\n",
       "\n",
       "    .dataframe tbody tr th {\n",
       "        vertical-align: top;\n",
       "    }\n",
       "\n",
       "    .dataframe thead th {\n",
       "        text-align: right;\n",
       "    }\n",
       "</style>\n",
       "<table border=\"1\" class=\"dataframe\">\n",
       "  <thead>\n",
       "    <tr style=\"text-align: right;\">\n",
       "      <th></th>\n",
       "      <th>id</th>\n",
       "      <th>object_name</th>\n",
       "      <th>chain</th>\n",
       "      <th>object_type</th>\n",
       "      <th>address</th>\n",
       "      <th>number</th>\n",
       "    </tr>\n",
       "  </thead>\n",
       "  <tbody>\n",
       "    <tr>\n",
       "      <td>3</td>\n",
       "      <td>21894</td>\n",
       "      <td>ПИЦЦЕТОРИЯ</td>\n",
       "      <td>да</td>\n",
       "      <td>кафе</td>\n",
       "      <td>город Москва, Абрамцевская улица, дом 1</td>\n",
       "      <td>40</td>\n",
       "    </tr>\n",
       "    <tr>\n",
       "      <td>6</td>\n",
       "      <td>148815</td>\n",
       "      <td>Брусника</td>\n",
       "      <td>да</td>\n",
       "      <td>кафе</td>\n",
       "      <td>город Москва, переулок Сивцев Вражек, дом 6/2</td>\n",
       "      <td>10</td>\n",
       "    </tr>\n",
       "    <tr>\n",
       "      <td>13</td>\n",
       "      <td>22579</td>\n",
       "      <td>Алло Пицца</td>\n",
       "      <td>да</td>\n",
       "      <td>кафе</td>\n",
       "      <td>город Москва, улица Авиаторов, дом 14</td>\n",
       "      <td>32</td>\n",
       "    </tr>\n",
       "    <tr>\n",
       "      <td>16</td>\n",
       "      <td>144107</td>\n",
       "      <td>Суши Wok</td>\n",
       "      <td>да</td>\n",
       "      <td>предприятие быстрого обслуживания</td>\n",
       "      <td>город Москва, Азовская улица, дом 3</td>\n",
       "      <td>7</td>\n",
       "    </tr>\n",
       "    <tr>\n",
       "      <td>18</td>\n",
       "      <td>58565</td>\n",
       "      <td>Тануки</td>\n",
       "      <td>да</td>\n",
       "      <td>ресторан</td>\n",
       "      <td>город Москва, Большая Академическая улица, дом 65</td>\n",
       "      <td>160</td>\n",
       "    </tr>\n",
       "  </tbody>\n",
       "</table>\n",
       "</div>"
      ],
      "text/plain": [
       "        id object_name chain                        object_type  \\\n",
       "3    21894  ПИЦЦЕТОРИЯ    да                               кафе   \n",
       "6   148815    Брусника    да                               кафе   \n",
       "13   22579  Алло Пицца    да                               кафе   \n",
       "16  144107    Суши Wok    да  предприятие быстрого обслуживания   \n",
       "18   58565      Тануки    да                           ресторан   \n",
       "\n",
       "                                              address  number  \n",
       "3             город Москва, Абрамцевская улица, дом 1      40  \n",
       "6       город Москва, переулок Сивцев Вражек, дом 6/2      10  \n",
       "13              город Москва, улица Авиаторов, дом 14      32  \n",
       "16                город Москва, Азовская улица, дом 3       7  \n",
       "18  город Москва, Большая Академическая улица, дом 65     160  "
      ]
     },
     "execution_count": 24,
     "metadata": {},
     "output_type": "execute_result"
    }
   ],
   "source": [
    "# делаем срез\n",
    "rest_data_number = rest_data.query('chain == \"да\"')\n",
    "rest_data_number.head()"
   ]
  },
  {
   "cell_type": "code",
   "execution_count": 25,
   "metadata": {},
   "outputs": [
    {
     "data": {
      "text/html": [
       "<div>\n",
       "<style scoped>\n",
       "    .dataframe tbody tr th:only-of-type {\n",
       "        vertical-align: middle;\n",
       "    }\n",
       "\n",
       "    .dataframe tbody tr th {\n",
       "        vertical-align: top;\n",
       "    }\n",
       "\n",
       "    .dataframe thead th {\n",
       "        text-align: right;\n",
       "    }\n",
       "</style>\n",
       "<table border=\"1\" class=\"dataframe\">\n",
       "  <thead>\n",
       "    <tr style=\"text-align: right;\">\n",
       "      <th></th>\n",
       "      <th>id</th>\n",
       "      <th>object_name</th>\n",
       "      <th>chain</th>\n",
       "      <th>object_type</th>\n",
       "      <th>address</th>\n",
       "      <th>number</th>\n",
       "      <th>number_type</th>\n",
       "    </tr>\n",
       "  </thead>\n",
       "  <tbody>\n",
       "    <tr>\n",
       "      <td>3</td>\n",
       "      <td>21894</td>\n",
       "      <td>ПИЦЦЕТОРИЯ</td>\n",
       "      <td>да</td>\n",
       "      <td>кафе</td>\n",
       "      <td>город Москва, Абрамцевская улица, дом 1</td>\n",
       "      <td>40</td>\n",
       "      <td>Среднее количество</td>\n",
       "    </tr>\n",
       "    <tr>\n",
       "      <td>6</td>\n",
       "      <td>148815</td>\n",
       "      <td>Брусника</td>\n",
       "      <td>да</td>\n",
       "      <td>кафе</td>\n",
       "      <td>город Москва, переулок Сивцев Вражек, дом 6/2</td>\n",
       "      <td>10</td>\n",
       "      <td>Мало мест</td>\n",
       "    </tr>\n",
       "    <tr>\n",
       "      <td>13</td>\n",
       "      <td>22579</td>\n",
       "      <td>Алло Пицца</td>\n",
       "      <td>да</td>\n",
       "      <td>кафе</td>\n",
       "      <td>город Москва, улица Авиаторов, дом 14</td>\n",
       "      <td>32</td>\n",
       "      <td>Среднее количество</td>\n",
       "    </tr>\n",
       "    <tr>\n",
       "      <td>16</td>\n",
       "      <td>144107</td>\n",
       "      <td>Суши Wok</td>\n",
       "      <td>да</td>\n",
       "      <td>предприятие быстрого обслуживания</td>\n",
       "      <td>город Москва, Азовская улица, дом 3</td>\n",
       "      <td>7</td>\n",
       "      <td>Мало мест</td>\n",
       "    </tr>\n",
       "    <tr>\n",
       "      <td>18</td>\n",
       "      <td>58565</td>\n",
       "      <td>Тануки</td>\n",
       "      <td>да</td>\n",
       "      <td>ресторан</td>\n",
       "      <td>город Москва, Большая Академическая улица, дом 65</td>\n",
       "      <td>160</td>\n",
       "      <td>Очень много мест</td>\n",
       "    </tr>\n",
       "  </tbody>\n",
       "</table>\n",
       "</div>"
      ],
      "text/plain": [
       "        id object_name chain                        object_type  \\\n",
       "3    21894  ПИЦЦЕТОРИЯ    да                               кафе   \n",
       "6   148815    Брусника    да                               кафе   \n",
       "13   22579  Алло Пицца    да                               кафе   \n",
       "16  144107    Суши Wok    да  предприятие быстрого обслуживания   \n",
       "18   58565      Тануки    да                           ресторан   \n",
       "\n",
       "                                              address  number  \\\n",
       "3             город Москва, Абрамцевская улица, дом 1      40   \n",
       "6       город Москва, переулок Сивцев Вражек, дом 6/2      10   \n",
       "13              город Москва, улица Авиаторов, дом 14      32   \n",
       "16                город Москва, Азовская улица, дом 3       7   \n",
       "18  город Москва, Большая Академическая улица, дом 65     160   \n",
       "\n",
       "           number_type  \n",
       "3   Среднее количество  \n",
       "6            Мало мест  \n",
       "13  Среднее количество  \n",
       "16           Мало мест  \n",
       "18    Очень много мест  "
      ]
     },
     "execution_count": 25,
     "metadata": {},
     "output_type": "execute_result"
    }
   ],
   "source": [
    "# созданим функцию для создания категорий для посадочных мест\n",
    "def number_count_type(row):\n",
    "    number_count = row['number']\n",
    "        \n",
    "    if number_count <= 20:\n",
    "        return 'Мало мест'\n",
    "    if 20 < number_count <= 60:\n",
    "        return 'Среднее количество'\n",
    "    if 60 < number_count <= 100:\n",
    "        return 'Большое количество'\n",
    "    return 'Очень много мест'\n",
    "\n",
    "# создадим новый столбец, пременив функцию к столбцу   \n",
    "rest_data_number['number_type'] = rest_data_number.apply(number_count_type, axis=1)\n",
    "rest_data_number.head()   "
   ]
  },
  {
   "cell_type": "code",
   "execution_count": 26,
   "metadata": {},
   "outputs": [
    {
     "data": {
      "text/html": [
       "<div>\n",
       "<style scoped>\n",
       "    .dataframe tbody tr th:only-of-type {\n",
       "        vertical-align: middle;\n",
       "    }\n",
       "\n",
       "    .dataframe tbody tr th {\n",
       "        vertical-align: top;\n",
       "    }\n",
       "\n",
       "    .dataframe thead th {\n",
       "        text-align: right;\n",
       "    }\n",
       "</style>\n",
       "<table border=\"1\" class=\"dataframe\">\n",
       "  <thead>\n",
       "    <tr style=\"text-align: right;\">\n",
       "      <th></th>\n",
       "      <th>object_type</th>\n",
       "    </tr>\n",
       "    <tr>\n",
       "      <th>number_type</th>\n",
       "      <th></th>\n",
       "    </tr>\n",
       "  </thead>\n",
       "  <tbody>\n",
       "    <tr>\n",
       "      <td>Большое количество</td>\n",
       "      <td>518</td>\n",
       "    </tr>\n",
       "    <tr>\n",
       "      <td>Мало мест</td>\n",
       "      <td>1019</td>\n",
       "    </tr>\n",
       "    <tr>\n",
       "      <td>Очень много мест</td>\n",
       "      <td>346</td>\n",
       "    </tr>\n",
       "    <tr>\n",
       "      <td>Среднее количество</td>\n",
       "      <td>1085</td>\n",
       "    </tr>\n",
       "  </tbody>\n",
       "</table>\n",
       "</div>"
      ],
      "text/plain": [
       "                    object_type\n",
       "number_type                    \n",
       "Большое количество          518\n",
       "Мало мест                  1019\n",
       "Очень много мест            346\n",
       "Среднее количество         1085"
      ]
     },
     "execution_count": 26,
     "metadata": {},
     "output_type": "execute_result"
    }
   ],
   "source": [
    "# создадим сводную таблицу для построения графика:\n",
    "rest_data_number_count = rest_data_number.pivot_table(index=['number_type'], \n",
    "                                        values='object_type', aggfunc='count')\n",
    "\n",
    "rest_data_number_count.head()"
   ]
  },
  {
   "cell_type": "code",
   "execution_count": 27,
   "metadata": {},
   "outputs": [
    {
     "data": {
      "image/png": "[encoded data removed]",
      "text/plain": [
       "<Figure size 576x576 with 1 Axes>"
      ]
     },
     "metadata": {
      "needs_background": "light"
     },
     "output_type": "display_data"
    }
   ],
   "source": [
    "# построим линейный график\n",
    "rest_data_number_count.plot(y='object_type',\n",
    "                        kind='bar',\n",
    "                        grid=True,\n",
    "                        style='-',\n",
    "                        figsize=(8, 8))     \n",
    "plt.title('Количество объектов по количеству мест')\n",
    "plt.ylabel('Количество объектов')\n",
    "plt.xlabel('Количество мест')\n",
    "plt.show()"
   ]
  },
  {
   "cell_type": "markdown",
   "metadata": {},
   "source": [
    "Мы создали категории по количеству мест для сетевых объектов и посчитали их количество:\n",
    "- Мало (до 20 мест): 1019\n",
    "- Среднее количество (от 20 до 60): 1085\n",
    "- Большое количество (от 60 до 100): 518\n",
    "- Очень много (от 100 и выше): 346"
   ]
  },
  {
   "cell_type": "markdown",
   "metadata": {},
   "source": [
    "### Для каждого вида объекта общественного питания опишите среднее количество посадочных мест"
   ]
  },
  {
   "cell_type": "code",
   "execution_count": 28,
   "metadata": {},
   "outputs": [
    {
     "data": {
      "text/plain": [
       "object_type\n",
       "магазин (отдел кулинарии)             8.68\n",
       "кафетерий                            12.27\n",
       "буфет                                12.73\n",
       "закусочная                           14.38\n",
       "предприятие быстрого обслуживания    40.17\n",
       "кафе                                 47.43\n",
       "бар                                  53.03\n",
       "ресторан                            100.23\n",
       "столовая                            112.33\n",
       "Name: number, dtype: float64"
      ]
     },
     "execution_count": 28,
     "metadata": {},
     "output_type": "execute_result"
    }
   ],
   "source": [
    "# создадим сводную таблицу для построения графика:\n",
    "rest_data_number_new = rest_data_number.pivot_table(index=['object_type'], \n",
    "                                        values='number', aggfunc='mean')\n",
    "rest_data_number_new = rest_data_number_new['number'].sort_values()\n",
    "rest_data_number_new"
   ]
  },
  {
   "cell_type": "code",
   "execution_count": 29,
   "metadata": {},
   "outputs": [
    {
     "data": {
      "image/png": "[encoded data removed]",
      "text/plain": [
       "<Figure size 576x576 with 1 Axes>"
      ]
     },
     "metadata": {
      "needs_background": "light"
     },
     "output_type": "display_data"
    }
   ],
   "source": [
    "rest_data_number_new.plot(y='number',\n",
    "                      kind='bar',\n",
    "                      figsize=(8, 8))\n",
    "plt.title('Среднее количество посадочных мест для объектов')\n",
    "plt.ylabel('Среднее значение, шт.')\n",
    "plt.xlabel('Тип объекта')\n",
    "plt.show()"
   ]
  },
  {
   "cell_type": "markdown",
   "metadata": {},
   "source": [
    "Мы вычисли среднее количество посадочных мест для различных объектов. Мало мест (меньше 20) характерно для:\n",
    "- магазины (отдел кулинарии): 8.68\n",
    "- кафетерий: 12.27\n",
    "- буфет: 12.73\n",
    "- закусочные: 14.38\n",
    "\n",
    "Для предприятий быстрого обслуживания, кафе и баров характерно в среднем 40-55 посадочных мест. А для ресторанов и столовых в среднем больше 100 мест"
   ]
  },
  {
   "cell_type": "markdown",
   "metadata": {},
   "source": [
    "### Постройте график топ-10 улиц по количеству объектов общественного питания"
   ]
  },
  {
   "cell_type": "code",
   "execution_count": 30,
   "metadata": {},
   "outputs": [],
   "source": [
    "# достанем модуль re для регулярных выражений\n",
    "import re\n",
    "\n",
    "# используем для выделения улиц в адресе\n",
    "words = ['улица','ул','переулок','шоссе','проспект','площадь','проезд',\n",
    "         'село','аллея','бульвар','набережная','тупик','линия']\n",
    "\n",
    "str_pat = r\".*,\\s*\\b([^,]*?(?:{})\\b[^,]*)[,$]+\".format(\"|\".join(words))"
   ]
  },
  {
   "cell_type": "code",
   "execution_count": 31,
   "metadata": {},
   "outputs": [
    {
     "data": {
      "text/html": [
       "<div>\n",
       "<style scoped>\n",
       "    .dataframe tbody tr th:only-of-type {\n",
       "        vertical-align: middle;\n",
       "    }\n",
       "\n",
       "    .dataframe tbody tr th {\n",
       "        vertical-align: top;\n",
       "    }\n",
       "\n",
       "    .dataframe thead th {\n",
       "        text-align: right;\n",
       "    }\n",
       "</style>\n",
       "<table border=\"1\" class=\"dataframe\">\n",
       "  <thead>\n",
       "    <tr style=\"text-align: right;\">\n",
       "      <th></th>\n",
       "      <th>id</th>\n",
       "      <th>object_name</th>\n",
       "      <th>chain</th>\n",
       "      <th>object_type</th>\n",
       "      <th>address</th>\n",
       "      <th>number</th>\n",
       "      <th>street</th>\n",
       "    </tr>\n",
       "  </thead>\n",
       "  <tbody>\n",
       "    <tr>\n",
       "      <td>0</td>\n",
       "      <td>151635</td>\n",
       "      <td>СМЕТАНА</td>\n",
       "      <td>нет</td>\n",
       "      <td>кафе</td>\n",
       "      <td>город Москва, улица Егора Абакумова, дом 9</td>\n",
       "      <td>48</td>\n",
       "      <td>улица Егора Абакумова</td>\n",
       "    </tr>\n",
       "    <tr>\n",
       "      <td>1</td>\n",
       "      <td>77874</td>\n",
       "      <td>Родник</td>\n",
       "      <td>нет</td>\n",
       "      <td>кафе</td>\n",
       "      <td>город Москва, улица Талалихина, дом 2/1, корпус 1</td>\n",
       "      <td>35</td>\n",
       "      <td>улица Талалихина</td>\n",
       "    </tr>\n",
       "    <tr>\n",
       "      <td>2</td>\n",
       "      <td>24309</td>\n",
       "      <td>Кафе «Академия»</td>\n",
       "      <td>нет</td>\n",
       "      <td>кафе</td>\n",
       "      <td>город Москва, Абельмановская улица, дом 6</td>\n",
       "      <td>95</td>\n",
       "      <td>Абельмановская улица</td>\n",
       "    </tr>\n",
       "    <tr>\n",
       "      <td>3</td>\n",
       "      <td>21894</td>\n",
       "      <td>ПИЦЦЕТОРИЯ</td>\n",
       "      <td>да</td>\n",
       "      <td>кафе</td>\n",
       "      <td>город Москва, Абрамцевская улица, дом 1</td>\n",
       "      <td>40</td>\n",
       "      <td>Абрамцевская улица</td>\n",
       "    </tr>\n",
       "    <tr>\n",
       "      <td>4</td>\n",
       "      <td>119365</td>\n",
       "      <td>Кафе «Вишневая метель»</td>\n",
       "      <td>нет</td>\n",
       "      <td>кафе</td>\n",
       "      <td>город Москва, Абрамцевская улица, дом 9, корпус 1</td>\n",
       "      <td>50</td>\n",
       "      <td>Абрамцевская улица</td>\n",
       "    </tr>\n",
       "    <tr>\n",
       "      <td>...</td>\n",
       "      <td>...</td>\n",
       "      <td>...</td>\n",
       "      <td>...</td>\n",
       "      <td>...</td>\n",
       "      <td>...</td>\n",
       "      <td>...</td>\n",
       "      <td>...</td>\n",
       "    </tr>\n",
       "    <tr>\n",
       "      <td>15361</td>\n",
       "      <td>208537</td>\n",
       "      <td>Шоколадница</td>\n",
       "      <td>да</td>\n",
       "      <td>кафе</td>\n",
       "      <td>город Москва, 3-й Крутицкий переулок, дом 18</td>\n",
       "      <td>50</td>\n",
       "      <td>3-й Крутицкий переулок</td>\n",
       "    </tr>\n",
       "    <tr>\n",
       "      <td>15362</td>\n",
       "      <td>209264</td>\n",
       "      <td>Шоколадница</td>\n",
       "      <td>да</td>\n",
       "      <td>кафе</td>\n",
       "      <td>город Москва, улица Земляной Вал, дом 33</td>\n",
       "      <td>10</td>\n",
       "      <td>улица Земляной Вал</td>\n",
       "    </tr>\n",
       "    <tr>\n",
       "      <td>15363</td>\n",
       "      <td>209186</td>\n",
       "      <td>Шоколадница</td>\n",
       "      <td>да</td>\n",
       "      <td>кафе</td>\n",
       "      <td>город Москва, улица Земляной Вал, дом 33</td>\n",
       "      <td>20</td>\n",
       "      <td>улица Земляной Вал</td>\n",
       "    </tr>\n",
       "    <tr>\n",
       "      <td>15364</td>\n",
       "      <td>221900</td>\n",
       "      <td>Шоколадница</td>\n",
       "      <td>да</td>\n",
       "      <td>кафе</td>\n",
       "      <td>город Москва, поселение Московский, Киевское ш...</td>\n",
       "      <td>36</td>\n",
       "      <td>Киевское шоссе</td>\n",
       "    </tr>\n",
       "    <tr>\n",
       "      <td>15365</td>\n",
       "      <td>222535</td>\n",
       "      <td>Шоколадница</td>\n",
       "      <td>да</td>\n",
       "      <td>кафе</td>\n",
       "      <td>город Москва, Ходынский бульвар, дом 4</td>\n",
       "      <td>10</td>\n",
       "      <td>Ходынский бульвар</td>\n",
       "    </tr>\n",
       "  </tbody>\n",
       "</table>\n",
       "<p>15366 rows × 7 columns</p>\n",
       "</div>"
      ],
      "text/plain": [
       "           id             object_name chain object_type  \\\n",
       "0      151635                 СМЕТАНА   нет        кафе   \n",
       "1       77874                  Родник   нет        кафе   \n",
       "2       24309         Кафе «Академия»   нет        кафе   \n",
       "3       21894              ПИЦЦЕТОРИЯ    да        кафе   \n",
       "4      119365  Кафе «Вишневая метель»   нет        кафе   \n",
       "...       ...                     ...   ...         ...   \n",
       "15361  208537             Шоколадница    да        кафе   \n",
       "15362  209264             Шоколадница    да        кафе   \n",
       "15363  209186             Шоколадница    да        кафе   \n",
       "15364  221900             Шоколадница    да        кафе   \n",
       "15365  222535             Шоколадница    да        кафе   \n",
       "\n",
       "                                                 address  number  \\\n",
       "0             город Москва, улица Егора Абакумова, дом 9      48   \n",
       "1      город Москва, улица Талалихина, дом 2/1, корпус 1      35   \n",
       "2              город Москва, Абельмановская улица, дом 6      95   \n",
       "3                город Москва, Абрамцевская улица, дом 1      40   \n",
       "4      город Москва, Абрамцевская улица, дом 9, корпус 1      50   \n",
       "...                                                  ...     ...   \n",
       "15361       город Москва, 3-й Крутицкий переулок, дом 18      50   \n",
       "15362           город Москва, улица Земляной Вал, дом 33      10   \n",
       "15363           город Москва, улица Земляной Вал, дом 33      20   \n",
       "15364  город Москва, поселение Московский, Киевское ш...      36   \n",
       "15365             город Москва, Ходынский бульвар, дом 4      10   \n",
       "\n",
       "                       street  \n",
       "0       улица Егора Абакумова  \n",
       "1            улица Талалихина  \n",
       "2        Абельмановская улица  \n",
       "3          Абрамцевская улица  \n",
       "4          Абрамцевская улица  \n",
       "...                       ...  \n",
       "15361  3-й Крутицкий переулок  \n",
       "15362      улица Земляной Вал  \n",
       "15363      улица Земляной Вал  \n",
       "15364          Киевское шоссе  \n",
       "15365       Ходынский бульвар  \n",
       "\n",
       "[15366 rows x 7 columns]"
      ]
     },
     "execution_count": 31,
     "metadata": {},
     "output_type": "execute_result"
    }
   ],
   "source": [
    "rest_data['street'] = rest_data['address'].str.extract(str_pat, flags=re.I)    \n",
    "rest_data"
   ]
  },
  {
   "cell_type": "code",
   "execution_count": 32,
   "metadata": {},
   "outputs": [
    {
     "data": {
      "text/html": [
       "<div>\n",
       "<style scoped>\n",
       "    .dataframe tbody tr th:only-of-type {\n",
       "        vertical-align: middle;\n",
       "    }\n",
       "\n",
       "    .dataframe tbody tr th {\n",
       "        vertical-align: top;\n",
       "    }\n",
       "\n",
       "    .dataframe thead th {\n",
       "        text-align: right;\n",
       "    }\n",
       "</style>\n",
       "<table border=\"1\" class=\"dataframe\">\n",
       "  <thead>\n",
       "    <tr style=\"text-align: right;\">\n",
       "      <th></th>\n",
       "      <th>object_name</th>\n",
       "    </tr>\n",
       "    <tr>\n",
       "      <th>street</th>\n",
       "      <th></th>\n",
       "    </tr>\n",
       "  </thead>\n",
       "  <tbody>\n",
       "    <tr>\n",
       "      <td>проспект Мира</td>\n",
       "      <td>204</td>\n",
       "    </tr>\n",
       "    <tr>\n",
       "      <td>Профсоюзная улица</td>\n",
       "      <td>182</td>\n",
       "    </tr>\n",
       "    <tr>\n",
       "      <td>Ленинградский проспект</td>\n",
       "      <td>171</td>\n",
       "    </tr>\n",
       "    <tr>\n",
       "      <td>Пресненская набережная</td>\n",
       "      <td>167</td>\n",
       "    </tr>\n",
       "    <tr>\n",
       "      <td>Варшавское шоссе</td>\n",
       "      <td>164</td>\n",
       "    </tr>\n",
       "    <tr>\n",
       "      <td>Ленинский проспект</td>\n",
       "      <td>147</td>\n",
       "    </tr>\n",
       "    <tr>\n",
       "      <td>проспект Вернадского</td>\n",
       "      <td>132</td>\n",
       "    </tr>\n",
       "    <tr>\n",
       "      <td>Кутузовский проспект</td>\n",
       "      <td>114</td>\n",
       "    </tr>\n",
       "    <tr>\n",
       "      <td>Каширское шоссе</td>\n",
       "      <td>112</td>\n",
       "    </tr>\n",
       "    <tr>\n",
       "      <td>Кировоградская улица</td>\n",
       "      <td>110</td>\n",
       "    </tr>\n",
       "  </tbody>\n",
       "</table>\n",
       "</div>"
      ],
      "text/plain": [
       "                        object_name\n",
       "street                             \n",
       "проспект Мира                   204\n",
       "Профсоюзная улица               182\n",
       "Ленинградский проспект          171\n",
       "Пресненская набережная          167\n",
       "Варшавское шоссе                164\n",
       "Ленинский проспект              147\n",
       "проспект Вернадского            132\n",
       "Кутузовский проспект            114\n",
       "Каширское шоссе                 112\n",
       "Кировоградская улица            110"
      ]
     },
     "execution_count": 32,
     "metadata": {},
     "output_type": "execute_result"
    }
   ],
   "source": [
    "# создадим сводную таблицу для построения графика:\n",
    "rest_data_street = rest_data.pivot_table(index=['street'], \n",
    "                                        values='object_name', aggfunc='count')\n",
    "\n",
    "rest_data_street = rest_data_street.sort_values(by='object_name', ascending=False).head(10)\n",
    "rest_data_street"
   ]
  },
  {
   "cell_type": "code",
   "execution_count": 33,
   "metadata": {},
   "outputs": [
    {
     "data": {
      "image/png": "[encoded data removed]",
      "text/plain": [
       "<Figure size 576x576 with 1 Axes>"
      ]
     },
     "metadata": {
      "needs_background": "light"
     },
     "output_type": "display_data"
    }
   ],
   "source": [
    "rest_data_street.plot(y='object_name',\n",
    "                      kind='bar',\n",
    "                      figsize=(8, 8))\n",
    "plt.title('Топ 10 улиц')\n",
    "plt.ylabel('Количество объектов, шт.')\n",
    "plt.xlabel('Улица')\n",
    "plt.show()"
   ]
  },
  {
   "cell_type": "markdown",
   "metadata": {},
   "source": [
    "Мы составили топ улиц по количеству объектов питания. Оно и не удивительно, это самые протяжённые улицы и по ним перемещается основной поток людей, начинаются от садового кольца и идут зачастую до МКАДа."
   ]
  },
  {
   "cell_type": "markdown",
   "metadata": {},
   "source": [
    "### Найдите число улиц с одним объектом общественного питания"
   ]
  },
  {
   "cell_type": "code",
   "execution_count": 34,
   "metadata": {},
   "outputs": [
    {
     "data": {
      "text/html": [
       "<div>\n",
       "<style scoped>\n",
       "    .dataframe tbody tr th:only-of-type {\n",
       "        vertical-align: middle;\n",
       "    }\n",
       "\n",
       "    .dataframe tbody tr th {\n",
       "        vertical-align: top;\n",
       "    }\n",
       "\n",
       "    .dataframe thead th {\n",
       "        text-align: right;\n",
       "    }\n",
       "</style>\n",
       "<table border=\"1\" class=\"dataframe\">\n",
       "  <thead>\n",
       "    <tr style=\"text-align: right;\">\n",
       "      <th></th>\n",
       "      <th>object_name</th>\n",
       "    </tr>\n",
       "    <tr>\n",
       "      <th>street</th>\n",
       "      <th></th>\n",
       "    </tr>\n",
       "  </thead>\n",
       "  <tbody>\n",
       "    <tr>\n",
       "      <td>Кировоградская улица</td>\n",
       "      <td>110</td>\n",
       "    </tr>\n",
       "    <tr>\n",
       "      <td>Каширское шоссе</td>\n",
       "      <td>112</td>\n",
       "    </tr>\n",
       "    <tr>\n",
       "      <td>Кутузовский проспект</td>\n",
       "      <td>114</td>\n",
       "    </tr>\n",
       "    <tr>\n",
       "      <td>проспект Вернадского</td>\n",
       "      <td>132</td>\n",
       "    </tr>\n",
       "    <tr>\n",
       "      <td>Ленинский проспект</td>\n",
       "      <td>147</td>\n",
       "    </tr>\n",
       "    <tr>\n",
       "      <td>Варшавское шоссе</td>\n",
       "      <td>164</td>\n",
       "    </tr>\n",
       "    <tr>\n",
       "      <td>Пресненская набережная</td>\n",
       "      <td>167</td>\n",
       "    </tr>\n",
       "    <tr>\n",
       "      <td>Ленинградский проспект</td>\n",
       "      <td>171</td>\n",
       "    </tr>\n",
       "    <tr>\n",
       "      <td>Профсоюзная улица</td>\n",
       "      <td>182</td>\n",
       "    </tr>\n",
       "    <tr>\n",
       "      <td>проспект Мира</td>\n",
       "      <td>204</td>\n",
       "    </tr>\n",
       "  </tbody>\n",
       "</table>\n",
       "</div>"
      ],
      "text/plain": [
       "                        object_name\n",
       "street                             \n",
       "Кировоградская улица            110\n",
       "Каширское шоссе                 112\n",
       "Кутузовский проспект            114\n",
       "проспект Вернадского            132\n",
       "Ленинский проспект              147\n",
       "Варшавское шоссе                164\n",
       "Пресненская набережная          167\n",
       "Ленинградский проспект          171\n",
       "Профсоюзная улица               182\n",
       "проспект Мира                   204"
      ]
     },
     "execution_count": 34,
     "metadata": {},
     "output_type": "execute_result"
    }
   ],
   "source": [
    "rest_data_street.sort_values(by='object_name', ascending=True).head(10)"
   ]
  },
  {
   "cell_type": "code",
   "execution_count": 35,
   "metadata": {},
   "outputs": [
    {
     "data": {
      "text/plain": [
       "object_name    0\n",
       "dtype: int64"
      ]
     },
     "execution_count": 35,
     "metadata": {},
     "output_type": "execute_result"
    }
   ],
   "source": [
    "rest_data_street[rest_data_street['object_name'] == 1].count()"
   ]
  },
  {
   "cell_type": "markdown",
   "metadata": {},
   "source": [
    "Число улиц с одним объектом составило 551. В основном это маленькие переулки и там тяжело разместить большее количество объектом и поток людей маленький"
   ]
  },
  {
   "cell_type": "markdown",
   "metadata": {},
   "source": [
    "### Посмотрите на распределение количества посадочных мест для улиц с большим количеством объектов общественного питания"
   ]
  },
  {
   "cell_type": "code",
   "execution_count": 36,
   "metadata": {},
   "outputs": [
    {
     "data": {
      "text/html": [
       "<div>\n",
       "<style scoped>\n",
       "    .dataframe tbody tr th:only-of-type {\n",
       "        vertical-align: middle;\n",
       "    }\n",
       "\n",
       "    .dataframe tbody tr th {\n",
       "        vertical-align: top;\n",
       "    }\n",
       "\n",
       "    .dataframe thead th {\n",
       "        text-align: right;\n",
       "    }\n",
       "</style>\n",
       "<table border=\"1\" class=\"dataframe\">\n",
       "  <thead>\n",
       "    <tr style=\"text-align: right;\">\n",
       "      <th></th>\n",
       "      <th>object_name</th>\n",
       "      <th>number</th>\n",
       "    </tr>\n",
       "    <tr>\n",
       "      <th>street</th>\n",
       "      <th></th>\n",
       "      <th></th>\n",
       "    </tr>\n",
       "  </thead>\n",
       "  <tbody>\n",
       "    <tr>\n",
       "      <td>проспект Мира</td>\n",
       "      <td>204</td>\n",
       "      <td>62.70</td>\n",
       "    </tr>\n",
       "    <tr>\n",
       "      <td>Профсоюзная улица</td>\n",
       "      <td>182</td>\n",
       "      <td>46.41</td>\n",
       "    </tr>\n",
       "    <tr>\n",
       "      <td>Ленинградский проспект</td>\n",
       "      <td>171</td>\n",
       "      <td>52.69</td>\n",
       "    </tr>\n",
       "    <tr>\n",
       "      <td>Пресненская набережная</td>\n",
       "      <td>167</td>\n",
       "      <td>45.84</td>\n",
       "    </tr>\n",
       "    <tr>\n",
       "      <td>Варшавское шоссе</td>\n",
       "      <td>164</td>\n",
       "      <td>52.48</td>\n",
       "    </tr>\n",
       "    <tr>\n",
       "      <td>Ленинский проспект</td>\n",
       "      <td>147</td>\n",
       "      <td>63.47</td>\n",
       "    </tr>\n",
       "    <tr>\n",
       "      <td>проспект Вернадского</td>\n",
       "      <td>132</td>\n",
       "      <td>66.97</td>\n",
       "    </tr>\n",
       "    <tr>\n",
       "      <td>Кутузовский проспект</td>\n",
       "      <td>114</td>\n",
       "      <td>85.06</td>\n",
       "    </tr>\n",
       "    <tr>\n",
       "      <td>Каширское шоссе</td>\n",
       "      <td>112</td>\n",
       "      <td>55.10</td>\n",
       "    </tr>\n",
       "    <tr>\n",
       "      <td>Кировоградская улица</td>\n",
       "      <td>110</td>\n",
       "      <td>59.79</td>\n",
       "    </tr>\n",
       "  </tbody>\n",
       "</table>\n",
       "</div>"
      ],
      "text/plain": [
       "                        object_name  number\n",
       "street                                     \n",
       "проспект Мира                   204   62.70\n",
       "Профсоюзная улица               182   46.41\n",
       "Ленинградский проспект          171   52.69\n",
       "Пресненская набережная          167   45.84\n",
       "Варшавское шоссе                164   52.48\n",
       "Ленинский проспект              147   63.47\n",
       "проспект Вернадского            132   66.97\n",
       "Кутузовский проспект            114   85.06\n",
       "Каширское шоссе                 112   55.10\n",
       "Кировоградская улица            110   59.79"
      ]
     },
     "execution_count": 36,
     "metadata": {},
     "output_type": "execute_result"
    }
   ],
   "source": [
    "# сгруппируем\n",
    "rest_data_street_number = rest_data.groupby('street').agg({'object_name':'count', 'number':'mean'})\n",
    "\n",
    "rest_data_street_number.sort_values(by='object_name', ascending=False).head(10)"
   ]
  },
  {
   "cell_type": "markdown",
   "metadata": {},
   "source": [
    "На больших улицах с большим количество объектов среднем количество мест от 50 до 60. Выделяется Кутузовский проспект со средним 85 мест."
   ]
  },
  {
   "cell_type": "markdown",
   "metadata": {},
   "source": [
    "### Воспользуйтесь внешней информацией"
   ]
  },
  {
   "cell_type": "markdown",
   "metadata": {},
   "source": [
    "https://docs.google.com/spreadsheets/d/1xoBMzhEfiDeFqF0rYrG-SVLzqv5I5CH7MowOGhGJ2Do/edit?usp=sharing"
   ]
  },
  {
   "cell_type": "code",
   "execution_count": 46,
   "metadata": {},
   "outputs": [
    {
     "data": {
      "text/html": [
       "<div>\n",
       "<style scoped>\n",
       "    .dataframe tbody tr th:only-of-type {\n",
       "        vertical-align: middle;\n",
       "    }\n",
       "\n",
       "    .dataframe tbody tr th {\n",
       "        vertical-align: top;\n",
       "    }\n",
       "\n",
       "    .dataframe thead th {\n",
       "        text-align: right;\n",
       "    }\n",
       "</style>\n",
       "<table border=\"1\" class=\"dataframe\">\n",
       "  <thead>\n",
       "    <tr style=\"text-align: right;\">\n",
       "      <th></th>\n",
       "      <th>UM_CODE</th>\n",
       "      <th>UM_NAMEF</th>\n",
       "      <th>global_id</th>\n",
       "      <th>UM_NAMES</th>\n",
       "      <th>UM_TRANS</th>\n",
       "      <th>UM_TYPE</th>\n",
       "      <th>UM_TM</th>\n",
       "      <th>UM_TE</th>\n",
       "      <th>UM_KLADR</th>\n",
       "    </tr>\n",
       "  </thead>\n",
       "  <tbody>\n",
       "    <tr>\n",
       "      <td>0</td>\n",
       "      <td>8880</td>\n",
       "      <td>1-й Ирининский переулок</td>\n",
       "      <td>58481065</td>\n",
       "      <td>1-й Ирининский пер.</td>\n",
       "      <td>Pervy'j Irininskij pereulok</td>\n",
       "      <td>2</td>\n",
       "      <td>NaN</td>\n",
       "      <td>0102</td>\n",
       "      <td>77000000000706300</td>\n",
       "    </tr>\n",
       "    <tr>\n",
       "      <td>1</td>\n",
       "      <td>8890</td>\n",
       "      <td>2-й Ирининский переулок</td>\n",
       "      <td>58481066</td>\n",
       "      <td>2-й Ирининский пер.</td>\n",
       "      <td>Vtoroj Irininskij pereulok</td>\n",
       "      <td>2</td>\n",
       "      <td>NaN</td>\n",
       "      <td>0102</td>\n",
       "      <td>77000000000362200</td>\n",
       "    </tr>\n",
       "    <tr>\n",
       "      <td>2</td>\n",
       "      <td>8891</td>\n",
       "      <td>3-й Ирининский переулок</td>\n",
       "      <td>58481067</td>\n",
       "      <td>3-й Ирининский пер.</td>\n",
       "      <td>Tretij Irininskij pereulok</td>\n",
       "      <td>2</td>\n",
       "      <td>NaN</td>\n",
       "      <td>0102</td>\n",
       "      <td>77000000000362300</td>\n",
       "    </tr>\n",
       "    <tr>\n",
       "      <td>3</td>\n",
       "      <td>8910</td>\n",
       "      <td>Иркутская улица</td>\n",
       "      <td>58481068</td>\n",
       "      <td>Иркутская ул.</td>\n",
       "      <td>Irkutskaya ulicza</td>\n",
       "      <td>1</td>\n",
       "      <td>NaN</td>\n",
       "      <td>0406</td>\n",
       "      <td>77000000000139700</td>\n",
       "    </tr>\n",
       "    <tr>\n",
       "      <td>4</td>\n",
       "      <td>8920</td>\n",
       "      <td>1-й Иртышский проезд</td>\n",
       "      <td>58481069</td>\n",
       "      <td>1-й Иртышский пр.</td>\n",
       "      <td>Pervy'j Irty'shskij proezd</td>\n",
       "      <td>3</td>\n",
       "      <td>NaN</td>\n",
       "      <td>0406</td>\n",
       "      <td>77000000000331600</td>\n",
       "    </tr>\n",
       "    <tr>\n",
       "      <td>...</td>\n",
       "      <td>...</td>\n",
       "      <td>...</td>\n",
       "      <td>...</td>\n",
       "      <td>...</td>\n",
       "      <td>...</td>\n",
       "      <td>...</td>\n",
       "      <td>...</td>\n",
       "      <td>...</td>\n",
       "      <td>...</td>\n",
       "    </tr>\n",
       "    <tr>\n",
       "      <td>5292</td>\n",
       "      <td>50270</td>\n",
       "      <td>улица Эдуарда Стрельцова</td>\n",
       "      <td>1125088386</td>\n",
       "      <td>ул. Эдуарда Стрельцова</td>\n",
       "      <td>ulicza E`duarda Strel`czova</td>\n",
       "      <td>1</td>\n",
       "      <td>NaN</td>\n",
       "      <td>0609</td>\n",
       "      <td>NaN</td>\n",
       "    </tr>\n",
       "    <tr>\n",
       "      <td>5293</td>\n",
       "      <td>50275</td>\n",
       "      <td>улица Виктора Маслова</td>\n",
       "      <td>1125088394</td>\n",
       "      <td>ул. Виктора Маслова</td>\n",
       "      <td>ulicza Viktora Maslova</td>\n",
       "      <td>1</td>\n",
       "      <td>NaN</td>\n",
       "      <td>0609</td>\n",
       "      <td>NaN</td>\n",
       "    </tr>\n",
       "    <tr>\n",
       "      <td>5294</td>\n",
       "      <td>50280</td>\n",
       "      <td>площадь Чайковского</td>\n",
       "      <td>1125088421</td>\n",
       "      <td>пл. Чайковского</td>\n",
       "      <td>ploshhad` Chajkovskogo</td>\n",
       "      <td>4</td>\n",
       "      <td>NaN</td>\n",
       "      <td>0106</td>\n",
       "      <td>NaN</td>\n",
       "    </tr>\n",
       "    <tr>\n",
       "      <td>5295</td>\n",
       "      <td>50285</td>\n",
       "      <td>Бархатный переулок</td>\n",
       "      <td>1125088429</td>\n",
       "      <td>Бархатный пер.</td>\n",
       "      <td>Barxatny`j pereulok</td>\n",
       "      <td>2</td>\n",
       "      <td>NaN</td>\n",
       "      <td>0811</td>\n",
       "      <td>NaN</td>\n",
       "    </tr>\n",
       "    <tr>\n",
       "      <td>5296</td>\n",
       "      <td>50290</td>\n",
       "      <td>площадь Галины Улановой</td>\n",
       "      <td>1125088474</td>\n",
       "      <td>пл. Галины Улановой</td>\n",
       "      <td>ploshhad` Galiny` Ulanovoj</td>\n",
       "      <td>4</td>\n",
       "      <td>NaN</td>\n",
       "      <td>0107</td>\n",
       "      <td>NaN</td>\n",
       "    </tr>\n",
       "  </tbody>\n",
       "</table>\n",
       "<p>5297 rows × 9 columns</p>\n",
       "</div>"
      ],
      "text/plain": [
       "      UM_CODE                  UM_NAMEF   global_id                UM_NAMES  \\\n",
       "0        8880   1-й Ирининский переулок    58481065     1-й Ирининский пер.   \n",
       "1        8890   2-й Ирининский переулок    58481066     2-й Ирининский пер.   \n",
       "2        8891   3-й Ирининский переулок    58481067     3-й Ирининский пер.   \n",
       "3        8910           Иркутская улица    58481068           Иркутская ул.   \n",
       "4        8920      1-й Иртышский проезд    58481069       1-й Иртышский пр.   \n",
       "...       ...                       ...         ...                     ...   \n",
       "5292    50270  улица Эдуарда Стрельцова  1125088386  ул. Эдуарда Стрельцова   \n",
       "5293    50275     улица Виктора Маслова  1125088394     ул. Виктора Маслова   \n",
       "5294    50280       площадь Чайковского  1125088421         пл. Чайковского   \n",
       "5295    50285        Бархатный переулок  1125088429          Бархатный пер.   \n",
       "5296    50290   площадь Галины Улановой  1125088474     пл. Галины Улановой   \n",
       "\n",
       "                         UM_TRANS  UM_TYPE UM_TM UM_TE           UM_KLADR  \n",
       "0     Pervy'j Irininskij pereulok        2   NaN  0102  77000000000706300  \n",
       "1      Vtoroj Irininskij pereulok        2   NaN  0102  77000000000362200  \n",
       "2      Tretij Irininskij pereulok        2   NaN  0102  77000000000362300  \n",
       "3               Irkutskaya ulicza        1   NaN  0406  77000000000139700  \n",
       "4      Pervy'j Irty'shskij proezd        3   NaN  0406  77000000000331600  \n",
       "...                           ...      ...   ...   ...                ...  \n",
       "5292  ulicza E`duarda Strel`czova        1   NaN  0609                NaN  \n",
       "5293       ulicza Viktora Maslova        1   NaN  0609                NaN  \n",
       "5294       ploshhad` Chajkovskogo        4   NaN  0106                NaN  \n",
       "5295          Barxatny`j pereulok        2   NaN  0811                NaN  \n",
       "5296   ploshhad` Galiny` Ulanovoj        4   NaN  0107                NaN  \n",
       "\n",
       "[5297 rows x 9 columns]"
      ]
     },
     "execution_count": 46,
     "metadata": {},
     "output_type": "execute_result"
    }
   ],
   "source": [
    "from io import BytesIO\n",
    "import requests\n",
    "\n",
    "spreadsheet_id = '1xoBMzhEfiDeFqF0rYrG-SVLzqv5I5CH7MowOGhGJ2Do'\n",
    "file_name = 'https://docs.google.com/spreadsheets/d/{}/export?format=csv'.format(spreadsheet_id)\n",
    "r = requests.get(file_name)\n",
    "df = pd.read_csv(BytesIO(r.content), error_bad_lines=False)\n",
    "df"
   ]
  },
  {
   "cell_type": "markdown",
   "metadata": {},
   "source": [
    "## Вывод и рекомендации\n",
    "\n",
    "<a id=\"conclusions_and_recommendations\"></a>"
   ]
  },
  {
   "cell_type": "markdown",
   "metadata": {},
   "source": [
    "Самая большая конкуренция среди:\n",
    "- кафе 6099 ед\n",
    "- столовые 2587 ед\n",
    "- рестораны 2285 ед\n",
    "\n",
    "Процент сетевых точек от общего числа:\n",
    "- Лидерами оказались предприятия быстрого обслуживания с 41,1%\n",
    "- магазины (отдел кулинарии): 28.5% \n",
    "- рестораны: 23,8%\n",
    "\n",
    "Количество сетевых объектов и характерное количество мест для них:\n",
    "- Мало (до 20 мест): 1019\n",
    "- Среднее количество (от 20 до 60): 1085\n",
    "- Большое количество (от 60 до 100): 518\n",
    "- Очень много (от 100 и выше): 346\n",
    "\n",
    "Среднее количество посадочных мест для различных объектов. Мало мест (меньше 20) характерно для:\n",
    "- магазины (отдел кулинарии): 8.68\n",
    "- кафетерий: 12.27\n",
    "- буфет: 12.73\n",
    "- закусочные: 14.38\n",
    "\n",
    "Для предприятий быстрого обслуживания, кафе и баров характерно в среднем 40-55 посадочных мест. А для ресторанов и столовых в среднем больше 100 мест\n",
    "\n",
    "На больших улицах с больше всего объектов, и среднем количеством мест от 50 до 60. Выделяется Кутузовский проспект со средним 85 мест."
   ]
  },
  {
   "cell_type": "markdown",
   "metadata": {},
   "source": [
    "## Ссылки"
   ]
  },
  {
   "cell_type": "markdown",
   "metadata": {},
   "source": [
    "Презентация: <https://disk.yandex.ru/i/1ctCLgBaw1Vajg>"
   ]
  },
  {
   "cell_type": "code",
   "execution_count": null,
   "metadata": {},
   "outputs": [],
   "source": []
  }
 ],
 "metadata": {
  "ExecuteTimeLog": [
   {
    "duration": 1537,
    "start_time": "2021-08-16T20:14:25.241Z"
   },
   {
    "duration": 4,
    "start_time": "2021-08-16T20:14:31.617Z"
   },
   {
    "duration": 461,
    "start_time": "2021-08-16T20:14:37.861Z"
   },
   {
    "duration": 5,
    "start_time": "2021-08-16T20:14:44.529Z"
   },
   {
    "duration": 4,
    "start_time": "2021-08-16T20:14:51.402Z"
   },
   {
    "duration": 4,
    "start_time": "2021-08-16T20:14:56.693Z"
   },
   {
    "duration": 4,
    "start_time": "2021-08-16T20:15:03.315Z"
   },
   {
    "duration": 72,
    "start_time": "2021-08-16T20:15:20.334Z"
   },
   {
    "duration": 968,
    "start_time": "2021-08-17T16:20:06.513Z"
   },
   {
    "duration": 1481,
    "start_time": "2021-08-17T16:20:15.199Z"
   },
   {
    "duration": 3,
    "start_time": "2021-08-17T16:20:16.683Z"
   },
   {
    "duration": 468,
    "start_time": "2021-08-17T16:20:16.688Z"
   },
   {
    "duration": 4,
    "start_time": "2021-08-17T16:20:17.159Z"
   },
   {
    "duration": 10,
    "start_time": "2021-08-17T16:20:17.166Z"
   },
   {
    "duration": 10,
    "start_time": "2021-08-17T16:20:17.179Z"
   },
   {
    "duration": 9,
    "start_time": "2021-08-17T16:20:17.191Z"
   },
   {
    "duration": 7,
    "start_time": "2021-08-17T16:20:17.202Z"
   },
   {
    "duration": 74,
    "start_time": "2021-08-17T16:20:17.212Z"
   },
   {
    "duration": 5,
    "start_time": "2021-08-17T16:22:19.649Z"
   },
   {
    "duration": 13,
    "start_time": "2021-08-17T16:35:26.792Z"
   },
   {
    "duration": 462,
    "start_time": "2021-08-17T16:43:17.507Z"
   },
   {
    "duration": 51,
    "start_time": "2021-08-17T16:43:52.125Z"
   },
   {
    "duration": 27,
    "start_time": "2021-08-17T16:46:07.985Z"
   },
   {
    "duration": 5,
    "start_time": "2021-08-17T16:49:18.601Z"
   },
   {
    "duration": 14,
    "start_time": "2021-08-17T16:49:51.304Z"
   },
   {
    "duration": 1424,
    "start_time": "2021-08-21T18:46:55.516Z"
   },
   {
    "duration": 3,
    "start_time": "2021-08-21T18:46:56.943Z"
   },
   {
    "duration": 459,
    "start_time": "2021-08-21T18:46:56.949Z"
   },
   {
    "duration": 4,
    "start_time": "2021-08-21T18:46:57.411Z"
   },
   {
    "duration": 7,
    "start_time": "2021-08-21T18:46:57.417Z"
   },
   {
    "duration": 7,
    "start_time": "2021-08-21T18:46:57.426Z"
   },
   {
    "duration": 9,
    "start_time": "2021-08-21T18:46:57.435Z"
   },
   {
    "duration": 5,
    "start_time": "2021-08-21T18:46:57.448Z"
   },
   {
    "duration": 6,
    "start_time": "2021-08-21T18:46:57.456Z"
   },
   {
    "duration": 83,
    "start_time": "2021-08-21T18:46:57.464Z"
   },
   {
    "duration": 13,
    "start_time": "2021-08-21T18:46:57.550Z"
   },
   {
    "duration": 65,
    "start_time": "2021-08-21T18:46:57.565Z"
   },
   {
    "duration": 76,
    "start_time": "2021-08-21T18:46:57.632Z"
   },
   {
    "duration": 6,
    "start_time": "2021-08-21T18:46:57.711Z"
   },
   {
    "duration": 21,
    "start_time": "2021-08-21T18:46:57.720Z"
   },
   {
    "duration": 773,
    "start_time": "2021-08-21T18:52:17.086Z"
   },
   {
    "duration": 896,
    "start_time": "2021-08-21T19:11:38.248Z"
   },
   {
    "duration": 610,
    "start_time": "2021-08-21T19:12:52.200Z"
   },
   {
    "duration": 10,
    "start_time": "2021-08-21T19:15:56.100Z"
   },
   {
    "duration": 18,
    "start_time": "2021-08-21T19:16:09.101Z"
   },
   {
    "duration": 374,
    "start_time": "2021-08-21T19:18:56.142Z"
   },
   {
    "duration": 348,
    "start_time": "2021-08-21T19:20:13.474Z"
   },
   {
    "duration": 9,
    "start_time": "2021-08-21T19:20:18.783Z"
   },
   {
    "duration": 21,
    "start_time": "2021-08-21T19:22:29.811Z"
   },
   {
    "duration": 21,
    "start_time": "2021-08-21T19:22:36.864Z"
   },
   {
    "duration": 9,
    "start_time": "2021-08-21T19:24:35.314Z"
   },
   {
    "duration": 558,
    "start_time": "2021-08-21T19:25:57.079Z"
   },
   {
    "duration": 21,
    "start_time": "2021-08-21T19:26:19.000Z"
   },
   {
    "duration": 582,
    "start_time": "2021-08-21T19:29:36.323Z"
   },
   {
    "duration": 368,
    "start_time": "2021-08-21T19:34:06.976Z"
   },
   {
    "duration": 720,
    "start_time": "2021-08-21T19:35:14.277Z"
   },
   {
    "duration": 330,
    "start_time": "2021-08-21T19:36:12.777Z"
   },
   {
    "duration": 384,
    "start_time": "2021-08-21T19:36:27.067Z"
   },
   {
    "duration": 373,
    "start_time": "2021-08-21T19:36:58.971Z"
   },
   {
    "duration": 360,
    "start_time": "2021-08-21T19:37:57.325Z"
   },
   {
    "duration": 380,
    "start_time": "2021-08-21T19:38:05.978Z"
   },
   {
    "duration": 397,
    "start_time": "2021-08-21T19:44:40.537Z"
   },
   {
    "duration": 378,
    "start_time": "2021-08-21T19:44:50.600Z"
   },
   {
    "duration": 364,
    "start_time": "2021-08-21T19:46:14.242Z"
   },
   {
    "duration": 767,
    "start_time": "2021-08-21T19:48:04.316Z"
   },
   {
    "duration": 916,
    "start_time": "2021-08-21T19:48:20.332Z"
   },
   {
    "duration": 382,
    "start_time": "2021-08-21T19:48:59.312Z"
   },
   {
    "duration": 346,
    "start_time": "2021-08-21T19:56:45.447Z"
   },
   {
    "duration": 349,
    "start_time": "2021-08-21T19:57:13.485Z"
   },
   {
    "duration": 384,
    "start_time": "2021-08-21T19:57:32.744Z"
   },
   {
    "duration": 6,
    "start_time": "2021-08-21T20:03:33.860Z"
   },
   {
    "duration": 368,
    "start_time": "2021-08-21T20:06:50.234Z"
   },
   {
    "duration": 323,
    "start_time": "2021-08-21T20:08:38.102Z"
   },
   {
    "duration": 19,
    "start_time": "2021-08-21T20:08:47.142Z"
   },
   {
    "duration": 20,
    "start_time": "2021-08-21T20:10:39.185Z"
   },
   {
    "duration": 27,
    "start_time": "2021-08-21T20:13:07.819Z"
   },
   {
    "duration": 16,
    "start_time": "2021-08-21T20:18:03.755Z"
   },
   {
    "duration": 12,
    "start_time": "2021-08-21T20:18:36.573Z"
   },
   {
    "duration": 12,
    "start_time": "2021-08-21T20:19:05.182Z"
   },
   {
    "duration": 126,
    "start_time": "2021-08-21T20:19:17.439Z"
   },
   {
    "duration": 12,
    "start_time": "2021-08-21T20:19:25.953Z"
   },
   {
    "duration": 388,
    "start_time": "2021-08-21T20:22:11.750Z"
   },
   {
    "duration": 223,
    "start_time": "2021-08-22T09:28:10.277Z"
   },
   {
    "duration": 1075,
    "start_time": "2021-08-22T09:28:16.172Z"
   },
   {
    "duration": 3,
    "start_time": "2021-08-22T09:28:17.249Z"
   },
   {
    "duration": 287,
    "start_time": "2021-08-22T09:28:17.254Z"
   },
   {
    "duration": 4,
    "start_time": "2021-08-22T09:28:17.543Z"
   },
   {
    "duration": 9,
    "start_time": "2021-08-22T09:28:17.548Z"
   },
   {
    "duration": 17,
    "start_time": "2021-08-22T09:28:17.559Z"
   },
   {
    "duration": 20,
    "start_time": "2021-08-22T09:28:17.577Z"
   },
   {
    "duration": 8,
    "start_time": "2021-08-22T09:28:17.599Z"
   },
   {
    "duration": 17,
    "start_time": "2021-08-22T09:28:17.609Z"
   },
   {
    "duration": 68,
    "start_time": "2021-08-22T09:28:17.627Z"
   },
   {
    "duration": 9,
    "start_time": "2021-08-22T09:28:17.697Z"
   },
   {
    "duration": 35,
    "start_time": "2021-08-22T09:28:17.707Z"
   },
   {
    "duration": 54,
    "start_time": "2021-08-22T09:28:17.744Z"
   },
   {
    "duration": 4,
    "start_time": "2021-08-22T09:28:17.800Z"
   },
   {
    "duration": 10,
    "start_time": "2021-08-22T09:28:17.806Z"
   },
   {
    "duration": 296,
    "start_time": "2021-08-22T09:28:17.818Z"
   },
   {
    "duration": -1465,
    "start_time": "2021-08-22T09:28:19.581Z"
   },
   {
    "duration": -1467,
    "start_time": "2021-08-22T09:28:19.584Z"
   },
   {
    "duration": -1474,
    "start_time": "2021-08-22T09:28:19.592Z"
   },
   {
    "duration": -1477,
    "start_time": "2021-08-22T09:28:19.596Z"
   },
   {
    "duration": 13,
    "start_time": "2021-08-22T09:28:57.147Z"
   },
   {
    "duration": 322,
    "start_time": "2021-08-22T09:28:57.987Z"
   },
   {
    "duration": 21,
    "start_time": "2021-08-22T09:29:02.361Z"
   },
   {
    "duration": 6082,
    "start_time": "2021-08-22T09:29:03.205Z"
   },
   {
    "duration": -887,
    "start_time": "2021-08-22T09:29:10.176Z"
   },
   {
    "duration": 11,
    "start_time": "2021-08-22T09:29:49.157Z"
   },
   {
    "duration": 268,
    "start_time": "2021-08-22T09:29:52.201Z"
   },
   {
    "duration": 9,
    "start_time": "2021-08-22T09:29:53.869Z"
   },
   {
    "duration": 11,
    "start_time": "2021-08-22T09:33:03.547Z"
   },
   {
    "duration": 13,
    "start_time": "2021-08-22T09:35:30.318Z"
   },
   {
    "duration": 1077,
    "start_time": "2021-08-22T09:35:46.355Z"
   },
   {
    "duration": 2,
    "start_time": "2021-08-22T09:35:47.434Z"
   },
   {
    "duration": 280,
    "start_time": "2021-08-22T09:35:47.438Z"
   },
   {
    "duration": 3,
    "start_time": "2021-08-22T09:35:47.720Z"
   },
   {
    "duration": 5,
    "start_time": "2021-08-22T09:35:47.725Z"
   },
   {
    "duration": 4,
    "start_time": "2021-08-22T09:35:47.732Z"
   },
   {
    "duration": 4,
    "start_time": "2021-08-22T09:35:47.738Z"
   },
   {
    "duration": 4,
    "start_time": "2021-08-22T09:35:47.745Z"
   },
   {
    "duration": 4,
    "start_time": "2021-08-22T09:35:47.751Z"
   },
   {
    "duration": 60,
    "start_time": "2021-08-22T09:35:47.756Z"
   },
   {
    "duration": 9,
    "start_time": "2021-08-22T09:35:47.817Z"
   },
   {
    "duration": 63,
    "start_time": "2021-08-22T09:35:47.828Z"
   },
   {
    "duration": 19,
    "start_time": "2021-08-22T09:35:47.893Z"
   },
   {
    "duration": 4,
    "start_time": "2021-08-22T09:35:47.914Z"
   },
   {
    "duration": 11,
    "start_time": "2021-08-22T09:35:47.920Z"
   },
   {
    "duration": 13,
    "start_time": "2021-08-22T09:35:47.933Z"
   },
   {
    "duration": 313,
    "start_time": "2021-08-22T09:35:47.947Z"
   },
   {
    "duration": 34,
    "start_time": "2021-08-22T09:35:48.263Z"
   },
   {
    "duration": 12,
    "start_time": "2021-08-22T09:35:48.298Z"
   },
   {
    "duration": 283,
    "start_time": "2021-08-22T09:35:48.312Z"
   },
   {
    "duration": 8,
    "start_time": "2021-08-22T09:35:48.597Z"
   },
   {
    "duration": 30,
    "start_time": "2021-08-22T09:35:48.606Z"
   },
   {
    "duration": 57,
    "start_time": "2021-08-22T09:38:08.989Z"
   },
   {
    "duration": 31538,
    "start_time": "2021-08-22T09:38:21.103Z"
   },
   {
    "duration": 14,
    "start_time": "2021-08-22T09:41:44.958Z"
   },
   {
    "duration": 13,
    "start_time": "2021-08-22T09:42:00.920Z"
   },
   {
    "duration": 13,
    "start_time": "2021-08-22T09:42:06.299Z"
   },
   {
    "duration": 4962,
    "start_time": "2021-08-22T09:42:13.402Z"
   },
   {
    "duration": 1999,
    "start_time": "2021-08-22T09:42:36.810Z"
   },
   {
    "duration": 231,
    "start_time": "2021-08-22T09:44:12.444Z"
   },
   {
    "duration": 184,
    "start_time": "2021-08-22T09:50:18.437Z"
   },
   {
    "duration": 189,
    "start_time": "2021-08-22T09:50:47.614Z"
   },
   {
    "duration": 14,
    "start_time": "2021-08-22T09:51:08.953Z"
   },
   {
    "duration": 14,
    "start_time": "2021-08-22T09:51:25.186Z"
   },
   {
    "duration": 14,
    "start_time": "2021-08-22T09:51:39.117Z"
   },
   {
    "duration": 222,
    "start_time": "2021-08-22T09:52:08.250Z"
   },
   {
    "duration": 252,
    "start_time": "2021-08-22T09:52:19.574Z"
   },
   {
    "duration": 264,
    "start_time": "2021-08-22T09:53:00.098Z"
   },
   {
    "duration": 13,
    "start_time": "2021-08-22T09:56:31.207Z"
   },
   {
    "duration": 230,
    "start_time": "2021-08-22T09:56:43.333Z"
   },
   {
    "duration": 13,
    "start_time": "2021-08-22T10:04:23.777Z"
   },
   {
    "duration": 329,
    "start_time": "2021-08-22T10:10:55.459Z"
   },
   {
    "duration": 13,
    "start_time": "2021-08-22T10:24:42.199Z"
   },
   {
    "duration": 292,
    "start_time": "2021-08-22T10:27:53.762Z"
   },
   {
    "duration": 45,
    "start_time": "2021-08-22T10:28:29.151Z"
   },
   {
    "duration": 14,
    "start_time": "2021-08-22T10:29:11.791Z"
   },
   {
    "duration": 317,
    "start_time": "2021-08-22T10:29:34.127Z"
   },
   {
    "duration": 312,
    "start_time": "2021-08-22T10:30:08.802Z"
   },
   {
    "duration": 233,
    "start_time": "2021-08-22T10:30:26.342Z"
   },
   {
    "duration": 50,
    "start_time": "2021-08-22T10:32:36.133Z"
   },
   {
    "duration": 13,
    "start_time": "2021-08-22T10:32:36.758Z"
   },
   {
    "duration": 220,
    "start_time": "2021-08-22T10:32:37.948Z"
   },
   {
    "duration": 826,
    "start_time": "2021-08-22T10:53:41.221Z"
   },
   {
    "duration": 808,
    "start_time": "2021-08-22T10:54:57.624Z"
   },
   {
    "duration": 3,
    "start_time": "2021-08-22T10:59:05.974Z"
   },
   {
    "duration": 939,
    "start_time": "2021-08-22T10:59:10.425Z"
   },
   {
    "duration": 4,
    "start_time": "2021-08-22T11:05:42.415Z"
   },
   {
    "duration": 902,
    "start_time": "2021-08-22T11:05:43.674Z"
   },
   {
    "duration": 292,
    "start_time": "2021-08-22T11:05:49.986Z"
   },
   {
    "duration": 4,
    "start_time": "2021-08-22T11:05:57.340Z"
   },
   {
    "duration": 916,
    "start_time": "2021-08-22T11:05:59.340Z"
   },
   {
    "duration": 3187,
    "start_time": "2021-08-22T11:08:30.473Z"
   },
   {
    "duration": 4,
    "start_time": "2021-08-22T11:08:33.662Z"
   },
   {
    "duration": 891,
    "start_time": "2021-08-22T11:08:33.668Z"
   },
   {
    "duration": 3663,
    "start_time": "2021-08-22T11:08:55.953Z"
   },
   {
    "duration": 5,
    "start_time": "2021-08-22T11:10:02.068Z"
   },
   {
    "duration": 959,
    "start_time": "2021-08-22T11:10:02.075Z"
   },
   {
    "duration": 4,
    "start_time": "2021-08-22T11:10:09.172Z"
   },
   {
    "duration": 875,
    "start_time": "2021-08-22T11:10:19.137Z"
   },
   {
    "duration": 3,
    "start_time": "2021-08-22T11:10:47.260Z"
   },
   {
    "duration": 851,
    "start_time": "2021-08-22T11:10:48.200Z"
   },
   {
    "duration": 4,
    "start_time": "2021-08-22T11:11:05.763Z"
   },
   {
    "duration": 884,
    "start_time": "2021-08-22T11:11:05.900Z"
   },
   {
    "duration": 3245,
    "start_time": "2021-08-22T11:11:34.229Z"
   },
   {
    "duration": 12,
    "start_time": "2021-08-22T11:11:37.476Z"
   },
   {
    "duration": 920,
    "start_time": "2021-08-22T11:11:37.490Z"
   },
   {
    "duration": 1168,
    "start_time": "2021-08-22T11:12:24.175Z"
   },
   {
    "duration": 2,
    "start_time": "2021-08-22T11:12:25.345Z"
   },
   {
    "duration": 294,
    "start_time": "2021-08-22T11:12:25.349Z"
   },
   {
    "duration": 3,
    "start_time": "2021-08-22T11:12:25.645Z"
   },
   {
    "duration": 6,
    "start_time": "2021-08-22T11:12:25.650Z"
   },
   {
    "duration": 4,
    "start_time": "2021-08-22T11:12:25.658Z"
   },
   {
    "duration": 4,
    "start_time": "2021-08-22T11:12:25.664Z"
   },
   {
    "duration": 4,
    "start_time": "2021-08-22T11:12:25.671Z"
   },
   {
    "duration": 4,
    "start_time": "2021-08-22T11:12:25.677Z"
   },
   {
    "duration": 60,
    "start_time": "2021-08-22T11:12:25.683Z"
   },
   {
    "duration": 9,
    "start_time": "2021-08-22T11:12:25.745Z"
   },
   {
    "duration": 49,
    "start_time": "2021-08-22T11:12:25.756Z"
   },
   {
    "duration": 19,
    "start_time": "2021-08-22T11:12:25.806Z"
   },
   {
    "duration": 4,
    "start_time": "2021-08-22T11:12:25.827Z"
   },
   {
    "duration": 12,
    "start_time": "2021-08-22T11:12:25.832Z"
   },
   {
    "duration": 51,
    "start_time": "2021-08-22T11:12:25.846Z"
   },
   {
    "duration": 287,
    "start_time": "2021-08-22T11:12:25.899Z"
   },
   {
    "duration": 21,
    "start_time": "2021-08-22T11:12:26.188Z"
   },
   {
    "duration": 10,
    "start_time": "2021-08-22T11:12:26.211Z"
   },
   {
    "duration": 298,
    "start_time": "2021-08-22T11:12:26.222Z"
   },
   {
    "duration": 12,
    "start_time": "2021-08-22T11:12:26.522Z"
   },
   {
    "duration": 63,
    "start_time": "2021-08-22T11:12:26.536Z"
   },
   {
    "duration": 13,
    "start_time": "2021-08-22T11:12:26.602Z"
   },
   {
    "duration": 243,
    "start_time": "2021-08-22T11:12:26.617Z"
   },
   {
    "duration": 13,
    "start_time": "2021-08-22T11:12:26.862Z"
   },
   {
    "duration": 263,
    "start_time": "2021-08-22T11:12:26.876Z"
   },
   {
    "duration": 3110,
    "start_time": "2021-08-22T11:12:27.141Z"
   },
   {
    "duration": 5,
    "start_time": "2021-08-22T11:12:30.254Z"
   },
   {
    "duration": 1029,
    "start_time": "2021-08-22T11:12:30.261Z"
   },
   {
    "duration": 1088,
    "start_time": "2021-08-22T11:12:56.888Z"
   },
   {
    "duration": 3,
    "start_time": "2021-08-22T11:12:57.977Z"
   },
   {
    "duration": 279,
    "start_time": "2021-08-22T11:12:57.981Z"
   },
   {
    "duration": 3,
    "start_time": "2021-08-22T11:12:58.262Z"
   },
   {
    "duration": 5,
    "start_time": "2021-08-22T11:12:58.267Z"
   },
   {
    "duration": 4,
    "start_time": "2021-08-22T11:12:58.274Z"
   },
   {
    "duration": 5,
    "start_time": "2021-08-22T11:12:58.280Z"
   },
   {
    "duration": 4,
    "start_time": "2021-08-22T11:12:58.287Z"
   },
   {
    "duration": 10,
    "start_time": "2021-08-22T11:12:58.293Z"
   },
   {
    "duration": 57,
    "start_time": "2021-08-22T11:12:58.305Z"
   },
   {
    "duration": 8,
    "start_time": "2021-08-22T11:12:58.364Z"
   },
   {
    "duration": 41,
    "start_time": "2021-08-22T11:12:58.374Z"
   },
   {
    "duration": 17,
    "start_time": "2021-08-22T11:12:58.417Z"
   },
   {
    "duration": 4,
    "start_time": "2021-08-22T11:12:58.435Z"
   },
   {
    "duration": 46,
    "start_time": "2021-08-22T11:12:58.441Z"
   },
   {
    "duration": 14,
    "start_time": "2021-08-22T11:12:58.488Z"
   },
   {
    "duration": 275,
    "start_time": "2021-08-22T11:12:58.504Z"
   },
   {
    "duration": 22,
    "start_time": "2021-08-22T11:12:58.780Z"
   },
   {
    "duration": 10,
    "start_time": "2021-08-22T11:12:58.803Z"
   },
   {
    "duration": 287,
    "start_time": "2021-08-22T11:12:58.814Z"
   },
   {
    "duration": 12,
    "start_time": "2021-08-22T11:12:59.102Z"
   },
   {
    "duration": 47,
    "start_time": "2021-08-22T11:12:59.115Z"
   },
   {
    "duration": 25,
    "start_time": "2021-08-22T11:12:59.165Z"
   },
   {
    "duration": 233,
    "start_time": "2021-08-22T11:12:59.191Z"
   },
   {
    "duration": 12,
    "start_time": "2021-08-22T11:12:59.425Z"
   },
   {
    "duration": 257,
    "start_time": "2021-08-22T11:12:59.439Z"
   },
   {
    "duration": 4,
    "start_time": "2021-08-22T11:12:59.698Z"
   },
   {
    "duration": 1002,
    "start_time": "2021-08-22T11:12:59.703Z"
   },
   {
    "duration": 3,
    "start_time": "2021-08-22T11:19:10.930Z"
   },
   {
    "duration": 191,
    "start_time": "2021-08-22T11:19:13.733Z"
   },
   {
    "duration": 1082,
    "start_time": "2021-08-22T11:19:35.752Z"
   },
   {
    "duration": 3,
    "start_time": "2021-08-22T11:19:36.836Z"
   },
   {
    "duration": 279,
    "start_time": "2021-08-22T11:19:36.841Z"
   },
   {
    "duration": 3,
    "start_time": "2021-08-22T11:19:37.122Z"
   },
   {
    "duration": 5,
    "start_time": "2021-08-22T11:19:37.127Z"
   },
   {
    "duration": 8,
    "start_time": "2021-08-22T11:19:37.134Z"
   },
   {
    "duration": 4,
    "start_time": "2021-08-22T11:19:37.144Z"
   },
   {
    "duration": 4,
    "start_time": "2021-08-22T11:19:37.150Z"
   },
   {
    "duration": 4,
    "start_time": "2021-08-22T11:19:37.156Z"
   },
   {
    "duration": 59,
    "start_time": "2021-08-22T11:19:37.161Z"
   },
   {
    "duration": 7,
    "start_time": "2021-08-22T11:19:37.222Z"
   },
   {
    "duration": 58,
    "start_time": "2021-08-22T11:19:37.231Z"
   },
   {
    "duration": 17,
    "start_time": "2021-08-22T11:19:37.290Z"
   },
   {
    "duration": 3,
    "start_time": "2021-08-22T11:19:37.309Z"
   },
   {
    "duration": 10,
    "start_time": "2021-08-22T11:19:37.313Z"
   },
   {
    "duration": 13,
    "start_time": "2021-08-22T11:19:37.325Z"
   },
   {
    "duration": 295,
    "start_time": "2021-08-22T11:19:37.339Z"
   },
   {
    "duration": 20,
    "start_time": "2021-08-22T11:19:37.635Z"
   },
   {
    "duration": 9,
    "start_time": "2021-08-22T11:19:37.657Z"
   },
   {
    "duration": 268,
    "start_time": "2021-08-22T11:19:37.685Z"
   },
   {
    "duration": 11,
    "start_time": "2021-08-22T11:19:37.955Z"
   },
   {
    "duration": 49,
    "start_time": "2021-08-22T11:19:37.968Z"
   },
   {
    "duration": 12,
    "start_time": "2021-08-22T11:19:38.019Z"
   },
   {
    "duration": 233,
    "start_time": "2021-08-22T11:19:38.032Z"
   },
   {
    "duration": 23,
    "start_time": "2021-08-22T11:19:38.267Z"
   },
   {
    "duration": 247,
    "start_time": "2021-08-22T11:19:38.291Z"
   },
   {
    "duration": 3,
    "start_time": "2021-08-22T11:19:38.540Z"
   },
   {
    "duration": 298,
    "start_time": "2021-08-22T11:19:38.544Z"
   },
   {
    "duration": 3,
    "start_time": "2021-08-22T11:29:12.816Z"
   },
   {
    "duration": 177,
    "start_time": "2021-08-22T11:29:14.812Z"
   },
   {
    "duration": 2,
    "start_time": "2021-08-22T11:30:47.285Z"
   },
   {
    "duration": 201,
    "start_time": "2021-08-22T11:38:05.540Z"
   },
   {
    "duration": 19,
    "start_time": "2021-08-22T11:38:24.496Z"
   },
   {
    "duration": 17,
    "start_time": "2021-08-22T11:38:33.722Z"
   },
   {
    "duration": 17,
    "start_time": "2021-08-22T11:38:43.060Z"
   },
   {
    "duration": 16,
    "start_time": "2021-08-22T11:38:56.718Z"
   },
   {
    "duration": 5425,
    "start_time": "2021-08-22T11:46:21.248Z"
   },
   {
    "duration": 20,
    "start_time": "2021-08-22T11:47:04.002Z"
   },
   {
    "duration": 204,
    "start_time": "2021-08-22T11:47:35.496Z"
   },
   {
    "duration": 183,
    "start_time": "2021-08-22T11:48:15.289Z"
   },
   {
    "duration": 17,
    "start_time": "2021-08-22T11:48:43.439Z"
   },
   {
    "duration": 8,
    "start_time": "2021-08-22T11:49:07.623Z"
   },
   {
    "duration": 7,
    "start_time": "2021-08-22T11:52:41.242Z"
   },
   {
    "duration": 16,
    "start_time": "2021-08-22T12:00:59.276Z"
   },
   {
    "duration": 1095,
    "start_time": "2021-08-22T12:21:21.957Z"
   },
   {
    "duration": 2,
    "start_time": "2021-08-22T12:21:23.054Z"
   },
   {
    "duration": 294,
    "start_time": "2021-08-22T12:21:23.059Z"
   },
   {
    "duration": 3,
    "start_time": "2021-08-22T12:21:23.356Z"
   },
   {
    "duration": 8,
    "start_time": "2021-08-22T12:21:23.361Z"
   },
   {
    "duration": 8,
    "start_time": "2021-08-22T12:21:23.370Z"
   },
   {
    "duration": 6,
    "start_time": "2021-08-22T12:21:23.380Z"
   },
   {
    "duration": 5,
    "start_time": "2021-08-22T12:21:23.388Z"
   },
   {
    "duration": 5,
    "start_time": "2021-08-22T12:21:23.395Z"
   },
   {
    "duration": 8,
    "start_time": "2021-08-22T12:21:23.402Z"
   },
   {
    "duration": 59,
    "start_time": "2021-08-22T12:21:23.412Z"
   },
   {
    "duration": 9,
    "start_time": "2021-08-22T12:21:23.473Z"
   },
   {
    "duration": 38,
    "start_time": "2021-08-22T12:21:23.484Z"
   },
   {
    "duration": 18,
    "start_time": "2021-08-22T12:21:23.524Z"
   },
   {
    "duration": 4,
    "start_time": "2021-08-22T12:21:23.543Z"
   },
   {
    "duration": 45,
    "start_time": "2021-08-22T12:21:23.548Z"
   },
   {
    "duration": 14,
    "start_time": "2021-08-22T12:21:23.595Z"
   },
   {
    "duration": 295,
    "start_time": "2021-08-22T12:21:23.611Z"
   },
   {
    "duration": 21,
    "start_time": "2021-08-22T12:21:23.908Z"
   },
   {
    "duration": 10,
    "start_time": "2021-08-22T12:21:23.930Z"
   },
   {
    "duration": 291,
    "start_time": "2021-08-22T12:21:23.942Z"
   },
   {
    "duration": 13,
    "start_time": "2021-08-22T12:21:24.235Z"
   },
   {
    "duration": 60,
    "start_time": "2021-08-22T12:21:24.251Z"
   },
   {
    "duration": 13,
    "start_time": "2021-08-22T12:21:24.313Z"
   },
   {
    "duration": 250,
    "start_time": "2021-08-22T12:21:24.328Z"
   },
   {
    "duration": 16,
    "start_time": "2021-08-22T12:21:24.579Z"
   },
   {
    "duration": 266,
    "start_time": "2021-08-22T12:21:24.596Z"
   },
   {
    "duration": 4,
    "start_time": "2021-08-22T12:21:24.863Z"
   },
   {
    "duration": 188,
    "start_time": "2021-08-22T12:21:24.869Z"
   },
   {
    "duration": 27,
    "start_time": "2021-08-22T12:21:25.059Z"
   },
   {
    "duration": 7,
    "start_time": "2021-08-22T12:21:25.088Z"
   },
   {
    "duration": 6,
    "start_time": "2021-08-22T12:21:25.097Z"
   },
   {
    "duration": 19,
    "start_time": "2021-08-22T12:21:25.104Z"
   },
   {
    "duration": 15,
    "start_time": "2021-08-22T12:57:16.699Z"
   },
   {
    "duration": 15,
    "start_time": "2021-08-22T12:57:32.965Z"
   },
   {
    "duration": 15,
    "start_time": "2021-08-22T12:57:39.792Z"
   },
   {
    "duration": 267,
    "start_time": "2021-08-22T12:59:31.620Z"
   },
   {
    "duration": 15,
    "start_time": "2021-08-22T13:00:09.737Z"
   },
   {
    "duration": 333,
    "start_time": "2021-08-22T13:00:14.319Z"
   },
   {
    "duration": 15,
    "start_time": "2021-08-22T13:00:18.111Z"
   },
   {
    "duration": 223,
    "start_time": "2021-08-22T13:33:40.046Z"
   },
   {
    "duration": 1179,
    "start_time": "2021-08-23T07:51:12.619Z"
   },
   {
    "duration": 3,
    "start_time": "2021-08-23T07:51:13.800Z"
   },
   {
    "duration": 38205,
    "start_time": "2021-08-23T07:51:13.805Z"
   },
   {
    "duration": 3,
    "start_time": "2021-08-23T07:51:52.012Z"
   },
   {
    "duration": 8,
    "start_time": "2021-08-23T07:51:52.017Z"
   },
   {
    "duration": 7,
    "start_time": "2021-08-23T07:51:52.027Z"
   },
   {
    "duration": 7,
    "start_time": "2021-08-23T07:51:52.035Z"
   },
   {
    "duration": 5,
    "start_time": "2021-08-23T07:51:52.043Z"
   },
   {
    "duration": 7,
    "start_time": "2021-08-23T07:51:52.050Z"
   },
   {
    "duration": 5,
    "start_time": "2021-08-23T07:51:52.059Z"
   },
   {
    "duration": 58,
    "start_time": "2021-08-23T07:51:52.066Z"
   },
   {
    "duration": 8,
    "start_time": "2021-08-23T07:51:52.125Z"
   },
   {
    "duration": 36,
    "start_time": "2021-08-23T07:51:52.134Z"
   },
   {
    "duration": 16,
    "start_time": "2021-08-23T07:51:52.171Z"
   },
   {
    "duration": 3,
    "start_time": "2021-08-23T07:51:52.189Z"
   },
   {
    "duration": 13,
    "start_time": "2021-08-23T07:51:52.194Z"
   },
   {
    "duration": 44,
    "start_time": "2021-08-23T07:51:52.208Z"
   },
   {
    "duration": 246,
    "start_time": "2021-08-23T07:51:52.254Z"
   },
   {
    "duration": 20,
    "start_time": "2021-08-23T07:51:52.501Z"
   },
   {
    "duration": 25,
    "start_time": "2021-08-23T07:51:52.523Z"
   },
   {
    "duration": 239,
    "start_time": "2021-08-23T07:51:52.550Z"
   },
   {
    "duration": 12,
    "start_time": "2021-08-23T07:51:52.791Z"
   },
   {
    "duration": 63,
    "start_time": "2021-08-23T07:51:52.805Z"
   },
   {
    "duration": 12,
    "start_time": "2021-08-23T07:51:52.870Z"
   },
   {
    "duration": 215,
    "start_time": "2021-08-23T07:51:52.883Z"
   },
   {
    "duration": 13,
    "start_time": "2021-08-23T07:51:53.100Z"
   },
   {
    "duration": 231,
    "start_time": "2021-08-23T07:51:53.116Z"
   },
   {
    "duration": 3,
    "start_time": "2021-08-23T07:51:53.349Z"
   },
   {
    "duration": 183,
    "start_time": "2021-08-23T07:51:53.354Z"
   },
   {
    "duration": 18,
    "start_time": "2021-08-23T07:51:53.539Z"
   },
   {
    "duration": 7,
    "start_time": "2021-08-23T07:51:53.559Z"
   },
   {
    "duration": 6,
    "start_time": "2021-08-23T07:51:53.568Z"
   },
   {
    "duration": 14,
    "start_time": "2021-08-23T07:51:53.576Z"
   },
   {
    "duration": 110,
    "start_time": "2021-08-24T15:18:03.391Z"
   },
   {
    "duration": 1599,
    "start_time": "2021-08-24T15:18:10.331Z"
   },
   {
    "duration": 4,
    "start_time": "2021-08-24T15:18:11.932Z"
   },
   {
    "duration": 2134,
    "start_time": "2021-08-24T15:18:11.940Z"
   },
   {
    "duration": 5,
    "start_time": "2021-08-24T15:18:14.078Z"
   },
   {
    "duration": 9,
    "start_time": "2021-08-24T15:18:14.086Z"
   },
   {
    "duration": 10,
    "start_time": "2021-08-24T15:18:14.097Z"
   },
   {
    "duration": 12,
    "start_time": "2021-08-24T15:18:14.109Z"
   },
   {
    "duration": 10,
    "start_time": "2021-08-24T15:18:14.124Z"
   },
   {
    "duration": 4,
    "start_time": "2021-08-24T15:18:14.159Z"
   },
   {
    "duration": 17,
    "start_time": "2021-08-24T15:18:14.167Z"
   },
   {
    "duration": 171,
    "start_time": "2021-08-24T15:18:14.186Z"
   },
   {
    "duration": 17,
    "start_time": "2021-08-24T15:18:14.360Z"
   },
   {
    "duration": 118,
    "start_time": "2021-08-24T15:18:14.380Z"
   },
   {
    "duration": 79,
    "start_time": "2021-08-24T15:18:14.500Z"
   },
   {
    "duration": 151,
    "start_time": "2021-08-24T15:18:14.581Z"
   },
   {
    "duration": 935,
    "start_time": "2021-08-24T15:18:13.800Z"
   },
   {
    "duration": 919,
    "start_time": "2021-08-24T15:18:13.817Z"
   },
   {
    "duration": 917,
    "start_time": "2021-08-24T15:18:13.820Z"
   },
   {
    "duration": 917,
    "start_time": "2021-08-24T15:18:13.822Z"
   },
   {
    "duration": 927,
    "start_time": "2021-08-24T15:18:13.828Z"
   },
   {
    "duration": 910,
    "start_time": "2021-08-24T15:18:13.847Z"
   },
   {
    "duration": 908,
    "start_time": "2021-08-24T15:18:13.850Z"
   },
   {
    "duration": 909,
    "start_time": "2021-08-24T15:18:13.851Z"
   },
   {
    "duration": 909,
    "start_time": "2021-08-24T15:18:13.853Z"
   },
   {
    "duration": 907,
    "start_time": "2021-08-24T15:18:13.856Z"
   },
   {
    "duration": 902,
    "start_time": "2021-08-24T15:18:13.863Z"
   },
   {
    "duration": 901,
    "start_time": "2021-08-24T15:18:13.865Z"
   },
   {
    "duration": 900,
    "start_time": "2021-08-24T15:18:13.868Z"
   },
   {
    "duration": 899,
    "start_time": "2021-08-24T15:18:13.870Z"
   },
   {
    "duration": 899,
    "start_time": "2021-08-24T15:18:13.872Z"
   },
   {
    "duration": 893,
    "start_time": "2021-08-24T15:18:13.880Z"
   },
   {
    "duration": 891,
    "start_time": "2021-08-24T15:18:13.883Z"
   },
   {
    "duration": 890,
    "start_time": "2021-08-24T15:18:13.886Z"
   },
   {
    "duration": 883,
    "start_time": "2021-08-24T15:18:13.895Z"
   },
   {
    "duration": 89,
    "start_time": "2021-08-24T15:18:23.620Z"
   },
   {
    "duration": 23,
    "start_time": "2021-08-24T15:18:27.304Z"
   },
   {
    "duration": 20,
    "start_time": "2021-08-24T15:19:41.999Z"
   },
   {
    "duration": 27,
    "start_time": "2021-08-24T15:22:33.674Z"
   },
   {
    "duration": 17,
    "start_time": "2021-08-24T15:23:16.721Z"
   },
   {
    "duration": 93,
    "start_time": "2021-08-24T15:25:33.991Z"
   },
   {
    "duration": 2055,
    "start_time": "2021-08-24T15:26:42.924Z"
   },
   {
    "duration": 4,
    "start_time": "2021-08-24T15:26:44.983Z"
   },
   {
    "duration": 622,
    "start_time": "2021-08-24T15:26:44.991Z"
   },
   {
    "duration": 4,
    "start_time": "2021-08-24T15:26:45.617Z"
   },
   {
    "duration": 8,
    "start_time": "2021-08-24T15:26:45.624Z"
   },
   {
    "duration": 8,
    "start_time": "2021-08-24T15:26:45.634Z"
   },
   {
    "duration": 12,
    "start_time": "2021-08-24T15:26:45.645Z"
   },
   {
    "duration": 6,
    "start_time": "2021-08-24T15:26:45.661Z"
   },
   {
    "duration": 6,
    "start_time": "2021-08-24T15:26:45.670Z"
   },
   {
    "duration": 6,
    "start_time": "2021-08-24T15:26:45.678Z"
   },
   {
    "duration": 87,
    "start_time": "2021-08-24T15:26:45.687Z"
   },
   {
    "duration": 12,
    "start_time": "2021-08-24T15:26:45.776Z"
   },
   {
    "duration": 85,
    "start_time": "2021-08-24T15:26:45.790Z"
   },
   {
    "duration": 25,
    "start_time": "2021-08-24T15:26:45.877Z"
   },
   {
    "duration": 64,
    "start_time": "2021-08-24T15:26:45.904Z"
   },
   {
    "duration": 25,
    "start_time": "2021-08-24T15:26:45.971Z"
   },
   {
    "duration": 5,
    "start_time": "2021-08-24T15:26:45.998Z"
   },
   {
    "duration": 54,
    "start_time": "2021-08-24T15:26:46.005Z"
   },
   {
    "duration": 21,
    "start_time": "2021-08-24T15:26:46.061Z"
   },
   {
    "duration": 427,
    "start_time": "2021-08-24T15:26:46.085Z"
   },
   {
    "duration": 43,
    "start_time": "2021-08-24T15:26:46.514Z"
   },
   {
    "duration": 14,
    "start_time": "2021-08-24T15:26:46.559Z"
   },
   {
    "duration": 438,
    "start_time": "2021-08-24T15:26:46.578Z"
   },
   {
    "duration": 17,
    "start_time": "2021-08-24T15:26:47.019Z"
   },
   {
    "duration": 85,
    "start_time": "2021-08-24T15:26:47.039Z"
   },
   {
    "duration": 40,
    "start_time": "2021-08-24T15:26:47.127Z"
   },
   {
    "duration": 359,
    "start_time": "2021-08-24T15:26:47.169Z"
   },
   {
    "duration": 33,
    "start_time": "2021-08-24T15:26:47.530Z"
   },
   {
    "duration": 391,
    "start_time": "2021-08-24T15:26:47.565Z"
   },
   {
    "duration": 5,
    "start_time": "2021-08-24T15:26:47.958Z"
   },
   {
    "duration": 275,
    "start_time": "2021-08-24T15:26:47.965Z"
   },
   {
    "duration": 37,
    "start_time": "2021-08-24T15:26:48.242Z"
   },
   {
    "duration": 11,
    "start_time": "2021-08-24T15:26:48.281Z"
   },
   {
    "duration": 14,
    "start_time": "2021-08-24T15:26:48.294Z"
   },
   {
    "duration": 57,
    "start_time": "2021-08-24T15:26:48.310Z"
   },
   {
    "duration": 1080,
    "start_time": "2021-08-24T15:28:44.036Z"
   },
   {
    "duration": 7654,
    "start_time": "2021-08-24T15:28:59.061Z"
   },
   {
    "duration": 445,
    "start_time": "2021-08-24T15:31:06.820Z"
   },
   {
    "duration": 27,
    "start_time": "2021-08-24T15:32:12.486Z"
   },
   {
    "duration": 423,
    "start_time": "2021-08-24T15:32:23.027Z"
   },
   {
    "duration": 114,
    "start_time": "2021-08-24T16:08:55.643Z"
   },
   {
    "duration": 102,
    "start_time": "2021-08-24T16:10:37.251Z"
   },
   {
    "duration": 101,
    "start_time": "2021-08-24T16:11:15.118Z"
   },
   {
    "duration": 104,
    "start_time": "2021-08-24T16:11:21.270Z"
   },
   {
    "duration": 98,
    "start_time": "2021-08-24T16:12:41.081Z"
   },
   {
    "duration": 2679,
    "start_time": "2021-08-24T16:17:49.206Z"
   },
   {
    "duration": 6247,
    "start_time": "2021-08-24T16:18:12.344Z"
   },
   {
    "duration": 288,
    "start_time": "2021-08-24T16:18:33.546Z"
   },
   {
    "duration": 6292,
    "start_time": "2021-08-24T16:26:56.965Z"
   },
   {
    "duration": 5241,
    "start_time": "2021-08-24T16:29:39.536Z"
   },
   {
    "duration": 142,
    "start_time": "2021-08-24T16:37:05.418Z"
   },
   {
    "duration": 107,
    "start_time": "2021-08-24T16:37:53.322Z"
   },
   {
    "duration": 1611,
    "start_time": "2021-08-24T16:38:25.865Z"
   },
   {
    "duration": 3,
    "start_time": "2021-08-24T16:38:27.478Z"
   },
   {
    "duration": 520,
    "start_time": "2021-08-24T16:38:27.484Z"
   },
   {
    "duration": 4,
    "start_time": "2021-08-24T16:38:28.007Z"
   },
   {
    "duration": 12,
    "start_time": "2021-08-24T16:38:28.014Z"
   },
   {
    "duration": 7,
    "start_time": "2021-08-24T16:38:28.029Z"
   },
   {
    "duration": 9,
    "start_time": "2021-08-24T16:38:28.039Z"
   },
   {
    "duration": 8,
    "start_time": "2021-08-24T16:38:28.051Z"
   },
   {
    "duration": 9,
    "start_time": "2021-08-24T16:38:28.062Z"
   },
   {
    "duration": 20,
    "start_time": "2021-08-24T16:38:28.073Z"
   },
   {
    "duration": 82,
    "start_time": "2021-08-24T16:38:28.095Z"
   },
   {
    "duration": 12,
    "start_time": "2021-08-24T16:38:28.180Z"
   },
   {
    "duration": 85,
    "start_time": "2021-08-24T16:38:28.194Z"
   },
   {
    "duration": 25,
    "start_time": "2021-08-24T16:38:28.282Z"
   },
   {
    "duration": 58,
    "start_time": "2021-08-24T16:38:28.310Z"
   },
   {
    "duration": 28,
    "start_time": "2021-08-24T16:38:28.370Z"
   },
   {
    "duration": 5,
    "start_time": "2021-08-24T16:38:28.400Z"
   },
   {
    "duration": 16,
    "start_time": "2021-08-24T16:38:28.407Z"
   },
   {
    "duration": 52,
    "start_time": "2021-08-24T16:38:28.426Z"
   },
   {
    "duration": 428,
    "start_time": "2021-08-24T16:38:28.480Z"
   },
   {
    "duration": 45,
    "start_time": "2021-08-24T16:38:28.910Z"
   },
   {
    "duration": 14,
    "start_time": "2021-08-24T16:38:28.958Z"
   },
   {
    "duration": 464,
    "start_time": "2021-08-24T16:38:28.977Z"
   },
   {
    "duration": 27,
    "start_time": "2021-08-24T16:38:29.444Z"
   },
   {
    "duration": 91,
    "start_time": "2021-08-24T16:38:29.474Z"
   },
   {
    "duration": 20,
    "start_time": "2021-08-24T16:38:29.567Z"
   },
   {
    "duration": 380,
    "start_time": "2021-08-24T16:38:29.589Z"
   },
   {
    "duration": 19,
    "start_time": "2021-08-24T16:38:29.971Z"
   },
   {
    "duration": 417,
    "start_time": "2021-08-24T16:38:29.992Z"
   },
   {
    "duration": 5,
    "start_time": "2021-08-24T16:38:30.412Z"
   },
   {
    "duration": 277,
    "start_time": "2021-08-24T16:38:30.419Z"
   },
   {
    "duration": 30,
    "start_time": "2021-08-24T16:38:30.698Z"
   },
   {
    "duration": 470,
    "start_time": "2021-08-24T16:38:30.730Z"
   },
   {
    "duration": 11,
    "start_time": "2021-08-24T16:38:31.202Z"
   },
   {
    "duration": 19,
    "start_time": "2021-08-24T16:38:31.215Z"
   },
   {
    "duration": 39,
    "start_time": "2021-08-24T16:38:31.236Z"
   },
   {
    "duration": 26,
    "start_time": "2021-08-24T16:38:31.277Z"
   },
   {
    "duration": 165,
    "start_time": "2021-08-24T16:38:31.306Z"
   },
   {
    "duration": 88,
    "start_time": "2021-08-24T16:43:49.914Z"
   },
   {
    "duration": 6285,
    "start_time": "2021-08-24T16:50:53.027Z"
   },
   {
    "duration": 7175,
    "start_time": "2021-08-24T16:51:49.324Z"
   },
   {
    "duration": 5014,
    "start_time": "2021-08-24T16:53:39.497Z"
   },
   {
    "duration": 5537,
    "start_time": "2021-08-24T16:54:33.998Z"
   },
   {
    "duration": 4861,
    "start_time": "2021-08-24T16:56:46.892Z"
   },
   {
    "duration": 1487,
    "start_time": "2021-08-24T17:02:07.247Z"
   },
   {
    "duration": 3,
    "start_time": "2021-08-24T17:02:08.737Z"
   },
   {
    "duration": 645,
    "start_time": "2021-08-24T17:02:08.744Z"
   },
   {
    "duration": 4,
    "start_time": "2021-08-24T17:02:09.392Z"
   },
   {
    "duration": 9,
    "start_time": "2021-08-24T17:02:09.399Z"
   },
   {
    "duration": 7,
    "start_time": "2021-08-24T17:02:09.411Z"
   },
   {
    "duration": 7,
    "start_time": "2021-08-24T17:02:09.421Z"
   },
   {
    "duration": 7,
    "start_time": "2021-08-24T17:02:09.432Z"
   },
   {
    "duration": 16,
    "start_time": "2021-08-24T17:02:09.442Z"
   },
   {
    "duration": 15,
    "start_time": "2021-08-24T17:02:09.461Z"
   },
   {
    "duration": 79,
    "start_time": "2021-08-24T17:02:09.478Z"
   },
   {
    "duration": 12,
    "start_time": "2021-08-24T17:02:09.559Z"
   },
   {
    "duration": 98,
    "start_time": "2021-08-24T17:02:09.574Z"
   },
   {
    "duration": 26,
    "start_time": "2021-08-24T17:02:09.675Z"
   },
   {
    "duration": 64,
    "start_time": "2021-08-24T17:02:09.703Z"
   },
   {
    "duration": 27,
    "start_time": "2021-08-24T17:02:09.770Z"
   },
   {
    "duration": 5,
    "start_time": "2021-08-24T17:02:09.800Z"
   },
   {
    "duration": 53,
    "start_time": "2021-08-24T17:02:09.807Z"
   },
   {
    "duration": 22,
    "start_time": "2021-08-24T17:02:09.862Z"
   },
   {
    "duration": 442,
    "start_time": "2021-08-24T17:02:09.887Z"
   },
   {
    "duration": 42,
    "start_time": "2021-08-24T17:02:10.331Z"
   },
   {
    "duration": 20,
    "start_time": "2021-08-24T17:02:10.375Z"
   },
   {
    "duration": 456,
    "start_time": "2021-08-24T17:02:10.400Z"
   },
   {
    "duration": 20,
    "start_time": "2021-08-24T17:02:10.860Z"
   },
   {
    "duration": 106,
    "start_time": "2021-08-24T17:02:10.882Z"
   },
   {
    "duration": 20,
    "start_time": "2021-08-24T17:02:10.990Z"
   },
   {
    "duration": 370,
    "start_time": "2021-08-24T17:02:11.013Z"
   },
   {
    "duration": 19,
    "start_time": "2021-08-24T17:02:11.385Z"
   },
   {
    "duration": 397,
    "start_time": "2021-08-24T17:02:11.406Z"
   },
   {
    "duration": 4,
    "start_time": "2021-08-24T17:02:11.805Z"
   },
   {
    "duration": 267,
    "start_time": "2021-08-24T17:02:11.812Z"
   },
   {
    "duration": 28,
    "start_time": "2021-08-24T17:02:12.081Z"
   },
   {
    "duration": 449,
    "start_time": "2021-08-24T17:02:12.112Z"
   },
   {
    "duration": 10,
    "start_time": "2021-08-24T17:02:12.564Z"
   },
   {
    "duration": 15,
    "start_time": "2021-08-24T17:02:12.577Z"
   },
   {
    "duration": 30,
    "start_time": "2021-08-24T17:02:12.594Z"
   },
   {
    "duration": 5629,
    "start_time": "2021-08-24T17:02:12.627Z"
   },
   {
    "duration": 1141,
    "start_time": "2021-08-24T17:02:17.118Z"
   },
   {
    "duration": 98,
    "start_time": "2021-08-24T17:02:26.044Z"
   },
   {
    "duration": 133,
    "start_time": "2021-08-24T17:05:09.512Z"
   },
   {
    "duration": 6040,
    "start_time": "2021-08-24T17:05:11.200Z"
   },
   {
    "duration": 105,
    "start_time": "2021-08-24T17:05:29.547Z"
   },
   {
    "duration": 7300,
    "start_time": "2021-08-24T17:07:49.704Z"
   },
   {
    "duration": 4,
    "start_time": "2021-08-24T17:09:20.565Z"
   },
   {
    "duration": 7152,
    "start_time": "2021-08-24T17:09:22.855Z"
   },
   {
    "duration": -132,
    "start_time": "2021-08-24T17:09:30.142Z"
   },
   {
    "duration": 5282,
    "start_time": "2021-08-24T17:10:08.559Z"
   },
   {
    "duration": 6079,
    "start_time": "2021-08-24T17:12:22.616Z"
   },
   {
    "duration": 5325,
    "start_time": "2021-08-24T17:19:39.281Z"
   },
   {
    "duration": 15952,
    "start_time": "2021-08-24T17:20:00.405Z"
   },
   {
    "duration": 6907,
    "start_time": "2021-08-24T17:22:13.489Z"
   },
   {
    "duration": 496,
    "start_time": "2021-08-24T17:23:15.381Z"
   },
   {
    "duration": 496,
    "start_time": "2021-08-24T17:24:40.528Z"
   },
   {
    "duration": 531,
    "start_time": "2021-08-24T17:27:35.026Z"
   },
   {
    "duration": 440,
    "start_time": "2021-08-24T17:27:44.873Z"
   },
   {
    "duration": 556,
    "start_time": "2021-08-24T17:29:13.371Z"
   },
   {
    "duration": 463,
    "start_time": "2021-08-24T17:29:22.614Z"
   },
   {
    "duration": 1447,
    "start_time": "2021-08-24T17:34:33.670Z"
   },
   {
    "duration": 4,
    "start_time": "2021-08-24T17:34:35.119Z"
   },
   {
    "duration": 461,
    "start_time": "2021-08-24T17:34:35.127Z"
   },
   {
    "duration": 5,
    "start_time": "2021-08-24T17:34:35.591Z"
   },
   {
    "duration": 13,
    "start_time": "2021-08-24T17:34:35.598Z"
   },
   {
    "duration": 14,
    "start_time": "2021-08-24T17:34:35.613Z"
   },
   {
    "duration": 10,
    "start_time": "2021-08-24T17:34:35.629Z"
   },
   {
    "duration": 9,
    "start_time": "2021-08-24T17:34:35.643Z"
   },
   {
    "duration": 13,
    "start_time": "2021-08-24T17:34:35.655Z"
   },
   {
    "duration": 8,
    "start_time": "2021-08-24T17:34:35.671Z"
   },
   {
    "duration": 85,
    "start_time": "2021-08-24T17:34:35.682Z"
   },
   {
    "duration": 12,
    "start_time": "2021-08-24T17:34:35.769Z"
   },
   {
    "duration": 85,
    "start_time": "2021-08-24T17:34:35.783Z"
   },
   {
    "duration": 25,
    "start_time": "2021-08-24T17:34:35.871Z"
   },
   {
    "duration": 59,
    "start_time": "2021-08-24T17:34:35.899Z"
   },
   {
    "duration": 30,
    "start_time": "2021-08-24T17:34:35.960Z"
   },
   {
    "duration": 5,
    "start_time": "2021-08-24T17:34:35.992Z"
   },
   {
    "duration": 18,
    "start_time": "2021-08-24T17:34:35.999Z"
   },
   {
    "duration": 46,
    "start_time": "2021-08-24T17:34:36.020Z"
   },
   {
    "duration": 450,
    "start_time": "2021-08-24T17:34:36.068Z"
   },
   {
    "duration": 43,
    "start_time": "2021-08-24T17:34:36.521Z"
   },
   {
    "duration": 15,
    "start_time": "2021-08-24T17:34:36.567Z"
   },
   {
    "duration": 428,
    "start_time": "2021-08-24T17:34:36.589Z"
   },
   {
    "duration": 19,
    "start_time": "2021-08-24T17:34:37.020Z"
   },
   {
    "duration": 72,
    "start_time": "2021-08-24T17:34:37.057Z"
   },
   {
    "duration": 35,
    "start_time": "2021-08-24T17:34:37.132Z"
   },
   {
    "duration": 375,
    "start_time": "2021-08-24T17:34:37.170Z"
   },
   {
    "duration": 22,
    "start_time": "2021-08-24T17:34:37.548Z"
   },
   {
    "duration": 384,
    "start_time": "2021-08-24T17:34:37.572Z"
   },
   {
    "duration": 4,
    "start_time": "2021-08-24T17:34:37.958Z"
   },
   {
    "duration": 245,
    "start_time": "2021-08-24T17:34:37.964Z"
   },
   {
    "duration": 25,
    "start_time": "2021-08-24T17:34:38.212Z"
   },
   {
    "duration": 439,
    "start_time": "2021-08-24T17:34:38.239Z"
   },
   {
    "duration": 10,
    "start_time": "2021-08-24T17:34:38.681Z"
   },
   {
    "duration": 17,
    "start_time": "2021-08-24T17:34:38.693Z"
   },
   {
    "duration": 26,
    "start_time": "2021-08-24T17:34:38.713Z"
   },
   {
    "duration": 754,
    "start_time": "2021-08-24T17:34:38.756Z"
   },
   {
    "duration": 445,
    "start_time": "2021-08-24T17:34:39.513Z"
   },
   {
    "duration": 552,
    "start_time": "2021-08-24T17:38:59.173Z"
   },
   {
    "duration": 488,
    "start_time": "2021-08-24T17:39:10.108Z"
   },
   {
    "duration": 456,
    "start_time": "2021-08-24T17:43:02.424Z"
   },
   {
    "duration": 536,
    "start_time": "2021-08-24T17:43:10.648Z"
   },
   {
    "duration": 524,
    "start_time": "2021-08-24T17:44:11.526Z"
   },
   {
    "duration": 596,
    "start_time": "2021-08-24T17:44:16.728Z"
   },
   {
    "duration": 103,
    "start_time": "2021-08-24T17:49:54.063Z"
   },
   {
    "duration": 994,
    "start_time": "2021-08-24T17:50:02.357Z"
   }
  ],
  "kernelspec": {
   "display_name": "Python 3",
   "language": "python",
   "name": "python3"
  },
  "language_info": {
   "codemirror_mode": {
    "name": "ipython",
    "version": 3
   },
   "file_extension": ".py",
   "mimetype": "text/x-python",
   "name": "python",
   "nbconvert_exporter": "python",
   "pygments_lexer": "ipython3",
   "version": "3.7.10"
  },
  "toc": {
   "base_numbering": 1,
   "nav_menu": {},
   "number_sections": true,
   "sideBar": true,
   "skip_h1_title": true,
   "title_cell": "Table of Contents",
   "title_sidebar": "Contents",
   "toc_cell": false,
   "toc_position": {},
   "toc_section_display": true,
   "toc_window_display": true
  }
 },
 "nbformat": 4,
 "nbformat_minor": 2
}
